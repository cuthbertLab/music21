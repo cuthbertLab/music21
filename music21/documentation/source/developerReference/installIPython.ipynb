{
 "metadata": {
  "name": "installIPython"
 },
 "nbformat": 3,
 "nbformat_minor": 0,
 "worksheets": [
  {
   "cells": [
    {
     "cell_type": "markdown",
     "metadata": {},
     "source": [
      "Using `music21` with the iPython Notebook\n",
      "=============================================="
     ]
    },
    {
     "cell_type": "heading",
     "level": 2,
     "metadata": {},
     "source": [
      "Setting up the iPython environment"
     ]
    },
    {
     "cell_type": "markdown",
     "metadata": {},
     "source": [
      "To get `music21` to work with iPython Notebook, first install `anaconda`. Detailed instructions for installing `anaconda` on different operating systems can be found at http://docs.continuum.io/anaconda/install.html .  On Mac the commands may look something like this:"
     ]
    },
    {
     "cell_type": "markdown",
     "metadata": {},
     "source": [
      "```$ cd Downloads\n",
      "$ bash Anaconda-1.5.1-MacOSX-x86_64.sh\n",
      "$ cd ~\n",
      "$ cd anaconda```"
     ]
    },
    {
     "cell_type": "markdown",
     "metadata": {},
     "source": [
      "After installing `anaconda`, run the following commands to update the `conda` package manager and `ipython`:"
     ]
    },
    {
     "cell_type": "markdown",
     "metadata": {},
     "source": [
      "```$ conda update conda\n",
      "$ conda update ipython```"
     ]
    },
    {
     "cell_type": "markdown",
     "metadata": {},
     "source": [
      "Anaconda messes with your PATH, so I suggest opening your ~/.bash_profile and putting the condo command after $PATH not before:"
     ]
    },
    {
     "cell_type": "markdown",
     "metadata": {},
     "source": [
      "```# added by Anaconda 1.5.1 installer\n",
      "export PATH=\"$PATH:/Users/cuthbert/anaconda/bin\"```"
     ]
    },
    {
     "cell_type": "heading",
     "level": 2,
     "metadata": {},
     "source": [
      "Installing music21 for anaconda"
     ]
    },
    {
     "cell_type": "markdown",
     "metadata": {},
     "source": [
      "If you are running an `anaconda` version < 1.8.0, you may install music21 by entering:\n",
      "\n",
      "```$ conda pip music21```\n",
      "\n",
      "If you are running an `anaconda` version >= 1.8.0, the command `conda pip` is no longer allowed by `anaconda`. Instead you may use `pip install` to install `music21`.\n",
      "\n",
      "```$ pip install music21```\n",
      "\n",
      "Here are sample outputs for the installation process:\n",
      "\n",
      "    Downloading/unpacking music21\n",
      "      Downloading music21-1.5.0.tar.gz (29.6MB): 29.6MB downloaded\n",
      "      Running setup.py egg_info for package music21\n",
      "        \n",
      "        warning: no files found matching '*.pdf' anywhere in distribution\n",
      "        no previously-included directories found matching 'dist'\n",
      "        no previously-included directories found matching 'buildDoc'\n",
      "        no previously-included directories found matching 'obsolete'\n",
      "    Installing collected packages: music21\n",
      "      Running setup.py install for music21\n",
      "        \n",
      "        warning: no files found matching '*.pdf' anywhere in distribution\n",
      "        no previously-included directories found matching 'dist'\n",
      "        no previously-included directories found matching 'buildDoc'\n",
      "        no previously-included directories found matching 'obsolete'\n",
      "    Successfully installed music21\n",
      "    Cleaning up...\n",
      "    # files: 8219\n",
      "    \n",
      "    # success\n",
      "    music21-1.5.0-py27_0.tar.bz2\n",
      "    music21-1.5.0-py27_0:\n",
      "        making available\n",
      "        linking"
     ]
    },
    {
     "cell_type": "markdown",
     "metadata": {},
     "source": [
      "Now you're ready to run iPython.  Make sure you're in the anaconda directory and run:"
     ]
    },
    {
     "cell_type": "markdown",
     "metadata": {},
     "source": [
      "```$ bin/ipython notebook --pylab inline```"
     ]
    },
    {
     "cell_type": "markdown",
     "metadata": {},
     "source": [
      "Congrats. You should now be able to access iPython notebook in your browser"
     ]
    },
    {
     "cell_type": "markdown",
     "metadata": {},
     "source": [
      "##Using the web-based IP Notebook##"
     ]
    },
    {
     "cell_type": "markdown",
     "metadata": {},
     "source": [
      "Now in the webbrowser you can type commands such as the ones below:"
     ]
    },
    {
     "cell_type": "code",
     "collapsed": false,
     "input": [
      "from music21 import *"
     ],
     "language": "python",
     "metadata": {},
     "outputs": [],
     "prompt_number": 1
    },
    {
     "cell_type": "code",
     "collapsed": false,
     "input": [
      "c = chord.Chord(\"C4 E4 G4\")\n",
      "c.isConsonant()"
     ],
     "language": "python",
     "metadata": {},
     "outputs": [
      {
       "output_type": "pyout",
       "prompt_number": 2,
       "text": [
        "True"
       ]
      }
     ],
     "prompt_number": 2
    },
    {
     "cell_type": "markdown",
     "metadata": {},
     "source": [
      "All other normal `music21` commands will work as they should\n",
      "\n",
      "Displaying graphics inline\n",
      "----------------------------"
     ]
    },
    {
     "cell_type": "markdown",
     "metadata": {},
     "source": [
      "By default, you cannot just call .show() because you'll open up your MusicXML reader locally..."
     ]
    },
    {
     "cell_type": "code",
     "collapsed": false,
     "input": [
      "c.show()"
     ],
     "language": "python",
     "metadata": {},
     "outputs": [
      {
       "output_type": "pyout",
       "prompt_number": 3,
       "text": [
        "<music21.ipython21.objects.IPythonPNGObject at 0x10906ae10>"
       ]
      }
     ],
     "prompt_number": 3
    },
    {
     "cell_type": "markdown",
     "metadata": {},
     "source": [
      "Nor does just generating a lilypond PNG work as you'd like -- this will display it on the screen but not in your browser:"
     ]
    },
    {
     "cell_type": "code",
     "collapsed": false,
     "input": [
      "c.show('lily.png')"
     ],
     "language": "python",
     "metadata": {},
     "outputs": [
      {
       "output_type": "pyout",
       "prompt_number": 4,
       "text": [
        "u'/var/folders/x5/rymq2tx16lqbpytwb1n_cc4c0000gn/T/music21/tmpI7k6xFly.png'"
       ]
      }
     ],
     "prompt_number": 4
    },
    {
     "cell_type": "markdown",
     "metadata": {},
     "source": [
      "Instead do this:"
     ]
    },
    {
     "cell_type": "code",
     "collapsed": false,
     "input": [
      "%load_ext music21.ipython21.ipExtension"
     ],
     "language": "python",
     "metadata": {},
     "outputs": [],
     "prompt_number": 5
    },
    {
     "cell_type": "markdown",
     "metadata": {},
     "source": [
      "Now this will work:"
     ]
    },
    {
     "cell_type": "code",
     "collapsed": false,
     "input": [
      "c.show()"
     ],
     "language": "python",
     "metadata": {},
     "outputs": [
      {
       "output_type": "pyout",
       "png": "[encoded data removed]",
       "prompt_number": 6,
       "text": [
        "<music21.ipython21.objects.IPythonPNGObject at 0x109050e50>"
       ]
      }
     ],
     "prompt_number": 6
    },
    {
     "cell_type": "markdown",
     "metadata": {},
     "source": [
      "If you don't want to do that, then instead do this..."
     ]
    },
    {
     "cell_type": "code",
     "collapsed": false,
     "input": [
      "from IPython.core.display import Image"
     ],
     "language": "python",
     "metadata": {},
     "outputs": [],
     "prompt_number": 7
    },
    {
     "cell_type": "code",
     "collapsed": false,
     "input": [
      "Image(filename=c.write('lily.png'))"
     ],
     "language": "python",
     "metadata": {},
     "outputs": [
      {
       "output_type": "pyout",
       "png": "[encoded data removed]",
       "prompt_number": 8,
       "text": [
        "<IPython.core.display.Image at 0x108fb8f10>"
       ]
      }
     ],
     "prompt_number": 8
    },
    {
     "cell_type": "markdown",
     "metadata": {},
     "source": [
      "SVG is much faster, but it doesn't work, sadly..."
     ]
    },
    {
     "cell_type": "code",
     "collapsed": false,
     "input": [
      "Image(filename=c.write('lily.svg'))"
     ],
     "language": "python",
     "metadata": {},
     "outputs": [
      {
       "ename": "ValueError",
       "evalue": "Cannot embed the 'svg' image format",
       "output_type": "pyerr",
       "traceback": [
        "\u001b[0;31m---------------------------------------------------------------------------\u001b[0m\n\u001b[0;31mValueError\u001b[0m                                Traceback (most recent call last)",
        "\u001b[0;32m<ipython-input-9-a78ad09b705c>\u001b[0m in \u001b[0;36m<module>\u001b[0;34m()\u001b[0m\n\u001b[0;32m----> 1\u001b[0;31m \u001b[0mImage\u001b[0m\u001b[0;34m(\u001b[0m\u001b[0mfilename\u001b[0m\u001b[0;34m=\u001b[0m\u001b[0mc\u001b[0m\u001b[0;34m.\u001b[0m\u001b[0mwrite\u001b[0m\u001b[0;34m(\u001b[0m\u001b[0;34m'lily.svg'\u001b[0m\u001b[0;34m)\u001b[0m\u001b[0;34m)\u001b[0m\u001b[0;34m\u001b[0m\u001b[0m\n\u001b[0m",
        "\u001b[0;32m/Library/Python/2.7/site-packages/ipython-0.14.dev-py2.7.egg/IPython/core/display.pyc\u001b[0m in \u001b[0;36m__init__\u001b[0;34m(self, data, url, filename, format, embed, width, height)\u001b[0m\n\u001b[1;32m    492\u001b[0m \u001b[0;34m\u001b[0m\u001b[0m\n\u001b[1;32m    493\u001b[0m         \u001b[0;32mif\u001b[0m \u001b[0mself\u001b[0m\u001b[0;34m.\u001b[0m\u001b[0membed\u001b[0m \u001b[0;32mand\u001b[0m \u001b[0mself\u001b[0m\u001b[0;34m.\u001b[0m\u001b[0mformat\u001b[0m \u001b[0;32mnot\u001b[0m \u001b[0;32min\u001b[0m \u001b[0mself\u001b[0m\u001b[0;34m.\u001b[0m\u001b[0m_ACCEPTABLE_EMBEDDINGS\u001b[0m\u001b[0;34m:\u001b[0m\u001b[0;34m\u001b[0m\u001b[0m\n\u001b[0;32m--> 494\u001b[0;31m             \u001b[0;32mraise\u001b[0m \u001b[0mValueError\u001b[0m\u001b[0;34m(\u001b[0m\u001b[0;34m\"Cannot embed the '%s' image format\"\u001b[0m \u001b[0;34m%\u001b[0m \u001b[0;34m(\u001b[0m\u001b[0mself\u001b[0m\u001b[0;34m.\u001b[0m\u001b[0mformat\u001b[0m\u001b[0;34m)\u001b[0m\u001b[0;34m)\u001b[0m\u001b[0;34m\u001b[0m\u001b[0m\n\u001b[0m\u001b[1;32m    495\u001b[0m         \u001b[0mself\u001b[0m\u001b[0;34m.\u001b[0m\u001b[0mwidth\u001b[0m \u001b[0;34m=\u001b[0m \u001b[0mwidth\u001b[0m\u001b[0;34m\u001b[0m\u001b[0m\n\u001b[1;32m    496\u001b[0m         \u001b[0mself\u001b[0m\u001b[0;34m.\u001b[0m\u001b[0mheight\u001b[0m \u001b[0;34m=\u001b[0m \u001b[0mheight\u001b[0m\u001b[0;34m\u001b[0m\u001b[0m\n",
        "\u001b[0;31mValueError\u001b[0m: Cannot embed the 'svg' image format"
       ]
      }
     ],
     "prompt_number": 9
    },
    {
     "cell_type": "markdown",
     "metadata": {},
     "source": [
      "Whole pieces will show properly also now that the extension module is loaded"
     ]
    },
    {
     "cell_type": "code",
     "collapsed": false,
     "input": [
      "b = corpus.parse('bach/bwv66.6')"
     ],
     "language": "python",
     "metadata": {},
     "outputs": [],
     "prompt_number": 10
    },
    {
     "cell_type": "code",
     "collapsed": false,
     "input": [
      "b.show()"
     ],
     "language": "python",
     "metadata": {},
     "outputs": [
      {
       "output_type": "pyout",
       "png": "[encoded data removed]",
       "prompt_number": 11,
       "text": [
        "<music21.ipython21.objects.IPythonPNGObject at 0x10926c490>"
       ]
      }
     ],
     "prompt_number": 11
    },
    {
     "cell_type": "markdown",
     "metadata": {},
     "source": [
      "Images from other docs etc. can be loaded into the notebook just like any other iPython notebook"
     ]
    },
    {
     "cell_type": "code",
     "collapsed": false,
     "input": [
      "import os\n",
      "m21RstDir = common.getBuildDocRstFilePath()\n",
      "m21imageFile = os.path.join(m21RstDir, 'images', 'usersGuide', 'overviewNotes-05.png')\n",
      "Image(filename=m21imageFile)"
     ],
     "language": "python",
     "metadata": {},
     "outputs": [
      {
       "output_type": "pyout",
       "png": "[encoded data removed]",
       "prompt_number": 12,
       "text": [
        "<IPython.core.display.Image at 0x109150ed0>"
       ]
      }
     ],
     "prompt_number": 12
    },
    {
     "cell_type": "markdown",
     "metadata": {},
     "source": [
      "###Turn off pesky prompts.  Run this and then hide it###"
     ]
    },
    {
     "cell_type": "code",
     "collapsed": false,
     "input": [
      "from IPython.core.display import publish_html"
     ],
     "language": "python",
     "metadata": {},
     "outputs": [],
     "prompt_number": 12
    },
    {
     "cell_type": "markdown",
     "metadata": {},
     "source": [
      "To turn back on change display to 'block'; note that it must be the last thing on the page!"
     ]
    },
    {
     "cell_type": "code",
     "collapsed": false,
     "input": [
      "publish_html('<style>.prompt {display: None;}</style>')"
     ],
     "language": "python",
     "metadata": {},
     "outputs": [
      {
       "html": [
        "<style>.prompt {display: None;}</style>"
       ],
       "output_type": "display_data"
      }
     ],
     "prompt_number": 14
    }
   ],
   "metadata": {}
  }
 ]
}