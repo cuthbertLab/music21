{
 "cells": [
  {
   "cell_type": "markdown",
   "metadata": {},
   "source": [
    "# User's Guide, Chapter 28: Lyric Searching"
   ]
  },
  {
   "cell_type": "code",
   "execution_count": 1,
   "metadata": {
    "collapsed": true
   },
   "outputs": [],
   "source": [
    "# ignore this\n",
    "%load_ext music21.ipython21"
   ]
  },
  {
   "cell_type": "markdown",
   "metadata": {},
   "source": [
    "Lyrics can be difficult to search through for various reasons.  Let me give an example: you might want to find all instances of, say, the word \"Domine\" (latin: Lord) to see if, perhaps, they're higher in pitch than the average notes in the piece.  \n",
    "\n",
    "Let's start by taking a piece that will be a good example, a *Gloria* by the otherwise unknown 15th-century musician, \"D. Luca,\" found in the `music21` corpus."
   ]
  },
  {
   "cell_type": "code",
   "execution_count": 2,
   "metadata": {
    "collapsed": false
   },
   "outputs": [
    {
     "data": {
      "image/png": "[encoded data removed]",
      "text/plain": [
       "<music21.ipython21.objects.IPythonPNGObject at 0x10cdc5898>"
      ]
     },
     "execution_count": 2,
     "metadata": {},
     "output_type": "execute_result"
    }
   ],
   "source": [
    "from music21 import *\n",
    "\n",
    "luca = corpus.parse('luca/gloria')\n",
    "cantus = luca.parts[0]\n",
    "cantus.measures(1, 6).show()"
   ]
  },
  {
   "cell_type": "markdown",
   "metadata": {},
   "source": [
    "This code is unlikely to work:"
   ]
  },
  {
   "cell_type": "code",
   "execution_count": 3,
   "metadata": {
    "collapsed": true
   },
   "outputs": [],
   "source": [
    "dominePS = None\n",
    "for n in cantus.recurse().getElementsByClass('Note'):\n",
    "    if n.lyric == 'Domine':\n",
    "        dominePS = n.pitch.ps"
   ]
  },
  {
   "cell_type": "markdown",
   "metadata": {},
   "source": [
    "Did we get anything?"
   ]
  },
  {
   "cell_type": "code",
   "execution_count": 4,
   "metadata": {
    "collapsed": false
   },
   "outputs": [
    {
     "name": "stdout",
     "output_type": "stream",
     "text": [
      "None\n"
     ]
    }
   ],
   "source": [
    "print(dominePS)"
   ]
  },
  {
   "cell_type": "markdown",
   "metadata": {},
   "source": [
    "Why? Because \"domine\" is three syllables long.  Thus, it is not going to be found on a single note.  You can check to see if \"Domine\" appears in the piece at all using the :func:`music21.text.assembleLyrics` function:"
   ]
  },
  {
   "cell_type": "code",
   "execution_count": 5,
   "metadata": {
    "collapsed": false
   },
   "outputs": [
    {
     "name": "stdout",
     "output_type": "stream",
     "text": [
      "Yup!\n"
     ]
    }
   ],
   "source": [
    "allText = text.assembleLyrics(cantus)\n",
    "if 'Domine' in allText:\n",
    "    print(\"Yup!\")"
   ]
  },
  {
   "cell_type": "markdown",
   "metadata": {},
   "source": [
    "Well, now we know that the *Gloria* of the Mass, contains the word \"Domine\". Except we already knew that, and we're no close to figuring out what pitches are used by \"Domine\".\n",
    "\n",
    ":class:`music21.search.lyrics.LyricSearcher` will come to your rescue.  We can create a new `LyricSearcher` object and attach the Stream to it:"
   ]
  },
  {
   "cell_type": "code",
   "execution_count": 6,
   "metadata": {
    "collapsed": true
   },
   "outputs": [],
   "source": [
    "ls = search.lyrics.LyricSearcher(cantus)"
   ]
  },
  {
   "cell_type": "markdown",
   "metadata": {},
   "source": [
    "Now let's search for \"Domine\":"
   ]
  },
  {
   "cell_type": "code",
   "execution_count": 7,
   "metadata": {
    "collapsed": true
   },
   "outputs": [],
   "source": [
    "domineResults = ls.search(\"Domine\")"
   ]
  },
  {
   "cell_type": "markdown",
   "metadata": {},
   "source": [
    "How many times did it appear?"
   ]
  },
  {
   "cell_type": "code",
   "execution_count": 8,
   "metadata": {
    "collapsed": false
   },
   "outputs": [
    {
     "data": {
      "text/plain": [
       "3"
      ]
     },
     "execution_count": 8,
     "metadata": {},
     "output_type": "execute_result"
    }
   ],
   "source": [
    "len(domineResults)"
   ]
  },
  {
   "cell_type": "markdown",
   "metadata": {},
   "source": [
    "Three times.  Let's look more closely at the results to see where:"
   ]
  },
  {
   "cell_type": "code",
   "execution_count": 9,
   "metadata": {
    "collapsed": false
   },
   "outputs": [
    {
     "data": {
      "text/plain": [
       "[SearchMatch(mStart=28, mEnd=29, matchText='Domine', els=(<music21.note.Note C>, <music21.note.Note A>, <music21.note.Note F>), indices=[...]),\n",
       " SearchMatch(mStart=38, mEnd=39, matchText='Domine', els=(<music21.note.Note C>, <music21.note.Note A>, <music21.note.Note B>), indices=[...]),\n",
       " SearchMatch(mStart=48, mEnd=48, matchText='Domine', els=(<music21.note.Note A>, <music21.note.Note B>, <music21.note.Note C>), indices=[...])]"
      ]
     },
     "execution_count": 9,
     "metadata": {},
     "output_type": "execute_result"
    }
   ],
   "source": [
    "domineResults"
   ]
  },
  {
   "cell_type": "markdown",
   "metadata": {},
   "source": [
    "We'll get to the meaning of this soon, but we can see that the three matches appear (probably coincidentally) ten measures apart, at measures 28-29, 38-39, and 48.  Let's check that:"
   ]
  },
  {
   "cell_type": "code",
   "execution_count": 10,
   "metadata": {
    "collapsed": false
   },
   "outputs": [
    {
     "data": {
      "image/png": "[encoded data removed]",
      "text/plain": [
       "<music21.ipython21.objects.IPythonPNGObject at 0x10124b7b8>"
      ]
     },
     "execution_count": 10,
     "metadata": {},
     "output_type": "execute_result"
    }
   ],
   "source": [
    "cantus.measures(24, 48).show()"
   ]
  },
  {
   "cell_type": "markdown",
   "metadata": {},
   "source": [
    "Yep, there they are.  There's something interesting in that all three times the word follows a double-bar or rest.  Clearly it's an important word at an important place in the sentence.  Let's look at the first :class:`~music21.search.lyrics.SearchMatch` object in some detail.  It is a kind of namedtuple that knows something about where the match took place."
   ]
  },
  {
   "cell_type": "code",
   "execution_count": 11,
   "metadata": {
    "collapsed": false
   },
   "outputs": [
    {
     "data": {
      "text/plain": [
       "(28, 29)"
      ]
     },
     "execution_count": 11,
     "metadata": {},
     "output_type": "execute_result"
    }
   ],
   "source": [
    "sm0 = domineResults[0]\n",
    "sm0.mStart, sm0.mEnd"
   ]
  },
  {
   "cell_type": "markdown",
   "metadata": {},
   "source": [
    "It knows which notes contained the syllables making up \"Domine\":"
   ]
  },
  {
   "cell_type": "code",
   "execution_count": 12,
   "metadata": {
    "collapsed": false
   },
   "outputs": [
    {
     "data": {
      "text/plain": [
       "(<music21.note.Note C>, <music21.note.Note A>, <music21.note.Note F>)"
      ]
     },
     "execution_count": 12,
     "metadata": {},
     "output_type": "execute_result"
    }
   ],
   "source": [
    "sm0.els"
   ]
  },
  {
   "cell_type": "markdown",
   "metadata": {},
   "source": [
    "Notice that the second \"A\" (after the tie) is not included in the search results.  This has nothing to do with the fact that it is tied -- melismas do not include all the notes.  For instance, take \"[Glo-]riam tuam.\" found at the beginning of the excerpt above (measure 25).  There are three notes on \"ri\" (B-flat, A, G) but only the B-flat will be included in this search:"
   ]
  },
  {
   "cell_type": "code",
   "execution_count": 13,
   "metadata": {
    "collapsed": false
   },
   "outputs": [
    {
     "data": {
      "text/plain": [
       "(<music21.note.Note B->,\n",
       " <music21.note.Note G>,\n",
       " <music21.note.Note F#>,\n",
       " <music21.note.Note G>)"
      ]
     },
     "execution_count": 13,
     "metadata": {},
     "output_type": "execute_result"
    }
   ],
   "source": [
    "smGloriam = ls.search('iam tuam.')\n",
    "smGloriam[0].els"
   ]
  },
  {
   "cell_type": "markdown",
   "metadata": {},
   "source": [
    "Future work should make it possible to return the intermediate notes or rests in between, etc.  For now you could do something like this instead:"
   ]
  },
  {
   "cell_type": "code",
   "execution_count": 14,
   "metadata": {
    "collapsed": false
   },
   "outputs": [
    {
     "data": {
      "text/plain": [
       "[<music21.note.Note B->,\n",
       " <music21.note.Note A>,\n",
       " <music21.note.Note G>,\n",
       " <music21.note.Note G>,\n",
       " <music21.note.Note F#>,\n",
       " <music21.note.Note G>]"
      ]
     },
     "execution_count": 14,
     "metadata": {},
     "output_type": "execute_result"
    }
   ],
   "source": [
    "firstNote = smGloriam[0].els[0]\n",
    "lastNote = smGloriam[0].els[-1]\n",
    "\n",
    "allRelevantNotes = [firstNote]\n",
    "currentNote = firstNote\n",
    "\n",
    "while currentNote is not None:\n",
    "    currentNote = currentNote.next('Note')\n",
    "    allRelevantNotes.append(currentNote)\n",
    "    if currentNote is lastNote:\n",
    "        break\n",
    "\n",
    "allRelevantNotes"
   ]
  },
  {
   "cell_type": "markdown",
   "metadata": {},
   "source": [
    "Okay, that's enough of an aside, let's get back to the Domine pitch question, and what's in a `SearchMatch` object.  It has a `.matchText` attribute.  It tells you what matched:"
   ]
  },
  {
   "cell_type": "code",
   "execution_count": 15,
   "metadata": {
    "collapsed": false
   },
   "outputs": [
    {
     "data": {
      "text/plain": [
       "'Domine'"
      ]
     },
     "execution_count": 15,
     "metadata": {},
     "output_type": "execute_result"
    }
   ],
   "source": [
    "sm0.matchText"
   ]
  },
  {
   "cell_type": "markdown",
   "metadata": {},
   "source": [
    "Well, that's pretty useless here.  We knew that.  But what I haven't mentioned is that you can pass in regular expressions.  Let's find the main-stem's vowel combination, o followed by i, with one letter in between:"
   ]
  },
  {
   "cell_type": "code",
   "execution_count": 16,
   "metadata": {
    "collapsed": false
   },
   "outputs": [
    {
     "data": {
      "text/plain": [
       "11"
      ]
     },
     "execution_count": 16,
     "metadata": {},
     "output_type": "execute_result"
    }
   ],
   "source": [
    "import re\n",
    "reSearchVowels = re.compile(r'\\w+o\\wi\\w+', re.IGNORECASE)\n",
    "foundVowels = ls.search(reSearchVowels)\n",
    "len(foundVowels)"
   ]
  },
  {
   "cell_type": "markdown",
   "metadata": {},
   "source": [
    "Well, that matched 11 times.  But who knows WHAT it matched?!  Oh, wait, `.matchText` knows."
   ]
  },
  {
   "cell_type": "code",
   "execution_count": 17,
   "metadata": {
    "collapsed": false
   },
   "outputs": [
    {
     "data": {
      "text/plain": [
       "['hominibus',\n",
       " 'Glorificamus',\n",
       " 'gloriam',\n",
       " 'Domine',\n",
       " 'Domine',\n",
       " 'Domine',\n",
       " 'nobis',\n",
       " 'nobis',\n",
       " 'Quoniam',\n",
       " 'Dominus',\n",
       " 'gloria']"
      ]
     },
     "execution_count": 17,
     "metadata": {},
     "output_type": "execute_result"
    }
   ],
   "source": [
    "[result.matchText for result in foundVowels]"
   ]
  },
  {
   "cell_type": "markdown",
   "metadata": {},
   "source": [
    "The last thing that a `SearchMatch` has is a `.indices` list, which is a list of the :class:`~music21.search.lyrics.IndexedLyric` objects that are the hidden secret-sauce that makes all this work so well.  This is too low-level to need describing here, but look at the docs to the module to see why it might be helpful.\n",
    "\n",
    "Darn it, we're distracted again from the main problem: is \"Domine\" higher than average?  Let's get back to that.  `domineResults` is still our list of search results containing \"Domine\".  We'll look at the average `.ps` or pitch space (MIDI number) for the pitches: "
   ]
  },
  {
   "cell_type": "code",
   "execution_count": 18,
   "metadata": {
    "collapsed": false
   },
   "outputs": [
    {
     "data": {
      "text/plain": [
       "[72.0, 69.0, 65.0, 72.0, 69.0, 71.0, 69.0, 71.0, 72.0]"
      ]
     },
     "execution_count": 18,
     "metadata": {},
     "output_type": "execute_result"
    }
   ],
   "source": [
    "dominePitchPSes = []\n",
    "for thisMatch in domineResults:\n",
    "    for thisNote in thisMatch.els:\n",
    "        dominePitchPSes.append(thisNote.pitch.ps)\n",
    "\n",
    "dominePitchPSes"
   ]
  },
  {
   "cell_type": "markdown",
   "metadata": {},
   "source": [
    "Python 3.4 and above FINALLY give us a nice set of functions for the mean and median.  This won't work on Python 2, but you can write your own:"
   ]
  },
  {
   "cell_type": "code",
   "execution_count": 19,
   "metadata": {
    "collapsed": false
   },
   "outputs": [
    {
     "data": {
      "text/plain": [
       "(70.0, 71.0)"
      ]
     },
     "execution_count": 19,
     "metadata": {},
     "output_type": "execute_result"
    }
   ],
   "source": [
    "from statistics import mean, median\n",
    "\n",
    "mean(dominePitchPSes), median(dominePitchPSes)"
   ]
  },
  {
   "cell_type": "markdown",
   "metadata": {},
   "source": [
    "And for the piece as a whole?"
   ]
  },
  {
   "cell_type": "code",
   "execution_count": 20,
   "metadata": {
    "collapsed": false
   },
   "outputs": [
    {
     "data": {
      "text/plain": [
       "(67.41100323624596, 67.0)"
      ]
     },
     "execution_count": 20,
     "metadata": {},
     "output_type": "execute_result"
    }
   ],
   "source": [
    "allPitchPSes = []\n",
    "for thisNote in cantus.recurse().notes:\n",
    "    allPitchPSes.append(thisNote.pitch.ps)\n",
    "    \n",
    "mean(allPitchPSes), median(allPitchPSes)"
   ]
  },
  {
   "cell_type": "markdown",
   "metadata": {},
   "source": [
    "It is a little bit higher.  The mean is 2.6 semitones higher and the median is 4 semitones higher.  Is this statistically significant?  We'll need to perform more tests to be sure! (My guess is NOT! but hey, it's worth investigating)"
   ]
  },
  {
   "cell_type": "markdown",
   "metadata": {},
   "source": [
    "(Btw -- I should have used `.getElementsByClass('Note')` instead of `.notes` for safety above, since `.notes` could also return a `Chord` object, which does not have a `.pitch` object (but rather a `.pitches` list), but I know this piece very well, and I knew it was monophonic.)\n",
    "\n",
    "Hope that this was a good introduction to searching through lyrics! I've used this technique to find lots of small fragments of music.  I'll write more about that later.  For now, let's move on to ..."
   ]
  }
 ],
 "metadata": {
  "anaconda-cloud": {},
  "kernelspec": {
   "display_name": "Python [Root]",
   "language": "python",
   "name": "Python [Root]"
  },
  "language_info": {
   "codemirror_mode": {
    "name": "ipython",
    "version": 3
   },
   "file_extension": ".py",
   "mimetype": "text/x-python",
   "name": "python",
   "nbconvert_exporter": "python",
   "pygments_lexer": "ipython3",
   "version": "3.5.2"
  }
 },
 "nbformat": 4,
 "nbformat_minor": 0
}
