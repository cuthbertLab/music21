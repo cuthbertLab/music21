{
 "metadata": {
  "name": "",
  "signature": "sha256:d71bfa85931eaff0de5308d541c356d361d414e6df2fd96cf964c3735e7c9928"
 },
 "nbformat": 3,
 "nbformat_minor": 0,
 "worksheets": [
  {
   "cells": [
    {
     "cell_type": "code",
     "collapsed": false,
     "input": [
      "# ignore this\n",
      "%load_ext music21.ipython21.ipExtension"
     ],
     "language": "python",
     "metadata": {},
     "outputs": [],
     "prompt_number": 1
    },
    {
     "cell_type": "code",
     "collapsed": false,
     "input": [
      "from music21 import *"
     ],
     "language": "python",
     "metadata": {},
     "outputs": [],
     "prompt_number": 2
    },
    {
     "cell_type": "code",
     "collapsed": false,
     "input": [
      "luca = corpus.parse('luca/gloria').measures(1,8)"
     ],
     "language": "python",
     "metadata": {},
     "outputs": [],
     "prompt_number": 3
    },
    {
     "cell_type": "code",
     "collapsed": false,
     "input": [
      "tsCol = luca.asTimespans()"
     ],
     "language": "python",
     "metadata": {},
     "outputs": [],
     "prompt_number": 4
    },
    {
     "cell_type": "code",
     "collapsed": false,
     "input": [
      "tsCol"
     ],
     "language": "python",
     "metadata": {},
     "outputs": [
      {
       "metadata": {},
       "output_type": "pyout",
       "prompt_number": 5,
       "text": [
        "<TimespanCollection {55} (0.0 to 24.0) <music21.stream.Score 4371774736>>"
       ]
      }
     ],
     "prompt_number": 5
    },
    {
     "cell_type": "code",
     "collapsed": false,
     "input": [
      "for v in tsCol.iterateVerticalities():\n",
      "    print v"
     ],
     "language": "python",
     "metadata": {},
     "outputs": [
      {
       "output_type": "stream",
       "stream": "stdout",
       "text": [
        "<Verticality 0.0 {F3 F4 C5}>\n",
        "<Verticality 3.0 {F3 F4 D5}>\n",
        "<Verticality 3.5 {F3 C4 C5}>\n",
        "<Verticality 4.5 {F3 C4 A4}>\n",
        "<Verticality 5.0 {F3 C4 F4}>\n",
        "<Verticality 5.5 {F3 A3 F4}>\n",
        "<Verticality 6.0 {F3 F4}>\n",
        "<Verticality 6.5 {F3 F4 A4}>\n",
        "<Verticality 7.5 {F3 F4 C5}>\n",
        "<Verticality 8.5 {F3 F4 C5}>\n",
        "<Verticality 9.0 {C4 E4 G4}>\n",
        "<Verticality 10.5 {D4 F4 A4}>\n",
        "<Verticality 12.0 {C4 E4 G4}>\n",
        "<Verticality 15.0 {G3 G4 D5}>\n",
        "<Verticality 16.5 {A3 E4 C5}>\n",
        "<Verticality 17.5 {A3 E4 B4}>\n",
        "<Verticality 18.0 {D4 F4 A4}>\n",
        "<Verticality 18.5 {D4 F4 G4}>\n",
        "<Verticality 19.0 {D4 F4}>\n",
        "<Verticality 19.5 {C4 E4 G4}>\n",
        "<Verticality 20.0 {C4 F4 G4}>\n",
        "<Verticality 20.5 {C4 D4 G4}>\n",
        "<Verticality 21.0 {C4 E4}>\n",
        "<Verticality 21.5 {A3 E4}>\n",
        "<Verticality 22.0 {A3 C4 F4}>\n",
        "<Verticality 22.5 {B-3 D4 F4}>\n",
        "<Verticality 23.0 {G3 B-3 D4}>\n",
        "<Verticality 23.5 {B-3 D4 F4}>\n"
       ]
      }
     ],
     "prompt_number": 6
    },
    {
     "cell_type": "code",
     "collapsed": false,
     "input": [
      "v4 = list(tsCol.iterateVerticalities())[4]"
     ],
     "language": "python",
     "metadata": {},
     "outputs": [],
     "prompt_number": 7
    },
    {
     "cell_type": "code",
     "collapsed": false,
     "input": [
      "v4"
     ],
     "language": "python",
     "metadata": {},
     "outputs": [
      {
       "metadata": {},
       "output_type": "pyout",
       "prompt_number": 8,
       "text": [
        "<Verticality 5.0 {F3 C4 F4}>"
       ]
      }
     ],
     "prompt_number": 8
    },
    {
     "cell_type": "code",
     "collapsed": false,
     "input": [
      "v4.pitchSet"
     ],
     "language": "python",
     "metadata": {},
     "outputs": [
      {
       "metadata": {},
       "output_type": "pyout",
       "prompt_number": 9,
       "text": [
        "{<music21.pitch.Pitch F3>, <music21.pitch.Pitch C4>, <music21.pitch.Pitch F4>}"
       ]
      }
     ],
     "prompt_number": 9
    },
    {
     "cell_type": "code",
     "collapsed": false,
     "input": [
      "f = sorted(v4.pitchSet)[0]"
     ],
     "language": "python",
     "metadata": {},
     "outputs": [],
     "prompt_number": 10
    },
    {
     "cell_type": "code",
     "collapsed": false,
     "input": [
      "f"
     ],
     "language": "python",
     "metadata": {},
     "outputs": [
      {
       "metadata": {},
       "output_type": "pyout",
       "prompt_number": 11,
       "text": [
        "<music21.pitch.Pitch F3>"
       ]
      }
     ],
     "prompt_number": 11
    },
    {
     "cell_type": "code",
     "collapsed": false,
     "input": [
      "v4.startTimespans"
     ],
     "language": "python",
     "metadata": {},
     "outputs": [
      {
       "metadata": {},
       "output_type": "pyout",
       "prompt_number": 12,
       "text": [
        "(<ElementTimespan (5.0 to 6.0) <music21.note.Note F>>,)"
       ]
      }
     ],
     "prompt_number": 12
    },
    {
     "cell_type": "code",
     "collapsed": false,
     "input": [
      "v4.stopTimespans"
     ],
     "language": "python",
     "metadata": {},
     "outputs": [
      {
       "metadata": {},
       "output_type": "pyout",
       "prompt_number": 13,
       "text": [
        "(<ElementTimespan (4.5 to 5.0) <music21.note.Note A>>,)"
       ]
      }
     ],
     "prompt_number": 13
    },
    {
     "cell_type": "code",
     "collapsed": false,
     "input": [
      "v4.overlapTimespans"
     ],
     "language": "python",
     "metadata": {},
     "outputs": [
      {
       "metadata": {},
       "output_type": "pyout",
       "prompt_number": 14,
       "text": [
        "(<ElementTimespan (3.0 to 6.0) <music21.note.Note F>>,\n",
        " <ElementTimespan (4.5 to 5.5) <music21.note.Note C>>)"
       ]
      }
     ],
     "prompt_number": 14
    },
    {
     "cell_type": "code",
     "collapsed": false,
     "input": [
      "v35 = tsCol.getVerticalityAt(3.5)"
     ],
     "language": "python",
     "metadata": {},
     "outputs": [],
     "prompt_number": 15
    },
    {
     "cell_type": "code",
     "collapsed": false,
     "input": [
      "v35"
     ],
     "language": "python",
     "metadata": {},
     "outputs": [
      {
       "metadata": {},
       "output_type": "pyout",
       "prompt_number": 16,
       "text": [
        "<Verticality 3.5 {F3 C4 C5}>"
       ]
      }
     ],
     "prompt_number": 16
    },
    {
     "cell_type": "code",
     "collapsed": false,
     "input": [
      "v35.startTimespans"
     ],
     "language": "python",
     "metadata": {},
     "outputs": [
      {
       "metadata": {},
       "output_type": "pyout",
       "prompt_number": 17,
       "text": [
        "(<ElementTimespan (3.5 to 4.5) <music21.note.Note C>>,\n",
        " <ElementTimespan (3.5 to 4.5) <music21.note.Note C>>)"
       ]
      }
     ],
     "prompt_number": 17
    },
    {
     "cell_type": "code",
     "collapsed": false,
     "input": [
      "v35.stopTimespans"
     ],
     "language": "python",
     "metadata": {},
     "outputs": [
      {
       "metadata": {},
       "output_type": "pyout",
       "prompt_number": 18,
       "text": [
        "(<ElementTimespan (3.0 to 3.5) <music21.note.Note D>>,\n",
        " <ElementTimespan (3.0 to 3.5) <music21.note.Note F>>)"
       ]
      }
     ],
     "prompt_number": 18
    },
    {
     "cell_type": "code",
     "collapsed": false,
     "input": [
      "v35.overlapTimespans"
     ],
     "language": "python",
     "metadata": {},
     "outputs": [
      {
       "metadata": {},
       "output_type": "pyout",
       "prompt_number": 19,
       "text": [
        "(<ElementTimespan (3.0 to 6.0) <music21.note.Note F>>,)"
       ]
      }
     ],
     "prompt_number": 19
    },
    {
     "cell_type": "code",
     "collapsed": false,
     "input": [
      "elTsC = v35.startTimespans[0]"
     ],
     "language": "python",
     "metadata": {},
     "outputs": [],
     "prompt_number": 20
    },
    {
     "cell_type": "code",
     "collapsed": false,
     "input": [
      "elTsC, elTsC.element"
     ],
     "language": "python",
     "metadata": {},
     "outputs": [
      {
       "metadata": {},
       "output_type": "pyout",
       "prompt_number": 21,
       "text": [
        "(<ElementTimespan (3.5 to 4.5) <music21.note.Note C>>, <music21.note.Note C>)"
       ]
      }
     ],
     "prompt_number": 21
    },
    {
     "cell_type": "code",
     "collapsed": false,
     "input": [
      "prevElTs = tsCol.findPreviousElementTimespanInSamePart(elTsC)\n",
      "prevElTs"
     ],
     "language": "python",
     "metadata": {},
     "outputs": [
      {
       "metadata": {},
       "output_type": "pyout",
       "prompt_number": 22,
       "text": [
        "<ElementTimespan (3.0 to 3.5) <music21.note.Note D>>"
       ]
      }
     ],
     "prompt_number": 22
    },
    {
     "cell_type": "code",
     "collapsed": false,
     "input": [
      "elTsC.part is prevElTs.part"
     ],
     "language": "python",
     "metadata": {},
     "outputs": [
      {
       "metadata": {},
       "output_type": "pyout",
       "prompt_number": 23,
       "text": [
        "True"
       ]
      }
     ],
     "prompt_number": 23
    },
    {
     "cell_type": "code",
     "collapsed": false,
     "input": [
      "v35.previousVerticality"
     ],
     "language": "python",
     "metadata": {},
     "outputs": [
      {
       "metadata": {},
       "output_type": "pyout",
       "prompt_number": 24,
       "text": [
        "<Verticality 3.0 {F3 F4 D5}>"
       ]
      }
     ],
     "prompt_number": 24
    },
    {
     "cell_type": "code",
     "collapsed": false,
     "input": [
      "tsCol.getVerticalityAt(elTsC.startOffset)"
     ],
     "language": "python",
     "metadata": {},
     "outputs": [
      {
       "metadata": {},
       "output_type": "pyout",
       "prompt_number": 25,
       "text": [
        "<Verticality 3.5 {F3 C4 C5}>"
       ]
      }
     ],
     "prompt_number": 25
    },
    {
     "cell_type": "code",
     "collapsed": false,
     "input": [
      "_.previousVerticality"
     ],
     "language": "python",
     "metadata": {},
     "outputs": [
      {
       "metadata": {},
       "output_type": "pyout",
       "prompt_number": 26,
       "text": [
        "<Verticality 3.0 {F3 F4 D5}>"
       ]
      }
     ],
     "prompt_number": 26
    },
    {
     "cell_type": "markdown",
     "metadata": {},
     "source": [
      "Test previousVerticality with Rest"
     ]
    },
    {
     "cell_type": "code",
     "collapsed": false,
     "input": [
      "v22 = tsCol.getVerticalityAt(22.0)"
     ],
     "language": "python",
     "metadata": {},
     "outputs": [],
     "prompt_number": 27
    },
    {
     "cell_type": "code",
     "collapsed": false,
     "input": [
      "v22"
     ],
     "language": "python",
     "metadata": {},
     "outputs": [
      {
       "metadata": {},
       "output_type": "pyout",
       "prompt_number": 28,
       "text": [
        "<Verticality 22.0 {A3 C4 F4}>"
       ]
      }
     ],
     "prompt_number": 28
    },
    {
     "cell_type": "code",
     "collapsed": false,
     "input": [
      "v22.startTimespans"
     ],
     "language": "python",
     "metadata": {},
     "outputs": [
      {
       "metadata": {},
       "output_type": "pyout",
       "prompt_number": 29,
       "text": [
        "(<ElementTimespan (22.0 to 23.0) <music21.note.Note F>>,\n",
        " <ElementTimespan (22.0 to 22.5) <music21.note.Note C>>)"
       ]
      }
     ],
     "prompt_number": 29
    },
    {
     "cell_type": "code",
     "collapsed": false,
     "input": [
      "elTSfollowingRest = v22.startTimespans[1]\n",
      "elTSfollowingRest"
     ],
     "language": "python",
     "metadata": {},
     "outputs": [
      {
       "metadata": {},
       "output_type": "pyout",
       "prompt_number": 30,
       "text": [
        "<ElementTimespan (22.0 to 22.5) <music21.note.Note C>>"
       ]
      }
     ],
     "prompt_number": 30
    },
    {
     "cell_type": "code",
     "collapsed": false,
     "input": [
      "v22.stopTimespans"
     ],
     "language": "python",
     "metadata": {},
     "outputs": [
      {
       "metadata": {},
       "output_type": "pyout",
       "prompt_number": 31,
       "text": [
        "(<ElementTimespan (21.0 to 22.0) <music21.note.Note E>>,)"
       ]
      }
     ],
     "prompt_number": 31
    },
    {
     "cell_type": "code",
     "collapsed": false,
     "input": [
      "elTSfollowingRest.part"
     ],
     "language": "python",
     "metadata": {},
     "outputs": [
      {
       "metadata": {},
       "output_type": "pyout",
       "prompt_number": 32,
       "text": [
        "<music21.stream.Part Contratenor>"
       ]
      }
     ],
     "prompt_number": 32
    },
    {
     "cell_type": "code",
     "collapsed": false,
     "input": [
      "prevCT = tsCol.findPreviousElementTimespanInSamePart(elTSfollowingRest)\n",
      "prevCT"
     ],
     "language": "python",
     "metadata": {},
     "outputs": [
      {
       "metadata": {},
       "output_type": "pyout",
       "prompt_number": 33,
       "text": [
        "<ElementTimespan (19.5 to 21.0) <music21.note.Note G>>"
       ]
      }
     ],
     "prompt_number": 33
    },
    {
     "cell_type": "code",
     "collapsed": false,
     "input": [
      "prevCT in v22.stopTimespans"
     ],
     "language": "python",
     "metadata": {},
     "outputs": [
      {
       "metadata": {},
       "output_type": "pyout",
       "prompt_number": 34,
       "text": [
        "False"
       ]
      }
     ],
     "prompt_number": 34
    },
    {
     "cell_type": "code",
     "collapsed": false,
     "input": [
      "prevCT in v22.startTimespans"
     ],
     "language": "python",
     "metadata": {},
     "outputs": [
      {
       "metadata": {},
       "output_type": "pyout",
       "prompt_number": 35,
       "text": [
        "False"
       ]
      }
     ],
     "prompt_number": 35
    },
    {
     "cell_type": "code",
     "collapsed": false,
     "input": [
      "prevCT in v22.overlapTimespans"
     ],
     "language": "python",
     "metadata": {},
     "outputs": [
      {
       "metadata": {},
       "output_type": "pyout",
       "prompt_number": 36,
       "text": [
        "False"
       ]
      }
     ],
     "prompt_number": 36
    },
    {
     "cell_type": "code",
     "collapsed": false,
     "input": [
      "score = stream.timespans.makeExampleScore()"
     ],
     "language": "python",
     "metadata": {},
     "outputs": [],
     "prompt_number": 37
    },
    {
     "cell_type": "code",
     "collapsed": false,
     "input": [
      "tsColSmall = stream.timespans.streamToTimespanCollection(score)"
     ],
     "language": "python",
     "metadata": {},
     "outputs": [],
     "prompt_number": 38
    },
    {
     "cell_type": "code",
     "collapsed": false,
     "input": [
      "for v in tsColSmall.iterateVerticalities():\n",
      "    print(v)\n",
      "    print(v.getAllVoiceLeadingQuartets())\n",
      "    "
     ],
     "language": "python",
     "metadata": {},
     "outputs": [
      {
       "output_type": "stream",
       "stream": "stdout",
       "text": [
        "<Verticality 0.0 {C3}>\n",
        "[]\n",
        "<Verticality 1.0 {C3 D3}>\n",
        "[<music21.voiceLeading.VoiceLeadingQuartet v1n1=<music21.note.Note C> , v1n2=<music21.note.Note D>, v2n1=<music21.note.Note C>, v2n2=<music21.note.Note C>  ]\n",
        "<Verticality 2.0 {E3 G3}>\n",
        "[<music21.voiceLeading.VoiceLeadingQuartet v1n1=<music21.note.Note D> , v1n2=<music21.note.Note E>, v2n1=<music21.note.Note C>, v2n2=<music21.note.Note G>  ]\n",
        "<Verticality 3.0 {F3 G3}>\n",
        "[<music21.voiceLeading.VoiceLeadingQuartet v1n1=<music21.note.Note E> , v1n2=<music21.note.Note F>, v2n1=<music21.note.Note G>, v2n2=<music21.note.Note G>  ]\n",
        "<Verticality 4.0 {E3 G3}>\n",
        "[<music21.voiceLeading.VoiceLeadingQuartet v1n1=<music21.note.Note F> , v1n2=<music21.note.Note G>, v2n1=<music21.note.Note G>, v2n2=<music21.note.Note E>  ]\n",
        "<Verticality 5.0 {E3 A3}>\n",
        "[<music21.voiceLeading.VoiceLeadingQuartet v1n1=<music21.note.Note G> , v1n2=<music21.note.Note A>, v2n1=<music21.note.Note E>, v2n2=<music21.note.Note E>  ]\n",
        "<Verticality 6.0 {D3 B3}>\n",
        "[<music21.voiceLeading.VoiceLeadingQuartet v1n1=<music21.note.Note A> , v1n2=<music21.note.Note B>, v2n1=<music21.note.Note E>, v2n2=<music21.note.Note D>  ]\n",
        "<Verticality 7.0 {C3 D3}>\n",
        "[<music21.voiceLeading.VoiceLeadingQuartet v1n1=<music21.note.Note B> , v1n2=<music21.note.Note C>, v2n1=<music21.note.Note D>, v2n2=<music21.note.Note D>  ]\n"
       ]
      }
     ],
     "prompt_number": 39
    },
    {
     "cell_type": "code",
     "collapsed": false,
     "input": [
      "lucaAll = corpus.parse('luca/gloria')\n",
      "tsCol = lucaAll.asTimespans()"
     ],
     "language": "python",
     "metadata": {},
     "outputs": [],
     "prompt_number": 40
    },
    {
     "cell_type": "code",
     "collapsed": false,
     "input": [
      "for v in tsCol.iterateVerticalities():\n",
      "    vlqs = v.getAllVoiceLeadingQuartets()"
     ],
     "language": "python",
     "metadata": {},
     "outputs": [],
     "prompt_number": 41
    },
    {
     "cell_type": "code",
     "collapsed": false,
     "input": [
      "bach = corpus.parse('bwv66.6')"
     ],
     "language": "python",
     "metadata": {},
     "outputs": [],
     "prompt_number": 42
    },
    {
     "cell_type": "code",
     "collapsed": false,
     "input": [
      "import time\n",
      "t = time.time()\n",
      "dummy = theoryAnalysis.theoryAnalyzer.getVLQs(bach, 0, 1) # two parts only of bach\n",
      "print time.time() - t"
     ],
     "language": "python",
     "metadata": {},
     "outputs": [
      {
       "output_type": "stream",
       "stream": "stdout",
       "text": [
        "5.65062713623\n"
       ]
      }
     ],
     "prompt_number": 43
    },
    {
     "cell_type": "code",
     "collapsed": false,
     "input": [
      "t = time.time()\n",
      "tsCol = bach.asTimespans()\n",
      "for v in tsCol.iterateVerticalities():\n",
      "    vlqs = v.getAllVoiceLeadingQuartets()\n",
      "print time.time() - t  # all parts == 6 pairs"
     ],
     "language": "python",
     "metadata": {},
     "outputs": [
      {
       "output_type": "stream",
       "stream": "stdout",
       "text": [
        "0.301722049713\n"
       ]
      }
     ],
     "prompt_number": 44
    },
    {
     "cell_type": "code",
     "collapsed": false,
     "input": [],
     "language": "python",
     "metadata": {},
     "outputs": [],
     "prompt_number": 44
    },
    {
     "cell_type": "code",
     "collapsed": false,
     "input": [
      "meterCol = lucaAll.parts[0].asTimespans(classList=(meter.TimeSignature))"
     ],
     "language": "python",
     "metadata": {},
     "outputs": [],
     "prompt_number": 45
    },
    {
     "cell_type": "code",
     "collapsed": false,
     "input": [
      "meterCol"
     ],
     "language": "python",
     "metadata": {},
     "outputs": [
      {
       "metadata": {},
       "output_type": "pyout",
       "prompt_number": 46,
       "text": [
        "<TimespanCollection {4} (0.0 to 275.0) <music21.stream.Part Cantus>>"
       ]
      }
     ],
     "prompt_number": 46
    },
    {
     "cell_type": "code",
     "collapsed": false,
     "input": [
      "print(meterCol)"
     ],
     "language": "python",
     "metadata": {},
     "outputs": [
      {
       "output_type": "stream",
       "stream": "stdout",
       "text": [
        "<TimespanCollection {4} (0.0 to 275.0) <music21.stream.Part Cantus>>\n",
        "\t<ElementTimespan (0.0 to 0.0) <music21.meter.TimeSignature 6/8>>\n",
        "\t<ElementTimespan (81.0 to 81.0) <music21.meter.TimeSignature 2/4>>\n",
        "\t<ElementTimespan (185.0 to 185.0) <music21.meter.TimeSignature 6/8>>\n",
        "\t<ElementTimespan (275.0 to 275.0) <music21.meter.TimeSignature 3/4>>\n"
       ]
      }
     ],
     "prompt_number": 47
    },
    {
     "cell_type": "code",
     "collapsed": false,
     "input": [
      "for i in range(0, 300):\n",
      "    "
     ],
     "language": "python",
     "metadata": {},
     "outputs": []
    }
   ],
   "metadata": {}
  }
 ]
}