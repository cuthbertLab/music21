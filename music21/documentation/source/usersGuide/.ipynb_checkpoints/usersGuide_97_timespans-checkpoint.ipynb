{
 "cells": [
  {
   "cell_type": "markdown",
   "metadata": {},
   "source": [
    "# Timespan Demos\n",
    "\n",
    "Work in progress..."
   ]
  },
  {
   "cell_type": "code",
   "execution_count": 2,
   "metadata": {
    "collapsed": false
   },
   "outputs": [],
   "source": [
    "# ignore this\n",
    "%load_ext music21.ipython21"
   ]
  },
  {
   "cell_type": "code",
   "execution_count": 3,
   "metadata": {
    "collapsed": false
   },
   "outputs": [],
   "source": [
    "from music21 import *"
   ]
  },
  {
   "cell_type": "code",
   "execution_count": 4,
   "metadata": {
    "collapsed": false
   },
   "outputs": [],
   "source": [
    "luca = corpus.parse('luca/gloria').measures(1,8)"
   ]
  },
  {
   "cell_type": "code",
   "execution_count": 5,
   "metadata": {
    "collapsed": false
   },
   "outputs": [],
   "source": [
    "tsCol = luca.asTimespans()"
   ]
  },
  {
   "cell_type": "code",
   "execution_count": 6,
   "metadata": {
    "collapsed": false
   },
   "outputs": [
    {
     "data": {
      "text/plain": [
       "<TimespanTree {55} (0.0 to 24.0) <music21.stream.Score 0x106cfd4e0>>"
      ]
     },
     "execution_count": 6,
     "metadata": {},
     "output_type": "execute_result"
    }
   ],
   "source": [
    "tsCol"
   ]
  },
  {
   "cell_type": "code",
   "execution_count": 7,
   "metadata": {
    "collapsed": false
   },
   "outputs": [
    {
     "name": "stdout",
     "output_type": "stream",
     "text": [
      "<Verticality 0.0 {F3 F4 C5}>\n",
      "<Verticality 3.0 {F3 F4 D5}>\n",
      "<Verticality 3.5 {F3 C4 C5}>\n",
      "<Verticality 4.5 {F3 C4 A4}>\n",
      "<Verticality 5.0 {F3 C4 F4}>\n",
      "<Verticality 5.5 {F3 A3 F4}>\n",
      "<Verticality 6.0 {F3 F4}>\n",
      "<Verticality 6.5 {F3 F4 A4}>\n",
      "<Verticality 7.5 {F3 F4 C5}>\n",
      "<Verticality 8.5 {F3 F4 C5}>\n",
      "<Verticality 9.0 {C4 E4 G4}>\n",
      "<Verticality 10.5 {D4 F4 A4}>\n",
      "<Verticality 12.0 {C4 E4 G4}>\n",
      "<Verticality 15.0 {G3 G4 D5}>\n",
      "<Verticality 16.5 {A3 E4 C5}>\n",
      "<Verticality 17.5 {A3 E4 B4}>\n",
      "<Verticality 18.0 {D4 F4 A4}>\n",
      "<Verticality 18.5 {D4 F4 G4}>\n",
      "<Verticality 19.0 {D4 F4}>\n",
      "<Verticality 19.5 {C4 E4 G4}>\n",
      "<Verticality 20.0 {C4 F4 G4}>\n",
      "<Verticality 20.5 {C4 D4 G4}>\n",
      "<Verticality 21.0 {C4 E4}>\n",
      "<Verticality 21.5 {A3 E4}>\n",
      "<Verticality 22.0 {A3 C4 F4}>\n",
      "<Verticality 22.5 {B-3 D4 F4}>\n",
      "<Verticality 23.0 {G3 B-3 D4}>\n",
      "<Verticality 23.5 {B-3 D4 F4}>\n"
     ]
    }
   ],
   "source": [
    "for v in tsCol.iterateVerticalities():\n",
    "    print(v)"
   ]
  },
  {
   "cell_type": "code",
   "execution_count": 8,
   "metadata": {
    "collapsed": false
   },
   "outputs": [],
   "source": [
    "v4 = list(tsCol.iterateVerticalities())[4]"
   ]
  },
  {
   "cell_type": "code",
   "execution_count": 9,
   "metadata": {
    "collapsed": false
   },
   "outputs": [
    {
     "data": {
      "text/plain": [
       "<Verticality 5.0 {F3 C4 F4}>"
      ]
     },
     "execution_count": 9,
     "metadata": {},
     "output_type": "execute_result"
    }
   ],
   "source": [
    "v4"
   ]
  },
  {
   "cell_type": "code",
   "execution_count": 10,
   "metadata": {
    "collapsed": false
   },
   "outputs": [
    {
     "data": {
      "text/plain": [
       "{<music21.pitch.Pitch F3>, <music21.pitch.Pitch C4>, <music21.pitch.Pitch F4>}"
      ]
     },
     "execution_count": 10,
     "metadata": {},
     "output_type": "execute_result"
    }
   ],
   "source": [
    "v4.pitchSet"
   ]
  },
  {
   "cell_type": "code",
   "execution_count": 11,
   "metadata": {
    "collapsed": false
   },
   "outputs": [],
   "source": [
    "f = sorted(v4.pitchSet)[0]"
   ]
  },
  {
   "cell_type": "code",
   "execution_count": 12,
   "metadata": {
    "collapsed": false
   },
   "outputs": [
    {
     "data": {
      "text/plain": [
       "<music21.pitch.Pitch F3>"
      ]
     },
     "execution_count": 12,
     "metadata": {},
     "output_type": "execute_result"
    }
   ],
   "source": [
    "f"
   ]
  },
  {
   "cell_type": "code",
   "execution_count": 13,
   "metadata": {
    "collapsed": false
   },
   "outputs": [
    {
     "data": {
      "text/plain": [
       "(<ElementTimespan (5.0 to 6.0) <music21.note.Note F>>,)"
      ]
     },
     "execution_count": 13,
     "metadata": {},
     "output_type": "execute_result"
    }
   ],
   "source": [
    "v4.startTimespans"
   ]
  },
  {
   "cell_type": "code",
   "execution_count": 14,
   "metadata": {
    "collapsed": false
   },
   "outputs": [
    {
     "data": {
      "text/plain": [
       "(<ElementTimespan (4.5 to 5.0) <music21.note.Note A>>,)"
      ]
     },
     "execution_count": 14,
     "metadata": {},
     "output_type": "execute_result"
    }
   ],
   "source": [
    "v4.stopTimespans"
   ]
  },
  {
   "cell_type": "code",
   "execution_count": 15,
   "metadata": {
    "collapsed": false
   },
   "outputs": [
    {
     "data": {
      "text/plain": [
       "(<ElementTimespan (3.0 to 6.0) <music21.note.Note F>>,\n",
       " <ElementTimespan (4.5 to 5.5) <music21.note.Note C>>)"
      ]
     },
     "execution_count": 15,
     "metadata": {},
     "output_type": "execute_result"
    }
   ],
   "source": [
    "v4.overlapTimespans"
   ]
  },
  {
   "cell_type": "code",
   "execution_count": 16,
   "metadata": {
    "collapsed": false
   },
   "outputs": [],
   "source": [
    "v35 = tsCol.getVerticalityAt(3.5)"
   ]
  },
  {
   "cell_type": "code",
   "execution_count": 17,
   "metadata": {
    "collapsed": false
   },
   "outputs": [
    {
     "data": {
      "text/plain": [
       "<Verticality 3.5 {F3 C4 C5}>"
      ]
     },
     "execution_count": 17,
     "metadata": {},
     "output_type": "execute_result"
    }
   ],
   "source": [
    "v35"
   ]
  },
  {
   "cell_type": "code",
   "execution_count": 18,
   "metadata": {
    "collapsed": false
   },
   "outputs": [
    {
     "data": {
      "text/plain": [
       "(<ElementTimespan (3.5 to 4.5) <music21.note.Note C>>,\n",
       " <ElementTimespan (3.5 to 4.5) <music21.note.Note C>>)"
      ]
     },
     "execution_count": 18,
     "metadata": {},
     "output_type": "execute_result"
    }
   ],
   "source": [
    "v35.startTimespans"
   ]
  },
  {
   "cell_type": "code",
   "execution_count": 19,
   "metadata": {
    "collapsed": false
   },
   "outputs": [
    {
     "data": {
      "text/plain": [
       "(<ElementTimespan (3.0 to 3.5) <music21.note.Note D>>,\n",
       " <ElementTimespan (3.0 to 3.5) <music21.note.Note F>>)"
      ]
     },
     "execution_count": 19,
     "metadata": {},
     "output_type": "execute_result"
    }
   ],
   "source": [
    "v35.stopTimespans"
   ]
  },
  {
   "cell_type": "code",
   "execution_count": 20,
   "metadata": {
    "collapsed": false
   },
   "outputs": [
    {
     "data": {
      "text/plain": [
       "(<ElementTimespan (3.0 to 6.0) <music21.note.Note F>>,)"
      ]
     },
     "execution_count": 20,
     "metadata": {},
     "output_type": "execute_result"
    }
   ],
   "source": [
    "v35.overlapTimespans"
   ]
  },
  {
   "cell_type": "code",
   "execution_count": 21,
   "metadata": {
    "collapsed": false
   },
   "outputs": [],
   "source": [
    "elTsC = v35.startTimespans[0]"
   ]
  },
  {
   "cell_type": "code",
   "execution_count": 22,
   "metadata": {
    "collapsed": false
   },
   "outputs": [
    {
     "data": {
      "text/plain": [
       "(<ElementTimespan (3.5 to 4.5) <music21.note.Note C>>, <music21.note.Note C>)"
      ]
     },
     "execution_count": 22,
     "metadata": {},
     "output_type": "execute_result"
    }
   ],
   "source": [
    "elTsC, elTsC.element"
   ]
  },
  {
   "cell_type": "markdown",
   "metadata": {},
   "source": [
    "Test previousVerticality with Rest"
   ]
  },
  {
   "cell_type": "code",
   "execution_count": 23,
   "metadata": {
    "collapsed": false
   },
   "outputs": [],
   "source": [
    "v22 = tsCol.getVerticalityAt(22.0)"
   ]
  },
  {
   "cell_type": "code",
   "execution_count": 24,
   "metadata": {
    "collapsed": false
   },
   "outputs": [
    {
     "data": {
      "text/plain": [
       "<Verticality 22.0 {A3 C4 F4}>"
      ]
     },
     "execution_count": 24,
     "metadata": {},
     "output_type": "execute_result"
    }
   ],
   "source": [
    "v22"
   ]
  },
  {
   "cell_type": "code",
   "execution_count": 25,
   "metadata": {
    "collapsed": false
   },
   "outputs": [
    {
     "data": {
      "text/plain": [
       "(<ElementTimespan (22.0 to 23.0) <music21.note.Note F>>,\n",
       " <ElementTimespan (22.0 to 22.5) <music21.note.Note C>>)"
      ]
     },
     "execution_count": 25,
     "metadata": {},
     "output_type": "execute_result"
    }
   ],
   "source": [
    "v22.startTimespans"
   ]
  },
  {
   "cell_type": "code",
   "execution_count": 26,
   "metadata": {
    "collapsed": false
   },
   "outputs": [
    {
     "data": {
      "text/plain": [
       "<ElementTimespan (22.0 to 22.5) <music21.note.Note C>>"
      ]
     },
     "execution_count": 26,
     "metadata": {},
     "output_type": "execute_result"
    }
   ],
   "source": [
    "elTSfollowingRest = v22.startTimespans[1]\n",
    "elTSfollowingRest"
   ]
  },
  {
   "cell_type": "code",
   "execution_count": 27,
   "metadata": {
    "collapsed": false
   },
   "outputs": [
    {
     "data": {
      "text/plain": [
       "(<ElementTimespan (21.0 to 22.0) <music21.note.Note E>>,)"
      ]
     },
     "execution_count": 27,
     "metadata": {},
     "output_type": "execute_result"
    }
   ],
   "source": [
    "v22.stopTimespans"
   ]
  },
  {
   "cell_type": "code",
   "execution_count": 28,
   "metadata": {
    "collapsed": false
   },
   "outputs": [
    {
     "data": {
      "text/plain": [
       "<music21.stream.Part Contratenor>"
      ]
     },
     "execution_count": 28,
     "metadata": {},
     "output_type": "execute_result"
    }
   ],
   "source": [
    "elTSfollowingRest.part"
   ]
  },
  {
   "cell_type": "code",
   "execution_count": 34,
   "metadata": {
    "collapsed": false
   },
   "outputs": [
    {
     "data": {
      "image/png": "[encoded data removed]",
      "text/plain": [
       "<music21.ipython21.objects.IPythonPNGObject at 0x106e53e10>"
      ]
     },
     "execution_count": 34,
     "metadata": {},
     "output_type": "execute_result"
    }
   ],
   "source": [
    "score = stream.timespans.makeExampleScore()\n",
    "score.show()"
   ]
  },
  {
   "cell_type": "code",
   "execution_count": 35,
   "metadata": {
    "collapsed": false
   },
   "outputs": [],
   "source": [
    "tsColSmall = score.asTimespans()"
   ]
  },
  {
   "cell_type": "code",
   "execution_count": 36,
   "metadata": {
    "collapsed": false
   },
   "outputs": [
    {
     "name": "stdout",
     "output_type": "stream",
     "text": [
      "<Verticality 0.0 {C3}>\n",
      "[]\n",
      "<Verticality 1.0 {C3 D3}>\n",
      "[<music21.voiceLeading.VoiceLeadingQuartet v1n1=<music21.note.Note C>, v1n2=<music21.note.Note D>, v2n1=<music21.note.Note C>, v2n2=<music21.note.Note C>  >]\n",
      "<Verticality 2.0 {E3 G3}>\n",
      "[<music21.voiceLeading.VoiceLeadingQuartet v1n1=<music21.note.Note D>, v1n2=<music21.note.Note E>, v2n1=<music21.note.Note C>, v2n2=<music21.note.Note G>  >]\n",
      "<Verticality 3.0 {F3 G3}>\n",
      "[<music21.voiceLeading.VoiceLeadingQuartet v1n1=<music21.note.Note E>, v1n2=<music21.note.Note F>, v2n1=<music21.note.Note G>, v2n2=<music21.note.Note G>  >]\n",
      "<Verticality 4.0 {E3 G3}>\n",
      "[<music21.voiceLeading.VoiceLeadingQuartet v1n1=<music21.note.Note F>, v1n2=<music21.note.Note G>, v2n1=<music21.note.Note G>, v2n2=<music21.note.Note E>  >]\n",
      "<Verticality 5.0 {E3 A3}>\n",
      "[<music21.voiceLeading.VoiceLeadingQuartet v1n1=<music21.note.Note G>, v1n2=<music21.note.Note A>, v2n1=<music21.note.Note E>, v2n2=<music21.note.Note E>  >]\n",
      "<Verticality 6.0 {D3 B3}>\n",
      "[<music21.voiceLeading.VoiceLeadingQuartet v1n1=<music21.note.Note A>, v1n2=<music21.note.Note B>, v2n1=<music21.note.Note E>, v2n2=<music21.note.Note D>  >]\n",
      "<Verticality 7.0 {C3 D3}>\n",
      "[<music21.voiceLeading.VoiceLeadingQuartet v1n1=<music21.note.Note B>, v1n2=<music21.note.Note C>, v2n1=<music21.note.Note D>, v2n2=<music21.note.Note D>  >]\n"
     ]
    }
   ],
   "source": [
    "for v in tsColSmall.iterateVerticalities():\n",
    "    print(v)\n",
    "    print(v.getAllVoiceLeadingQuartets())\n",
    "    "
   ]
  },
  {
   "cell_type": "code",
   "execution_count": 37,
   "metadata": {
    "collapsed": false
   },
   "outputs": [],
   "source": [
    "lucaAll = corpus.parse('luca/gloria')\n",
    "tsCol = lucaAll.asTimespans()"
   ]
  },
  {
   "cell_type": "code",
   "execution_count": 38,
   "metadata": {
    "collapsed": false
   },
   "outputs": [],
   "source": [
    "for v in tsCol.iterateVerticalities():\n",
    "    vlqs = v.getAllVoiceLeadingQuartets()"
   ]
  },
  {
   "cell_type": "code",
   "execution_count": 39,
   "metadata": {
    "collapsed": false
   },
   "outputs": [],
   "source": [
    "bach = corpus.parse('bwv66.6')"
   ]
  },
  {
   "cell_type": "code",
   "execution_count": 40,
   "metadata": {
    "collapsed": false
   },
   "outputs": [
    {
     "name": "stdout",
     "output_type": "stream",
     "text": [
      "0.228104829788208\n"
     ]
    }
   ],
   "source": [
    "import time\n",
    "t = time.time()\n",
    "dummy = alpha.theoryAnalysis.theoryAnalyzer.getVLQs(bach, 0, 1) # two parts only of bach\n",
    "print(time.time() - t)"
   ]
  },
  {
   "cell_type": "code",
   "execution_count": 41,
   "metadata": {
    "collapsed": false
   },
   "outputs": [
    {
     "name": "stdout",
     "output_type": "stream",
     "text": [
      "0.30439114570617676\n"
     ]
    }
   ],
   "source": [
    "t = time.time()\n",
    "tsCol = bach.asTimespans()\n",
    "for v in tsCol.iterateVerticalities():\n",
    "    vlqs = v.getAllVoiceLeadingQuartets()\n",
    "print(time.time() - t)  # all parts == 6 pairs"
   ]
  },
  {
   "cell_type": "code",
   "execution_count": 42,
   "metadata": {
    "collapsed": false
   },
   "outputs": [],
   "source": [
    "meterCol = lucaAll.parts[0].asTimespans(classList=(meter.TimeSignature,))"
   ]
  },
  {
   "cell_type": "code",
   "execution_count": 43,
   "metadata": {
    "collapsed": false
   },
   "outputs": [
    {
     "data": {
      "text/plain": [
       "<TimespanTree {4} (0.0 to 275.0) <music21.stream.Part Cantus>>"
      ]
     },
     "execution_count": 43,
     "metadata": {},
     "output_type": "execute_result"
    }
   ],
   "source": [
    "meterCol"
   ]
  },
  {
   "cell_type": "code",
   "execution_count": 44,
   "metadata": {
    "collapsed": false
   },
   "outputs": [
    {
     "name": "stdout",
     "output_type": "stream",
     "text": [
      "<TimespanTree {4} (0.0 to 275.0) <music21.stream.Part Cantus>>\n",
      "\t<ElementTimespan (0.0 to 0.0) <music21.meter.TimeSignature 6/8>>\n",
      "\t<ElementTimespan (81.0 to 81.0) <music21.meter.TimeSignature 2/4>>\n",
      "\t<ElementTimespan (185.0 to 185.0) <music21.meter.TimeSignature 6/8>>\n",
      "\t<ElementTimespan (275.0 to 275.0) <music21.meter.TimeSignature 3/4>>\n"
     ]
    }
   ],
   "source": [
    "print(meterCol)"
   ]
  },
  {
   "cell_type": "code",
   "execution_count": null,
   "metadata": {
    "collapsed": true
   },
   "outputs": [],
   "source": []
  }
 ],
 "metadata": {
  "kernelspec": {
   "display_name": "Python 3",
   "language": "python",
   "name": "python3"
  },
  "language_info": {
   "codemirror_mode": {
    "name": "ipython",
    "version": 3
   },
   "file_extension": ".py",
   "mimetype": "text/x-python",
   "name": "python",
   "nbconvert_exporter": "python",
   "pygments_lexer": "ipython3",
   "version": "3.4.3"
  }
 },
 "nbformat": 4,
 "nbformat_minor": 0
}
