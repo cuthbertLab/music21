{
 "metadata": {
  "name": "",
  "signature": "sha256:ab59f8b8bfaef606cefe72947b832c2961773917caee5fd8c9dd1b3a343720a9"
 },
 "nbformat": 3,
 "nbformat_minor": 0,
 "worksheets": [
  {
   "cells": [
    {
     "cell_type": "code",
     "collapsed": false,
     "input": [
      "# ignore this\n",
      "%load_ext music21.ipython21.ipExtension"
     ],
     "language": "python",
     "metadata": {},
     "outputs": [
      {
       "html": [
        "\n",
        "     <script src='http://web.mit.edu/music21/music21j/ext/require/require.js'></script>\n",
        "     <script>\n",
        "    require.config(\n",
        "       { baseUrl: \"http://web.mit.edu/music21/music21j/src/\",\n",
        "         paths: {'music21': 'http://web.mit.edu/music21/music21j/src/music21',}\n",
        "        });\n",
        "    require(['music21'], function () {\n",
        "          var n = new music21.note.Note(\"D#4\");\n",
        "          var s = new music21.stream.Stream();\n",
        "          s.append(n);\n",
        "          console.log('music21 loaded fine');\n",
        "    });\n",
        "    </script>\n",
        "    "
       ],
       "metadata": {},
       "output_type": "display_data",
       "text": [
        "<IPython.core.display.HTML at 0x107398890>"
       ]
      }
     ],
     "prompt_number": 1
    },
    {
     "cell_type": "markdown",
     "metadata": {},
     "source": [
      "User\u2019s Guide, Chapter 22: Graphing\n",
      "=================================="
     ]
    },
    {
     "cell_type": "markdown",
     "metadata": {},
     "source": [
      "There are a number of ways to visualize notes, scores, and measures in music21."
     ]
    },
    {
     "cell_type": "heading",
     "level": 2,
     "metadata": {},
     "source": [
      "Visualizing Streams in Plots"
     ]
    },
    {
     "cell_type": "markdown",
     "metadata": {},
     "source": [
      "While the :meth:`~music21.base.Music21Object.show` method provides common\n",
      "musical views of a Stream, a visual plot a Stream's elements is very \n",
      "useful. Sometimes called a piano roll, we might graph the pitch of a \n",
      "Note over its position in a Measure (or offset if no Measures are \n",
      "defined). The :meth:`~music21.stream.Stream.plot` method permits us to \n",
      "create a plot of any Stream or Stream subclass (note that the additional\n",
      "package matplotlib needs to be installed to run graphs, see :ref:`installAdditional`\n",
      "for more information). There are a large variety \n",
      "of plots: see :ref:`moduleGraph` for a complete list. There are a number \n",
      "of ways to get the desired plot; one, as demonstrated below, is to provide \n",
      "the name of the plot as a string. We can also add a keyword argument for \n",
      "the title of the plot (and configure many other features)."
     ]
    },
    {
     "cell_type": "code",
     "collapsed": false,
     "input": [
      "from music21 import *\n",
      "sBach = corpus.parse('bach/bwv57.8')\n",
      "sBach.getElementById('Soprano').plot('PlotHorizontalBarPitchSpaceOffset', title='Soprano')"
     ],
     "language": "python",
     "metadata": {},
     "outputs": [],
     "prompt_number": 2
    }
   ],
   "metadata": {}
  }
 ]
}