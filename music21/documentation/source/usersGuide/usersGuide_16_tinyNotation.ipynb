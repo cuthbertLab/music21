{
 "cells": [
  {
   "cell_type": "code",
   "execution_count": 1,
   "metadata": {
    "collapsed": false
   },
   "outputs": [],
   "source": [
    "# ignore this\n",
    "%load_ext music21.ipython21"
   ]
  },
  {
   "cell_type": "markdown",
   "metadata": {},
   "source": [
    "# User's Guide, Chapter 16: TinyNotation"
   ]
  },
  {
   "cell_type": "markdown",
   "metadata": {},
   "source": [
    "So far in this User's Guide, we've been loading music into `music21` either with one of the `corpus.parse` or `converter.parse` methods, which is great if you already have a piece of music in the corpus or in a file somewhere, or by building up a score note by note using the `stream.Stream()` and `note.Note()` objects.\n",
    "\n",
    "But suppose that you want to get some music into `music21` that is too long to use the `note.Note()` build up, but too short to be worth firing up your notation editor to make a file? As you might imagine, this was a problem that the `music21` design team encountered often during the early development stages of the system, and we created our own solution with a format called \"TinyNotation\".\n",
    "\n",
    "As its name implies, TinyNotation is designed to be a simple and lightweight notation syntax for getting simple music into `music21` (and from there, into the larger world).  It borrows from earlier simple notation solutions, especially Lilypond's syntax (but also ABC Notation and Humdrum/Kern).  I also tried to learn from their growth compared to more structured notation systems, such as MusicXML.  What I discovered is that the simpler a system is at inputting simple notes, the more complex that format is when dealing with really complex music. It's a major problem with simple solutions.\n",
    "\n",
    "TinyNotation tries to avoid this limitation by, I'm serious here, making more complex notation impossible!  Parsing TinyNotation should always be easy to do, because it is intentionally extremely limited.  However, as we will demonstrate below, we designed TinyNotation so it would be easy to subclass into NotSoTinyNotation dialects that will, we hope, make _your_ particular notational needs possible (and pretty simple).  Let's begin with the basics, and we'll start with examples.\n",
    "\n",
    "Here's a bunch of quarter notes in 4/4:"
   ]
  },
  {
   "cell_type": "code",
   "execution_count": 2,
   "metadata": {
    "collapsed": false
   },
   "outputs": [
    {
     "data": {
      "image/png": "[encoded data removed]",
      "text/plain": [
       "<music21.ipython21.objects.IPythonPNGObject at 0x10cfd72e8>"
      ]
     },
     "execution_count": 2,
     "metadata": {},
     "output_type": "execute_result"
    }
   ],
   "source": [
    "s = converter.parse('tinyNotation: 4/4 C4 D4 E4 F4 G4 A4 B4 c4')\n",
    "s.show()"
   ]
  },
  {
   "cell_type": "markdown",
   "metadata": {},
   "source": [
    "Notice that the last \"c\" is lowercase, while the rest of the notes are uppercase.  Case determines octave: \"C\" = the c in bass clef (C3) while \"c\" = middle C (C4).  Here are some other octaves:"
   ]
  },
  {
   "cell_type": "code",
   "execution_count": 3,
   "metadata": {
    "collapsed": false
   },
   "outputs": [
    {
     "data": {
      "image/png": "[encoded data removed]",
      "text/plain": [
       "<music21.ipython21.objects.IPythonPNGObject at 0x10cfd7278>"
      ]
     },
     "execution_count": 3,
     "metadata": {},
     "output_type": "execute_result"
    }
   ],
   "source": [
    "s = converter.parse(\"tinyNotation: 3/4 CC4 C4 c4\")\n",
    "s.show()"
   ]
  },
  {
   "cell_type": "code",
   "execution_count": 4,
   "metadata": {
    "collapsed": false
   },
   "outputs": [
    {
     "data": {
      "image/png": "[encoded data removed]",
      "text/plain": [
       "<music21.ipython21.objects.IPythonPNGObject at 0x10d870780>"
      ]
     },
     "execution_count": 4,
     "metadata": {},
     "output_type": "execute_result"
    }
   ],
   "source": [
    "s = converter.parse(\"tinyNotation: 3/4 c4 c'4 c''4\")\n",
    "s.show()"
   ]
  },
  {
   "cell_type": "markdown",
   "metadata": {},
   "source": [
    "And, yes, CCC is the C below CC, and c''' is the c above c''.  Remember when you use higher notes to make sure to enclose your string in double quotes, not single quotes.\n",
    "\n",
    "Typing all those \"4\"s for each of the quarter notes got tedious, so if the number for a duration is omitted, then the next note uses the previous note's duration:"
   ]
  },
  {
   "cell_type": "code",
   "execution_count": 5,
   "metadata": {
    "collapsed": false
   },
   "outputs": [
    {
     "data": {
      "image/png": "[encoded data removed]",
      "text/plain": [
       "<music21.ipython21.objects.IPythonPNGObject at 0x10d8d2da0>"
      ]
     },
     "execution_count": 5,
     "metadata": {},
     "output_type": "execute_result"
    }
   ],
   "source": [
    "s = converter.parse('tinyNotation: 4/4 C4 D E8 F G16 A B c')\n",
    "s.show()"
   ]
  },
  {
   "cell_type": "markdown",
   "metadata": {},
   "source": [
    "Periods signify dots, \"r\" is for a rest, and \"~\" indicates a tie:"
   ]
  },
  {
   "cell_type": "code",
   "execution_count": 6,
   "metadata": {
    "collapsed": false
   },
   "outputs": [
    {
     "data": {
      "image/png": "[encoded data removed]",
      "text/plain": [
       "<music21.ipython21.objects.IPythonPNGObject at 0x10d8edd68>"
      ]
     },
     "execution_count": 6,
     "metadata": {},
     "output_type": "execute_result"
    }
   ],
   "source": [
    "s = converter.parse('tinyNotation: 4/4 C.4 D8~ D8 r c4')\n",
    "s.show()"
   ]
  },
  {
   "cell_type": "markdown",
   "metadata": {},
   "source": [
    "Sharps, flats, and, if needed, naturals are indicated with `#`, `-` (not `b`) and, `n`, respectively:"
   ]
  },
  {
   "cell_type": "code",
   "execution_count": 7,
   "metadata": {
    "collapsed": false
   },
   "outputs": [
    {
     "data": {
      "image/png": "[encoded data removed]",
      "text/plain": [
       "<music21.ipython21.objects.IPythonPNGObject at 0x10d923160>"
      ]
     },
     "execution_count": 7,
     "metadata": {},
     "output_type": "execute_result"
    }
   ],
   "source": [
    "s = converter.parse('tinyNotation: 4/4 c4 c# c c## cn c- c-- c c1')\n",
    "s.show()"
   ]
  },
  {
   "cell_type": "markdown",
   "metadata": {},
   "source": [
    "A lyric syllable is specified by appending it after the note with an underscore:"
   ]
  },
  {
   "cell_type": "code",
   "execution_count": 8,
   "metadata": {
    "collapsed": false
   },
   "outputs": [
    {
     "data": {
      "image/png": "[encoded data removed]",
      "text/plain": [
       "<music21.ipython21.objects.IPythonPNGObject at 0x10d923e48>"
      ]
     },
     "execution_count": 8,
     "metadata": {},
     "output_type": "execute_result"
    }
   ],
   "source": [
    "s = converter.parse('tinyNotation: 4/4 c4 d2_Dee e4')\n",
    "s.show()"
   ]
  },
  {
   "cell_type": "markdown",
   "metadata": {},
   "source": [
    "And, finally, triplets are possible by enclosing the triplet notes in curly brackets along with a special `trip` prefix:"
   ]
  },
  {
   "cell_type": "code",
   "execution_count": 9,
   "metadata": {
    "collapsed": false
   },
   "outputs": [
    {
     "data": {
      "image/png": "[encoded data removed]",
      "text/plain": [
       "<music21.ipython21.objects.IPythonPNGObject at 0x10d923fd0>"
      ]
     },
     "execution_count": 9,
     "metadata": {},
     "output_type": "execute_result"
    }
   ],
   "source": [
    "s = converter.parse('tinyNotation: 4/4 c4 trip{c8 d e} trip{f4 g a} b-1')\n",
    "s.show()"
   ]
  },
  {
   "cell_type": "markdown",
   "metadata": {},
   "source": [
    "Okay -- so what if you want to do something more complex?  Apply an id to a note with the \"=\" tag, and then make changes to it using music21:"
   ]
  },
  {
   "cell_type": "code",
   "execution_count": 10,
   "metadata": {
    "collapsed": false
   },
   "outputs": [
    {
     "data": {
      "image/png": "[encoded data removed]",
      "text/plain": [
       "<music21.ipython21.objects.IPythonPNGObject at 0x10d884d68>"
      ]
     },
     "execution_count": 10,
     "metadata": {},
     "output_type": "execute_result"
    }
   ],
   "source": [
    "s = converter.parse('tinyNotation: 4/4 c4 d=id2 e f')\n",
    "n = s.recurse().getElementById('id2')\n",
    "ch = chord.Chord('D4 F#4 A4')\n",
    "ch.color = 'pink'\n",
    "n.activeSite.replace(n, ch)\n",
    "s.show()"
   ]
  },
  {
   "cell_type": "markdown",
   "metadata": {
    "collapsed": true
   },
   "source": [
    "And that's how I use TinyNotation, about 90% of the time.  But when I need to, I can make something more complex..."
   ]
  },
  {
   "cell_type": "markdown",
   "metadata": {},
   "source": [
    "## Expanding TinyNotation through new Tokens, Modifiers, and States\n",
    "\n",
    "In order to keep TinyNotation tiny, there's a lot not included in it.  So many people have said to me over the years, \"TinyNotation is almost perfect for what I need, but it just has to include one more thing...\" If that \"one more thing\" were the same for everyone, it'd be no problem to add! But everyone has a different \"one more thing\" and if all the dozens of \"one more things\" were added, tinyNotation wouldn't be tiny anymore.\n",
    "\n",
    "So instead, we've made it easy to expand TinyNotation through creating new Tokens (like the Notes, Rests, and TimeSignatures from above, separated by spaces), new Modifiers (such as the = for assigning .id, or the _ for assigning a lyric), and new States (such as the triplet state enclosed in curly brackets).\n",
    "\n",
    "The first thing that we'll need to know in order to expand TinyNotation is how to get at the TinyNotation :class:`~music21.tinyNotation.Converter` itself (which is different from the basic `converter.parse()` call).  It's found in the `tinyNotation` module, and is called with a set of music to parse."
   ]
  },
  {
   "cell_type": "code",
   "execution_count": 11,
   "metadata": {
    "collapsed": true
   },
   "outputs": [],
   "source": [
    "tnc = tinyNotation.Converter('6/8 e4. d8 c# d e2.')"
   ]
  },
  {
   "cell_type": "markdown",
   "metadata": {},
   "source": [
    "We run the converter by calling `.parse()` on it and then there will be a `Stream` (generally a `stream.Part` object) in the `.stream` attribute of the `Converter`."
   ]
  },
  {
   "cell_type": "code",
   "execution_count": 12,
   "metadata": {
    "collapsed": false
   },
   "outputs": [
    {
     "data": {
      "image/png": "[encoded data removed]",
      "text/plain": [
       "<music21.ipython21.objects.IPythonPNGObject at 0x10d91e710>"
      ]
     },
     "execution_count": 12,
     "metadata": {},
     "output_type": "execute_result"
    }
   ],
   "source": [
    "tnc.parse()\n",
    "s = tnc.stream\n",
    "s.show()"
   ]
  },
  {
   "cell_type": "markdown",
   "metadata": {},
   "source": [
    "Now that we have a basic idea of how we can get a converter, we can start hacking it. \n",
    "\n",
    "TinyNotation does not have a way of specifying the Key (and thereby the KeySignature) of a piece or region.  Let's add that \"one more thing\" with a new :class:`~music21.tinyNotation.Token`:"
   ]
  },
  {
   "cell_type": "code",
   "execution_count": 13,
   "metadata": {
    "collapsed": true
   },
   "outputs": [],
   "source": [
    "class KeyToken(tinyNotation.Token):\n",
    "    def parse(self, parent):\n",
    "        keyName = self.token\n",
    "        return key.Key(keyName)"
   ]
  },
  {
   "cell_type": "markdown",
   "metadata": {},
   "source": [
    "The `KeyToken` is a subclass of the `tinyNotation.Token` class.  When it is parsed, `.parse()` is called and it is passed a reference to the `Converter` object, and important information is stored in the `self.token` attribute.  The Converter calling `parse()` expects that a :class:`~music21.base.Music21Object` or `None` will be returned.  Here we're going to return a :class:`~music21.key.Key` object.\n",
    "\n",
    "Now that we've defined this particular Token, we'll need to teach the `Converter` when to call it.  We'll say that any token (that is, data separated by spaces) which begins with a `k` is a new `Key` object, and that the relevant data is everything after the `k`.  And we'll add this to a blank `Converter` object."
   ]
  },
  {
   "cell_type": "code",
   "execution_count": 14,
   "metadata": {
    "collapsed": true
   },
   "outputs": [],
   "source": [
    "tnc = tinyNotation.Converter()\n",
    "keyMapping = (r'k(.*)', KeyToken)\n",
    "tnc.tokenMap.append(keyMapping)"
   ]
  },
  {
   "cell_type": "markdown",
   "metadata": {},
   "source": [
    "Next, let's create a fragment of TinyNotation to see if this works, using the `load()` method:"
   ]
  },
  {
   "cell_type": "code",
   "execution_count": 15,
   "metadata": {
    "collapsed": false
   },
   "outputs": [
    {
     "data": {
      "image/png": "[encoded data removed]",
      "text/plain": [
       "<music21.ipython21.objects.IPythonPNGObject at 0x10d94e320>"
      ]
     },
     "execution_count": 15,
     "metadata": {},
     "output_type": "execute_result"
    }
   ],
   "source": [
    "tnc.load('4/4 kE- G1 kf# A1')\n",
    "tnc.parse()\n",
    "s = tnc.stream\n",
    "s.show()"
   ]
  },
  {
   "cell_type": "markdown",
   "metadata": {},
   "source": [
    "Now that we have a way to create totally new Tokens, let's look at ways we can modify existing tokens.  Let's first create a simple :class:`~music21.tinyNotation.Modifier` that changes the color of individual notes after they've been parsed:"
   ]
  },
  {
   "cell_type": "code",
   "execution_count": 16,
   "metadata": {
    "collapsed": true
   },
   "outputs": [],
   "source": [
    "class ColorModifier(tinyNotation.Modifier):\n",
    "    def postParse(self, m21Obj):\n",
    "        m21Obj.color = self.modifierData\n",
    "        return m21Obj"
   ]
  },
  {
   "cell_type": "markdown",
   "metadata": {},
   "source": [
    "Now we'll modify our `Converter` object to make it so that the ColorModifier is run anytime that a color name is put in angle brackets after a Token, and then test it on a simple stream."
   ]
  },
  {
   "cell_type": "code",
   "execution_count": 17,
   "metadata": {
    "collapsed": false
   },
   "outputs": [
    {
     "data": {
      "image/png": "[encoded data removed]",
      "text/plain": [
       "<music21.ipython21.objects.IPythonPNGObject at 0x10d8706d8>"
      ]
     },
     "execution_count": 17,
     "metadata": {},
     "output_type": "execute_result"
    }
   ],
   "source": [
    "tnc.modifierAngle = ColorModifier\n",
    "tnc.load('3/4 c4<red> d<green> e-<blue>')\n",
    "tnc.parse()\n",
    "tnc.stream.show()"
   ]
  },
  {
   "cell_type": "markdown",
   "metadata": {},
   "source": [
    "There are six modifiers that can be used.  We've seen the `=data` (modifierEquals) and `_data` (modifierUnderscore) modifiers already, which don't take a closing tag, and we can add to them the `<data>` modifierAngle tag we just demonstrated, along with `*data*` (modifierStar), `[data]` (modifierSquare) and `(data)` (modifierParens) tags, which have a meaning ready for you to create.\n",
    "\n",
    "Here's a less silly modifier which replaces the `Note` object that comes in with a :class:`~music21.harmony.ChordSymbol` object that combines the root name from the Note with the `data` from the modifier:"
   ]
  },
  {
   "cell_type": "code",
   "execution_count": 18,
   "metadata": {
    "collapsed": false
   },
   "outputs": [
    {
     "name": "stdout",
     "output_type": "stream",
     "text": [
      "{0.0} <music21.stream.Measure 1 offset=0.0>\n",
      "    {0.0} <music21.clef.BassClef>\n",
      "    {0.0} <music21.meter.TimeSignature 4/4>\n",
      "    {0.0} <music21.harmony.ChordSymbol Cmaj7>\n",
      "    {2.0} <music21.harmony.ChordSymbol Dm>\n",
      "    {3.0} <music21.harmony.ChordSymbol E-sus4>\n",
      "    {4.0} <music21.bar.Barline style=final>\n"
     ]
    }
   ],
   "source": [
    "class HarmonyModifier(tinyNotation.Modifier):\n",
    "    def postParse(self, n):\n",
    "        cs = harmony.ChordSymbol(n.pitch.name + self.modifierData)\n",
    "        cs.duration = n.duration\n",
    "        return cs\n",
    "    \n",
    "tnc.modifierUnderscore = HarmonyModifier\n",
    "tnc.load('4/4 C2_maj7 D4_m E-_sus4')\n",
    "tnc.parse().stream.show('text')"
   ]
  },
  {
   "cell_type": "markdown",
   "metadata": {},
   "source": [
    "If we leave in the bass note and instead add the ChordSymbol to the stream, then we'll be able to see it on the score:"
   ]
  },
  {
   "cell_type": "code",
   "execution_count": 19,
   "metadata": {
    "collapsed": false
   },
   "outputs": [
    {
     "data": {
      "image/png": "[encoded data removed]",
      "text/plain": [
       "<music21.ipython21.objects.IPythonPNGObject at 0x10d98e710>"
      ]
     },
     "execution_count": 19,
     "metadata": {},
     "output_type": "execute_result"
    }
   ],
   "source": [
    "class HarmonyModifier(tinyNotation.Modifier):\n",
    "    def postParse(self, n):\n",
    "        cs = harmony.ChordSymbol(n.pitch.name + self.modifierData)\n",
    "        self.parent().stream.append(cs)\n",
    "        return n\n",
    "    \n",
    "tnc.modifierUnderscore = HarmonyModifier\n",
    "tnc.load('4/4 C2_maj7 D4_m E-_sus4')\n",
    "tnc.parse().stream.show()"
   ]
  },
  {
   "cell_type": "markdown",
   "metadata": {},
   "source": [
    "Lastly are `State` conditions.  These affect more than one Token at a time and are (generally) enclosed in curly brackets (the \"TieState\" is a State that works differently but is too advanced to discuss here).  Let's create a silly State first, that removes stems from notes when it's closed:"
   ]
  },
  {
   "cell_type": "code",
   "execution_count": 20,
   "metadata": {
    "collapsed": true
   },
   "outputs": [],
   "source": [
    "class NoStemState(tinyNotation.State):\n",
    "    def end(self):\n",
    "        for n in self.affectedTokens:\n",
    "            n.stemDirection = 'none'"
   ]
  },
  {
   "cell_type": "markdown",
   "metadata": {},
   "source": [
    "Now we'll define `\"nostem\"` to be the start of a stemless state:"
   ]
  },
  {
   "cell_type": "code",
   "execution_count": 21,
   "metadata": {
    "collapsed": false
   },
   "outputs": [
    {
     "data": {
      "image/png": "[encoded data removed]",
      "text/plain": [
       "<music21.ipython21.objects.IPythonPNGObject at 0x10d8b7c88>"
      ]
     },
     "execution_count": 21,
     "metadata": {},
     "output_type": "execute_result"
    }
   ],
   "source": [
    "tnc.bracketStateMapping['nostem'] = NoStemState\n",
    "tnc.load(\"4/4 c4 d nostem{e f g2 a4} b c'1\")\n",
    "tnc.parse().stream.show()"
   ]
  },
  {
   "cell_type": "markdown",
   "metadata": {},
   "source": [
    "Okay, that's a good amount of fun and games, but here's what some people really want: using State to create chords.  To do this, we will prevent notes from being added to the stream as they are parsed, and then put a Chord into the stream at the end:"
   ]
  },
  {
   "cell_type": "code",
   "execution_count": 22,
   "metadata": {
    "collapsed": false
   },
   "outputs": [
    {
     "data": {
      "image/png": "[encoded data removed]",
      "text/plain": [
       "<music21.ipython21.objects.IPythonPNGObject at 0x10d95d048>"
      ]
     },
     "execution_count": 22,
     "metadata": {},
     "output_type": "execute_result"
    }
   ],
   "source": [
    "class ChordState(tinyNotation.State):\n",
    "    def affectTokenAfterParse(self, n):\n",
    "       super(ChordState, self).affectTokenAfterParse(n)\n",
    "       return None # do not append Note object\n",
    "\n",
    "    def end(self):\n",
    "        ch = chord.Chord(self.affectedTokens)\n",
    "        ch.duration = self.affectedTokens[0].duration\n",
    "        return ch\n",
    "    \n",
    "tnc.bracketStateMapping['chord'] = ChordState\n",
    "tnc.load(\"2/4 C4 chord{C4 e g} F.4 chord{D8 F# A}\")\n",
    "tnc.parse().stream.show()"
   ]
  },
  {
   "cell_type": "markdown",
   "metadata": {
    "sphinx_links": {
     "any": true
    }
   },
   "source": [
    "That's a long enough chapter on a tiny enough concept.  We'll move on to how Streams and other objects are related to their prior incarnations though :ref:`Chapter 17, Derivations <usersGuide_17_derivations>`."
   ]
  }
 ],
 "metadata": {
  "anaconda-cloud": {},
  "kernelspec": {
   "display_name": "Python [Root]",
   "language": "python",
   "name": "Python [Root]"
  },
  "language_info": {
   "codemirror_mode": {
    "name": "ipython",
    "version": 3
   },
   "file_extension": ".py",
   "mimetype": "text/x-python",
   "name": "python",
   "nbconvert_exporter": "python",
   "pygments_lexer": "ipython3",
   "version": "3.5.2"
  }
 },
 "nbformat": 4,
 "nbformat_minor": 0
}
