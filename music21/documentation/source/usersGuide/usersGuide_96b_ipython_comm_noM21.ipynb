{
 "metadata": {
  "name": "",
  "signature": "sha256:6ae7a6980ffa8415f2a148b1a4c59c8e0d5155ceb40a07d0070c0b210b1aebbb"
 },
 "nbformat": 3,
 "nbformat_minor": 0,
 "worksheets": [
  {
   "cells": [
    {
     "cell_type": "code",
     "collapsed": false,
     "input": [
      "from IPython.display import HTML, Javascript"
     ],
     "language": "python",
     "metadata": {},
     "outputs": [],
     "prompt_number": 1
    },
    {
     "cell_type": "code",
     "collapsed": false,
     "input": [
      "input_form = \"\"\"\n",
      "<div id=\"heya\" style=\"background-color:gainsboro; border:solid black; width:600px; padding:20px;\">\n",
      "Code: <input type=\"text\" id=\"code_input\" size=\"50\" height=\"2\" \n",
      "       value=\"round(23.522, 2)\"><br>\n",
      "Result: <input type=\"text\" id=\"result_output\" size=\"50\" value=\"??\"><br>\n",
      "<button onclick=\"exec_code()\">Execute</button>\n",
      "</div>\n",
      "\"\"\"\n",
      " \n",
      "# here the javascript has a function to execute the code\n",
      "# within the input box, and a callback to handle the output.\n",
      "javascript = \"\"\"\n",
      "<script type=\"text/javascript\">\n",
      "   function getData(msg) {\n",
      "       var data = handle_output(msg);\n",
      "       console.log(data);\n",
      "       document.getElementById(\"result_output\").value = data;\n",
      "   }\n",
      "\n",
      "\n",
      "   function handle_output(out){\n",
      "       console.log(out);\n",
      "       var res = null;\n",
      "        // if output is a print statement\n",
      "       if(out.msg_type == \"stream\"){ // nothing to do with music21 stream\n",
      "           res = out.content.data;\n",
      "       }\n",
      "       // if output is a python object\n",
      "       else if(out.msg_type === \"pyout\"){\n",
      "           res = out.content.data[\"text/plain\"];\n",
      "       }\n",
      "       // if output is a python error\n",
      "       else if(out.msg_type == \"pyerr\"){\n",
      "           res = out.content.ename + \": \" + out.content.evalue;\n",
      "       }\n",
      "       // if output is something we haven't thought of\n",
      "       else{\n",
      "           res = \"[out type not implemented]\";  \n",
      "       }\n",
      "       return res;\n",
      "   }\n",
      "   \n",
      "   function exec_code(){\n",
      "       var code_input = document.getElementById('code_input').value;       \n",
      "       var kernel = IPython.notebook.kernel;\n",
      "       var callbacks = { 'iopub' : {'output' : getData}};\n",
      "       document.getElementById(\"result_output\").value = \"\";  // clear output box\n",
      "       var msg_id = kernel.execute(code_input, callbacks, {silent:false});\n",
      "       console.log(\"button pressed\");\n",
      "       // IPython.notebook.clear_output();\n",
      "   }\n",
      "</script>\n",
      "\"\"\"\n",
      " \n",
      "HTML(input_form + javascript)"
     ],
     "language": "python",
     "metadata": {},
     "outputs": [
      {
       "html": [
        "\n",
        "<div id=\"heya\" style=\"background-color:gainsboro; border:solid black; width:600px; padding:20px;\">\n",
        "Code: <input type=\"text\" id=\"code_input\" size=\"50\" height=\"2\" \n",
        "       value=\"round(23.522, 2)\"><br>\n",
        "Result: <input type=\"text\" id=\"result_output\" size=\"50\" value=\"??\"><br>\n",
        "<button onclick=\"exec_code()\">Execute</button>\n",
        "</div>\n",
        "\n",
        "<script type=\"text/javascript\">\n",
        "   function getData(msg) {\n",
        "       var data = handle_output(msg);\n",
        "       console.log(data);\n",
        "       document.getElementById(\"result_output\").value = data;\n",
        "   }\n",
        "\n",
        "\n",
        "   function handle_output(out){\n",
        "       console.log(out);\n",
        "       var res = null;\n",
        "        // if output is a print statement\n",
        "       if(out.msg_type == \"stream\"){ // nothing to do with music21 stream\n",
        "           res = out.content.data;\n",
        "       }\n",
        "       // if output is a python object\n",
        "       else if(out.msg_type === \"pyout\"){\n",
        "           res = out.content.data[\"text/plain\"];\n",
        "       }\n",
        "       // if output is a python error\n",
        "       else if(out.msg_type == \"pyerr\"){\n",
        "           res = out.content.ename + \": \" + out.content.evalue;\n",
        "       }\n",
        "       // if output is something we haven't thought of\n",
        "       else{\n",
        "           res = \"[out type not implemented]\";  \n",
        "       }\n",
        "       return res;\n",
        "   }\n",
        "   \n",
        "   function exec_code(){\n",
        "       var code_input = document.getElementById('code_input').value;       \n",
        "       var kernel = IPython.notebook.kernel;\n",
        "       var callbacks = { 'iopub' : {'output' : getData}};\n",
        "       document.getElementById(\"result_output\").value = \"\";  // clear output box\n",
        "       var msg_id = kernel.execute(code_input, callbacks, {silent:false});\n",
        "       console.log(\"button pressed\");\n",
        "       // IPython.notebook.clear_output();\n",
        "   }\n",
        "</script>\n"
       ],
       "metadata": {},
       "output_type": "pyout",
       "prompt_number": 2,
       "text": [
        "<IPython.core.display.HTML at 0x1059fe0d0>"
       ]
      }
     ],
     "prompt_number": 2
    },
    {
     "cell_type": "code",
     "collapsed": false,
     "input": [
      "HTML(input_form)"
     ],
     "language": "python",
     "metadata": {},
     "outputs": [
      {
       "html": [
        "\n",
        "<div id=\"heya\" style=\"background-color:gainsboro; border:solid black; width:600px; padding:20px;\">\n",
        "Code: <input type=\"text\" id=\"code_input\" size=\"50\" height=\"2\" \n",
        "       value=\"round(23.522, 2)\"><br>\n",
        "Result: <input type=\"text\" id=\"result_output\" size=\"50\" value=\"??\"><br>\n",
        "<button onclick=\"exec_code()\">Execute</button>\n",
        "</div>\n"
       ],
       "metadata": {},
       "output_type": "pyout",
       "prompt_number": 3,
       "text": [
        "<IPython.core.display.HTML at 0x1059f6e10>"
       ]
      }
     ],
     "prompt_number": 3
    },
    {
     "cell_type": "code",
     "collapsed": false,
     "input": [
      "round(23.122, 2)"
     ],
     "language": "python",
     "metadata": {},
     "outputs": [
      {
       "metadata": {},
       "output_type": "pyout",
       "prompt_number": 4,
       "text": [
        "23.12"
       ]
      }
     ],
     "prompt_number": 4
    }
   ],
   "metadata": {}
  }
 ]
}