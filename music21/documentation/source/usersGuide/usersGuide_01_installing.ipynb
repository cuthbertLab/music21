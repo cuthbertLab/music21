{
 "metadata": {
  "name": "",
  "signature": "sha256:b0ab911cdbc251273e309401dd6280325ece8c318debeb1a01ee9055b24338db"
 },
 "nbformat": 3,
 "nbformat_minor": 0,
 "worksheets": [
  {
   "cells": [
    {
     "cell_type": "markdown",
     "metadata": {},
     "source": [
      "#User's Guide, Chapter 1: Installing and Getting Started with `music21`#\n",
      "\n",
      "If you're going to use `music21`, you'll need to have a copy of it and Python on your computer.  The instructions are slightly different for each type of computer, so follow the link below and then come back to the system.  For many people, installation is the most difficult step for a bit.\n",
      "\n",
      "Mac users:\n",
      ":ref:`installMac`\n",
      "\n",
      "Windows user (also installs Python):\n",
      ":ref:`installWindows`\n",
      "\n",
      "Unix/Linux users or advanced Mac users:\n",
      ":ref:`installLinux`\n",
      "\n",
      "Advanced users who are familiar with Python installations can read :ref:`installAdvanced`.\n",
      "\n",
      "When a new version of `music21` is released, you can upgrade by using the same method that you originally used to install it.\n",
      "\n",
      "If you want to see if it's worth installing, keep :ref:`reading the guide <usersGuide_02_notes>` without installing, but if you have installed already, you'll get more out of the guide since you'll be able to follow along.\n",
      "\n",
      "##Starting `music21`##\n",
      "\n",
      "We'll just see if music21 worked for you.  Open up the Terminal (Mac) or IDLE (Windows).  On the Mac type \"python\"\n",
      "(without the quotes) and hit enter.\n",
      "\n",
      "To load music21 type this, always omitting the \">>> \" below:\n",
      "\n",
      "    >>> from music21 import *\n",
      "\n",
      "You'll probably get a few warnings that you're missing some optional modules.  That's okay.\n",
      "If you get a warning that \"no module named music21\" then something probably went wrong above.\n",
      "Try going step-by-step through the instructions above one more time, making sure not to skip\n",
      "anything.  99% of installation errors come from skipping a step above.  If you still have a\n",
      "problem, Google for \"installation problem music21\" or \"installation problem mac python module\"\n",
      "and see if anything looks familiar.  If all else fails, contact the music21list Google Group \n",
      "which might be able to help.\n",
      "\n",
      "If you didn't have a problem, which is nearly always the case, then music21 has worked for you.\n",
      "Test that you can get a score from the corpus by typing this command:\n",
      "\n",
      "    >>> s = corpus.parse('bach/bwv65.2.xml')\n",
      "    \n",
      "Now `s` represents an entire score of a chorale by J.S. Bach.  Type \"`s.analyze('key')`\" to see \n",
      "what music21's best guess as to its key is.  There's lots more that you can do as we'll see\n",
      "later.  But there's one more thing to test.  Let's see if you can get music notation (assuming\n",
      "you installed a MusicXML reader above).  \n",
      "\n",
      "Type \"`s.show()`\" or if you want to be more precise, \"`s.show('musicxml')`\"\n",
      "    \n",
      "Assuming your installation and configuration went as expected, \n",
      "your MusicXML reader should launch and display the chorale, looking something\n",
      "like what we see here:"
     ]
    },
    {
     "cell_type": "raw",
     "metadata": {},
     "source": [
      ".. image:: images/macScreenShow.*\n",
      "    :width: 650"
     ]
    },
    {
     "cell_type": "markdown",
     "metadata": {},
     "source": [
      "If you don't have `MusicXML` working for you yet, don't panic, we'll give more explicit instructions\n",
      "in a few chapters.  For now, let's proceed to :ref:`Notes <usersGuide_02_notes>`"
     ]
    }
   ],
   "metadata": {}
  }
 ]
}