{
 "metadata": {
  "name": "",
  "signature": "sha256:df7d8413df749bcb6588ddf6d114c0460cde1559ce40f061a53116e0557be1f8"
 },
 "nbformat": 3,
 "nbformat_minor": 0,
 "worksheets": [
  {
   "cells": [
    {
     "cell_type": "code",
     "collapsed": false,
     "input": [
      "# ignore this\n",
      "%load_ext music21.ipython21.ipExtension"
     ],
     "language": "python",
     "metadata": {},
     "outputs": [],
     "prompt_number": 1
    },
    {
     "cell_type": "heading",
     "level": 1,
     "metadata": {},
     "source": [
      "User's Guide, Chapter 6: Streams (II): Hierarchies, Recursion, and Flattening"
     ]
    },
    {
     "cell_type": "markdown",
     "metadata": {},
     "source": [
      "We ended Chapter 4 (:ref:`Streams (I) <usersGuide_04_stream1>`.) with a :class:`~music21.stream.Stream` that was\n",
      "contained within another `Stream` object.  Let's recreate that class:"
     ]
    },
    {
     "cell_type": "code",
     "collapsed": false,
     "input": [
      "from music21 import *\n",
      "\n",
      "note1 = note.Note(\"C4\")\n",
      "note1.duration.type = 'half'\n",
      "note2 = note.Note(\"F#4\")\n",
      "note3 = note.Note(\"B-2\")\n",
      "\n",
      "stream1 = stream.Stream()\n",
      "stream1.id = 'some notes'\n",
      "stream1.append(note1)\n",
      "stream1.append(note2)\n",
      "stream1.append(note3)\n",
      "\n",
      "biggerStream = stream.Stream()\n",
      "note2 = note.Note(\"D#5\")\n",
      "biggerStream.insert(0, note2)\n",
      "biggerStream.append(stream1)"
     ],
     "language": "python",
     "metadata": {},
     "outputs": [],
     "prompt_number": 2
    },
    {
     "cell_type": "markdown",
     "metadata": {},
     "source": [
      "The only way to find out what was in the contained\n",
      "Stream that we demonstrated so far was the :meth:`~music21.base.Music21Object.show` method\n",
      "using the `('text')` argument."
     ]
    },
    {
     "cell_type": "code",
     "collapsed": false,
     "input": [
      "biggerStream.show('text')"
     ],
     "language": "python",
     "metadata": {},
     "outputs": [
      {
       "output_type": "stream",
       "stream": "stdout",
       "text": [
        "{0.0} <music21.note.Note D#>\n",
        "{1.0} <music21.stream.Stream some notes>\n",
        "    {0.0} <music21.note.Note C>\n",
        "    {2.0} <music21.note.Note F#>\n",
        "    {3.0} <music21.note.Note B->\n"
       ]
      }
     ],
     "prompt_number": 3
    },
    {
     "cell_type": "markdown",
     "metadata": {},
     "source": [
      "As Chapter 4 noted, there's "
     ]
    },
    {
     "cell_type": "heading",
     "level": 2,
     "metadata": {},
     "source": [
      "Accessing Scores, Parts, Measures, and Notes"
     ]
    },
    {
     "cell_type": "markdown",
     "metadata": {},
     "source": [
      "Streams provide a way to structure and position music21 objects both hierarchically and temporally. A Stream, or a Stream subclass such as :class:`~music21.stream.Measure`, can be placed within another Stream. \n",
      "\n",
      "A common arrangement of nested Streams is a \n",
      ":class:`~music21.stream.Score` Stream containing one or more \n",
      ":class:`~music21.stream.Part` Streams, each Part Stream in turn containing one \n",
      "or more :class:`~music21.stream.Measure` Streams. \n",
      "\n",
      "Such an arrangement of Stream objects is the common way musical scores are represented in music21. For example, importing a four-part chorale by J. S. Bach will provide a Score object with four Part Streams, each Part containing multiple Measure objects. Music21 comes with a :ref:`moduleCorpus` module that provides access to a large collection of scores, including all the Bach chorales. We can parse the score from the corpus with the :func:`~music21.corpus.parse` function. \n"
     ]
    },
    {
     "cell_type": "code",
     "collapsed": false,
     "input": [
      "sBach = corpus.parse('bach/bwv57.8')"
     ],
     "language": "python",
     "metadata": {},
     "outputs": [],
     "prompt_number": 4
    },
    {
     "cell_type": "markdown",
     "metadata": {},
     "source": [
      "We can access and examine elements at each level of this Score by using standard Python syntax \n",
      "for lists within lists. Thus, we can see the length of each component: \n",
      "first the Score which has five elements, a :class:`~music21.metadata.Metadata` object and four parts.\n",
      "Then we find the length of first Part at index one which indicates 19 objects (18 of them are measures).  \n",
      "Then within that part we find an object (a Measure) at index 1. All of these subprograms can\n",
      "be accessed from looking within the same score object `sBach`."
     ]
    },
    {
     "cell_type": "code",
     "collapsed": false,
     "input": [
      "len(sBach)"
     ],
     "language": "python",
     "metadata": {},
     "outputs": [
      {
       "metadata": {},
       "output_type": "pyout",
       "prompt_number": 5,
       "text": [
        "6"
       ]
      }
     ],
     "prompt_number": 5
    },
    {
     "cell_type": "code",
     "collapsed": false,
     "input": [
      "len(sBach[1])"
     ],
     "language": "python",
     "metadata": {},
     "outputs": [
      {
       "metadata": {},
       "output_type": "pyout",
       "prompt_number": 6,
       "text": [
        "19"
       ]
      }
     ],
     "prompt_number": 6
    },
    {
     "cell_type": "code",
     "collapsed": false,
     "input": [
      "len(sBach[1][1])"
     ],
     "language": "python",
     "metadata": {},
     "outputs": [
      {
       "metadata": {},
       "output_type": "pyout",
       "prompt_number": 7,
       "text": [
        "6"
       ]
      }
     ],
     "prompt_number": 7
    },
    {
     "cell_type": "markdown",
     "metadata": {},
     "source": [
      "But how did we know that index [1] would be a Part and index [1][1] would\n",
      "be a measure?  As writers of the tutorial, we know this piece well enough\n",
      "to know that.  But as we noted above, more than just Measures might be \n",
      "stored in a Part object\n",
      "(such as :class:`~music21.instrument.Instrument` objects), \n",
      "and more than just Note and Rest objects might be stored in a Measure \n",
      "(such as :class:`~music21.meter.TimeSignature` \n",
      "and :class:`~music21.key.KeySignature` objects). We it's much safer \n",
      "to filter Stream and Stream subclasses by \n",
      "the class we seek. To repeat the count and select specific classes, \n",
      "we can use the :meth:`~music21.stream.Stream.getElementsByClass` method. \n",
      "\n",
      "Notice how the counts deviate from the examples above."
     ]
    },
    {
     "cell_type": "code",
     "collapsed": false,
     "input": [
      "len(sBach.getElementsByClass(stream.Part))"
     ],
     "language": "python",
     "metadata": {},
     "outputs": [
      {
       "metadata": {},
       "output_type": "pyout",
       "prompt_number": 8,
       "text": [
        "4"
       ]
      }
     ],
     "prompt_number": 8
    },
    {
     "cell_type": "code",
     "collapsed": false,
     "input": [
      "len(sBach.getElementsByClass(stream.Part)[0].getElementsByClass(stream.Measure))"
     ],
     "language": "python",
     "metadata": {},
     "outputs": [
      {
       "metadata": {},
       "output_type": "pyout",
       "prompt_number": 9,
       "text": [
        "18"
       ]
      }
     ],
     "prompt_number": 9
    },
    {
     "cell_type": "code",
     "collapsed": false,
     "input": [
      "len(sBach.getElementsByClass(stream.Part)[0].getElementsByClass(stream.Measure)[1].getElementsByClass(note.Note))"
     ],
     "language": "python",
     "metadata": {},
     "outputs": [
      {
       "metadata": {},
       "output_type": "pyout",
       "prompt_number": 10,
       "text": [
        "3"
       ]
      }
     ],
     "prompt_number": 10
    },
    {
     "cell_type": "markdown",
     "metadata": {},
     "source": [
      "The :meth:`~music21.stream.Stream.getElementsByClass` method can also take a\n",
      "string representation of the last section of the class name. Thus we could've rewritten\n",
      "the first call above as:"
     ]
    },
    {
     "cell_type": "code",
     "collapsed": false,
     "input": [
      "len(sBach.getElementsByClass('Part'))"
     ],
     "language": "python",
     "metadata": {},
     "outputs": [
      {
       "metadata": {},
       "output_type": "pyout",
       "prompt_number": 11,
       "text": [
        "4"
       ]
      }
     ],
     "prompt_number": 11
    },
    {
     "cell_type": "markdown",
     "metadata": {},
     "source": [
      "This way of doing things is a bit faster to code, but a little less safe.  Suppose,\n",
      "for instance there were objects of type stream.Measure and tape.Measure; the latter\n",
      "way of writing the code would get both of them.  (But this ambiguity is rare enough\n",
      "that it's safe enough to use the strings in most code.)"
     ]
    },
    {
     "cell_type": "markdown",
     "metadata": {},
     "source": [
      "There are some convenience properties you should know about.  Calling `.parts` is the\n",
      "same as `.getElementsByClass(stream.Part)` and calling `.notes` is the same as\n",
      "`.getElementsByClass([note.Note, note.Chord])`.  Notice that the last example also shows\n",
      "that you can give more than one class to `getElementsByClass` by passing in a list of\n",
      "classes.   Note also that when using `.parts` or `.notes`, you do not write the `()` after\n",
      "the name.  Also be aware that `.notes` does not include rests.  For that, we have a\n",
      "method called `.notesAndRests`."
     ]
    },
    {
     "cell_type": "markdown",
     "metadata": {},
     "source": [
      "The index position of a Measure is often not the same as the Measure number.  For instance,\n",
      "most pieces that don't have pickup measures begin with measure 1, not zero.  Sometimes there are measure\n",
      "discontinuities within a piece (e.g., some people number first and second endings with the same\n",
      "measure number).\n",
      "For that reason, gathering Measures is best accomplished not with `getElementsByClass(stream.Measure)`\n",
      "but instead with either \n",
      "the :meth:`~music21.stream.Stream.measures` method (returning a Stream of Parts or Measures) \n",
      "or the :meth:`~music21.stream.Stream.measure` method (returning a single Measure).  What is great\n",
      "about these methods is that they can work on a whole score and not just a single part."
     ]
    },
    {
     "cell_type": "heading",
     "level": 2,
     "metadata": {},
     "source": [
      "Recursion in Streams"
     ]
    },
    {
     "cell_type": "heading",
     "level": 2,
     "metadata": {},
     "source": [
      "Flattening a Stream"
     ]
    },
    {
     "cell_type": "markdown",
     "metadata": {},
     "source": [
      "While nested Streams offer expressive flexibility, it is often useful to be able to flatten all Stream and Stream subclasses into a single Stream containing only the elements that are not Stream subclasses. The  :attr:`~music21.stream.Stream.flat` property provides immediate access to such a flat representation of a Stream. For example, doing a similar count of components, such as that show above, we see that we cannot get to all of the Note objects of a complete Score until we flatten its Part and Measure objects by accessing the `flat` attribute. \n"
     ]
    },
    {
     "cell_type": "code",
     "collapsed": false,
     "input": [
      "len(sBach.getElementsByClass(note.Note))"
     ],
     "language": "python",
     "metadata": {},
     "outputs": [
      {
       "metadata": {},
       "output_type": "pyout",
       "prompt_number": 12,
       "text": [
        "0"
       ]
      }
     ],
     "prompt_number": 12
    },
    {
     "cell_type": "code",
     "collapsed": false,
     "input": [
      "len(sBach.flat.getElementsByClass(note.Note))"
     ],
     "language": "python",
     "metadata": {},
     "outputs": [
      {
       "metadata": {},
       "output_type": "pyout",
       "prompt_number": 13,
       "text": [
        "213"
       ]
      }
     ],
     "prompt_number": 13
    },
    {
     "cell_type": "markdown",
     "metadata": {},
     "source": [
      "Element offsets are always relative to the Stream that contains them. For example, a Measure, when placed in a Stream, might have an offset of 16. This offset describes the position of the Measure in the Stream. Components of this Measure, such as Notes, have offset values relative only to their container, the Measure. The first Note of this Measure, then, has an offset of 0. In the following example we find that the offset of measure eight (using the :meth:`~music21.base.Music21Object.getOffsetBySite` method) is 21; the offset of the second Note in this Measure (index 1), however, is 1."
     ]
    },
    {
     "cell_type": "code",
     "collapsed": false,
     "input": [
      "m = sBach.parts[0].getElementsByClass('Measure')[7]\n",
      "m.getOffsetBySite(sBach.parts[0])"
     ],
     "language": "python",
     "metadata": {},
     "outputs": [
      {
       "metadata": {},
       "output_type": "pyout",
       "prompt_number": 14,
       "text": [
        "21.0"
       ]
      }
     ],
     "prompt_number": 14
    },
    {
     "cell_type": "code",
     "collapsed": false,
     "input": [
      "n = sBach.parts[0].measure(8).notes[1]\n",
      "n"
     ],
     "language": "python",
     "metadata": {},
     "outputs": [
      {
       "metadata": {},
       "output_type": "pyout",
       "prompt_number": 15,
       "text": [
        "<music21.note.Note B->"
       ]
      }
     ],
     "prompt_number": 15
    },
    {
     "cell_type": "code",
     "collapsed": false,
     "input": [
      "n.getOffsetBySite(m)"
     ],
     "language": "python",
     "metadata": {},
     "outputs": [
      {
       "metadata": {},
       "output_type": "pyout",
       "prompt_number": 16,
       "text": [
        "1.0"
       ]
      }
     ],
     "prompt_number": 16
    },
    {
     "cell_type": "markdown",
     "metadata": {},
     "source": [
      "Flattening a structure of nested Streams will set new, shifted offsets for each of the elements on the Stream, reflecting their appropriate position in the context of the Stream from which the `flat` property was accessed. For example, if a flat version of the first part of the Bach chorale is obtained, the note defined above has the appropriate offset of 22 (the Measure offset of 21 plus the Note offset within this Measure of 1). \n"
     ]
    },
    {
     "cell_type": "code",
     "collapsed": false,
     "input": [
      "pFlat = sBach.parts[0].flat\n",
      "indexN = pFlat.index(n)\n",
      "pFlat[indexN]"
     ],
     "language": "python",
     "metadata": {},
     "outputs": [
      {
       "metadata": {},
       "output_type": "pyout",
       "prompt_number": 17,
       "text": [
        "<music21.note.Note B->"
       ]
      }
     ],
     "prompt_number": 17
    },
    {
     "cell_type": "code",
     "collapsed": false,
     "input": [
      "pFlat[indexN].offset"
     ],
     "language": "python",
     "metadata": {},
     "outputs": [
      {
       "metadata": {},
       "output_type": "pyout",
       "prompt_number": 18,
       "text": [
        "22.0"
       ]
      }
     ],
     "prompt_number": 18
    },
    {
     "cell_type": "markdown",
     "metadata": {},
     "source": [
      "As an aside, it is important to recognize that the offset of the Note has not been edited; instead, a Note, as all Music21Objects, can store multiple pairs of sites and offsets. Music21Objects retain an offset relative to all Stream or Stream subclasses they are contained within, even if just in passing."
     ]
    }
   ],
   "metadata": {}
  }
 ]
}