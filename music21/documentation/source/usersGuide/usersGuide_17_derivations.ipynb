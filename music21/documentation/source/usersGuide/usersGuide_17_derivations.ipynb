{
 "metadata": {
  "name": "",
  "signature": "sha256:70059f5262b3cb6ec9461539295d2aa85b4a90c7175b98e508e13bdf4f557861"
 },
 "nbformat": 3,
 "nbformat_minor": 0,
 "worksheets": [
  {
   "cells": [
    {
     "cell_type": "code",
     "collapsed": false,
     "input": [
      "# ignore this\n",
      "%load_ext music21.ipython21.ipExtension"
     ],
     "language": "python",
     "metadata": {},
     "outputs": [],
     "prompt_number": 1
    },
    {
     "cell_type": "heading",
     "level": 1,
     "metadata": {},
     "source": [
      "User's Guide: Chapter 17: Derivations"
     ]
    },
    {
     "cell_type": "markdown",
     "metadata": {},
     "source": [
      "Suppose you have a ``music21`` score that was organized something like this:"
     ]
    },
    {
     "cell_type": "markdown",
     "metadata": {},
     "source": [
      "![Figure 17.1: Score hierarchy](graphicalRepresentation/music21_hierarchy.jpg)"
     ]
    },
    {
     "cell_type": "markdown",
     "metadata": {},
     "source": [
      "What we've seen already is that iterating over the score via, ``for n in score: print n`` will only get you the highest level of objects, namely the ``Metadata`` object and the two ``Part`` objects.  The inner objects, measures, clefs, notes, etc. Will not be available.  The simplest way of getting at all these objects is with the ``Stream.flat`` property.  Calling it on this score will change the representation so that only the non-stream elements (the pink ovals) remain in the score:"
     ]
    },
    {
     "cell_type": "markdown",
     "metadata": {},
     "source": [
      "![Figure 17.2: Flat Score](graphicalRepresentation/music21_flat.jpg)"
     ]
    },
    {
     "cell_type": "markdown",
     "metadata": {},
     "source": [
      "This should be a review from previous chapters in the User's Guide.  This section explains the relationship between the original ``stream.Score`` object, which we will call ``s``, and the ``flat`` representation, which we will call ``s.flat`` or ``sf``.  The relationship between the two is called a ``Derivation``.  Symbolically, this representation can be visualized as follows:"
     ]
    },
    {
     "cell_type": "markdown",
     "metadata": {},
     "source": [
      "![Figure 17.3: Derivation representation](graphicalRepresentation/music21_derivation.jpg)"
     ]
    },
    {
     "cell_type": "code",
     "collapsed": false,
     "input": [],
     "language": "python",
     "metadata": {},
     "outputs": []
    }
   ],
   "metadata": {}
  }
 ]
}