{
 "metadata": {
  "name": "",
  "signature": "sha256:91b82fdd9f205ab205c0b9f154d4ef0f1ab1d603d09750e643073ed3a8095634"
 },
 "nbformat": 3,
 "nbformat_minor": 0,
 "worksheets": [
  {
   "cells": [
    {
     "cell_type": "code",
     "collapsed": false,
     "input": [
      "# ignore this\n",
      "%load_ext music21.ipython21.ipExtension"
     ],
     "language": "python",
     "metadata": {},
     "outputs": [],
     "prompt_number": 1
    },
    {
     "cell_type": "markdown",
     "metadata": {},
     "source": [
      "User's Guide, Chapter 25: Post-Tonal Tools (1)\n",
      "=============================================="
     ]
    },
    {
     "cell_type": "markdown",
     "metadata": {},
     "source": [
      "The music21 toolkit features many tools for analyzing and creating music within\n",
      "a post-tonal context. A :class:`~music21.chord.Chord` can be identified as a\n",
      "Forte class, a list of pitch classes can be used to create a 12-tone matrix,\n",
      "and many other analytical tools are available. \n",
      "\n",
      "This overview will illustrate key features of music21's post tonal tools. For\n",
      "complete documentation on post-tonal tools, see the many methods in\n",
      ":class:`~music21.chord.Chord` as well as the objects in :ref:`moduleSerial`,\n",
      "such as :class:`~music21.serial.TwelveToneMatrix` and\n",
      ":class:`~music21.serial.TwelveToneRow`."
     ]
    },
    {
     "cell_type": "heading",
     "level": 2,
     "metadata": {},
     "source": [
      "Pitches as Pitch Classes"
     ]
    },
    {
     "cell_type": "markdown",
     "metadata": {},
     "source": [
      "Any music21 :class:`~music21.pitch.Pitch`, or a  :class:`~music21.note.Note`\n",
      "containing Pitch, can be expressed as pitch class integers using the\n",
      ":meth:`pitchClass <music21.pitch.Pitch.pitchClass>` and\n",
      ":meth:`pitchClassString <music21.pitch.Pitch.pitchClassString>` properties. \n",
      "\n",
      "In the following example, the :func:`~music21.corpus.parse` function is\n",
      "used to create a :class:`~music21.stream.Score` object. The\n",
      ":meth:`id <music21.base.Music21Object.id>` attribute of each contained\n",
      ":class:`~music21.stream.Part` is presented in a list. "
     ]
    },
    {
     "cell_type": "code",
     "collapsed": false,
     "input": [
      "from music21 import *\n",
      "aScore = corpus.parse('beethoven/opus59no2', 3)\n",
      "[e.id for e in aScore.parts]"
     ],
     "language": "python",
     "metadata": {},
     "outputs": [
      {
       "metadata": {},
       "output_type": "pyout",
       "prompt_number": 2,
       "text": [
        "[u'Violin I.', u'Violin II.', u'Viola.', u'Violoncello.']"
       ]
      }
     ],
     "prompt_number": 2
    },
    {
     "cell_type": "markdown",
     "metadata": {},
     "source": [
      "We can view the fourth and fifth measures of the violin Part by obtaining the\n",
      "Part from the Stream with :meth:`~music21.stream.Stream.getElementById` method.\n",
      "Next, we can extract the desired measures with the\n",
      ":meth:`~music21.stream.Stream.measures` method. Calling the\n",
      ":meth:`~music21.base.Music21Object.show` method will, assuming correct setup of your\n",
      "environment, open a display of the extracted measures."
     ]
    },
    {
     "cell_type": "code",
     "collapsed": false,
     "input": [
      "vlnPart = aScore.getElementById('Violin I.')\n",
      "mRange = vlnPart.measures(4,7)\n",
      "mRange.show()"
     ],
     "language": "python",
     "metadata": {},
     "outputs": [
      {
       "metadata": {},
       "output_type": "pyout",
       "png": "[encoded data removed]",
       "prompt_number": 7,
       "text": [
        "<music21.ipython21.objects.IPythonPNGObject at 0x1074124d0>"
       ]
      }
     ],
     "prompt_number": 7
    },
    {
     "cell_type": "markdown",
     "metadata": {},
     "source": [
      "If we want to gather all :class:`~music21.pitch.Pitch` objects from this\n",
      "measure range, we can use the :meth:`pitches <music21.stream.Stream.pitches>` property.\n",
      "This returns a list of all Pitch objects. All pitch objects have\n",
      ":meth:`pitchClass <music21.pitch.Pitch.pitchClass>` and\n",
      ":meth:`pitchClassString <music21.pitch.Pitch.pitchClassString>` properties, providing either integer\n",
      "or string representations, respectively."
     ]
    },
    {
     "cell_type": "code",
     "collapsed": false,
     "input": [
      "[str(p) for p in mRange.pitches]"
     ],
     "language": "python",
     "metadata": {},
     "outputs": [
      {
       "metadata": {},
       "output_type": "pyout",
       "prompt_number": 8,
       "text": [
        "['A4',\n",
        " 'F#4',\n",
        " 'G4',\n",
        " 'G4',\n",
        " 'B4',\n",
        " 'E5',\n",
        " 'G5',\n",
        " 'G5',\n",
        " 'G5',\n",
        " 'C#6',\n",
        " 'E6',\n",
        " 'E6',\n",
        " 'E6',\n",
        " 'G6',\n",
        " 'C#5']"
       ]
      }
     ],
     "prompt_number": 8
    },
    {
     "cell_type": "code",
     "collapsed": false,
     "input": [
      "[p.pitchClass for p in mRange.pitches]"
     ],
     "language": "python",
     "metadata": {},
     "outputs": [
      {
       "metadata": {},
       "output_type": "pyout",
       "prompt_number": 9,
       "text": [
        "[9, 6, 7, 7, 11, 4, 7, 7, 7, 1, 4, 4, 4, 7, 1]"
       ]
      }
     ],
     "prompt_number": 9
    },
    {
     "cell_type": "markdown",
     "metadata": {},
     "source": [
      "If we want to label the notes in our measure range with the Note's pitch class\n",
      "representation, we can iterate over the notes and assign the pitch class\n",
      "representation to the Note's lyric.  This is a common way to annotate Note and\n",
      "Chord objects in music21. The results can be displayed with the `show()` method.\n",
      "\n",
      "Here is the image from when we were using a Beethoven Quartet as an example:"
     ]
    },
    {
     "cell_type": "code",
     "collapsed": false,
     "input": [
      "for n in mRange.flat.notes:\n",
      "    if n.tie is None or n.tie.type == 'start':\n",
      "        n.lyric = n.pitchClassString\n",
      "mRange.show()"
     ],
     "language": "python",
     "metadata": {},
     "outputs": [
      {
       "metadata": {},
       "output_type": "pyout",
       "png": "[encoded data removed]",
       "prompt_number": 10,
       "text": [
        "<music21.ipython21.objects.IPythonPNGObject at 0x1074c1950>"
       ]
      }
     ],
     "prompt_number": 10
    },
    {
     "cell_type": "heading",
     "level": 2,
     "metadata": {},
     "source": [
      "Chords as Forte Set Classes"
     ]
    },
    {
     "cell_type": "markdown",
     "metadata": {},
     "source": [
      "Any music21 Chord can be interpreted as a Forte set class. Additional, a wide\n",
      "variety of analytical features, derived from the Forte set class, are available\n",
      "as methods of the chord. \n",
      "\n",
      "For an example, lets create a sequence of generated aggregate-completing\n",
      "trichords stored on a Stream. That is, we will construct chords with pitch\n",
      "classes, drawing them from a list of all pitch classes. These pitches will be\n",
      "supplied to a Chord object and stored on a Stream."
     ]
    },
    {
     "cell_type": "code",
     "collapsed": false,
     "input": [
      "aStream = stream.Stream()\n",
      "src = range(12) # cheate a list of integers 0 through 11\n",
      "src = src[2:4] + src[0:2] + src[8:9] + src[4:8] + src[9:12] # recombine\n",
      "for i in range(0,12,3):\n",
      "    aStream.append(chord.Chord(src[i:i+3]))\n",
      "    \n",
      "aStream.show()"
     ],
     "language": "python",
     "metadata": {},
     "outputs": [
      {
       "metadata": {},
       "output_type": "pyout",
       "png": "[encoded data removed]",
       "prompt_number": 8,
       "text": [
        "<music21.ipython21.objects.IPythonPNGObject at 0x10b1a6250>"
       ]
      }
     ],
     "prompt_number": 8
    },
    {
     "cell_type": "markdown",
     "metadata": {},
     "source": [
      "These Chords, like all Chords in music21, can be interpreted as Forte set\n",
      "classes. The Chord object offers numerous methods that retrieve data from the\n",
      "set class representation of the Chord. The following is just a sampling of some\n",
      "of the many relevant methods. "
     ]
    },
    {
     "cell_type": "code",
     "collapsed": false,
     "input": [
      "for c in aStream: \n",
      "    print(c.orderedPitchClassesString)"
     ],
     "language": "python",
     "metadata": {},
     "outputs": [
      {
       "output_type": "stream",
       "stream": "stdout",
       "text": [
        "<023>\n",
        "<148>\n",
        "<567>\n",
        "<9AB>\n"
       ]
      }
     ],
     "prompt_number": 9
    },
    {
     "cell_type": "code",
     "collapsed": false,
     "input": [
      "for c in aStream: \n",
      "    print(c.forteClass)"
     ],
     "language": "python",
     "metadata": {},
     "outputs": [
      {
       "output_type": "stream",
       "stream": "stdout",
       "text": [
        "3-2B\n",
        "3-11A\n",
        "3-1\n",
        "3-1\n"
       ]
      }
     ],
     "prompt_number": 10
    },
    {
     "cell_type": "code",
     "collapsed": false,
     "input": [
      "for c in aStream: \n",
      "    print(c.forteClassTnI)"
     ],
     "language": "python",
     "metadata": {},
     "outputs": [
      {
       "output_type": "stream",
       "stream": "stdout",
       "text": [
        "3-2\n",
        "3-11\n",
        "3-1\n",
        "3-1\n"
       ]
      }
     ],
     "prompt_number": 11
    },
    {
     "cell_type": "code",
     "collapsed": false,
     "input": [
      "for c in aStream: \n",
      "    print(c.normalForm)"
     ],
     "language": "python",
     "metadata": {},
     "outputs": [
      {
       "output_type": "stream",
       "stream": "stdout",
       "text": [
        "[0, 2, 3]\n",
        "[0, 3, 7]\n",
        "[0, 1, 2]\n",
        "[0, 1, 2]\n"
       ]
      }
     ],
     "prompt_number": 12
    },
    {
     "cell_type": "code",
     "collapsed": false,
     "input": [
      "for c in aStream: \n",
      "    print(c.primeFormString)"
     ],
     "language": "python",
     "metadata": {},
     "outputs": [
      {
       "output_type": "stream",
       "stream": "stdout",
       "text": [
        "<013>\n",
        "<037>\n",
        "<012>\n",
        "<012>\n"
       ]
      }
     ],
     "prompt_number": 13
    },
    {
     "cell_type": "code",
     "collapsed": false,
     "input": [
      "for c in aStream: \n",
      "    print(c.intervalVector)"
     ],
     "language": "python",
     "metadata": {},
     "outputs": [
      {
       "output_type": "stream",
       "stream": "stdout",
       "text": [
        "[1, 1, 1, 0, 0, 0]\n",
        "[0, 0, 1, 1, 1, 0]\n",
        "[2, 1, 0, 0, 0, 0]\n",
        "[2, 1, 0, 0, 0, 0]\n"
       ]
      }
     ],
     "prompt_number": 14
    },
    {
     "cell_type": "markdown",
     "metadata": {},
     "source": [
      "To annotate the Chords stored on the Stream with their Forte name, we can\n",
      "iterate over the Stream and assign the Forte name to each Chord's `lyric`\n",
      "attribute."
     ]
    },
    {
     "cell_type": "code",
     "collapsed": false,
     "input": [
      "for c in aStream:\n",
      "    c.lyric = c.forteClass\n",
      "aStream.show()"
     ],
     "language": "python",
     "metadata": {},
     "outputs": [
      {
       "metadata": {},
       "output_type": "pyout",
       "png": "[encoded data removed]",
       "prompt_number": 15,
       "text": [
        "<music21.ipython21.objects.IPythonPNGObject at 0x10b121c10>"
       ]
      }
     ],
     "prompt_number": 15
    },
    {
     "cell_type": "heading",
     "level": 2,
     "metadata": {},
     "source": [
      "Creating and Processing Twelve-Tone Matrices"
     ]
    },
    {
     "cell_type": "markdown",
     "metadata": {},
     "source": [
      "The music21 :ref:`moduleSerial` module provides a Stream-based representation\n",
      "of a 12-Tone row, as well as the ability to view these rows as a matrix.\n",
      "Additionally, numerous 12-tone rows from works are available as classes. \n",
      "\n",
      "For example, we can create an instance of the row from Alban Berg's *Violin\n",
      "Concerto*, use the `show()` method to display its contents as text, and then\n",
      "create and print a :class:`~music21.serial.TwelveToneMatrix` object. "
     ]
    },
    {
     "cell_type": "code",
     "collapsed": false,
     "input": [
      "aRow = serial.getHistoricalRowByName('RowBergViolinConcerto')\n",
      "aRow.show('text')"
     ],
     "language": "python",
     "metadata": {},
     "outputs": [
      {
       "output_type": "stream",
       "stream": "stdout",
       "text": [
        "{0.0} <music21.note.Note G>\n",
        "{1.0} <music21.note.Note B->\n",
        "{2.0} <music21.note.Note D>\n",
        "{3.0} <music21.note.Note F#>\n",
        "{4.0} <music21.note.Note A>\n",
        "{5.0} <music21.note.Note C>\n",
        "{6.0} <music21.note.Note E>\n",
        "{7.0} <music21.note.Note G#>\n",
        "{8.0} <music21.note.Note B>\n",
        "{9.0} <music21.note.Note C#>\n",
        "{10.0} <music21.note.Note E->\n",
        "{11.0} <music21.note.Note F>\n"
       ]
      }
     ],
     "prompt_number": 3
    },
    {
     "cell_type": "code",
     "collapsed": false,
     "input": [
      "aMatrix = aRow.matrix()\n",
      "print(aMatrix)"
     ],
     "language": "python",
     "metadata": {},
     "outputs": [
      {
       "output_type": "stream",
       "stream": "stdout",
       "text": [
        "  0  3  7  B  2  5  9  1  4  6  8  A\n",
        "  9  0  4  8  B  2  6  A  1  3  5  7\n",
        "  5  8  0  4  7  A  2  6  9  B  1  3\n",
        "  1  4  8  0  3  6  A  2  5  7  9  B\n",
        "  A  1  5  9  0  3  7  B  2  4  6  8\n",
        "  7  A  2  6  9  0  4  8  B  1  3  5\n",
        "  3  6  A  2  5  8  0  4  7  9  B  1\n",
        "  B  2  6  A  1  4  8  0  3  5  7  9\n",
        "  8  B  3  7  A  1  5  9  0  2  4  6\n",
        "  6  9  1  5  8  B  3  7  A  0  2  4\n",
        "  4  7  B  3  6  9  1  5  8  A  0  2\n",
        "  2  5  9  1  4  7  B  3  6  8  A  0\n",
        "\n"
       ]
      }
     ],
     "prompt_number": 4
    },
    {
     "cell_type": "markdown",
     "metadata": {},
     "source": [
      "We might divide this row into trichords, present each of those trichords as\n",
      "Chords, and label the resulting pitch classes and Forte set class. As shown\n",
      "above, we can set the `lyric` attribute to assign a single line of text. If we\n",
      "need to assign multiple lines of text, the Note and Chord method\n",
      ":meth:`~music21.note.GeneralNote.addLyric` can be used to add successive lines."
     ]
    },
    {
     "cell_type": "code",
     "collapsed": false,
     "input": [
      "bStream = stream.Stream()\n",
      "for i in range(0,12,3):\n",
      "    c = chord.Chord(aRow[i:i+3])\n",
      "    c.addLyric(c.primeFormString)\n",
      "    c.addLyric(c.forteClass)\n",
      "    bStream.append(c)\n",
      "bStream.show()"
     ],
     "language": "python",
     "metadata": {},
     "outputs": [
      {
       "metadata": {},
       "output_type": "pyout",
       "png": "[encoded data removed]",
       "prompt_number": 5,
       "text": [
        "<music21.ipython21.objects.IPythonPNGObject at 0x103852c90>"
       ]
      }
     ],
     "prompt_number": 5
    }
   ],
   "metadata": {}
  }
 ]
}