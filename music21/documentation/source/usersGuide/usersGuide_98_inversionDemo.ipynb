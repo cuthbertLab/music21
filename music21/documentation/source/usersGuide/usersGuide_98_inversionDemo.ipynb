{
 "cells": [
  {
   "cell_type": "markdown",
   "metadata": {},
   "source": [
    "# Inversion Demo\n",
    "\n",
    "Work in progress..."
   ]
  },
  {
   "cell_type": "code",
   "execution_count": 1,
   "metadata": {
    "collapsed": false
   },
   "outputs": [],
   "source": [
    "from music21 import *"
   ]
  },
  {
   "cell_type": "code",
   "execution_count": 2,
   "metadata": {
    "collapsed": false
   },
   "outputs": [],
   "source": [
    "# ignore this\n",
    "%load_ext music21.ipython21.ipExtension"
   ]
  },
  {
   "cell_type": "code",
   "execution_count": 5,
   "metadata": {
    "collapsed": false
   },
   "outputs": [],
   "source": [
    "import copy"
   ]
  },
  {
   "cell_type": "code",
   "execution_count": 6,
   "metadata": {
    "collapsed": false
   },
   "outputs": [],
   "source": [
    "it = ['M-3','P1','A4']"
   ]
  },
  {
   "cell_type": "code",
   "execution_count": 7,
   "metadata": {
    "collapsed": false
   },
   "outputs": [],
   "source": [
    "p = pitch.Pitch('F4')\n",
    "cList = []"
   ]
  },
  {
   "cell_type": "code",
   "execution_count": 8,
   "metadata": {
    "collapsed": false
   },
   "outputs": [],
   "source": [
    "for int in it:\n",
    "    pNew = p.transpose(int, inPlace=False)\n",
    "    cList.append(pNew)"
   ]
  },
  {
   "cell_type": "code",
   "execution_count": 9,
   "metadata": {
    "collapsed": false
   },
   "outputs": [
    {
     "data": {
      "text/plain": [
       "[<music21.pitch.Pitch D-4>, <music21.pitch.Pitch F4>, <music21.pitch.Pitch B4>]"
      ]
     },
     "execution_count": 9,
     "metadata": {},
     "output_type": "execute_result"
    }
   ],
   "source": [
    "cList"
   ]
  },
  {
   "cell_type": "code",
   "execution_count": 10,
   "metadata": {
    "collapsed": false
   },
   "outputs": [
    {
     "data": {
      "image/png": "[encoded data removed]",
      "text/plain": [
       "<music21.ipython21.objects.IPythonPNGObject at 0x106cbaac8>"
      ]
     },
     "execution_count": 10,
     "metadata": {},
     "output_type": "execute_result"
    }
   ],
   "source": [
    "chord1 = chord.Chord(cList)\n",
    "chord1.show()"
   ]
  },
  {
   "cell_type": "code",
   "execution_count": 11,
   "metadata": {
    "collapsed": false
   },
   "outputs": [],
   "source": [
    "chord1.inversion(0)"
   ]
  },
  {
   "cell_type": "code",
   "execution_count": 12,
   "metadata": {
    "collapsed": false
   },
   "outputs": [
    {
     "data": {
      "image/png": "[encoded data removed]",
      "text/plain": [
       "<music21.ipython21.objects.IPythonPNGObject at 0x101247048>"
      ]
     },
     "execution_count": 12,
     "metadata": {},
     "output_type": "execute_result"
    }
   ],
   "source": [
    "chord1.show()"
   ]
  },
  {
   "cell_type": "code",
   "execution_count": 13,
   "metadata": {
    "collapsed": false
   },
   "outputs": [
    {
     "data": {
      "text/plain": [
       "<music21.pitch.Pitch F5>"
      ]
     },
     "execution_count": 13,
     "metadata": {},
     "output_type": "execute_result"
    }
   ],
   "source": [
    "max(chord1.pitches)"
   ]
  },
  {
   "cell_type": "code",
   "execution_count": 14,
   "metadata": {
    "collapsed": false
   },
   "outputs": [],
   "source": [
    "cMaj = chord.Chord(\"C3 E3 G3\")\n",
    "s = stream.Stream()\n",
    "for i in range(20):\n",
    "    inv = i % 3\n",
    "    s.append(cMaj)\n",
    "    cMajCopy = copy.deepcopy(cMaj)\n",
    "    cMajCopy.inversion(inv)\n",
    "    cMaj = cMajCopy\n"
   ]
  },
  {
   "cell_type": "code",
   "execution_count": 15,
   "metadata": {
    "collapsed": false
   },
   "outputs": [
    {
     "name": "stdout",
     "output_type": "stream",
     "text": [
      "{0.0} <music21.chord.Chord C3 E3 G3>\n",
      "{1.0} <music21.chord.Chord C3 E3 G3>\n",
      "{2.0} <music21.chord.Chord E3 G3 C4>\n",
      "{3.0} <music21.chord.Chord G3 C4 E4>\n",
      "{4.0} <music21.chord.Chord C4 E4 G4>\n",
      "{5.0} <music21.chord.Chord E4 G4 C5>\n",
      "{6.0} <music21.chord.Chord G4 C5 E5>\n",
      "{7.0} <music21.chord.Chord C5 E5 G5>\n",
      "{8.0} <music21.chord.Chord E5 G5 C6>\n",
      "{9.0} <music21.chord.Chord G5 C6 E6>\n",
      "{10.0} <music21.chord.Chord C6 E6 G6>\n",
      "{11.0} <music21.chord.Chord E6 G6 C7>\n",
      "{12.0} <music21.chord.Chord G6 C7 E7>\n",
      "{13.0} <music21.chord.Chord C7 E7 G7>\n",
      "{14.0} <music21.chord.Chord E7 G7 C8>\n",
      "{15.0} <music21.chord.Chord G7 C8 E8>\n",
      "{16.0} <music21.chord.Chord C8 E8 G8>\n",
      "{17.0} <music21.chord.Chord E8 G8 C9>\n",
      "{18.0} <music21.chord.Chord G8 C9 E9>\n",
      "{19.0} <music21.chord.Chord C9 E9 G9>\n"
     ]
    }
   ],
   "source": [
    "s.show('text')"
   ]
  },
  {
   "cell_type": "code",
   "execution_count": 16,
   "metadata": {
    "collapsed": false
   },
   "outputs": [
    {
     "data": {
      "image/png": "[encoded data removed]",
      "text/plain": [
       "<music21.ipython21.objects.IPythonPNGObject at 0x106d68c50>"
      ]
     },
     "execution_count": 16,
     "metadata": {},
     "output_type": "execute_result"
    }
   ],
   "source": [
    "s.show()"
   ]
  },
  {
   "cell_type": "code",
   "execution_count": 17,
   "metadata": {
    "collapsed": false
   },
   "outputs": [],
   "source": [
    "cMaj = chord.Chord(\"C1 G1 E2\")\n",
    "s = stream.Stream()\n",
    "for i in range(7):\n",
    "    inv = i % 3\n",
    "    s.append(cMaj)\n",
    "    cMajCopy = copy.deepcopy(cMaj)\n",
    "    cMajCopy.inversion(inv)\n",
    "    cMaj = cMajCopy"
   ]
  },
  {
   "cell_type": "code",
   "execution_count": 18,
   "metadata": {
    "collapsed": false
   },
   "outputs": [
    {
     "data": {
      "image/png": "[encoded data removed]",
      "text/plain": [
       "<music21.ipython21.objects.IPythonPNGObject at 0x106ddf860>"
      ]
     },
     "execution_count": 18,
     "metadata": {},
     "output_type": "execute_result"
    }
   ],
   "source": [
    "s.show()"
   ]
  },
  {
   "cell_type": "code",
   "execution_count": 19,
   "metadata": {
    "collapsed": false
   },
   "outputs": [],
   "source": [
    "cMaj = chord.Chord(\"C3 E3 G3 B-3 D-4 F#4\")\n",
    "s = stream.Stream()\n",
    "for i in range(17):\n",
    "    inv = i % 6\n",
    "    s.append(cMaj)\n",
    "    cMajCopy = copy.deepcopy(cMaj)\n",
    "    cMajCopy.inversion(inv)\n",
    "    cMaj = cMajCopy"
   ]
  },
  {
   "cell_type": "code",
   "execution_count": 20,
   "metadata": {
    "collapsed": false
   },
   "outputs": [
    {
     "data": {
      "image/png": "[encoded data removed]",
      "text/plain": [
       "<music21.ipython21.objects.IPythonPNGObject at 0x106f2f1d0>"
      ]
     },
     "execution_count": 20,
     "metadata": {},
     "output_type": "execute_result"
    }
   ],
   "source": [
    "s.show()"
   ]
  },
  {
   "cell_type": "code",
   "execution_count": 21,
   "metadata": {
    "collapsed": false
   },
   "outputs": [
    {
     "data": {
      "text/html": [
       "\n",
       "                <div id='midiPlayerDiv2259'></div>\n",
       "                <link rel=\"stylesheet\" href=\"http://artusi.xyz/music21j/css/m21.css\" \n",
       "                    type=\"text/css\" />\n",
       "                <script>\n",
       "                require.config({\n",
       "                    paths: {'music21': 'http://artusi.xyz/music21j/src/music21'} \n",
       "                }); \n",
       "                require(['music21'], function() { \n",
       "                               mp = new music21.miditools.MidiPlayer();\n",
       "                               mp.addPlayer('#midiPlayerDiv2259'); \n",
       "                               mp.base64Load('data:audio/midi;base64,TVRoZAAAAAYAAQABBABNVHJrAAADTwD/AwAA4ABAiACQMFoAkDRaAJA3WgCQOloAkD1aAJBCWogAgDAAAIA0AACANwAAgDoAAIA9AACAQgAAkDBaAJA0WgCQN1oAkDpaAJA9WgCQQlqIAIAwAACANAAAgDcAAIA6AACAPQAAgEIAAJA0WgCQN1oAkDpaAJA9WgCQQloAkEhaiACANAAAgDcAAIA6AACAPQAAgEIAAIBIAACQN1oAkDpaAJA9WgCQQloAkEhaAJBMWogAgDcAAIA6AACAPQAAgEIAAIBIAACATAAAkDpaAJA9WgCQQloAkEhaAJBMWgCQT1qIAIA6AACAPQAAgEIAAIBIAACATAAAgE8AAJA9WgCQQloAkEhaAJBMWgCQT1oAkFJaiACAPQAAgEIAAIBIAACATAAAgE8AAIBSAACQQloAkEhaAJBMWgCQT1oAkFJaAJBVWogAgEIAAIBIAACATAAAgE8AAIBSAACAVQAAkEhaAJBMWgCQT1oAkFJaAJBVWgCQWlqIAIBIAACATAAAgE8AAIBSAACAVQAAgFoAAJBMWgCQT1oAkFJaAJBVWgCQWloAkGBaiACATAAAgE8AAIBSAACAVQAAgFoAAIBgAACQT1oAkFJaAJBVWgCQWloAkGBaAJBkWogAgE8AAIBSAACAVQAAgFoAAIBgAACAZAAAkFJaAJBVWgCQWloAkGBaAJBkWgCQZ1qIAIBSAACAVQAAgFoAAIBgAACAZAAAgGcAAJBVWgCQWloAkGBaAJBkWgCQZ1oAkGpaiACAVQAAgFoAAIBgAACAZAAAgGcAAIBqAACQWloAkGBaAJBkWgCQZ1oAkGpaAJBtWogAgFoAAIBgAACAZAAAgGcAAIBqAACAbQAAkGBaAJBkWgCQZ1oAkGpaAJBtWgCQclqIAIBgAACAZAAAgGcAAIBqAACAbQAAgHIAAJBkWgCQZ1oAkGpaAJBtWgCQcloAkHhaiACAZAAAgGcAAIBqAACAbQAAgHIAAIB4AACQZ1oAkGpaAJBtWgCQcloAkHhaAJB8WogAgGcAAIBqAACAbQAAgHIAAIB4AACAfAAAkGpaAJBtWgCQcloAkHhaAJB8WgCQf1qIAIBqAACAbQAAgHIAAIB4AACAfAAAgH8AiAD/LwA='); \n",
       "                        });\n",
       "                </script>"
      ],
      "text/plain": [
       "<IPython.core.display.HTML object>"
      ]
     },
     "metadata": {},
     "output_type": "display_data"
    }
   ],
   "source": [
    "s.show('midi')"
   ]
  },
  {
   "cell_type": "code",
   "execution_count": 22,
   "metadata": {
    "collapsed": false
   },
   "outputs": [
    {
     "name": "stdout",
     "output_type": "stream",
     "text": [
      "1\n"
     ]
    }
   ],
   "source": [
    "germ6 = chord.Chord(\"A-3 C4 E-4 F#4\")\n",
    "s = stream.Stream()\n",
    "print(germ6.inversion())\n",
    "for i in range(12):\n",
    "    inv = i % 3\n",
    "    s.append(germ6)\n",
    "    germ6Copy = copy.deepcopy(germ6)\n",
    "    germ6Copy.inversion(inv)\n",
    "    germ6 = germ6Copy"
   ]
  },
  {
   "cell_type": "code",
   "execution_count": 23,
   "metadata": {
    "collapsed": false
   },
   "outputs": [
    {
     "data": {
      "image/png": "[encoded data removed]",
      "text/plain": [
       "<music21.ipython21.objects.IPythonPNGObject at 0x107108a58>"
      ]
     },
     "execution_count": 23,
     "metadata": {},
     "output_type": "execute_result"
    }
   ],
   "source": [
    "s.show()"
   ]
  },
  {
   "cell_type": "markdown",
   "metadata": {},
   "source": [
    "All subchords."
   ]
  },
  {
   "cell_type": "code",
   "execution_count": 24,
   "metadata": {
    "collapsed": false
   },
   "outputs": [],
   "source": [
    "from itertools import combinations as comb"
   ]
  },
  {
   "cell_type": "code",
   "execution_count": 28,
   "metadata": {
    "collapsed": false
   },
   "outputs": [
    {
     "data": {
      "text/plain": [
       "'all tri-chord hexachord'"
      ]
     },
     "execution_count": 28,
     "metadata": {},
     "output_type": "execute_result"
    }
   ],
   "source": [
    "c = chord.Chord([0, 1, 2, 4, 7, 8])\n",
    "c.commonName"
   ]
  },
  {
   "cell_type": "code",
   "execution_count": 3,
   "metadata": {
    "collapsed": false
   },
   "outputs": [
    {
     "ename": "NameError",
     "evalue": "name 'comb' is not defined",
     "output_type": "error",
     "traceback": [
      "\u001b[0;31m---------------------------------------------------------------------------\u001b[0m",
      "\u001b[0;31mNameError\u001b[0m                                 Traceback (most recent call last)",
      "\u001b[0;32m<ipython-input-3-57c8e4e73a61>\u001b[0m in \u001b[0;36m<module>\u001b[0;34m()\u001b[0m\n\u001b[1;32m      1\u001b[0m \u001b[0mcc\u001b[0m \u001b[0;34m=\u001b[0m \u001b[0mset\u001b[0m\u001b[0;34m(\u001b[0m\u001b[0;34m)\u001b[0m\u001b[0;34m\u001b[0m\u001b[0m\n\u001b[0;32m----> 2\u001b[0;31m \u001b[0;32mfor\u001b[0m \u001b[0mi\u001b[0m \u001b[0;32min\u001b[0m \u001b[0mcomb\u001b[0m\u001b[0;34m(\u001b[0m\u001b[0mc\u001b[0m\u001b[0;34m.\u001b[0m\u001b[0mpitches\u001b[0m\u001b[0;34m,\u001b[0m \u001b[0;36m3\u001b[0m\u001b[0;34m)\u001b[0m\u001b[0;34m:\u001b[0m\u001b[0;34m\u001b[0m\u001b[0m\n\u001b[0m\u001b[1;32m      3\u001b[0m     \u001b[0mcc\u001b[0m\u001b[0;34m.\u001b[0m\u001b[0madd\u001b[0m\u001b[0;34m(\u001b[0m\u001b[0mchord\u001b[0m\u001b[0;34m.\u001b[0m\u001b[0mChord\u001b[0m\u001b[0;34m(\u001b[0m\u001b[0mi\u001b[0m\u001b[0;34m)\u001b[0m\u001b[0;34m.\u001b[0m\u001b[0mforteClassNumber\u001b[0m\u001b[0;34m)\u001b[0m\u001b[0;34m\u001b[0m\u001b[0m\n\u001b[1;32m      4\u001b[0m \u001b[0mcc\u001b[0m\u001b[0;34m\u001b[0m\u001b[0m\n",
      "\u001b[0;31mNameError\u001b[0m: name 'comb' is not defined"
     ]
    }
   ],
   "source": [
    "cc = set()\n",
    "for i in comb(c.pitches, 3):\n",
    "    cc.add(chord.Chord(i).forteClassNumber)\n",
    "cc"
   ]
  },
  {
   "cell_type": "code",
   "execution_count": 33,
   "metadata": {
    "collapsed": false
   },
   "outputs": [
    {
     "data": {
      "text/html": [
       "\n",
       "                <div id='midiPlayerDiv3598'></div>\n",
       "                <link rel=\"stylesheet\" href=\"http://artusi.xyz/music21j/css/m21.css\" \n",
       "                    type=\"text/css\" />\n",
       "                <script>\n",
       "                require.config({\n",
       "                    paths: {'music21': 'http://artusi.xyz/music21j/src/music21'} \n",
       "                }); \n",
       "                require(['music21'], function() { \n",
       "                               mp = new music21.miditools.MidiPlayer();\n",
       "                               mp.addPlayer('#midiPlayerDiv3598'); \n",
       "                               mp.base64Load('data:audio/midi;base64,TVRoZAAAAAYAAQABBABNVHJrAAAAjAD/AwAA4ABAiACQRFqEAIBEAACQQlqEAIBCAACQQ1qEAIBDAACQQVqEAIBBAACQP1qCAIA/AACQPFqEAIA8AACQRVqKAIBFAACQRFqEAIBEAACQQlqEAIBCAACQQ1qEAIBDAACQQVqEAIBBAACQP1qCAIA/AACQPFqEAIA8AACQRVqKAIBFAIgA/y8A'); \n",
       "                        });\n",
       "                </script>"
      ],
      "text/plain": [
       "<IPython.core.display.HTML object>"
      ]
     },
     "metadata": {},
     "output_type": "display_data"
    }
   ],
   "source": [
    "s = stream.Part()\n",
    "for i in [8,6,7,5,3,0,9,  8,6,7,5,3,0,9]:\n",
    "    n = note.Note(i)\n",
    "    if i == 3:\n",
    "        n.quarterLength = .5\n",
    "    elif i == 9:\n",
    "        n.quarterLength = 2.5\n",
    "    n.quarterLength *= .5\n",
    "    s.append(n)\n",
    "s.show('midi')"
   ]
  },
  {
   "cell_type": "code",
   "execution_count": 28,
   "metadata": {
    "collapsed": false
   },
   "outputs": [
    {
     "data": {
      "text/html": [
       "\n",
       "                <div id='midiPlayerDiv3000'></div>\n",
       "                <link rel=\"stylesheet\" href=\"http://artusi.xyz/music21j/css/m21.css\" \n",
       "                    type=\"text/css\" />\n",
       "                <script>\n",
       "                require.config({\n",
       "                    paths: {'music21': 'http://artusi.xyz/music21j/src/music21'} \n",
       "                }); \n",
       "                require(['music21'], function() { \n",
       "                               mp = new music21.miditools.MidiPlayer();\n",
       "                               mp.addPlayer('#midiPlayerDiv3000'); \n",
       "                               mp.base64Load('data:audio/midi;base64,TVRoZAAAAAYAAQABBABNVHJrAAAATQD/AwAA4ABAiACQR1qIAIBHAACQQ1qIAIBDAACQRVqIAIBFAACQQVqIAIBBAACQPlqIAIA+AACQOVqIAIA5AACQSFqIAIBIAIgA/y8A'); \n",
       "                        });\n",
       "                </script>"
      ],
      "text/plain": [
       "<IPython.core.display.HTML object>"
      ]
     },
     "metadata": {},
     "output_type": "display_data"
    }
   ],
   "source": [
    "t = stream.Part()\n",
    "for i in [8,6,7,5,3,0,9]:\n",
    "    n = note.Note()\n",
    "    n.pitch.diatonicNoteNum = 27 + i\n",
    "    t.append(n)\n",
    "t.show('midi')"
   ]
  },
  {
   "cell_type": "code",
   "execution_count": 30,
   "metadata": {
    "collapsed": false
   },
   "outputs": [
    {
     "data": {
      "text/html": [
       "\n",
       "                <div id='midiPlayerDiv3393'></div>\n",
       "                <link rel=\"stylesheet\" href=\"http://artusi.xyz/music21j/css/m21.css\" \n",
       "                    type=\"text/css\" />\n",
       "                <script>\n",
       "                require.config({\n",
       "                    paths: {'music21': 'http://artusi.xyz/music21j/src/music21'} \n",
       "                }); \n",
       "                require(['music21'], function() { \n",
       "                               mp = new music21.miditools.MidiPlayer();\n",
       "                               mp.addPlayer('#midiPlayerDiv3393'); \n",
       "                               mp.base64Load('data:audio/midi;base64,TVRoZAAAAAYAAQACBABNVHJrAAAAVQD/AwAA4ABAAP9YBAQCGAiIAJBEWogAgEQAAJBCWogAgEIAAJBDWogAgEMAAJBBWogAgEEAAJA/WogAgD8AAJA8WogAgDwAAJBFWogAgEUAiAD/LwBNVHJrAAAAVQD/AwAA4ABAAP9YBAQCGAiIAJBHWogAgEcAAJBDWogAgEMAAJBFWogAgEUAAJBBWogAgEEAAJA+WogAgD4AAJA5WogAgDkAAJBIWogAgEgAiAD/LwA='); \n",
       "                        });\n",
       "                </script>"
      ],
      "text/plain": [
       "<IPython.core.display.HTML object>"
      ]
     },
     "metadata": {},
     "output_type": "display_data"
    }
   ],
   "source": [
    "sc = stream.Score()\n",
    "sc.insert(0, s.makeMeasures())\n",
    "sc.insert(0, t.makeMeasures())\n",
    "sc.show('midi')"
   ]
  },
  {
   "cell_type": "code",
   "execution_count": 4,
   "metadata": {
    "collapsed": false
   },
   "outputs": [],
   "source": [
    "n = note.Note(54)\n",
    "n.show('musicxml.png', dpi=300)"
   ]
  },
  {
   "cell_type": "code",
   "execution_count": 13,
   "metadata": {
    "collapsed": false
   },
   "outputs": [],
   "source": [
    "allI = 0\n",
    "allM3 = 0\n",
    "for c in corpus.chorales.Iterator():\n",
    "    for p in c.parts:\n",
    "        lastN = None\n",
    "        for n in p.recurse().getElementsByClass('Note'):\n",
    "            if lastN is not None:\n",
    "                allI += 1\n",
    "                if abs(n.pitch.ps - lastN.pitch.ps) == 4:\n",
    "                    allM3 += 1\n",
    "            lastN = n"
   ]
  },
  {
   "cell_type": "code",
   "execution_count": 14,
   "metadata": {
    "collapsed": false
   },
   "outputs": [
    {
     "data": {
      "text/plain": [
       "(101088, 3770, 0.03729423868312757)"
      ]
     },
     "execution_count": 14,
     "metadata": {},
     "output_type": "execute_result"
    }
   ],
   "source": [
    "allI, allM3, allM3/allI"
   ]
  },
  {
   "cell_type": "code",
   "execution_count": null,
   "metadata": {
    "collapsed": true
   },
   "outputs": [],
   "source": []
  }
 ],
 "metadata": {
  "kernelspec": {
   "display_name": "Python 3",
   "language": "python",
   "name": "python3"
  },
  "language_info": {
   "codemirror_mode": {
    "name": "ipython",
    "version": 3
   },
   "file_extension": ".py",
   "mimetype": "text/x-python",
   "name": "python",
   "nbconvert_exporter": "python",
   "pygments_lexer": "ipython3",
   "version": "3.5.1"
  }
 },
 "nbformat": 4,
 "nbformat_minor": 0
}
