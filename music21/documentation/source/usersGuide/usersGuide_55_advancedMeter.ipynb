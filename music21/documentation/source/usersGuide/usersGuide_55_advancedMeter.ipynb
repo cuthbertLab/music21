{
 "metadata": {
  "name": "",
  "signature": "sha256:f8260e5a26868747125b53570613b16682d3a9557621f7b88715b961ed084975"
 },
 "nbformat": 3,
 "nbformat_minor": 0,
 "worksheets": [
  {
   "cells": [
    {
     "cell_type": "code",
     "collapsed": false,
     "input": [
      "# ignore this\n",
      "%load_ext music21.ipython21.ipExtension"
     ],
     "language": "python",
     "metadata": {},
     "outputs": [],
     "prompt_number": 2
    },
    {
     "cell_type": "heading",
     "level": 1,
     "metadata": {},
     "source": [
      "User's Guide: Chapter 55: Advanced Meter Topics"
     ]
    },
    {
     "cell_type": "heading",
     "level": 2,
     "metadata": {},
     "source": [
      "Objects for Organizing Hierarchical Partitions"
     ]
    },
    {
     "cell_type": "markdown",
     "metadata": {},
     "source": [
      "Hierarchical metrical structures can be described as a type of fractional, space-preserving tree structure. With such a structure we partition and divide a single duration into one or more parts, where each part is a fraction of the whole. Each part can, in turn, be similarly divided. The objects for configuring this structure are the MeterTerminal and the MeterSequence objects.\n",
      "\n",
      "MeterTerminal and the MeterSequence objects are for advanced configuration. For basic data access about common meters, see the discussion of TimeSignature, below. "
     ]
    },
    {
     "cell_type": "heading",
     "level": 2,
     "metadata": {},
     "source": [
      "Creating and Editing MeterTerminal Objects"
     ]
    },
    {
     "cell_type": "markdown",
     "metadata": {},
     "source": [
      "A MeterTerminal is a node of the metrical tree structure, defined as a duration expressed as a fraction of a whole note. Thus, 1/4 is 1 quarter length (QL) duration; 3/8 is 1.5 QL; 3/16 is 0.75 QL. For this model, denominators are limited to *n* = 2\\ :sup:`x`, for *x* between 1 and 7 (e.g. 1/1 to 1/128).\n",
      "\n",
      "MeterTerminals can additionally store a weight, or a numerical value that can be interpreted in a variety of different ways.\n",
      "\n",
      "The following examples in the Python interpreter demonstrate creating a MeterTerminal and accessing the :meth:`numerator <music21.meter.MeterTerminal.numerator>` and :meth:`denominator <music21.meter.MeterTerminal.denominator>` attributes. The  :meth:`duration <music21.meter.MeterTerminal.duration>` attribute stores a :class:`~music21.duration.Duration` object."
     ]
    },
    {
     "cell_type": "code",
     "collapsed": false,
     "input": [
      "from music21 import meter\n",
      "mt = meter.MeterTerminal('3/4')\n",
      "mt"
     ],
     "language": "python",
     "metadata": {},
     "outputs": [
      {
       "metadata": {},
       "output_type": "pyout",
       "prompt_number": 3,
       "text": [
        "<MeterTerminal 3/4>"
       ]
      }
     ],
     "prompt_number": 3
    },
    {
     "cell_type": "code",
     "collapsed": false,
     "input": [
      "mt.numerator, mt.denominator"
     ],
     "language": "python",
     "metadata": {},
     "outputs": [
      {
       "metadata": {},
       "output_type": "pyout",
       "prompt_number": 4,
       "text": [
        "(3, 4)"
       ]
      }
     ],
     "prompt_number": 4
    },
    {
     "cell_type": "code",
     "collapsed": false,
     "input": [
      "mt.duration.quarterLength"
     ],
     "language": "python",
     "metadata": {},
     "outputs": [
      {
       "metadata": {},
       "output_type": "pyout",
       "prompt_number": 5,
       "text": [
        "3.0"
       ]
      }
     ],
     "prompt_number": 5
    },
    {
     "cell_type": "markdown",
     "metadata": {},
     "source": [
      "A MeterTerminal can be broken into an ordered sequence of MeterTerminal objects that sum to the same duration. This new object, to be discussed below, is the MeterSequence. A MeterTerminal can be broken into these duration-preserving components with the :meth:`~music21.meter.MeterTerminal.subdivide` method. An argument for subdivision can be given as a desired number of equal-valued components, a list of numerators assuming equal-denominators, or a list of string fraction representations. \n"
     ]
    },
    {
     "cell_type": "code",
     "collapsed": false,
     "input": [
      "mt.subdivide(3)"
     ],
     "language": "python",
     "metadata": {},
     "outputs": [
      {
       "metadata": {},
       "output_type": "pyout",
       "prompt_number": 6,
       "text": [
        "<MeterSequence {1/4+1/4+1/4}>"
       ]
      }
     ],
     "prompt_number": 6
    },
    {
     "cell_type": "code",
     "collapsed": false,
     "input": [
      " mt.subdivide([3,3]) "
     ],
     "language": "python",
     "metadata": {},
     "outputs": [
      {
       "metadata": {},
       "output_type": "pyout",
       "prompt_number": 7,
       "text": [
        "<MeterSequence {3/8+3/8}>"
       ]
      }
     ],
     "prompt_number": 7
    },
    {
     "cell_type": "code",
     "collapsed": false,
     "input": [
      "mt.subdivide(['1/4','4/8']) "
     ],
     "language": "python",
     "metadata": {},
     "outputs": [
      {
       "metadata": {},
       "output_type": "pyout",
       "prompt_number": 8,
       "text": [
        "<MeterSequence {1/4+4/8}>"
       ]
      }
     ],
     "prompt_number": 8
    },
    {
     "cell_type": "heading",
     "level": 2,
     "metadata": {},
     "source": [
      "Creating and Editing MeterSequence Objects"
     ]
    },
    {
     "cell_type": "markdown",
     "metadata": {},
     "source": [
      "A MeterSequence object is a sub-class of a MeterTerminal. Like a MeterTerminal, a MeterSequence has a :meth:`numerator <music21.meter.MeterSequence.numerator>`, a :meth:`denominator <music21.meter.MeterSequence.denominator>`, and a :meth:`duration <music21.meter.MeterTerminal.duration>` attribute. A MeterSequence, however, can be a hierarchical tree or sub-tree, containing an ordered sequence of MeterTerminal and/or MeterSequence objects.\n",
      "\n",
      "The ordered collection of MeterTerminal and/or MeterSequence objects can be accessed like Python lists. MeterSequence objects, like MeterTerminal objects, store a weight that by default is the sum of constituent weights. \n",
      "\n",
      "The :meth:`~music21.meter.MeterSequence.partition` and :meth:`~music21.meter.MeterTerminal.subdivide` methods can be used to configure the nested hierarchical structure. \n",
      "\n",
      "The :meth:`~music21.meter.MeterSequence.partition` method replaces existing MeterTerminal or MeterSequence objects in place with a new arrangement, specified as a desired number of equal-valued components, a list of numerators assuming equal-denominators, or a list of string fraction representations. \n",
      "\n",
      "The :meth:`~music21.meter.MeterTerminal.subdivide` method returns a new MeterSequence (leaving the source MeterSequence unchanged) with an arrangement of MeterTerminals as specified by an argument in the same form as for the :meth:`~music21.meter.MeterSequence.partition` method.\n",
      "\n",
      "Note that MeterTerminal objects cannot be partitioned in place. A common way to convert a MeterTerminal into a MeterSequence is to reassign the returned MeterSequence from the :meth:`~music21.meter.MeterTerminal.subdivide` method to the position occupied by the MeterTerminal.\n",
      "\n",
      "The following example creates and partitions a MeterSequence by re-assigning subdivisions to MeterTerminal objects. The use of Python list-like index access is also demonstrated. \n"
     ]
    },
    {
     "cell_type": "code",
     "collapsed": false,
     "input": [
      "ms = meter.MeterSequence('3/4')\n",
      "ms"
     ],
     "language": "python",
     "metadata": {},
     "outputs": [
      {
       "metadata": {},
       "output_type": "pyout",
       "prompt_number": 9,
       "text": [
        "<MeterSequence {3/4}>"
       ]
      }
     ],
     "prompt_number": 9
    },
    {
     "cell_type": "code",
     "collapsed": false,
     "input": [
      "ms.partition([3,3]) \n",
      "ms"
     ],
     "language": "python",
     "metadata": {},
     "outputs": [
      {
       "metadata": {},
       "output_type": "pyout",
       "prompt_number": 10,
       "text": [
        "<MeterSequence {3/8+3/8}>"
       ]
      }
     ],
     "prompt_number": 10
    },
    {
     "cell_type": "code",
     "collapsed": false,
     "input": [
      "ms[0] "
     ],
     "language": "python",
     "metadata": {},
     "outputs": [
      {
       "metadata": {},
       "output_type": "pyout",
       "prompt_number": 11,
       "text": [
        "<MeterTerminal 3/8>"
       ]
      }
     ],
     "prompt_number": 11
    },
    {
     "cell_type": "code",
     "collapsed": false,
     "input": [
      "ms[0] = ms[0].subdivide([3,3])\n",
      "ms[0]"
     ],
     "language": "python",
     "metadata": {},
     "outputs": [
      {
       "metadata": {},
       "output_type": "pyout",
       "prompt_number": 12,
       "text": [
        "<MeterSequence {3/16+3/16}>"
       ]
      }
     ],
     "prompt_number": 12
    },
    {
     "cell_type": "code",
     "collapsed": false,
     "input": [
      "ms"
     ],
     "language": "python",
     "metadata": {},
     "outputs": [
      {
       "metadata": {},
       "output_type": "pyout",
       "prompt_number": 13,
       "text": [
        "<MeterSequence {{3/16+3/16}+3/8}>"
       ]
      }
     ],
     "prompt_number": 13
    },
    {
     "cell_type": "code",
     "collapsed": false,
     "input": [
      "ms[1] = ms[1].subdivide([1,1,1]) \n",
      "ms[1][0]"
     ],
     "language": "python",
     "metadata": {},
     "outputs": [
      {
       "metadata": {},
       "output_type": "pyout",
       "prompt_number": 14,
       "text": [
        "<MeterTerminal 1/8>"
       ]
      }
     ],
     "prompt_number": 14
    },
    {
     "cell_type": "code",
     "collapsed": false,
     "input": [
      "ms[1]"
     ],
     "language": "python",
     "metadata": {},
     "outputs": [
      {
       "metadata": {},
       "output_type": "pyout",
       "prompt_number": 15,
       "text": [
        "<MeterSequence {1/8+1/8+1/8}>"
       ]
      }
     ],
     "prompt_number": 15
    },
    {
     "cell_type": "code",
     "collapsed": false,
     "input": [
      "ms"
     ],
     "language": "python",
     "metadata": {},
     "outputs": [
      {
       "metadata": {},
       "output_type": "pyout",
       "prompt_number": 16,
       "text": [
        "<MeterSequence {{3/16+3/16}+{1/8+1/8+1/8}}>"
       ]
      }
     ],
     "prompt_number": 16
    },
    {
     "cell_type": "markdown",
     "metadata": {},
     "source": [
      "The resulting structure can be graphically displayed with the following diagram:"
     ]
    },
    {
     "cell_type": "code",
     "collapsed": false,
     "input": [
      "#_DOCS_HIDE from IPython.display import Image\n",
      "#_DOCS_HIDE i = Image(filename='images/usersGuide/advancedMeter-02.png')\n",
      "#_DOCS_HIDE i"
     ],
     "language": "python",
     "metadata": {},
     "outputs": [
      {
       "metadata": {},
       "output_type": "pyout",
       "png": "[encoded data removed]",
       "prompt_number": 53,
       "text": [
        "<IPython.core.display.Image at 0x1073cda10>"
       ]
      }
     ],
     "prompt_number": 53
    },
    {
     "cell_type": "markdown",
     "metadata": {},
     "source": [
      "Numerous MeterSequence attributes provide convenient ways to access information about, or new objects from, the nested tree structure. The :meth:`depth <music21.meter.MeterSequence.depth>` attribute returns the depth count at any node within the tree structure; the :meth:`flat <music21.meter.MeterSequence.flat>` property returns a new, flat MeterSequence constructed from all the lowest-level MeterTerminal objects (all leaf nodes). \n"
     ]
    },
    {
     "cell_type": "code",
     "collapsed": false,
     "input": [
      "ms.depth"
     ],
     "language": "python",
     "metadata": {},
     "outputs": [
      {
       "metadata": {},
       "output_type": "pyout",
       "prompt_number": 18,
       "text": [
        "2"
       ]
      }
     ],
     "prompt_number": 18
    },
    {
     "cell_type": "code",
     "collapsed": false,
     "input": [
      "ms[0].depth"
     ],
     "language": "python",
     "metadata": {},
     "outputs": [
      {
       "metadata": {},
       "output_type": "pyout",
       "prompt_number": 19,
       "text": [
        "1"
       ]
      }
     ],
     "prompt_number": 19
    },
    {
     "cell_type": "code",
     "collapsed": false,
     "input": [
      "ms.flat"
     ],
     "language": "python",
     "metadata": {},
     "outputs": [
      {
       "metadata": {},
       "output_type": "pyout",
       "prompt_number": 20,
       "text": [
        "<MeterSequence {3/16+3/16+1/8+1/8+1/8}>"
       ]
      }
     ],
     "prompt_number": 20
    },
    {
     "cell_type": "markdown",
     "metadata": {},
     "source": [
      "Numerous methods provide ways to access levels (slices) of the hierarchical structure, or all nodes found at a desired hierarchical level. As all components preserve the duration of their container, all levels have the same total duration. The :meth:`~music21.meter.MeterSequence.getLevel` method returns, for a given depth, a new, flat MeterSequence. The :meth:`~music21.meter.MeterSequence.getLevelSpan` method returns, for a given depth, the time span of each node as a list of start and end values. "
     ]
    },
    {
     "cell_type": "code",
     "collapsed": false,
     "input": [
      "ms.getLevel(0)"
     ],
     "language": "python",
     "metadata": {},
     "outputs": [
      {
       "metadata": {},
       "output_type": "pyout",
       "prompt_number": 21,
       "text": [
        "<MeterSequence {3/8+3/8}>"
       ]
      }
     ],
     "prompt_number": 21
    },
    {
     "cell_type": "code",
     "collapsed": false,
     "input": [
      "ms.getLevel(1)"
     ],
     "language": "python",
     "metadata": {},
     "outputs": [
      {
       "metadata": {},
       "output_type": "pyout",
       "prompt_number": 22,
       "text": [
        "<MeterSequence {3/16+3/16+1/8+1/8+1/8}>"
       ]
      }
     ],
     "prompt_number": 22
    },
    {
     "cell_type": "code",
     "collapsed": false,
     "input": [
      "ms.getLevelSpan(1)"
     ],
     "language": "python",
     "metadata": {},
     "outputs": [
      {
       "metadata": {},
       "output_type": "pyout",
       "prompt_number": 23,
       "text": [
        "[(0.0, 0.75), (0.75, 1.5), (1.5, 2.0), (2.0, 2.5), (2.5, 3.0)]"
       ]
      }
     ],
     "prompt_number": 23
    },
    {
     "cell_type": "code",
     "collapsed": false,
     "input": [
      "ms[1].getLevelSpan(1)"
     ],
     "language": "python",
     "metadata": {},
     "outputs": [
      {
       "metadata": {},
       "output_type": "pyout",
       "prompt_number": 24,
       "text": [
        "[(0.0, 0.5), (0.5, 1.0), (1.0, 1.5)]"
       ]
      }
     ],
     "prompt_number": 24
    },
    {
     "cell_type": "markdown",
     "metadata": {},
     "source": [
      "Finally, numerous methods provide ways to find and access the \n",
      "relevant nodes (the MeterTerminal or MeterSequence objects) active \n",
      "given a quarter length position into the tree structure. \n",
      "The :meth:`~music21.meter.MeterSequence.offsetToIndex` method returns, \n",
      "for a given QL, the index of the active node. \n",
      "The :meth:`~music21.meter.MeterSequence.offsetToSpan` method returns, \n",
      "for a given QL, the span of the active node. \n",
      "The :meth:`~music21.meter.MeterSequence.offsetToDepth` method returns, \n",
      "for a given QL, the maximum depth at this position. "
     ]
    },
    {
     "cell_type": "code",
     "collapsed": false,
     "input": [
      "ms.offsetToIndex(2.5)"
     ],
     "language": "python",
     "metadata": {},
     "outputs": [
      {
       "metadata": {},
       "output_type": "pyout",
       "prompt_number": 25,
       "text": [
        "1"
       ]
      }
     ],
     "prompt_number": 25
    },
    {
     "cell_type": "code",
     "collapsed": false,
     "input": [
      "ms.offsetToSpan(2.5)"
     ],
     "language": "python",
     "metadata": {},
     "outputs": [
      {
       "metadata": {},
       "output_type": "pyout",
       "prompt_number": 26,
       "text": [
        "(1.5, 3.0)"
       ]
      }
     ],
     "prompt_number": 26
    },
    {
     "cell_type": "code",
     "collapsed": false,
     "input": [
      "ms.offsetToDepth(.5)"
     ],
     "language": "python",
     "metadata": {},
     "outputs": [
      {
       "metadata": {},
       "output_type": "pyout",
       "prompt_number": 27,
       "text": [
        "2"
       ]
      }
     ],
     "prompt_number": 27
    },
    {
     "cell_type": "code",
     "collapsed": false,
     "input": [
      " ms[0].offsetToDepth(.5)"
     ],
     "language": "python",
     "metadata": {},
     "outputs": [
      {
       "metadata": {},
       "output_type": "pyout",
       "prompt_number": 28,
       "text": [
        "1"
       ]
      }
     ],
     "prompt_number": 28
    },
    {
     "cell_type": "code",
     "collapsed": false,
     "input": [
      " ms.getLevel(1).offsetToSpan(.5)"
     ],
     "language": "python",
     "metadata": {},
     "outputs": [
      {
       "metadata": {},
       "output_type": "pyout",
       "prompt_number": 29,
       "text": [
        "(0, 0.75)"
       ]
      }
     ],
     "prompt_number": 29
    },
    {
     "cell_type": "heading",
     "level": 2,
     "metadata": {},
     "source": [
      "Advanced Time Signature Configuration"
     ]
    },
    {
     "cell_type": "markdown",
     "metadata": {},
     "source": [
      "The music21 :class:`~music21.meter.TimeSignature` object contains four parallel MeterSequence objects, each assigned to the attributes :meth:`displaySequence <music21.meter.TimeSignature.displaySequence>`, :meth:`beatSequence <music21.meter.TimeSignature.beatSequence>`, :meth:`beamSequence <music21.meter.TimeSignature.beamSequence>`, :meth:`accentSequence <music21.meter.TimeSignature.accentSequence>`. The following displays a graphical realization of these four MeterSequence objects. "
     ]
    },
    {
     "cell_type": "code",
     "collapsed": false,
     "input": [
      "#_DOCS_HIDE i = Image(filename='images/usersGuide/overviewMeters-01.png', width=500)\n",
      "#_DOCS_HIDE i"
     ],
     "language": "python",
     "metadata": {},
     "outputs": [
      {
       "metadata": {
        "png": {
         "width": 500
        }
       },
       "output_type": "pyout",
       "png": "[encoded data removed]",
       "prompt_number": 54,
       "text": [
        "<IPython.core.display.Image at 0x1073cd950>"
       ]
      }
     ],
     "prompt_number": 54
    },
    {
     "cell_type": "markdown",
     "metadata": {},
     "source": [
      "The TimeSignature provides a model of all common hierarchical structures contained within a bar. Common meters are initialized with expected defaults; however, full MeterSequence customization is available.\n"
     ]
    },
    {
     "cell_type": "heading",
     "level": 2,
     "metadata": {},
     "source": [
      "Configuring Display"
     ]
    },
    {
     "cell_type": "markdown",
     "metadata": {},
     "source": [
      "The TimeSignature :meth:`displaySequence <music21.meter.TimeSignature.displaySequence>` MeterSequence employs the highest-level partitions to configure the displayed time signature symbol. If more than one partition is given, those partitions will be interpreted as additive meter components. If partitions have a common denominator, a summed numerator (over a single denominator) can be displayed by setting the TimeSignature :meth:`summedNumerator <music21.meter.TimeSignature.summedNumerator>` attribute to True. Lower-level subdivisions of the TimeSignature MeterSequence are not employed.\n",
      "\n",
      "Note that a new MeterSequence instance can be assigned to the :meth:`displaySequence <music21.meter.TimeSignature.displaySequence>` attribute with a duration and/or partitioning completely independent from the :meth:`beatSequence <music21.meter.TimeSignature.beatSequence>`, :meth:`beamSequence <music21.meter.TimeSignature.beamSequence>`, and :meth:`accentSequence <music21.meter.TimeSignature.accentSequence>` MeterSequences.\n",
      "\n",
      "The following example demonstrates setting the display MeterSequence for a TimeSignature."
     ]
    },
    {
     "cell_type": "code",
     "collapsed": false,
     "input": [
      "from music21 import stream, note\n",
      "ts1 = meter.TimeSignature('5/8') # assumes two partitions\n",
      "ts1.displaySequence.partition(['3/16','1/8','5/16'])\n",
      "ts2 = meter.TimeSignature('5/8') # assumes two partitions\n",
      "ts2.displaySequence.partition(['2/8', '3/8'])\n",
      "ts2.summedNumerator = True\n",
      "s = stream.Stream()\n",
      "for ts in [ts1, ts2]:\n",
      "    m = stream.Measure()\n",
      "    m.timeSignature = ts\n",
      "    n = note.Note('b')\n",
      "    n.quarterLength = 0.5\n",
      "    m.repeatAppend(n, 5)\n",
      "    s.append(m)\n",
      "\n",
      "s.show()  \n"
     ],
     "language": "python",
     "metadata": {},
     "outputs": [
      {
       "metadata": {},
       "output_type": "pyout",
       "png": "[encoded data removed]",
       "prompt_number": 31,
       "text": [
        "<music21.ipython21.objects.IPythonPNGObject at 0x1073a2e90>"
       ]
      }
     ],
     "prompt_number": 31
    },
    {
     "cell_type": "heading",
     "level": 2,
     "metadata": {},
     "source": [
      "Configuring Beam"
     ]
    },
    {
     "cell_type": "markdown",
     "metadata": {},
     "source": [
      "The TimeSignature :meth:`beamSequence <music21.meter.TimeSignature.beamSequence>` MeterSequence employs the complete hierarchical structure to configure the single or multi-level beaming of a bar. The outer-most partitions can specify one or more top-level partitions. Lower-level partitions subdivide beam-groups, providing the appropriate beam-breaks when sufficiently small durations are employed. \n",
      "\n",
      "The :meth:`beamSequence <music21.meter.TimeSignature.beamSequence>` MeterSequence is generally used to create and configure :class:`~music21.note.Beams` objects stored in :class:`~music21.note.Note` objects. The TimeSignature :meth:`~music21.meter.TimeSignature.getBeams` method, given a list of :class:`~music21.duration.Duration` objects, returns a list of :class:`~music21.note.Beams` objects based on the TimeSignature  :meth:`beamSequence <music21.meter.TimeSignature.beamSequence>` MeterSequence.\n",
      "\n",
      "Many users may find the Stream :meth:`~music21.stream.Stream.makeBeams` method the most convenient way to apply beams to a Measure or Stream of Note objects. This method returns a new Stream with created and configured Beams. \n",
      "\n",
      "The following example beams a bar of 3/4 in four different ways. The diversity and complexity of beaming is offered here to illustrate the flexibility of this model.\n"
     ]
    },
    {
     "cell_type": "code",
     "collapsed": false,
     "input": [
      "ts1 = meter.TimeSignature('3/4')\n",
      "ts1.beamSequence.partition(1)\n",
      "ts1.beamSequence[0] = ts1.beamSequence[0].subdivide(['3/8', '5/32', '4/32', '3/32'])\n",
      "ts2 = meter.TimeSignature('3/4')\n",
      "ts2.beamSequence.partition(3)\n",
      "ts3 = meter.TimeSignature('3/4')\n",
      "ts3.beamSequence.partition(3)\n",
      "\n",
      "for i in range(len(ts3.beamSequence)):\n",
      "    ts3.beamSequence[i] = ts3.beamSequence[i].subdivide(2)\n",
      "\n",
      "ts4 = meter.TimeSignature('3/4')\n",
      "ts4.beamSequence.partition(['3/8', '3/8'])\n",
      "for i in range(len(ts4.beamSequence)):\n",
      "    ts4.beamSequence[i] = ts4.beamSequence[i].subdivide(['6/32', '6/32'])\n",
      "    for j in range(len(ts4.beamSequence[i])):\n",
      "        ts4.beamSequence[i][j] = ts4.beamSequence[i][j].subdivide(2)\n",
      "\n",
      "s = stream.Stream()\n",
      "for ts in [ts1, ts2, ts3, ts4]:\n",
      "    m = stream.Measure()\n",
      "    m.timeSignature = ts\n",
      "    n = note.Note('b')\n",
      "    n.quarterLength = 0.125\n",
      "    m.repeatAppend(n, 24)\n",
      "    s.append(m.makeBeams())\n",
      "\n",
      "s.show()   "
     ],
     "language": "python",
     "metadata": {},
     "outputs": [
      {
       "metadata": {},
       "output_type": "pyout",
       "png": "[encoded data removed]",
       "prompt_number": 32,
       "text": [
        "<music21.ipython21.objects.IPythonPNGObject at 0x107487f90>"
       ]
      }
     ],
     "prompt_number": 32
    },
    {
     "cell_type": "markdown",
     "metadata": {},
     "source": [
      "The following is a fractional grid representation of the four beam partitions created."
     ]
    },
    {
     "cell_type": "code",
     "collapsed": false,
     "input": [
      "#_DOCS_HIDE i = Image(filename='images/usersGuide/overviewMeters-03.jpg')\n",
      "#_DOCS_HIDE i"
     ],
     "language": "python",
     "metadata": {},
     "outputs": [],
     "prompt_number": 33
    },
    {
     "cell_type": "heading",
     "level": 2,
     "metadata": {},
     "source": [
      "Configuring Beat"
     ]
    },
    {
     "cell_type": "markdown",
     "metadata": {},
     "source": [
      "The TimeSignature :meth:`beatSequence <music21.meter.TimeSignature.beatSequence>` MeterSequence employs the hierarchical structure to define the beats and beat divisions of a bar. The outer-most partitions can specify one ore more top level beats. Inner partitions can specify the beat division partitions. For most common meters, beats and beat divisions are pre-configured by default.\n",
      "\n",
      "In the following example, a simple and a compound meter is created, and the default beat partitions are examined. The :meth:`~music21.meter.MeterSequence.getLevel` method can be used to show the beat and background beat partitions. The timeSignature :meth:`beatDuration <music21.meter.TimeSignature.beatDuration>`,  :meth:`beat <music21.meter.TimeSignature.beat>`, and :meth:`beatCountName <music21.meter.TimeSignature.beatCountName>` properties can be used to return commonly needed beat information. The TimeSignature :meth:`beatDivisionCount <music21.meter.TimeSignature.beatDivisionCount>`, and :meth:`beatDivisionCountName <music21.meter.TimeSignature.beatDivisionCountName>` properties can be used to return commonly needed beat division information. These descriptors can be combined to return a string representation of the TimeSignature classification with :meth:`classification <music21.meter.TimeSignature.classification>` property.\n"
     ]
    },
    {
     "cell_type": "code",
     "collapsed": false,
     "input": [
      "ts = meter.TimeSignature('3/4')\n",
      "ts.beatSequence.getLevel(0)"
     ],
     "language": "python",
     "metadata": {},
     "outputs": [
      {
       "metadata": {},
       "output_type": "pyout",
       "prompt_number": 34,
       "text": [
        "<MeterSequence {1/4+1/4+1/4}>"
       ]
      }
     ],
     "prompt_number": 34
    },
    {
     "cell_type": "code",
     "collapsed": false,
     "input": [
      "ts.beatSequence.getLevel(1)"
     ],
     "language": "python",
     "metadata": {},
     "outputs": [
      {
       "metadata": {},
       "output_type": "pyout",
       "prompt_number": 35,
       "text": [
        "<MeterSequence {1/8+1/8+1/8+1/8+1/8+1/8}>"
       ]
      }
     ],
     "prompt_number": 35
    },
    {
     "cell_type": "code",
     "collapsed": false,
     "input": [
      "ts.beatDuration"
     ],
     "language": "python",
     "metadata": {},
     "outputs": [
      {
       "metadata": {},
       "output_type": "pyout",
       "prompt_number": 36,
       "text": [
        "<music21.duration.Duration 1.0>"
       ]
      }
     ],
     "prompt_number": 36
    },
    {
     "cell_type": "code",
     "collapsed": false,
     "input": [
      "ts.beatCount"
     ],
     "language": "python",
     "metadata": {},
     "outputs": [
      {
       "metadata": {},
       "output_type": "pyout",
       "prompt_number": 37,
       "text": [
        "3"
       ]
      }
     ],
     "prompt_number": 37
    },
    {
     "cell_type": "code",
     "collapsed": false,
     "input": [
      "ts.beatCountName"
     ],
     "language": "python",
     "metadata": {},
     "outputs": [
      {
       "metadata": {},
       "output_type": "pyout",
       "prompt_number": 38,
       "text": [
        "'Triple'"
       ]
      }
     ],
     "prompt_number": 38
    },
    {
     "cell_type": "code",
     "collapsed": false,
     "input": [
      "ts.beatDivisionCount"
     ],
     "language": "python",
     "metadata": {},
     "outputs": [
      {
       "metadata": {},
       "output_type": "pyout",
       "prompt_number": 39,
       "text": [
        "2"
       ]
      }
     ],
     "prompt_number": 39
    },
    {
     "cell_type": "code",
     "collapsed": false,
     "input": [
      "ts.beatDivisionCountName"
     ],
     "language": "python",
     "metadata": {},
     "outputs": [
      {
       "metadata": {},
       "output_type": "pyout",
       "prompt_number": 40,
       "text": [
        "'Simple'"
       ]
      }
     ],
     "prompt_number": 40
    },
    {
     "cell_type": "code",
     "collapsed": false,
     "input": [
      "ts.classification"
     ],
     "language": "python",
     "metadata": {},
     "outputs": [
      {
       "metadata": {},
       "output_type": "pyout",
       "prompt_number": 41,
       "text": [
        "'Simple Triple'"
       ]
      }
     ],
     "prompt_number": 41
    },
    {
     "cell_type": "code",
     "collapsed": false,
     "input": [
      "ts = meter.TimeSignature('12/16')\n",
      "ts.beatSequence.getLevel(0)"
     ],
     "language": "python",
     "metadata": {},
     "outputs": [
      {
       "metadata": {},
       "output_type": "pyout",
       "prompt_number": 42,
       "text": [
        "<MeterSequence {3/16+3/16+3/16+3/16}>"
       ]
      }
     ],
     "prompt_number": 42
    },
    {
     "cell_type": "code",
     "collapsed": false,
     "input": [
      "ts.beatSequence.getLevel(1)"
     ],
     "language": "python",
     "metadata": {},
     "outputs": [
      {
       "metadata": {},
       "output_type": "pyout",
       "prompt_number": 43,
       "text": [
        "<MeterSequence {1/16+1/16+1/16+1/16+1/16+1/16+1/16+1/16+1/16+1/16+1/16+1/16}>"
       ]
      }
     ],
     "prompt_number": 43
    },
    {
     "cell_type": "code",
     "collapsed": false,
     "input": [
      "ts.beatDuration"
     ],
     "language": "python",
     "metadata": {},
     "outputs": [
      {
       "metadata": {},
       "output_type": "pyout",
       "prompt_number": 44,
       "text": [
        "<music21.duration.Duration 0.75>"
       ]
      }
     ],
     "prompt_number": 44
    },
    {
     "cell_type": "code",
     "collapsed": false,
     "input": [
      "ts.beatCount"
     ],
     "language": "python",
     "metadata": {},
     "outputs": [
      {
       "metadata": {},
       "output_type": "pyout",
       "prompt_number": 45,
       "text": [
        "4"
       ]
      }
     ],
     "prompt_number": 45
    },
    {
     "cell_type": "code",
     "collapsed": false,
     "input": [
      "ts.beatCountName"
     ],
     "language": "python",
     "metadata": {},
     "outputs": [
      {
       "metadata": {},
       "output_type": "pyout",
       "prompt_number": 46,
       "text": [
        "'Quadruple'"
       ]
      }
     ],
     "prompt_number": 46
    },
    {
     "cell_type": "code",
     "collapsed": false,
     "input": [
      "ts.beatDivisionCount"
     ],
     "language": "python",
     "metadata": {},
     "outputs": [
      {
       "metadata": {},
       "output_type": "pyout",
       "prompt_number": 47,
       "text": [
        "3"
       ]
      }
     ],
     "prompt_number": 47
    },
    {
     "cell_type": "code",
     "collapsed": false,
     "input": [
      "ts.beatDivisionCountName"
     ],
     "language": "python",
     "metadata": {},
     "outputs": [
      {
       "metadata": {},
       "output_type": "pyout",
       "prompt_number": 48,
       "text": [
        "'Compound'"
       ]
      }
     ],
     "prompt_number": 48
    },
    {
     "cell_type": "code",
     "collapsed": false,
     "input": [
      "ts.classification"
     ],
     "language": "python",
     "metadata": {},
     "outputs": [
      {
       "metadata": {},
       "output_type": "pyout",
       "prompt_number": 49,
       "text": [
        "'Compound Quadruple'"
       ]
      }
     ],
     "prompt_number": 49
    },
    {
     "cell_type": "heading",
     "level": 2,
     "metadata": {},
     "source": [
      "Annotating Found Notes with Beat Count"
     ]
    },
    {
     "cell_type": "markdown",
     "metadata": {},
     "source": [
      "The :meth:`~music21.meter.TimeSignature.getBeat` method returns the currently active beat given a quarter length position into the TimeSignature.\n",
      "\n",
      "In the following example, all leading tones, or C#s, are collected into a new Stream and displayed with annotations for part, measure, and beat."
     ]
    },
    {
     "cell_type": "code",
     "collapsed": false,
     "input": [
      "from music21 import corpus\n",
      "score = corpus.parse('bach/bwv366.xml')\n",
      "ts = score.flat.getElementsByClass('TimeSignature')[0]\n",
      "ts.beatSequence.partition(3)\n",
      "\n",
      "found = stream.Stream()\n",
      "offsetQL = 0\n",
      "for part in score.parts:\n",
      "    found.insert(offsetQL, part.flat.getElementsByClass('Clef')[0])\n",
      "    for i in range(len(part.getElementsByClass('Measure'))):\n",
      "        m = part.getElementsByClass('Measure')[i]\n",
      "        for n in m.notesAndRests:\n",
      "            if n.name == 'C#':\n",
      "                n.addLyric('%s, m. %s' % (part.id[0], m.number))\n",
      "                n.addLyric('beat %s' % ts.getBeat(n.offset))\n",
      "                found.insert(offsetQL, n)\n",
      "                offsetQL += 4\n",
      "\n",
      "#_DOCS_SHOW found.show('musicxml')\n",
      "#_DOCS_HIDE i = Image(filename='images/usersGuide/overviewMeters-06.png', width=)\n",
      "#_DOCS_HIDE i"
     ],
     "language": "python",
     "metadata": {},
     "outputs": [],
     "prompt_number": 50
    },
    {
     "cell_type": "heading",
     "level": 2,
     "metadata": {},
     "source": [
      "Using Beat Depth to Provide Metrical Analysis"
     ]
    },
    {
     "cell_type": "markdown",
     "metadata": {},
     "source": [
      "Another application of the :meth:`beatSequence <music21.meter.TimeSignature.beatSequence>` MeterSequence is to define the hierarchical depth active for a given note found within the TimeSignature. \n",
      "\n",
      "The :meth:`~music21.meter.TimeSignature.getBeatDepth` method, when set with the optional parameter `align` to \"quantize\", shows the number of hierarchical levels that start at or before that point. This value is described by Lerdahl and Jackendoff as metrical analysis.\n",
      "\n",
      "In the following example, :meth:`beatSequence <music21.meter.TimeSignature.beatSequence>` MeterSequence is partitioned first into one subdivision, and then each subsequent subdivision into two, down to four layers of partitioning. \n",
      "\n",
      "The number of hierarchical levels, found with the :meth:`~music21.meter.TimeSignature.getBeatDepth` method, is appended to each note with the :meth:`~music21.note.GeneralNote.addLyric` method."
     ]
    },
    {
     "cell_type": "code",
     "collapsed": false,
     "input": [
      "score = corpus.parse('bach/bwv281.xml')\n",
      "partBass = score.getElementById('Bass')\n",
      "ts = partBass.flat.getElementsByClass('TimeSignature')[0]\n",
      "ts.beatSequence.partition(1)\n",
      "for h in range(len(ts.beatSequence)):\n",
      "    ts.beatSequence[h] = ts.beatSequence[h].subdivide(2)\n",
      "    for i in range(len(ts.beatSequence[h])):\n",
      "        ts.beatSequence[h][i] = ts.beatSequence[h][i].subdivide(2)\n",
      "        for j in range(len(ts.beatSequence[h][i])):\n",
      "            ts.beatSequence[h][i][j] = ts.beatSequence[h][i][j].subdivide(2)\n",
      "\n",
      "for m in partBass.getElementsByClass('Measure'):\n",
      "    for n in m.notesAndRests:\n",
      "        for i in range(ts.getBeatDepth(n.offset)):\n",
      "            n.addLyric('*')\n",
      "\n",
      "partBass.getElementsByClass('Measure')[0:7].show()  "
     ],
     "language": "python",
     "metadata": {},
     "outputs": [
      {
       "metadata": {},
       "output_type": "pyout",
       "png": "[encoded data removed]",
       "prompt_number": 51,
       "text": [
        "<music21.ipython21.objects.IPythonPNGObject at 0x1074b1a90>"
       ]
      }
     ],
     "prompt_number": 51
    },
    {
     "cell_type": "markdown",
     "metadata": {},
     "source": [
      "Alternatively, this type of annotation can be applied to a Stream using the :func:`~music21.analysis.metrical.labelBeatDepth` function."
     ]
    },
    {
     "cell_type": "heading",
     "level": 2,
     "metadata": {},
     "source": [
      "Configuring Accent"
     ]
    },
    {
     "cell_type": "markdown",
     "metadata": {},
     "source": [
      "The TimeSignature :meth:`accentSequence <music21.meter.TimeSignature.accentSequence>` MeterSequence defines one or more levels of hierarchical accent levels, where quantitative accent value is encoded in MeterTerminal or MeterSequence with a number assigned to the :meth:`weight <music21.meter.MeterTerminal.weight>` attribute.\n"
     ]
    },
    {
     "cell_type": "heading",
     "level": 2,
     "metadata": {},
     "source": [
      "Applying Articulations Based on Accent"
     ]
    },
    {
     "cell_type": "markdown",
     "metadata": {},
     "source": [
      "The :meth:`~music21.meter.TimeSignature.getAccentWeight` method returns the currently active accent weight given a quarter length position into the TimeSignature. Combined with the :meth:`~music21.meter.TimeSignature.getBeatProgress` method, Notes that start on particular beat can be isolated and examined. \n",
      "\n",
      "The following example extracts the Bass line of a Bach chorale in 3/4 and, after repartitioning the beat and accent attributes, applies accents to reflect a meter of 6/8.\n"
     ]
    },
    {
     "cell_type": "code",
     "collapsed": false,
     "input": [
      "from music21 import corpus, meter, articulations\n",
      "score = corpus.parse('bach/bwv366.xml')\n",
      "partBass = score.getElementById('Bass')\n",
      "ts = partBass.flat.getElementsByClass(meter.TimeSignature)[0]\n",
      "ts.beatSequence.partition(['3/8', '3/8'])\n",
      "ts.accentSequence.partition(['3/8', '3/8'])\n",
      "ts.setAccentWeight([1, .5])\n",
      "for m in partBass.getElementsByClass('Measure'):\n",
      "    lastBeat = None\n",
      "    for n in m.notesAndRests:\n",
      "        beat, progress = ts.getBeatProgress(n.offset)\n",
      "        if beat != lastBeat and progress == 0:\n",
      "            if n.tie != None and n.tie.type == 'stop':\n",
      "                continue\n",
      "            if ts.getAccentWeight(n.offset) == 1:\n",
      "                mark = articulations.StrongAccent()\n",
      "            elif ts.getAccentWeight(n.offset) == .5:\n",
      "                mark = articulations.Accent()\n",
      "            n.articulations.append(mark)\n",
      "            lastBeat = beat\n",
      "        m = m.sorted\n",
      "        \n",
      "partBass.getElementsByClass('Measure')[0:8].show() "
     ],
     "language": "python",
     "metadata": {},
     "outputs": [
      {
       "metadata": {},
       "output_type": "pyout",
       "png": "[encoded data removed]",
       "prompt_number": 56,
       "text": [
        "<music21.ipython21.objects.IPythonPNGObject at 0x108bc1450>"
       ]
      }
     ],
     "prompt_number": 56
    },
    {
     "cell_type": "code",
     "collapsed": false,
     "input": [
      "score = corpus.parse('bach/bwv366.xml')\n",
      "partBass = score.getElementById('Bass')\n",
      "for note in partBass.flat.notes:\n",
      "    n.articulations.append(articulations.StrongAccent())\n",
      "\n",
      "partBass.getElementsByClass('Measure')[0:8].show()"
     ],
     "language": "python",
     "metadata": {},
     "outputs": [
      {
       "metadata": {},
       "output_type": "pyout",
       "png": "[encoded data removed]",
       "prompt_number": 57,
       "text": [
        "<music21.ipython21.objects.IPythonPNGObject at 0x109430410>"
       ]
      }
     ],
     "prompt_number": 57
    }
   ],
   "metadata": {}
  }
 ]
}