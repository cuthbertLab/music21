{
 "metadata": {
  "name": "",
  "signature": "sha256:2e27922172f4b64664e6b74c95f4923d74b3d597ca8cbebc43409f7664c50e9a"
 },
 "nbformat": 3,
 "nbformat_minor": 0,
 "worksheets": [
  {
   "cells": [
    {
     "cell_type": "heading",
     "level": 1,
     "metadata": {},
     "source": [
      "User's Guide: Chapter 54: Extending Converter with New Formats"
     ]
    },
    {
     "cell_type": "code",
     "collapsed": false,
     "input": [
      "# ignore this\n",
      "%load_ext music21.ipython21.ipExtension"
     ],
     "language": "python",
     "metadata": {},
     "outputs": [
      {
       "html": [
        "\n",
        "     <script>\n",
        "    require.config(\n",
        "       { baseUrl: \"http://web.mit.edu/music21/music21j/src/\",\n",
        "         paths: {'music21': 'http://web.mit.edu/music21/music21j/src/music21',}\n",
        "        });\n",
        "    require(['music21'], function () {\n",
        "          var n = new music21.note.Note(\"D#4\");\n",
        "          var s = new music21.stream.Stream();\n",
        "          s.append(n);\n",
        "          console.log('music21 loaded fine');\n",
        "    });\n",
        "    </script>\n",
        "    "
       ],
       "metadata": {},
       "output_type": "display_data",
       "text": [
        "<IPython.core.display.HTML at 0x106fa1290>"
       ]
      }
     ],
     "prompt_number": 1
    },
    {
     "cell_type": "markdown",
     "metadata": {},
     "source": [
      "For this example, rather than importing \\* from music21, we'll just import the modules we need.  If you're developing a new SubConverter class just for yourself you can import everything, but if you're thinking that you'd like to contribute your module back to music21 someday, it is important not to import \\* since that will create circular imports"
     ]
    },
    {
     "cell_type": "code",
     "collapsed": false,
     "input": [
      "from music21 import converter, note, stream, meter"
     ],
     "language": "python",
     "metadata": {},
     "outputs": [],
     "prompt_number": 2
    },
    {
     "cell_type": "markdown",
     "metadata": {},
     "source": [
      "We'll create a dummy file format, '.sb' or the 'singlebeat' format which consists solely of a string of letters A-G in groups of any length separated by spaces. A-G represents the pitch name (no accidentals), while all notes written conjunctly in a group are interpreted as evenly fitting within a quarter note. "
     ]
    },
    {
     "cell_type": "code",
     "collapsed": false,
     "input": [
      "class SingleBeat(converter.subConverters.SubConverter):\n",
      "    registerFormats = ('singlebeat',)  # note the comma after the string\n",
      "    registerInputExtensions = ('sb',)  # these are single element tuples.\n",
      "    \n",
      "    # we will just define parseData for now and let the SubConverter base class\n",
      "    # deal with loading data from files of type .sb and URLs ending in .sb for us.\n",
      "    \n",
      "    def parseData(self, strData, number=None):  # movement number is ignored...\n",
      "        '''  'AB C' -> A-8th, B-8th, C-qtr '''\n",
      "        strDataList = strData.split()\n",
      "        s = stream.Part()\n",
      "        m = meter.TimeSignature('4/4')\n",
      "        s.insert(0, m)\n",
      "        for beat in strDataList:\n",
      "            ql = 1.0/len(beat)\n",
      "            for n in beat:\n",
      "                nObj = note.Note(n)\n",
      "                nObj.duration.quarterLength = ql\n",
      "                s.append(nObj)\n",
      "        self.stream = s.makeMeasures()"
     ],
     "language": "python",
     "metadata": {},
     "outputs": [],
     "prompt_number": 3
    },
    {
     "cell_type": "markdown",
     "metadata": {},
     "source": [
      "Next we tell the converter module that our subconverter exists and can handle 'singlebeat'/'singleBeat'/'.sb' files. "
     ]
    },
    {
     "cell_type": "code",
     "collapsed": false,
     "input": [
      "converter.registerSubconverter(SingleBeat)"
     ],
     "language": "python",
     "metadata": {},
     "outputs": [],
     "prompt_number": 4
    },
    {
     "cell_type": "markdown",
     "metadata": {},
     "source": [
      "Now the format is ready to be used through converter.parse() on string data:"
     ]
    },
    {
     "cell_type": "code",
     "collapsed": false,
     "input": [
      "s = converter.parse('CDC DE F GAGB GE C DEFED C', format='singleBeat')\n",
      "s.show('text')"
     ],
     "language": "python",
     "metadata": {},
     "outputs": [
      {
       "output_type": "stream",
       "stream": "stdout",
       "text": [
        "{0.0} <music21.stream.Measure 1 offset=0.0>\n",
        "    {0.0} <music21.clef.TrebleClef>\n",
        "    {0.0} <music21.meter.TimeSignature 4/4>\n",
        "    {0.0} <music21.note.Note C>\n",
        "    {0.3333} <music21.note.Note D>\n",
        "    {0.6667} <music21.note.Note C>\n",
        "    {1.0} <music21.note.Note D>\n",
        "    {1.5} <music21.note.Note E>\n",
        "    {2.0} <music21.note.Note F>\n",
        "    {3.0} <music21.note.Note G>\n",
        "    {3.25} <music21.note.Note A>\n",
        "    {3.5} <music21.note.Note G>\n",
        "    {3.75} <music21.note.Note B>\n",
        "{4.0} <music21.stream.Measure 2 offset=4.0>\n",
        "    {0.0} <music21.note.Note G>\n",
        "    {0.5} <music21.note.Note E>\n",
        "    {1.0} <music21.note.Note C>\n",
        "    {2.0} <music21.note.Note D>\n",
        "    {2.2} <music21.note.Note E>\n",
        "    {2.4} <music21.note.Note F>\n",
        "    {2.6} <music21.note.Note E>\n",
        "    {2.8} <music21.note.Note D>\n",
        "    {3.0} <music21.note.Note C>\n",
        "    {4.0} <music21.bar.Barline style=final>\n"
       ]
      }
     ],
     "prompt_number": 5
    },
    {
     "cell_type": "markdown",
     "metadata": {},
     "source": [
      "Or, singleBeat is now a custom header for parse:"
     ]
    },
    {
     "cell_type": "code",
     "collapsed": false,
     "input": [
      "s = converter.parse('singleBeat: CDC DE F GAGB GE C DEFED C')\n",
      "s[-1][0]"
     ],
     "language": "python",
     "metadata": {},
     "outputs": [
      {
       "metadata": {},
       "output_type": "pyout",
       "prompt_number": 6,
       "text": [
        "<music21.note.Note G>"
       ]
      }
     ],
     "prompt_number": 6
    },
    {
     "cell_type": "markdown",
     "metadata": {},
     "source": [
      "Or we can write out a file and read it in:"
     ]
    },
    {
     "cell_type": "code",
     "collapsed": false,
     "input": [
      "from music21 import environment\n",
      "e = environment.Environment()\n",
      "fp = e.getTempFile('.sb')\n",
      "with open(fp, 'w') as f:\n",
      "    f.write('CDC DE F GAGB GE C DEFED C')\n",
      "    \n",
      "print fp"
     ],
     "language": "python",
     "metadata": {},
     "outputs": [
      {
       "output_type": "stream",
       "stream": "stdout",
       "text": [
        "/var/folders/x5/rymq2tx16lqbpytwb1n_cc4c0000gn/T/music21/tmpUB90FJ.sb\n"
       ]
      }
     ],
     "prompt_number": 7
    },
    {
     "cell_type": "code",
     "collapsed": false,
     "input": [
      "s2 = converter.parse(fp)\n",
      "s2.show('text')"
     ],
     "language": "python",
     "metadata": {},
     "outputs": [
      {
       "output_type": "stream",
       "stream": "stdout",
       "text": [
        "{0.0} <music21.stream.Measure 1 offset=0.0>\n",
        "    {0.0} <music21.clef.TrebleClef>\n",
        "    {0.0} <music21.meter.TimeSignature 4/4>\n",
        "    {0.0} <music21.note.Note C>\n",
        "    {0.3333} <music21.note.Note D>\n",
        "    {0.6667} <music21.note.Note C>\n",
        "    {1.0} <music21.note.Note D>\n",
        "    {1.5} <music21.note.Note E>\n",
        "    {2.0} <music21.note.Note F>\n",
        "    {3.0} <music21.note.Note G>\n",
        "    {3.25} <music21.note.Note A>\n",
        "    {3.5} <music21.note.Note G>\n",
        "    {3.75} <music21.note.Note B>\n",
        "{4.0} <music21.stream.Measure 2 offset=4.0>\n",
        "    {0.0} <music21.note.Note G>\n",
        "    {0.5} <music21.note.Note E>\n",
        "    {1.0} <music21.note.Note C>\n",
        "    {2.0} <music21.note.Note D>\n",
        "    {2.2} <music21.note.Note E>\n",
        "    {2.4} <music21.note.Note F>\n",
        "    {2.6} <music21.note.Note E>\n",
        "    {2.8} <music21.note.Note D>\n",
        "    {3.0} <music21.note.Note C>\n",
        "    {4.0} <music21.bar.Barline style=final>\n"
       ]
      }
     ],
     "prompt_number": 8
    },
    {
     "cell_type": "markdown",
     "metadata": {},
     "source": [
      "If you want to be extra-safe, pass the format in with the parse"
     ]
    },
    {
     "cell_type": "code",
     "collapsed": false,
     "input": [
      "s3 = converter.parse(fp, format='singleBeat')\n",
      "s3"
     ],
     "language": "python",
     "metadata": {},
     "outputs": [
      {
       "metadata": {},
       "output_type": "pyout",
       "prompt_number": 9,
       "text": [
        "<music21.stream.Part 4412381520>"
       ]
      }
     ],
     "prompt_number": 9
    },
    {
     "cell_type": "markdown",
     "metadata": {},
     "source": [
      "SingleBeat will now appear in all places where fileformats are listed:"
     ]
    },
    {
     "cell_type": "code",
     "collapsed": false,
     "input": [
      "from music21 import common\n",
      "common.findFormat('singleBeat')"
     ],
     "language": "python",
     "metadata": {},
     "outputs": [
      {
       "metadata": {},
       "output_type": "pyout",
       "prompt_number": 10,
       "text": [
        "('singlebeat', '.sb')"
       ]
      }
     ],
     "prompt_number": 10
    }
   ],
   "metadata": {}
  }
 ]
}