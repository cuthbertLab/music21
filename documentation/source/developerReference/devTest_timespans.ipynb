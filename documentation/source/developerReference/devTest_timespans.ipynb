{
 "cells": [
  {
   "cell_type": "markdown",
   "metadata": {},
   "source": [
    "# Timespan Demos\n",
    "\n",
    "Work in progress..."
   ]
  },
  {
   "cell_type": "code",
   "execution_count": 1,
   "metadata": {},
   "outputs": [],
   "source": [
    "from music21 import *"
   ]
  },
  {
   "cell_type": "code",
   "execution_count": 2,
   "metadata": {},
   "outputs": [],
   "source": [
    "luca = corpus.parse('luca/gloria').measures(1, 8)"
   ]
  },
  {
   "cell_type": "code",
   "execution_count": 3,
   "metadata": {},
   "outputs": [],
   "source": [
    "tsCol = luca.asTimespans()"
   ]
  },
  {
   "cell_type": "code",
   "execution_count": 4,
   "metadata": {},
   "outputs": [
    {
     "data": {
      "text/plain": [
       "<TimespanTree {189} (0.0 to 24.0) <music21.stream.Score 0x110e59b20>>"
      ]
     },
     "execution_count": 4,
     "metadata": {},
     "output_type": "execute_result"
    }
   ],
   "source": [
    "tsCol"
   ]
  },
  {
   "cell_type": "code",
   "execution_count": 5,
   "metadata": {},
   "outputs": [
    {
     "name": "stdout",
     "output_type": "stream",
     "text": [
      "<music21.tree.verticality.Verticality 0.0 {F3 F4 C5}>\n",
      "<music21.tree.verticality.Verticality 3.0 {F3 F4 D5}>\n",
      "<music21.tree.verticality.Verticality 3.5 {F3 C4 C5}>\n",
      "<music21.tree.verticality.Verticality 4.5 {F3 C4 A4}>\n",
      "<music21.tree.verticality.Verticality 5.0 {F3 C4 F4}>\n",
      "<music21.tree.verticality.Verticality 5.5 {F3 A3 F4}>\n",
      "<music21.tree.verticality.Verticality 6.0 {F3 F4}>\n",
      "<music21.tree.verticality.Verticality 6.5 {F3 F4 A4}>\n",
      "<music21.tree.verticality.Verticality 7.5 {F3 F4 C5}>\n",
      "<music21.tree.verticality.Verticality 8.5 {F3 F4 C5}>\n",
      "<music21.tree.verticality.Verticality 9.0 {C4 E4 G4}>\n",
      "<music21.tree.verticality.Verticality 10.5 {D4 F4 A4}>\n",
      "<music21.tree.verticality.Verticality 12.0 {C4 E4 G4}>\n",
      "<music21.tree.verticality.Verticality 15.0 {G3 G4 D5}>\n",
      "<music21.tree.verticality.Verticality 16.5 {A3 E4 C5}>\n",
      "<music21.tree.verticality.Verticality 17.5 {A3 E4 B4}>\n",
      "<music21.tree.verticality.Verticality 18.0 {D4 F4 A4}>\n",
      "<music21.tree.verticality.Verticality 18.5 {D4 F4 G4}>\n",
      "<music21.tree.verticality.Verticality 19.0 {D4 F4}>\n",
      "<music21.tree.verticality.Verticality 19.5 {C4 E4 G4}>\n",
      "<music21.tree.verticality.Verticality 20.0 {C4 F4 G4}>\n",
      "<music21.tree.verticality.Verticality 20.5 {C4 D4 G4}>\n",
      "<music21.tree.verticality.Verticality 21.0 {C4 E4}>\n",
      "<music21.tree.verticality.Verticality 21.5 {A3 E4}>\n",
      "<music21.tree.verticality.Verticality 22.0 {A3 C4 F4}>\n",
      "<music21.tree.verticality.Verticality 22.5 {B-3 D4 F4}>\n",
      "<music21.tree.verticality.Verticality 23.0 {G3 B-3 D4}>\n",
      "<music21.tree.verticality.Verticality 23.5 {B-3 D4 F4}>\n"
     ]
    }
   ],
   "source": [
    "for v in tsCol.iterateVerticalities():\n",
    "    print(v)"
   ]
  },
  {
   "cell_type": "code",
   "execution_count": 6,
   "metadata": {},
   "outputs": [],
   "source": [
    "v4 = list(tsCol.iterateVerticalities())[4]"
   ]
  },
  {
   "cell_type": "code",
   "execution_count": 7,
   "metadata": {},
   "outputs": [
    {
     "data": {
      "text/plain": [
       "<music21.tree.verticality.Verticality 5.0 {F3 C4 F4}>"
      ]
     },
     "execution_count": 7,
     "metadata": {},
     "output_type": "execute_result"
    }
   ],
   "source": [
    "v4"
   ]
  },
  {
   "cell_type": "code",
   "execution_count": 8,
   "metadata": {},
   "outputs": [
    {
     "data": {
      "text/plain": [
       "{<music21.pitch.Pitch F3>, <music21.pitch.Pitch C4>, <music21.pitch.Pitch F4>}"
      ]
     },
     "execution_count": 8,
     "metadata": {},
     "output_type": "execute_result"
    }
   ],
   "source": [
    "v4.pitchSet"
   ]
  },
  {
   "cell_type": "code",
   "execution_count": 9,
   "metadata": {},
   "outputs": [],
   "source": [
    "f = sorted(v4.pitchSet)[0]"
   ]
  },
  {
   "cell_type": "code",
   "execution_count": 10,
   "metadata": {},
   "outputs": [
    {
     "data": {
      "text/plain": [
       "<music21.pitch.Pitch F3>"
      ]
     },
     "execution_count": 10,
     "metadata": {},
     "output_type": "execute_result"
    }
   ],
   "source": [
    "f"
   ]
  },
  {
   "cell_type": "code",
   "execution_count": 11,
   "metadata": {},
   "outputs": [
    {
     "data": {
      "text/plain": [
       "(<PitchedTimespan (5.0 to 6.0) <music21.note.Note F>>,)"
      ]
     },
     "execution_count": 11,
     "metadata": {},
     "output_type": "execute_result"
    }
   ],
   "source": [
    "v4.startTimespans"
   ]
  },
  {
   "cell_type": "code",
   "execution_count": 12,
   "metadata": {},
   "outputs": [
    {
     "data": {
      "text/plain": [
       "(<PitchedTimespan (4.5 to 5.0) <music21.note.Note A>>,)"
      ]
     },
     "execution_count": 12,
     "metadata": {},
     "output_type": "execute_result"
    }
   ],
   "source": [
    "v4.stopTimespans"
   ]
  },
  {
   "cell_type": "code",
   "execution_count": 13,
   "metadata": {},
   "outputs": [
    {
     "data": {
      "text/plain": [
       "(<PitchedTimespan (3.0 to 6.0) <music21.note.Note F>>,\n",
       " <PitchedTimespan (4.5 to 5.5) <music21.note.Note C>>)"
      ]
     },
     "execution_count": 13,
     "metadata": {},
     "output_type": "execute_result"
    }
   ],
   "source": [
    "v4.overlapTimespans"
   ]
  },
  {
   "cell_type": "code",
   "execution_count": 14,
   "metadata": {},
   "outputs": [],
   "source": [
    "v35 = tsCol.getVerticalityAt(3.5)"
   ]
  },
  {
   "cell_type": "code",
   "execution_count": 15,
   "metadata": {},
   "outputs": [
    {
     "data": {
      "text/plain": [
       "<music21.tree.verticality.Verticality 3.5 {F3 C4 C5}>"
      ]
     },
     "execution_count": 15,
     "metadata": {},
     "output_type": "execute_result"
    }
   ],
   "source": [
    "v35"
   ]
  },
  {
   "cell_type": "code",
   "execution_count": 16,
   "metadata": {},
   "outputs": [
    {
     "data": {
      "text/plain": [
       "(<PitchedTimespan (3.5 to 4.5) <music21.note.Note C>>,\n",
       " <PitchedTimespan (3.5 to 4.5) <music21.note.Note C>>)"
      ]
     },
     "execution_count": 16,
     "metadata": {},
     "output_type": "execute_result"
    }
   ],
   "source": [
    "v35.startTimespans"
   ]
  },
  {
   "cell_type": "code",
   "execution_count": 17,
   "metadata": {},
   "outputs": [
    {
     "data": {
      "text/plain": [
       "(<PitchedTimespan (3.0 to 3.5) <music21.note.Note D>>,\n",
       " <PitchedTimespan (3.0 to 3.5) <music21.note.Note F>>)"
      ]
     },
     "execution_count": 17,
     "metadata": {},
     "output_type": "execute_result"
    }
   ],
   "source": [
    "v35.stopTimespans"
   ]
  },
  {
   "cell_type": "code",
   "execution_count": 18,
   "metadata": {},
   "outputs": [
    {
     "data": {
      "text/plain": [
       "(<PitchedTimespan (3.0 to 6.0) <music21.note.Note F>>,)"
      ]
     },
     "execution_count": 18,
     "metadata": {},
     "output_type": "execute_result"
    }
   ],
   "source": [
    "v35.overlapTimespans"
   ]
  },
  {
   "cell_type": "code",
   "execution_count": 19,
   "metadata": {},
   "outputs": [],
   "source": [
    "elTsC = v35.startTimespans[0]"
   ]
  },
  {
   "cell_type": "code",
   "execution_count": 20,
   "metadata": {},
   "outputs": [
    {
     "data": {
      "text/plain": [
       "(<PitchedTimespan (3.5 to 4.5) <music21.note.Note C>>, <music21.note.Note C>)"
      ]
     },
     "execution_count": 20,
     "metadata": {},
     "output_type": "execute_result"
    }
   ],
   "source": [
    "elTsC, elTsC.element"
   ]
  },
  {
   "cell_type": "markdown",
   "metadata": {},
   "source": [
    "Test previousVerticality with Rest"
   ]
  },
  {
   "cell_type": "code",
   "execution_count": 21,
   "metadata": {},
   "outputs": [],
   "source": [
    "v22 = tsCol.getVerticalityAt(22.0)"
   ]
  },
  {
   "cell_type": "code",
   "execution_count": 22,
   "metadata": {},
   "outputs": [
    {
     "data": {
      "text/plain": [
       "<music21.tree.verticality.Verticality 22.0 {A3 C4 F4}>"
      ]
     },
     "execution_count": 22,
     "metadata": {},
     "output_type": "execute_result"
    }
   ],
   "source": [
    "v22"
   ]
  },
  {
   "cell_type": "code",
   "execution_count": 23,
   "metadata": {},
   "outputs": [
    {
     "data": {
      "text/plain": [
       "(<PitchedTimespan (22.0 to 22.5) <music21.note.Note C>>,\n",
       " <PitchedTimespan (22.0 to 23.0) <music21.note.Note F>>)"
      ]
     },
     "execution_count": 23,
     "metadata": {},
     "output_type": "execute_result"
    }
   ],
   "source": [
    "v22.startTimespans"
   ]
  },
  {
   "cell_type": "code",
   "execution_count": 24,
   "metadata": {},
   "outputs": [
    {
     "data": {
      "text/plain": [
       "<PitchedTimespan (22.0 to 23.0) <music21.note.Note F>>"
      ]
     },
     "execution_count": 24,
     "metadata": {},
     "output_type": "execute_result"
    }
   ],
   "source": [
    "elTSfollowingRest = v22.startTimespans[1]\n",
    "elTSfollowingRest"
   ]
  },
  {
   "cell_type": "code",
   "execution_count": 25,
   "metadata": {},
   "outputs": [
    {
     "data": {
      "text/plain": [
       "(<PitchedTimespan (21.0 to 22.0) <music21.note.Note E>>,\n",
       " <ElementTimespan (21.5 to 22.0) <music21.note.Rest rest>>)"
      ]
     },
     "execution_count": 25,
     "metadata": {},
     "output_type": "execute_result"
    }
   ],
   "source": [
    "v22.stopTimespans"
   ]
  },
  {
   "cell_type": "code",
   "execution_count": 26,
   "metadata": {},
   "outputs": [
    {
     "data": {
      "text/plain": [
       "<music21.stream.Part Cantus>"
      ]
     },
     "execution_count": 26,
     "metadata": {},
     "output_type": "execute_result"
    }
   ],
   "source": [
    "elTSfollowingRest.part"
   ]
  },
  {
   "cell_type": "code",
   "execution_count": 27,
   "metadata": {},
   "outputs": [
    {
     "data": {
      "image/png": "[encoded data removed]",
      "text/plain": [
       "<IPython.core.display.Image object>"
      ]
     },
     "metadata": {
      "image/png": {
       "height": 115,
       "width": 674
      }
     },
     "output_type": "display_data"
    }
   ],
   "source": [
    "score = tree.makeExampleScore()\n",
    "score.show()"
   ]
  },
  {
   "cell_type": "code",
   "execution_count": 28,
   "metadata": {},
   "outputs": [],
   "source": [
    "tsColSmall = score.asTimespans()"
   ]
  },
  {
   "cell_type": "code",
   "execution_count": 29,
   "metadata": {
    "tags": [
     "nbval-raises-exception"
    ]
   },
   "outputs": [
    {
     "name": "stdout",
     "output_type": "stream",
     "text": [
      "<music21.tree.verticality.Verticality 0.0 {C3 C#3}>\n"
     ]
    },
    {
     "ename": "TimespanTreeException",
     "evalue": "PitchedTimespan <ElementTimespan (0.0 to 0.0) <music21.clef.BassClef>>, must be an PitchedTimespan",
     "output_type": "error",
     "traceback": [
      "\u001b[0;31m---------------------------------------------------------------------------\u001b[0m",
      "\u001b[0;31mTimespanTreeException\u001b[0m                     Traceback (most recent call last)",
      "\u001b[0;32m<ipython-input-29-4244ee6be833>\u001b[0m in \u001b[0;36m<module>\u001b[0;34m\u001b[0m\n\u001b[1;32m      2\u001b[0m     \u001b[0;32mif\u001b[0m \u001b[0mv\u001b[0m\u001b[0;34m:\u001b[0m\u001b[0;34m\u001b[0m\u001b[0;34m\u001b[0m\u001b[0m\n\u001b[1;32m      3\u001b[0m         \u001b[0mprint\u001b[0m\u001b[0;34m(\u001b[0m\u001b[0mv\u001b[0m\u001b[0;34m)\u001b[0m\u001b[0;34m\u001b[0m\u001b[0;34m\u001b[0m\u001b[0m\n\u001b[0;32m----> 4\u001b[0;31m         \u001b[0mprint\u001b[0m\u001b[0;34m(\u001b[0m\u001b[0mv\u001b[0m\u001b[0;34m.\u001b[0m\u001b[0mgetAllVoiceLeadingQuartets\u001b[0m\u001b[0;34m(\u001b[0m\u001b[0;34m)\u001b[0m\u001b[0;34m)\u001b[0m\u001b[0;34m\u001b[0m\u001b[0;34m\u001b[0m\u001b[0m\n\u001b[0m\u001b[1;32m      5\u001b[0m \u001b[0;34m\u001b[0m\u001b[0m\n",
      "\u001b[0;32m~/git/music21base/music21/tree/verticality.py\u001b[0m in \u001b[0;36mgetAllVoiceLeadingQuartets\u001b[0;34m(self, includeRests, includeOblique, includeNoMotion, returnObjects, partPairNumbers)\u001b[0m\n\u001b[1;32m    941\u001b[0m         '''\n\u001b[1;32m    942\u001b[0m         \u001b[0;32mfrom\u001b[0m \u001b[0mmusic21\u001b[0m\u001b[0;34m.\u001b[0m\u001b[0mvoiceLeading\u001b[0m \u001b[0;32mimport\u001b[0m \u001b[0mVoiceLeadingQuartet\u001b[0m\u001b[0;34m\u001b[0m\u001b[0;34m\u001b[0m\u001b[0m\n\u001b[0;32m--> 943\u001b[0;31m         pairedMotionList = self.getPairedMotion(includeRests=includeRests,\n\u001b[0m\u001b[1;32m    944\u001b[0m                                                 includeOblique=includeOblique)\n\u001b[1;32m    945\u001b[0m         \u001b[0mallQuartets\u001b[0m \u001b[0;34m=\u001b[0m \u001b[0mitertools\u001b[0m\u001b[0;34m.\u001b[0m\u001b[0mcombinations\u001b[0m\u001b[0;34m(\u001b[0m\u001b[0mpairedMotionList\u001b[0m\u001b[0;34m,\u001b[0m \u001b[0;36m2\u001b[0m\u001b[0;34m)\u001b[0m\u001b[0;34m\u001b[0m\u001b[0;34m\u001b[0m\u001b[0m\n",
      "\u001b[0;32m~/git/music21base/music21/tree/verticality.py\u001b[0m in \u001b[0;36mgetPairedMotion\u001b[0;34m(self, includeRests, includeOblique)\u001b[0m\n\u001b[1;32m   1036\u001b[0m \u001b[0;34m\u001b[0m\u001b[0m\n\u001b[1;32m   1037\u001b[0m         \u001b[0;32mfor\u001b[0m \u001b[0mstartingTs\u001b[0m \u001b[0;32min\u001b[0m \u001b[0mstartTss\u001b[0m\u001b[0;34m:\u001b[0m\u001b[0;34m\u001b[0m\u001b[0;34m\u001b[0m\u001b[0m\n\u001b[0;32m-> 1038\u001b[0;31m             previousTs = self.timespanTree.findPreviousPitchedTimespanInSameStreamByClass(\n\u001b[0m\u001b[1;32m   1039\u001b[0m                 startingTs)\n\u001b[1;32m   1040\u001b[0m             \u001b[0;32mif\u001b[0m \u001b[0mpreviousTs\u001b[0m \u001b[0;32mis\u001b[0m \u001b[0;32mNone\u001b[0m\u001b[0;34m:\u001b[0m\u001b[0;34m\u001b[0m\u001b[0;34m\u001b[0m\u001b[0m\n",
      "\u001b[0;32m~/git/music21base/music21/tree/timespanTree.py\u001b[0m in \u001b[0;36mfindPreviousPitchedTimespanInSameStreamByClass\u001b[0;34m(self, pitchedTimespan, classList)\u001b[0m\n\u001b[1;32m    301\u001b[0m         \u001b[0;32mif\u001b[0m \u001b[0;32mnot\u001b[0m \u001b[0misinstance\u001b[0m\u001b[0;34m(\u001b[0m\u001b[0mpitchedTimespan\u001b[0m\u001b[0;34m,\u001b[0m \u001b[0mspans\u001b[0m\u001b[0;34m.\u001b[0m\u001b[0mPitchedTimespan\u001b[0m\u001b[0;34m)\u001b[0m\u001b[0;34m:\u001b[0m\u001b[0;34m\u001b[0m\u001b[0;34m\u001b[0m\u001b[0m\n\u001b[1;32m    302\u001b[0m             \u001b[0mmessage\u001b[0m \u001b[0;34m=\u001b[0m \u001b[0;34mf'PitchedTimespan {pitchedTimespan!r}, must be an PitchedTimespan'\u001b[0m\u001b[0;34m\u001b[0m\u001b[0;34m\u001b[0m\u001b[0m\n\u001b[0;32m--> 303\u001b[0;31m             \u001b[0;32mraise\u001b[0m \u001b[0mTimespanTreeException\u001b[0m\u001b[0;34m(\u001b[0m\u001b[0mmessage\u001b[0m\u001b[0;34m)\u001b[0m\u001b[0;34m\u001b[0m\u001b[0;34m\u001b[0m\u001b[0m\n\u001b[0m\u001b[1;32m    304\u001b[0m         \u001b[0mverticality\u001b[0m \u001b[0;34m=\u001b[0m \u001b[0mself\u001b[0m\u001b[0;34m.\u001b[0m\u001b[0mgetVerticalityAt\u001b[0m\u001b[0;34m(\u001b[0m\u001b[0mpitchedTimespan\u001b[0m\u001b[0;34m.\u001b[0m\u001b[0moffset\u001b[0m\u001b[0;34m)\u001b[0m\u001b[0;34m\u001b[0m\u001b[0;34m\u001b[0m\u001b[0m\n\u001b[1;32m    305\u001b[0m         \u001b[0;32mwhile\u001b[0m \u001b[0mverticality\u001b[0m \u001b[0;32mis\u001b[0m \u001b[0;32mnot\u001b[0m \u001b[0;32mNone\u001b[0m\u001b[0;34m:\u001b[0m\u001b[0;34m\u001b[0m\u001b[0;34m\u001b[0m\u001b[0m\n",
      "\u001b[0;31mTimespanTreeException\u001b[0m: PitchedTimespan <ElementTimespan (0.0 to 0.0) <music21.clef.BassClef>>, must be an PitchedTimespan"
     ]
    }
   ],
   "source": [
    "for v in tsColSmall.iterateVerticalities():\n",
    "    if v:\n",
    "        print(v)\n",
    "        print(v.getAllVoiceLeadingQuartets())\n",
    "    "
   ]
  },
  {
   "cell_type": "code",
   "execution_count": 30,
   "metadata": {},
   "outputs": [],
   "source": [
    "lucaAll = corpus.parse('luca/gloria')\n",
    "tsCol = lucaAll.asTimespans()"
   ]
  },
  {
   "cell_type": "code",
   "execution_count": 31,
   "metadata": {
    "tags": [
     "nbval-raises-exception"
    ]
   },
   "outputs": [
    {
     "ename": "TimespanTreeException",
     "evalue": "PitchedTimespan <ElementTimespan (0.0 to 0.0) <music21.text.TextBox '1'>>, must be an PitchedTimespan",
     "output_type": "error",
     "traceback": [
      "\u001b[0;31m---------------------------------------------------------------------------\u001b[0m",
      "\u001b[0;31mTimespanTreeException\u001b[0m                     Traceback (most recent call last)",
      "\u001b[0;32m<ipython-input-31-ab857b8a0fd8>\u001b[0m in \u001b[0;36m<module>\u001b[0;34m\u001b[0m\n\u001b[1;32m      1\u001b[0m \u001b[0;32mfor\u001b[0m \u001b[0mv\u001b[0m \u001b[0;32min\u001b[0m \u001b[0mtsCol\u001b[0m\u001b[0;34m.\u001b[0m\u001b[0miterateVerticalities\u001b[0m\u001b[0;34m(\u001b[0m\u001b[0;34m)\u001b[0m\u001b[0;34m:\u001b[0m\u001b[0;34m\u001b[0m\u001b[0;34m\u001b[0m\u001b[0m\n\u001b[0;32m----> 2\u001b[0;31m     \u001b[0mvlqs\u001b[0m \u001b[0;34m=\u001b[0m \u001b[0mv\u001b[0m\u001b[0;34m.\u001b[0m\u001b[0mgetAllVoiceLeadingQuartets\u001b[0m\u001b[0;34m(\u001b[0m\u001b[0;34m)\u001b[0m\u001b[0;34m\u001b[0m\u001b[0;34m\u001b[0m\u001b[0m\n\u001b[0m",
      "\u001b[0;32m~/git/music21base/music21/tree/verticality.py\u001b[0m in \u001b[0;36mgetAllVoiceLeadingQuartets\u001b[0;34m(self, includeRests, includeOblique, includeNoMotion, returnObjects, partPairNumbers)\u001b[0m\n\u001b[1;32m    941\u001b[0m         '''\n\u001b[1;32m    942\u001b[0m         \u001b[0;32mfrom\u001b[0m \u001b[0mmusic21\u001b[0m\u001b[0;34m.\u001b[0m\u001b[0mvoiceLeading\u001b[0m \u001b[0;32mimport\u001b[0m \u001b[0mVoiceLeadingQuartet\u001b[0m\u001b[0;34m\u001b[0m\u001b[0;34m\u001b[0m\u001b[0m\n\u001b[0;32m--> 943\u001b[0;31m         pairedMotionList = self.getPairedMotion(includeRests=includeRests,\n\u001b[0m\u001b[1;32m    944\u001b[0m                                                 includeOblique=includeOblique)\n\u001b[1;32m    945\u001b[0m         \u001b[0mallQuartets\u001b[0m \u001b[0;34m=\u001b[0m \u001b[0mitertools\u001b[0m\u001b[0;34m.\u001b[0m\u001b[0mcombinations\u001b[0m\u001b[0;34m(\u001b[0m\u001b[0mpairedMotionList\u001b[0m\u001b[0;34m,\u001b[0m \u001b[0;36m2\u001b[0m\u001b[0;34m)\u001b[0m\u001b[0;34m\u001b[0m\u001b[0;34m\u001b[0m\u001b[0m\n",
      "\u001b[0;32m~/git/music21base/music21/tree/verticality.py\u001b[0m in \u001b[0;36mgetPairedMotion\u001b[0;34m(self, includeRests, includeOblique)\u001b[0m\n\u001b[1;32m   1036\u001b[0m \u001b[0;34m\u001b[0m\u001b[0m\n\u001b[1;32m   1037\u001b[0m         \u001b[0;32mfor\u001b[0m \u001b[0mstartingTs\u001b[0m \u001b[0;32min\u001b[0m \u001b[0mstartTss\u001b[0m\u001b[0;34m:\u001b[0m\u001b[0;34m\u001b[0m\u001b[0;34m\u001b[0m\u001b[0m\n\u001b[0;32m-> 1038\u001b[0;31m             previousTs = self.timespanTree.findPreviousPitchedTimespanInSameStreamByClass(\n\u001b[0m\u001b[1;32m   1039\u001b[0m                 startingTs)\n\u001b[1;32m   1040\u001b[0m             \u001b[0;32mif\u001b[0m \u001b[0mpreviousTs\u001b[0m \u001b[0;32mis\u001b[0m \u001b[0;32mNone\u001b[0m\u001b[0;34m:\u001b[0m\u001b[0;34m\u001b[0m\u001b[0;34m\u001b[0m\u001b[0m\n",
      "\u001b[0;32m~/git/music21base/music21/tree/timespanTree.py\u001b[0m in \u001b[0;36mfindPreviousPitchedTimespanInSameStreamByClass\u001b[0;34m(self, pitchedTimespan, classList)\u001b[0m\n\u001b[1;32m    301\u001b[0m         \u001b[0;32mif\u001b[0m \u001b[0;32mnot\u001b[0m \u001b[0misinstance\u001b[0m\u001b[0;34m(\u001b[0m\u001b[0mpitchedTimespan\u001b[0m\u001b[0;34m,\u001b[0m \u001b[0mspans\u001b[0m\u001b[0;34m.\u001b[0m\u001b[0mPitchedTimespan\u001b[0m\u001b[0;34m)\u001b[0m\u001b[0;34m:\u001b[0m\u001b[0;34m\u001b[0m\u001b[0;34m\u001b[0m\u001b[0m\n\u001b[1;32m    302\u001b[0m             \u001b[0mmessage\u001b[0m \u001b[0;34m=\u001b[0m \u001b[0;34mf'PitchedTimespan {pitchedTimespan!r}, must be an PitchedTimespan'\u001b[0m\u001b[0;34m\u001b[0m\u001b[0;34m\u001b[0m\u001b[0m\n\u001b[0;32m--> 303\u001b[0;31m             \u001b[0;32mraise\u001b[0m \u001b[0mTimespanTreeException\u001b[0m\u001b[0;34m(\u001b[0m\u001b[0mmessage\u001b[0m\u001b[0;34m)\u001b[0m\u001b[0;34m\u001b[0m\u001b[0;34m\u001b[0m\u001b[0m\n\u001b[0m\u001b[1;32m    304\u001b[0m         \u001b[0mverticality\u001b[0m \u001b[0;34m=\u001b[0m \u001b[0mself\u001b[0m\u001b[0;34m.\u001b[0m\u001b[0mgetVerticalityAt\u001b[0m\u001b[0;34m(\u001b[0m\u001b[0mpitchedTimespan\u001b[0m\u001b[0;34m.\u001b[0m\u001b[0moffset\u001b[0m\u001b[0;34m)\u001b[0m\u001b[0;34m\u001b[0m\u001b[0;34m\u001b[0m\u001b[0m\n\u001b[1;32m    305\u001b[0m         \u001b[0;32mwhile\u001b[0m \u001b[0mverticality\u001b[0m \u001b[0;32mis\u001b[0m \u001b[0;32mnot\u001b[0m \u001b[0;32mNone\u001b[0m\u001b[0;34m:\u001b[0m\u001b[0;34m\u001b[0m\u001b[0;34m\u001b[0m\u001b[0m\n",
      "\u001b[0;31mTimespanTreeException\u001b[0m: PitchedTimespan <ElementTimespan (0.0 to 0.0) <music21.text.TextBox '1'>>, must be an PitchedTimespan"
     ]
    }
   ],
   "source": [
    "for v in tsCol.iterateVerticalities():\n",
    "    vlqs = v.getAllVoiceLeadingQuartets()"
   ]
  },
  {
   "cell_type": "code",
   "execution_count": 32,
   "metadata": {},
   "outputs": [],
   "source": [
    "bach = corpus.parse('bwv66.6')"
   ]
  },
  {
   "cell_type": "code",
   "execution_count": 33,
   "metadata": {},
   "outputs": [],
   "source": [
    "meterCol = lucaAll.parts[0].asTimespans(classList=(meter.TimeSignature,))"
   ]
  },
  {
   "cell_type": "code",
   "execution_count": 34,
   "metadata": {},
   "outputs": [
    {
     "data": {
      "text/plain": [
       "<TimespanTree {4} (0.0 to 275.0) <music21.stream.Part Cantus>>"
      ]
     },
     "execution_count": 34,
     "metadata": {},
     "output_type": "execute_result"
    }
   ],
   "source": [
    "meterCol"
   ]
  },
  {
   "cell_type": "code",
   "execution_count": 35,
   "metadata": {},
   "outputs": [
    {
     "name": "stdout",
     "output_type": "stream",
     "text": [
      "<TimespanTree {4} (0.0 to 275.0) <music21.stream.Part Cantus>>\n",
      "\t<ElementTimespan (0.0 to 0.0) <music21.meter.TimeSignature 6/8>>\n",
      "\t<ElementTimespan (81.0 to 81.0) <music21.meter.TimeSignature 2/4>>\n",
      "\t<ElementTimespan (185.0 to 185.0) <music21.meter.TimeSignature 6/8>>\n",
      "\t<ElementTimespan (275.0 to 275.0) <music21.meter.TimeSignature 3/4>>\n"
     ]
    }
   ],
   "source": [
    "print(meterCol)"
   ]
  },
  {
   "cell_type": "code",
   "execution_count": 36,
   "metadata": {},
   "outputs": [
    {
     "data": {
      "image/png": "[encoded data removed]",
      "text/plain": [
       "<IPython.core.display.Image object>"
      ]
     },
     "metadata": {
      "image/png": {
       "height": 160,
       "width": 674
      }
     },
     "output_type": "display_data"
    }
   ],
   "source": [
    "c = corpus.parse('7thRegimentReel')\n",
    "c.measures(0, 3).show()"
   ]
  },
  {
   "cell_type": "code",
   "execution_count": 37,
   "metadata": {},
   "outputs": [
    {
     "name": "stdout",
     "output_type": "stream",
     "text": [
      "⠀⠀⠀⠀⠀⠀⠀⠀⠀⠀⠀⠀⠀⠀⠩⠩⠩⠼⠃⠲⠀⠀⠀⠀⠀⠀⠀⠀⠀⠀⠀⠀⠀\n",
      "⠼⠚⠀⠐⠊⠮⠉⠽⠯⠐⠊⠙⠋⠀⠮⠨⠽⠯⠮⠙⠾⠉⠮⠀⠿⠊⠋⠊⠨⠽⠋⠊⠛\n",
      "⠀⠀⠨⠯⠙⠚⠊⠿⠊⠋⠙⠀⠊⠐⠮⠉⠽⠯⠐⠊⠙⠋⠀⠮⠨⠽⠯⠮⠙⠾⠉⠮\n",
      "⠀⠀⠨⠿⠊⠋⠊⠨⠽⠋⠛⠋\n"
     ]
    }
   ],
   "source": [
    "c.measures(0, 6).show('braille')"
   ]
  },
  {
   "cell_type": "code",
   "execution_count": null,
   "metadata": {
    "collapsed": true
   },
   "outputs": [],
   "source": []
  }
 ],
 "metadata": {
  "anaconda-cloud": {},
  "celltoolbar": "Tags",
  "kernelspec": {
   "display_name": "Python 3",
   "language": "python",
   "name": "python3"
  },
  "language_info": {
   "codemirror_mode": {
    "name": "ipython",
    "version": 3
   },
   "file_extension": ".py",
   "mimetype": "text/x-python",
   "name": "python",
   "nbconvert_exporter": "python",
   "pygments_lexer": "ipython3",
   "version": "3.8.1"
  }
 },
 "nbformat": 4,
 "nbformat_minor": 1
}
