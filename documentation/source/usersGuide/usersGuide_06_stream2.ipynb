{
 "cells": [
  {
   "cell_type": "markdown",
   "metadata": {},
   "source": [
    "# User's Guide, Chapter 6: Streams (II): Hierarchies, Recursion, and Flattening"
   ]
  },
  {
   "cell_type": "markdown",
   "metadata": {
    "sphinx_links": {
     "any": true
    }
   },
   "source": [
    "We ended Chapter 4 (:ref:`Streams (I) <usersGuide_04_stream1>`.) with a :class:`~music21.stream.Stream` that was\n",
    "contained within another `Stream` object.  Let's recreate that class:"
   ]
  },
  {
   "cell_type": "code",
   "execution_count": 1,
   "metadata": {},
   "outputs": [],
   "source": [
    "from music21 import *\n",
    "\n",
    "note1 = note.Note(\"C4\")\n",
    "note1.duration.type = 'half'\n",
    "note2 = note.Note(\"F#4\")\n",
    "note3 = note.Note(\"B-2\")\n",
    "\n",
    "stream1 = stream.Stream()\n",
    "stream1.id = 'some notes'\n",
    "stream1.append(note1)\n",
    "stream1.append(note2)\n",
    "stream1.append(note3)\n",
    "\n",
    "biggerStream = stream.Stream()\n",
    "note2 = note.Note(\"D#5\")\n",
    "biggerStream.insert(0, note2)\n",
    "biggerStream.append(stream1)"
   ]
  },
  {
   "cell_type": "markdown",
   "metadata": {},
   "source": [
    "The only way to find out what was in the contained\n",
    "Stream that we demonstrated so far was the :meth:`~music21.base.Music21Object.show` method\n",
    "using the `('text')` argument."
   ]
  },
  {
   "cell_type": "code",
   "execution_count": 2,
   "metadata": {},
   "outputs": [
    {
     "name": "stdout",
     "output_type": "stream",
     "text": [
      "{0.0} <music21.note.Note D#>\n",
      "{1.0} <music21.stream.Stream some notes>\n",
      "    {0.0} <music21.note.Note C>\n",
      "    {2.0} <music21.note.Note F#>\n",
      "    {3.0} <music21.note.Note B->\n"
     ]
    }
   ],
   "source": [
    "biggerStream.show('text')"
   ]
  },
  {
   "cell_type": "markdown",
   "metadata": {},
   "source": [
    "As Chapter 4 noted, there's a way to reach the inner notes such as `F#` via the `biggerStream[1][1]` format, but there's a better way to do that in music21, and for that we need to learn about subclasses of Streams and subclasses in general. (Skip this if you already know about such things from other programming experience)"
   ]
  },
  {
   "cell_type": "markdown",
   "metadata": {},
   "source": [
    "## Classes and Subclasses"
   ]
  },
  {
   "cell_type": "markdown",
   "metadata": {},
   "source": [
    "An object, such as a note or pitch, is basically a collection of information along with some actions that can be performed on that information.  A class is something that can make new objects of a certain type (sometimes this is called a factory).  We've seen classes such as the `note.Note` class, where the lowercase `note` is the \"module\" that the class `Note` lives in:"
   ]
  },
  {
   "cell_type": "code",
   "execution_count": 3,
   "metadata": {},
   "outputs": [
    {
     "name": "stdout",
     "output_type": "stream",
     "text": [
      "<module 'music21.note' from '/Users/cuthbert/music21/note.py'>\n"
     ]
    }
   ],
   "source": [
    "#_DOCS_SHOW note\n",
    "print(\"<module 'music21.note' from '/Users/cuthbert/music21/note.py'>\") #_DOCS_HIDE"
   ]
  },
  {
   "cell_type": "code",
   "execution_count": 4,
   "metadata": {},
   "outputs": [
    {
     "name": "stdout",
     "output_type": "stream",
     "text": [
      "<class 'music21.note.Note'>\n"
     ]
    }
   ],
   "source": [
    "print(note.Note)"
   ]
  },
  {
   "cell_type": "markdown",
   "metadata": {},
   "source": [
    "We create an object from a class by using the class name with `()` after it:"
   ]
  },
  {
   "cell_type": "code",
   "execution_count": 5,
   "metadata": {},
   "outputs": [
    {
     "data": {
      "text/plain": [
       "<music21.note.Note C>"
      ]
     },
     "execution_count": 5,
     "metadata": {},
     "output_type": "execute_result"
    }
   ],
   "source": [
    "n = note.Note()\n",
    "n"
   ]
  },
  {
   "cell_type": "markdown",
   "metadata": {},
   "source": [
    "As we've seen, we can sometimes put additional information into the `()`, such as a pitch name in the case of a `Note`:"
   ]
  },
  {
   "cell_type": "code",
   "execution_count": 6,
   "metadata": {},
   "outputs": [
    {
     "data": {
      "text/plain": [
       "<music21.note.Note D#>"
      ]
     },
     "execution_count": 6,
     "metadata": {},
     "output_type": "execute_result"
    }
   ],
   "source": [
    "d = note.Note('D#5')\n",
    "d"
   ]
  },
  {
   "cell_type": "markdown",
   "metadata": {},
   "source": [
    "The variable `d` is now a `Note` object created from the `Note` class.  It's all a bit confusing, I know.  But we'll get to the point in a second.  If you want to find out more about what a `Note` object can do, the best thing is to read the `music21` instruction manual. :-) But for any class in Python, you can use the function `help(Class)` to find out what it can do:"
   ]
  },
  {
   "cell_type": "code",
   "execution_count": 7,
   "metadata": {},
   "outputs": [],
   "source": [
    "#_DOCS_SHOW help(note.Note)"
   ]
  },
  {
   "cell_type": "raw",
   "metadata": {},
   "source": [
    "::\n",
    "\n",
    "    Help on class Note in module music21.note:\n",
    "    \n",
    "    class Note(NotRest)\n",
    "    |  One of the most important music21 classes, a Note\n",
    "    |  stores a single note (that is, not a rest or an unpitched element)\n",
    "    |  that can be represented by one or more notational units -- so\n",
    "    |  for instance a C quarter-note and a D# eighth-tied-to-32nd are both\n",
    "    |  a single Note object.\n",
    "    |  \n",
    "    |  *** ............ ***\n",
    "    |  \n",
    "    |  Method resolution order:\n",
    "    |      Note\n",
    "    |      NotRest\n",
    "    |      GeneralNote\n",
    "    |      music21.base.Music21Object\n",
    "    |      builtins.object\n"
   ]
  },
  {
   "cell_type": "markdown",
   "metadata": {},
   "source": [
    "Notice towards the very top there's the line `class Note(NotRest)`.  This says that the `Note` class is a \"subclass\" of a class called `NotRest` which contains all the information for note-like things such as `Note`, `Unpitched` percussion, and `Chord` that have stems, beams, etc. and are, well, not rests.  (Chris Ariza and I spent over an hour trying to come up with a better name for these things, but in the end we couldn't come up with anything better than `NotRest`, so it's stuck).\n",
    "\n",
    "What does it mean for `Note` to be a subclass of `NotRest`? It means that everything that `NotRest` can do, `Note` can do, and more. For instance, `NotRest` has a `.beams` property, so so does `Note`:"
   ]
  },
  {
   "cell_type": "code",
   "execution_count": 8,
   "metadata": {},
   "outputs": [
    {
     "name": "stdout",
     "output_type": "stream",
     "text": [
      "<music21.beam.Beams> <music21.beam.Beams>\n"
     ]
    }
   ],
   "source": [
    "nr = note.NotRest()\n",
    "n = note.Note()\n",
    "print(nr.beams, n.beams)"
   ]
  },
  {
   "cell_type": "markdown",
   "metadata": {},
   "source": [
    "But `Rest` is not a subclass of `NotRest` for obvious reasons. So a rest doesn't know anything about beams:"
   ]
  },
  {
   "cell_type": "code",
   "execution_count": 9,
   "metadata": {
    "tags": [
     "nbval-raises-exception"
    ]
   },
   "outputs": [
    {
     "ename": "AttributeError",
     "evalue": "'Rest' object has no attribute 'beams'",
     "output_type": "error",
     "traceback": [
      "\u001b[0;31m---------------------------------------------------------------------------\u001b[0m",
      "\u001b[0;31mAttributeError\u001b[0m                            Traceback (most recent call last)",
      "\u001b[0;32m<ipython-input-9-4bd9333adfec>\u001b[0m in \u001b[0;36m<module>\u001b[0;34m\u001b[0m\n\u001b[1;32m      1\u001b[0m \u001b[0mr\u001b[0m \u001b[0;34m=\u001b[0m \u001b[0mnote\u001b[0m\u001b[0;34m.\u001b[0m\u001b[0mRest\u001b[0m\u001b[0;34m(\u001b[0m\u001b[0;34m)\u001b[0m\u001b[0;34m\u001b[0m\u001b[0;34m\u001b[0m\u001b[0m\n\u001b[0;32m----> 2\u001b[0;31m \u001b[0mr\u001b[0m\u001b[0;34m.\u001b[0m\u001b[0mbeams\u001b[0m\u001b[0;34m\u001b[0m\u001b[0;34m\u001b[0m\u001b[0m\n\u001b[0m",
      "\u001b[0;31mAttributeError\u001b[0m: 'Rest' object has no attribute 'beams'"
     ]
    }
   ],
   "source": [
    "r = note.Rest()\n",
    "r.beams"
   ]
  },
  {
   "cell_type": "markdown",
   "metadata": {},
   "source": [
    "But `Note` has properties that `NotRest` does not, such as `.pitch`:"
   ]
  },
  {
   "cell_type": "code",
   "execution_count": 10,
   "metadata": {
    "tags": [
     "nbval-raises-exception"
    ]
   },
   "outputs": [
    {
     "ename": "AttributeError",
     "evalue": "'NotRest' object has no attribute 'pitch'",
     "output_type": "error",
     "traceback": [
      "\u001b[0;31m---------------------------------------------------------------------------\u001b[0m",
      "\u001b[0;31mAttributeError\u001b[0m                            Traceback (most recent call last)",
      "\u001b[0;32m<ipython-input-10-8983548bdf55>\u001b[0m in \u001b[0;36m<module>\u001b[0;34m\u001b[0m\n\u001b[0;32m----> 1\u001b[0;31m \u001b[0mprint\u001b[0m\u001b[0;34m(\u001b[0m\u001b[0mnr\u001b[0m\u001b[0;34m.\u001b[0m\u001b[0mpitch\u001b[0m\u001b[0;34m)\u001b[0m\u001b[0;34m\u001b[0m\u001b[0;34m\u001b[0m\u001b[0m\n\u001b[0m",
      "\u001b[0;31mAttributeError\u001b[0m: 'NotRest' object has no attribute 'pitch'"
     ]
    }
   ],
   "source": [
    "print(nr.pitch)"
   ]
  },
  {
   "cell_type": "markdown",
   "metadata": {},
   "source": [
    "So classes and subclasses are a great way of making sure that things that are mostly similar have many of the same properties, but that they can have their own distinct information (`attributes`) and actions (`methods`).  Just FYI, here's how we create a subclass.  We can create a Class called `Japan` and then a subclass called `Okinawa` (my ancestral home) which has an additional attribute."
   ]
  },
  {
   "cell_type": "code",
   "execution_count": 14,
   "metadata": {},
   "outputs": [],
   "source": [
    "class Japan:\n",
    "    food = \"sushi\"\n",
    "    drink = \"sake\"\n",
    "    \n",
    "class Okinawa(Japan):\n",
    "    evenBetterFood = \"spam potstickers\""
   ]
  },
  {
   "cell_type": "markdown",
   "metadata": {},
   "source": [
    "The `(Japan)` in the class definition of `Okinawa` means that it inherits everything that Japan has and more:"
   ]
  },
  {
   "cell_type": "code",
   "execution_count": 15,
   "metadata": {},
   "outputs": [
    {
     "name": "stdout",
     "output_type": "stream",
     "text": [
      "sushi sake spam potstickers\n"
     ]
    }
   ],
   "source": [
    "o = Okinawa() \n",
    "print(o.food, o.drink, o.evenBetterFood)"
   ]
  },
  {
   "cell_type": "markdown",
   "metadata": {},
   "source": [
    "But the joy of spam gyoza has not come to the mainland yet:"
   ]
  },
  {
   "cell_type": "code",
   "execution_count": 16,
   "metadata": {
    "tags": [
     "nbval-raises-exception"
    ]
   },
   "outputs": [
    {
     "ename": "AttributeError",
     "evalue": "'Japan' object has no attribute 'evenBetterFood'",
     "output_type": "error",
     "traceback": [
      "\u001b[0;31m---------------------------------------------------------------------------\u001b[0m",
      "\u001b[0;31mAttributeError\u001b[0m                            Traceback (most recent call last)",
      "\u001b[0;32m<ipython-input-16-0ff50ac88c25>\u001b[0m in \u001b[0;36m<module>\u001b[0;34m\u001b[0m\n\u001b[1;32m      1\u001b[0m \u001b[0mj\u001b[0m \u001b[0;34m=\u001b[0m \u001b[0mJapan\u001b[0m\u001b[0;34m(\u001b[0m\u001b[0;34m)\u001b[0m\u001b[0;34m\u001b[0m\u001b[0;34m\u001b[0m\u001b[0m\n\u001b[0;32m----> 2\u001b[0;31m \u001b[0mprint\u001b[0m\u001b[0;34m(\u001b[0m\u001b[0mj\u001b[0m\u001b[0;34m.\u001b[0m\u001b[0mevenBetterFood\u001b[0m\u001b[0;34m)\u001b[0m\u001b[0;34m\u001b[0m\u001b[0;34m\u001b[0m\u001b[0m\n\u001b[0m",
      "\u001b[0;31mAttributeError\u001b[0m: 'Japan' object has no attribute 'evenBetterFood'"
     ]
    }
   ],
   "source": [
    "j = Japan()\n",
    "print(j.evenBetterFood)"
   ]
  },
  {
   "cell_type": "markdown",
   "metadata": {},
   "source": [
    "So this is how subclasses work in a nutshell.  The first subclasses we will be working with are the three fundamental subclasses of `Stream`: `Score`, `Part`, and `Measure`."
   ]
  },
  {
   "cell_type": "markdown",
   "metadata": {},
   "source": [
    "## Accessing Scores, Parts, Measures, and Notes"
   ]
  },
  {
   "cell_type": "markdown",
   "metadata": {},
   "source": [
    "Streams provide a way to structure and position music21 objects both hierarchically and temporally. A Stream, or a Stream subclass such as :class:`~music21.stream.Measure`, can be placed within another Stream. \n",
    "\n",
    "A common arrangement of nested Streams is a \n",
    ":class:`~music21.stream.Score` Stream containing one or more \n",
    ":class:`~music21.stream.Part` Streams, each Part Stream in turn containing one \n",
    "or more :class:`~music21.stream.Measure` Streams. \n",
    "\n",
    "Such an arrangement of Stream objects is the common way musical scores are represented in music21. For example, importing a four-part chorale by J. S. Bach will provide a Score object with four Part Streams, each Part containing multiple Measure objects. Music21 comes with a :ref:`moduleCorpus` module that provides access to a large collection of scores, including all the Bach chorales. We can parse the score from the corpus with the :func:`~music21.corpus.parse` function, which we will discuss more in a bit.\n"
   ]
  },
  {
   "cell_type": "code",
   "execution_count": 17,
   "metadata": {},
   "outputs": [],
   "source": [
    "sBach = corpus.parse('bach/bwv57.8')"
   ]
  },
  {
   "cell_type": "markdown",
   "metadata": {},
   "source": [
    "We can access and examine elements at each level of this Score by using standard Python syntax \n",
    "for lists within lists. Thus, we can see the length of each component: \n",
    "first the Score which has six elements:  a :class:`~music21.metadata.Metadata` object, a :class:`~music21.layout.StaffGroup` object, and four :class:`~music21.stream.Part` objects.\n",
    "Then we find the length of first Part at index three which indicates 14 objects (13 of them are measures).  \n",
    "Then within that part we find an object (a Measure) at index 1. All of these subprograms can\n",
    "be accessed from looking within the same score object `sBach`."
   ]
  },
  {
   "cell_type": "code",
   "execution_count": 18,
   "metadata": {},
   "outputs": [
    {
     "data": {
      "text/plain": [
       "9"
      ]
     },
     "execution_count": 18,
     "metadata": {},
     "output_type": "execute_result"
    }
   ],
   "source": [
    "len(sBach)"
   ]
  },
  {
   "cell_type": "code",
   "execution_count": 19,
   "metadata": {},
   "outputs": [
    {
     "data": {
      "text/plain": [
       "14"
      ]
     },
     "execution_count": 19,
     "metadata": {},
     "output_type": "execute_result"
    }
   ],
   "source": [
    "len(sBach[3])"
   ]
  },
  {
   "cell_type": "code",
   "execution_count": 20,
   "metadata": {},
   "outputs": [
    {
     "data": {
      "text/plain": [
       "7"
      ]
     },
     "execution_count": 20,
     "metadata": {},
     "output_type": "execute_result"
    }
   ],
   "source": [
    "len(sBach[3][1])"
   ]
  },
  {
   "cell_type": "markdown",
   "metadata": {
    "sphinx_links": {
     "any": true
    }
   },
   "source": [
    "But how did we know that index [3] would be a Part and index [1][1] would\n",
    "be a measure?  As writers of the tutorial, we know this piece well enough\n",
    "to know that.  But as we noted above, more than just Measures might be \n",
    "stored in a Part object\n",
    "(such as :class:`~music21.instrument.Instrument` objects), \n",
    "and more than just Note and Rest objects might be stored in a Measure \n",
    "(such as :class:`~music21.meter.TimeSignature` \n",
    "and :class:`~music21.key.KeySignature` objects).  Therefore, it's much safer \n",
    "to filter Stream and Stream subclasses by \n",
    "the class we seek. \n",
    "\n",
    "To repeat the count and select specific classes, \n",
    "we can use the :meth:`~music21.stream.Stream.getElementsByClass` method that we discussed in :ref:`Chapter 4 <usersGuide_04_stream1>`.\n",
    "\n",
    "Notice how the counts deviate from the examples above."
   ]
  },
  {
   "cell_type": "code",
   "execution_count": 21,
   "metadata": {},
   "outputs": [
    {
     "data": {
      "text/plain": [
       "4"
      ]
     },
     "execution_count": 21,
     "metadata": {},
     "output_type": "execute_result"
    }
   ],
   "source": [
    "len(sBach.getElementsByClass(stream.Part))"
   ]
  },
  {
   "cell_type": "code",
   "execution_count": 22,
   "metadata": {},
   "outputs": [
    {
     "data": {
      "text/plain": [
       "13"
      ]
     },
     "execution_count": 22,
     "metadata": {},
     "output_type": "execute_result"
    }
   ],
   "source": [
    "len(sBach.getElementsByClass(stream.Part)[0].getElementsByClass(stream.Measure))"
   ]
  },
  {
   "cell_type": "code",
   "execution_count": 23,
   "metadata": {},
   "outputs": [
    {
     "data": {
      "text/plain": [
       "3"
      ]
     },
     "execution_count": 23,
     "metadata": {},
     "output_type": "execute_result"
    }
   ],
   "source": [
    "len(sBach.getElementsByClass(stream.Part)[0].getElementsByClass(\n",
    "        stream.Measure)[1].getElementsByClass(note.Note))"
   ]
  },
  {
   "cell_type": "markdown",
   "metadata": {
    "sphinx_links": {
     "any": true
    }
   },
   "source": [
    "Recall from :ref:`Chapter 4 <usersGuide_04_stream1>` that the :meth:`~music21.stream.Stream.getElementsByClass` method can also take a\n",
    "string representation of the last section of the class name. Thus we could've rewritten\n",
    "the first call above as:"
   ]
  },
  {
   "cell_type": "code",
   "execution_count": 24,
   "metadata": {},
   "outputs": [
    {
     "data": {
      "text/plain": [
       "4"
      ]
     },
     "execution_count": 24,
     "metadata": {},
     "output_type": "execute_result"
    }
   ],
   "source": [
    "len(sBach.getElementsByClass('Part'))"
   ]
  },
  {
   "cell_type": "markdown",
   "metadata": {},
   "source": [
    "This way of doing things is a bit faster to code, but a little less safe.  Suppose,\n",
    "for instance there were objects of type `stream.Measure` and `tape.Measure`; the latter\n",
    "way of writing the code would get both of them.  (But this ambiguity is rare enough\n",
    "that it's safe enough to use the strings in most code.)"
   ]
  },
  {
   "cell_type": "markdown",
   "metadata": {},
   "source": [
    "When we introduced `.getElementsByClass()` we also introduced the convenience properties `.notes` and `.notesAndRests`. There is a convenience property for getting parts out as well:"
   ]
  },
  {
   "cell_type": "code",
   "execution_count": 25,
   "metadata": {},
   "outputs": [
    {
     "data": {
      "text/plain": [
       "4"
      ]
     },
     "execution_count": 25,
     "metadata": {},
     "output_type": "execute_result"
    }
   ],
   "source": [
    "len(sBach.parts)"
   ]
  },
  {
   "cell_type": "markdown",
   "metadata": {},
   "source": [
    "You might think that there should be a convenience property `.measures` to get all the measures.  But the problem with that is that measure numbers would be quite different from index numbers. For instance,\n",
    "most pieces (that don't have pickup measures) begin with measure 1, not zero.  Sometimes there are measure\n",
    "discontinuities within a piece (e.g., some people number first and second endings with the same\n",
    "measure number). For that reason, gathering Measures is best accomplished not with `getElementsByClass(stream.Measure)`\n",
    "but instead with either \n",
    "the :meth:`~music21.stream.Stream.measures` method (returning a Stream of Parts or Measures) \n",
    "or the :meth:`~music21.stream.Stream.measure` method (returning a single Measure).  \n",
    "\n",
    "These are methods, not properties, so they use the `()` call.  Let's look at how we might use them:"
   ]
  },
  {
   "cell_type": "code",
   "execution_count": 26,
   "metadata": {},
   "outputs": [
    {
     "data": {
      "image/png": "[encoded data removed]",
      "text/plain": [
       "<IPython.core.display.Image object>"
      ]
     },
     "metadata": {
      "image/png": {
       "height": 155,
       "width": 748
      }
     },
     "output_type": "display_data"
    }
   ],
   "source": [
    "alto = sBach.parts[1] # parts count from zero, so soprano is 0 and alto is 1\n",
    "excerpt = alto.measures(1, 4)\n",
    "excerpt.show()"
   ]
  },
  {
   "cell_type": "code",
   "execution_count": 27,
   "metadata": {},
   "outputs": [
    {
     "data": {
      "image/png": "[encoded data removed]",
      "text/plain": [
       "<IPython.core.display.Image object>"
      ]
     },
     "metadata": {
      "image/png": {
       "height": 155,
       "width": 748
      }
     },
     "output_type": "display_data"
    }
   ],
   "source": [
    "measure2 = alto.measure(2) # measure not measure_s_\n",
    "measure2.show()"
   ]
  },
  {
   "cell_type": "markdown",
   "metadata": {},
   "source": [
    "What is great about `.measure()` and `.measures()` is that they can work on a whole score and not just a single part.  Sometimes computational musicologists and programmers call a collection of measures across parts a \"measureStack\".  So let's get the measure stack consisting of measure numbers 2 and 3 across all parts:"
   ]
  },
  {
   "cell_type": "code",
   "execution_count": 28,
   "metadata": {},
   "outputs": [
    {
     "data": {
      "image/png": "[encoded data removed]",
      "text/plain": [
       "<IPython.core.display.Image object>"
      ]
     },
     "metadata": {
      "image/png": {
       "height": 385,
       "width": 748
      }
     },
     "output_type": "display_data"
    }
   ],
   "source": [
    "measureStack = sBach.measures(2, 3)\n",
    "measureStack.show()"
   ]
  },
  {
   "cell_type": "markdown",
   "metadata": {},
   "source": [
    "## Recursion in Streams"
   ]
  },
  {
   "cell_type": "markdown",
   "metadata": {},
   "source": [
    "`Streams` are hierarchical objects where the contained elements can themselves be Streams.  In order to get at each lower layer of the stream, a generator method on every stream called :meth:`~music21.stream.Stream.recurse` will visit every element in the stream, starting from the beginning, and if any of the subelements are also Streams, they will visit every element in that Stream.\n",
    "\n",
    "Let's create a simpler Stream to visualize what `.recurse()` does."
   ]
  },
  {
   "cell_type": "code",
   "execution_count": 29,
   "metadata": {},
   "outputs": [
    {
     "name": "stdout",
     "output_type": "stream",
     "text": [
      "{0.0} <music21.stream.Part part0>\n",
      "    {0.0} <music21.stream.Measure 1 offset=0.0>\n",
      "        {0.0} <music21.note.Note C>\n",
      "    {4.0} <music21.stream.Measure 2 offset=4.0>\n",
      "        {0.0} <music21.note.Note D>\n",
      "{0.0} <music21.stream.Part part1>\n",
      "    {0.0} <music21.stream.Measure 1 offset=0.0>\n",
      "        {0.0} <music21.note.Note E>\n",
      "    {4.0} <music21.stream.Measure 2 offset=4.0>\n",
      "        {0.0} <music21.note.Note F>\n"
     ]
    }
   ],
   "source": [
    "s = stream.Score(id='mainScore')\n",
    "p0 = stream.Part(id='part0')\n",
    "p1 = stream.Part(id='part1')\n",
    "\n",
    "m01 = stream.Measure(number=1)\n",
    "m01.append(note.Note('C', type=\"whole\"))\n",
    "m02 = stream.Measure(number=2)\n",
    "m02.append(note.Note('D', type=\"whole\"))\n",
    "p0.append([m01, m02])\n",
    "\n",
    "m11 = stream.Measure(number=1)\n",
    "m11.append(note.Note('E', type=\"whole\"))\n",
    "m12 = stream.Measure(number=2)\n",
    "m12.append(note.Note('F', type=\"whole\"))\n",
    "p1.append([m11, m12])\n",
    "\n",
    "s.insert(0, p0)\n",
    "s.insert(0, p1)\n",
    "s.show('text')"
   ]
  },
  {
   "cell_type": "code",
   "execution_count": 30,
   "metadata": {},
   "outputs": [
    {
     "data": {
      "image/png": "[encoded data removed]",
      "text/plain": [
       "<IPython.core.display.Image object>"
      ]
     },
     "metadata": {
      "image/png": {
       "height": 121,
       "width": 226
      }
     },
     "output_type": "display_data"
    }
   ],
   "source": [
    "s.show()"
   ]
  },
  {
   "cell_type": "markdown",
   "metadata": {},
   "source": [
    "Calling `.recurse()` on its own isn't very useful."
   ]
  },
  {
   "cell_type": "code",
   "execution_count": 31,
   "metadata": {},
   "outputs": [
    {
     "data": {
      "text/plain": [
       "<music21.stream.iterator.RecursiveIterator for Score:mainScore @:0>"
      ]
     },
     "execution_count": 31,
     "metadata": {},
     "output_type": "execute_result"
    }
   ],
   "source": [
    "recurseScore = s.recurse()\n",
    "recurseScore"
   ]
  },
  {
   "cell_type": "markdown",
   "metadata": {},
   "source": [
    "Where it becomes useful is in a `for` loop:"
   ]
  },
  {
   "cell_type": "code",
   "execution_count": 32,
   "metadata": {},
   "outputs": [
    {
     "name": "stdout",
     "output_type": "stream",
     "text": [
      "0.0 <music21.stream.Part part0> <music21.stream.Score mainScore>\n",
      "0.0 <music21.stream.Measure 1 offset=0.0> <music21.stream.Part part0>\n",
      "0.0 <music21.note.Note C> <music21.stream.Measure 1 offset=0.0>\n",
      "4.0 <music21.stream.Measure 2 offset=4.0> <music21.stream.Part part0>\n",
      "0.0 <music21.note.Note D> <music21.stream.Measure 2 offset=4.0>\n",
      "0.0 <music21.stream.Part part1> <music21.stream.Score mainScore>\n",
      "0.0 <music21.stream.Measure 1 offset=0.0> <music21.stream.Part part1>\n",
      "0.0 <music21.note.Note E> <music21.stream.Measure 1 offset=0.0>\n",
      "4.0 <music21.stream.Measure 2 offset=4.0> <music21.stream.Part part1>\n",
      "0.0 <music21.note.Note F> <music21.stream.Measure 2 offset=4.0>\n"
     ]
    }
   ],
   "source": [
    "for el in s.recurse():\n",
    "    print(el.offset, el, el.activeSite)"
   ]
  },
  {
   "cell_type": "markdown",
   "metadata": {},
   "source": [
    "This example also introduces the concept of `.activeSite`, which for now can be thought of as the Stream that the element lives in; though we'll find that `Notes` and other elements can be in multiple Streams simultaneously, and this is just the one that they are most recently associated with.\n",
    "\n",
    "There are a lot of things that we can do with `.recurse()`, but let's just introduce one more thing for now.  Most \"filtering\" mechanisms, such as `.notes` can also be applied between the `()` of `recurse()` and the `:` at the end:"
   ]
  },
  {
   "cell_type": "code",
   "execution_count": 33,
   "metadata": {},
   "outputs": [
    {
     "name": "stdout",
     "output_type": "stream",
     "text": [
      "0.0 <music21.note.Note C> <music21.stream.Measure 1 offset=0.0>\n",
      "0.0 <music21.note.Note D> <music21.stream.Measure 2 offset=4.0>\n",
      "0.0 <music21.note.Note E> <music21.stream.Measure 1 offset=0.0>\n",
      "0.0 <music21.note.Note F> <music21.stream.Measure 2 offset=4.0>\n"
     ]
    }
   ],
   "source": [
    "for el in s.recurse().notes:\n",
    "    print(el.offset, el, el.activeSite)"
   ]
  },
  {
   "cell_type": "raw",
   "metadata": {},
   "source": [
    ".. note::\n",
    "\n",
    "   `.recurse()` is a generator in `music21`. Thus, it can only be used in `for` loops and other things that\n",
    "   iterate over each member of a list.  To treat the results of `.recurse()` as a list, you need to wrap it \n",
    "   with a `list()` call like so:\n",
    "   \n",
    "   >>> listRecurse = list(sBach.recurse())"
   ]
  },
  {
   "cell_type": "markdown",
   "metadata": {},
   "source": [
    "In general, `.recurse()` is the best way to work through all the elements of a Stream, but there is another way that can be handy in some situations, and that is called `.flat`."
   ]
  },
  {
   "cell_type": "markdown",
   "metadata": {},
   "source": [
    "## Flattening a Stream"
   ]
  },
  {
   "cell_type": "markdown",
   "metadata": {},
   "source": [
    "While nested Streams offer expressive flexibility, it is often useful to be able to flatten all Stream and Stream subclasses into a single Stream containing only the elements that are not Stream subclasses. The  :attr:`~music21.stream.Stream.flat` property provides immediate access to such a flat representation of a Stream. For example, doing a similar count of components, such as that show above, we see that we cannot get to all of the Note objects of a complete Score until we flatten its Part and Measure objects by accessing the `flat` attribute. Note that for historical reasons, `.flat` is a property, so you do not use `()` around it.\n",
    "\n",
    "Let's look at what `.flat` does to the example score we created."
   ]
  },
  {
   "cell_type": "code",
   "execution_count": 34,
   "metadata": {},
   "outputs": [
    {
     "name": "stdout",
     "output_type": "stream",
     "text": [
      "0.0 <music21.note.Note C> <music21.stream.Score mainScore_flat>\n",
      "0.0 <music21.note.Note E> <music21.stream.Score mainScore_flat>\n",
      "4.0 <music21.note.Note D> <music21.stream.Score mainScore_flat>\n",
      "4.0 <music21.note.Note F> <music21.stream.Score mainScore_flat>\n"
     ]
    }
   ],
   "source": [
    "for el in s.flat:\n",
    "    print(el.offset, el, el.activeSite)"
   ]
  },
  {
   "cell_type": "markdown",
   "metadata": {},
   "source": [
    "A new, temporary `Stream` with `id` of \"mainScore_flat\" has been created, and all of the `Note` objects are in there.  We didn't filter out non-Notes: `.flat` automatically removes all `Stream` objects and in this case there's nothing else but Notes in there.\n",
    "\n",
    "All the `Note` objects are now in the new temporary `mainScore_flat` object, and their offsets are no longer all `0.0`, but are instead measured from the start of the score being flattened.  So the whole notes in measure 2 are given offset `4.0`\n",
    "\n",
    "Compare what `.flat` lets you do when looking at a larger score.\n",
    "\n",
    "There are no Notes in the sBach stream..."
   ]
  },
  {
   "cell_type": "code",
   "execution_count": 35,
   "metadata": {},
   "outputs": [
    {
     "data": {
      "text/plain": [
       "0"
      ]
     },
     "execution_count": 35,
     "metadata": {},
     "output_type": "execute_result"
    }
   ],
   "source": [
    "len(sBach.getElementsByClass(note.Note))"
   ]
  },
  {
   "cell_type": "markdown",
   "metadata": {},
   "source": [
    "...they are all inside Measures inside Parts inside the stream. (in a more complex score, they may be in Voices inside Measures inside Parts, etc.).  But they are all inside the flat version of the Stream:"
   ]
  },
  {
   "cell_type": "code",
   "execution_count": 36,
   "metadata": {},
   "outputs": [
    {
     "data": {
      "text/plain": [
       "150"
      ]
     },
     "execution_count": 36,
     "metadata": {},
     "output_type": "execute_result"
    }
   ],
   "source": [
    "len(sBach.flat.getElementsByClass(note.Note))"
   ]
  },
  {
   "cell_type": "markdown",
   "metadata": {},
   "source": [
    "Element offsets are always relative to the Stream that contains them. For example, a Measure, when placed in a Stream, might have an offset of 16. This offset describes the position of the Measure in the Stream. Components of this Measure, such as Notes, have offset values relative only to their container, the Measure. The first Note of this Measure, then, has an offset of 0. In the following example we find that the offset of measure eight (using the :meth:`~music21.base.Music21Object.getOffsetBySite` method) is 21; the offset of the second Note in this Measure (index 1), however, is 1."
   ]
  },
  {
   "cell_type": "code",
   "execution_count": 37,
   "metadata": {},
   "outputs": [
    {
     "data": {
      "text/plain": [
       "21.0"
      ]
     },
     "execution_count": 37,
     "metadata": {},
     "output_type": "execute_result"
    }
   ],
   "source": [
    "m = sBach.parts[0].getElementsByClass('Measure')[7]\n",
    "m.getOffsetBySite(sBach.parts[0])"
   ]
  },
  {
   "cell_type": "code",
   "execution_count": 38,
   "metadata": {},
   "outputs": [
    {
     "data": {
      "text/plain": [
       "<music21.note.Note E->"
      ]
     },
     "execution_count": 38,
     "metadata": {},
     "output_type": "execute_result"
    }
   ],
   "source": [
    "n = sBach.parts[0].measure(8).notes[1]\n",
    "n"
   ]
  },
  {
   "cell_type": "code",
   "execution_count": 39,
   "metadata": {},
   "outputs": [
    {
     "data": {
      "text/plain": [
       "1.0"
      ]
     },
     "execution_count": 39,
     "metadata": {},
     "output_type": "execute_result"
    }
   ],
   "source": [
    "n.getOffsetBySite(m)"
   ]
  },
  {
   "cell_type": "markdown",
   "metadata": {},
   "source": [
    "Flattening a structure of nested Streams will set new, shifted offsets for each of the elements on the Stream, reflecting their appropriate position in the context of the Stream from which the `flat` property was accessed. For example, if a flat version of the first part of the Bach chorale is obtained, the note defined above has the appropriate offset of 22 (the Measure offset of 21 plus the Note offset within this Measure of 1). \n"
   ]
  },
  {
   "cell_type": "code",
   "execution_count": 40,
   "metadata": {},
   "outputs": [
    {
     "data": {
      "text/plain": [
       "<music21.note.Note E->"
      ]
     },
     "execution_count": 40,
     "metadata": {},
     "output_type": "execute_result"
    }
   ],
   "source": [
    "pFlat = sBach.parts[0].flat\n",
    "indexN = pFlat.index(n)\n",
    "pFlat[indexN]"
   ]
  },
  {
   "cell_type": "code",
   "execution_count": 41,
   "metadata": {},
   "outputs": [
    {
     "data": {
      "text/plain": [
       "22.0"
      ]
     },
     "execution_count": 41,
     "metadata": {},
     "output_type": "execute_result"
    }
   ],
   "source": [
    "pFlat[indexN].offset"
   ]
  },
  {
   "cell_type": "markdown",
   "metadata": {
    "sphinx_links": {
     "any": true
    }
   },
   "source": [
    "As an aside, it is important to recognize that the offset of the Note has not been edited; instead, a Note, as all Music21Objects, can store multiple pairs of sites and offsets. Music21Objects retain an offset relative to all Stream or Stream subclasses they are contained within, even if just in passing.\n",
    "\n",
    "There's still a lot more to learn about `Streams`, but we can do that later. For now, let's move on to :ref:`Chapter 7: Chords <usersGuide_07_chords>`."
   ]
  }
 ],
 "metadata": {
  "anaconda-cloud": {},
  "kernelspec": {
   "display_name": "Python 3",
   "language": "python",
   "name": "python3"
  },
  "language_info": {
   "codemirror_mode": {
    "name": "ipython",
    "version": 3
   },
   "file_extension": ".py",
   "mimetype": "text/x-python",
   "name": "python",
   "nbconvert_exporter": "python",
   "pygments_lexer": "ipython3",
   "version": "3.8.1"
  }
 },
 "nbformat": 4,
 "nbformat_minor": 1
}
