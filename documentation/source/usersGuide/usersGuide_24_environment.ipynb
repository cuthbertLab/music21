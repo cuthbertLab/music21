{
 "cells": [
  {
   "cell_type": "markdown",
   "metadata": {},
   "source": [
    "# User's Guide, Chapter 24: Configuring Environment Settings\n",
    "\n",
    "Music21 features an environment configuration system which lets users configure\n",
    "and customize settings.  These settings will be saved so that the next time the\n",
    "user starts Python, the settings will still work.\n",
    "\n",
    "Environment configuration is particularly useful for setting default\n",
    "third-party applications (necessary for handling Music21 output in different\n",
    "media formats such as MusicXML, Lilypond, and graphics files) and for setting a\n",
    "default scratch directory (for writing output without providing explitic file\n",
    "paths).\n",
    "\n",
    "Environment configuration can be handled with two objects. The\n",
    ":class:`~music21.environment.Environment` object provides lower-level access\n",
    "and control, as well as a numerous utiity methods for music21 modules. The\n",
    ":class:`~music21.environment.UserSettings` object is a convenience class for\n",
    "users to quickly set and check settings, and is reccommended for general usage.\n",
    "For complete information on the Environment and UserSettings objects, see\n",
    ":mod:`~music21.environment`.\n",
    "\n",
    "\n",
    "## Creating and Configuring the UserSettings Object\n",
    "\n",
    "Environment configuration files are not created by default. To create an\n",
    "environment configuration file, import environment from Music21 and create an\n",
    ":class:`~music21.environment.UserSettings` object. Then, call the\n",
    ":meth:`~music21.environment.UserSettings.create` method to create an XML\n",
    "environment file."
   ]
  },
  {
   "cell_type": "code",
   "execution_count": 1,
   "metadata": {
    "collapsed": true
   },
   "outputs": [],
   "source": [
    "from music21 import *\n",
    "us = environment.UserSettings()\n",
    "#_DOCS_SHOW us.create()"
   ]
  },
  {
   "cell_type": "markdown",
   "metadata": {},
   "source": [
    "After creating an environment file, the resulting XML preference file can be\n",
    "edited directly by the user or using the UserSettings object.  The keys tell you what can be changed:"
   ]
  },
  {
   "cell_type": "code",
   "execution_count": 2,
   "metadata": {},
   "outputs": [
    {
     "name": "stdout",
     "output_type": "stream",
     "text": [
      "autoDownload\n",
      "braillePath\n",
      "debug\n",
      "directoryScratch\n",
      "graphicsPath\n",
      "ipythonShowFormat\n",
      "lilypondBackend\n",
      "lilypondFormat\n",
      "lilypondPath\n",
      "lilypondVersion\n",
      "localCorporaSettings\n",
      "localCorpusPath\n",
      "localCorpusSettings\n",
      "manualCoreCorpusPath\n",
      "midiPath\n",
      "musescoreDirectPNGPath\n",
      "musicxmlPath\n",
      "pdfPath\n",
      "showFormat\n",
      "vectorPath\n",
      "warnings\n",
      "writeFormat\n"
     ]
    }
   ],
   "source": [
    "for key in sorted(us.keys()):\n",
    "    print(key)"
   ]
  },
  {
   "cell_type": "markdown",
   "metadata": {},
   "source": [
    "To set and write a preference, a key and value pair must be provided using\n",
    "Python dictionary-like syntax. For example, to set the Music21 scratch\n",
    "directory, the 'directoryScratch' key can be set to a file path of the user's\n",
    "choice. Changes are made immediately to the environment configuration file. To\n",
    "see the current setting, the value can be accesed by key.\n",
    "\n",
    "::\n",
    "\n",
    "    >>> us['directoryScratch'] = '/_scratch'\n",
    "    >>> us['directoryScratch']  \n",
    "    '/_scratch'"
   ]
  },
  {
   "cell_type": "markdown",
   "metadata": {},
   "source": [
    "Note that Music21 objects may need to be reloaded, and/or the Python session\n",
    "restarted, to have changes made to the UserSettings object take effect.\n",
    "\n",
    "\n",
    "## Location of Environment Configuration Files\n",
    "\n",
    "Environment configuration files are stored in platform-specific locations. \n",
    "\n",
    "On Linux and MacOS computers, the configuration file is stored as the file\n",
    ".music21rc, located in the user's home directory. \n",
    "\n",
    "On Windows computers the configuration file is generally located in the\n",
    "Application Data directory as the file 'music21-settings.xml'. In some cases\n",
    "the XML settings file may be stored in the user directory. \n",
    "\n",
    "The path to the environment settings file can always be found with the\n",
    ":meth:`~music21.environment.UserSettings.getSettingsPath` method."
   ]
  },
  {
   "cell_type": "code",
   "execution_count": 3,
   "metadata": {
    "tags": [
     "nbval-ignore-output"
    ]
   },
   "outputs": [
    {
     "data": {
      "text/plain": [
       "'/Users/cuthbert/.music21rc'"
      ]
     },
     "execution_count": 3,
     "metadata": {},
     "output_type": "execute_result"
    }
   ],
   "source": [
    "us = environment.UserSettings()\n",
    "us.getSettingsPath()"
   ]
  },
  {
   "cell_type": "markdown",
   "metadata": {},
   "source": [
    "To permanently delete the environment configuration file, call the\n",
    ":meth:`~music21.environment.UserSettings.delete` method."
   ]
  },
  {
   "cell_type": "code",
   "execution_count": 4,
   "metadata": {
    "collapsed": true
   },
   "outputs": [],
   "source": [
    "us = environment.UserSettings()\n",
    "#_DOCS_SHOW us.delete()"
   ]
  },
  {
   "cell_type": "markdown",
   "metadata": {},
   "source": [
    "## Important Tools that May Use Environment Settings\n",
    "\n",
    "The following important functions and methods will make use of environment\n",
    "configuration file and are important to properly configure.\n",
    "\n",
    "### `show()` Methods and 'directoryScratch', 'showFormat' and 'writeFormat'\n",
    "\n",
    "The show method, inherited from :meth:`~music21.base.Music21Object.show`, will,\n",
    "depending on user settings, write a temporary file in a user specified format\n",
    "in a user-specified scratch directory. \n",
    "\n",
    "Setting the `showFormat` key will set the default output format of all calls to\n",
    "`show()` methods. The behavior can be deviated from by providing an argument to\n",
    "`show()`.\n",
    "\n",
    "Setting the `writeFormat` key will set the default output format of all calls\n",
    "to `write()` methods. The behavior can be deviated from by providing an\n",
    "argument to `write()`.\n",
    "\n",
    "Setting the `directoryScratch` key will determine where the file is written. If\n",
    "this setting is not made, the file will be written in a system-specified\n",
    "scratch directory. While useful, such temporary files and directories may be\n",
    "buried deeply in your file system."
   ]
  },
  {
   "cell_type": "markdown",
   "metadata": {},
   "source": [
    "### `parseURL()` and `parse()` Functions and 'autoDownload'\n",
    "\n",
    "The :func:`~music21.converter.parseURL` function, as well as the\n",
    ":func:`~music21.corpus.parse` function, offer the ability to download a files\n",
    "directly directly from the internet.\n",
    "\n",
    "Users may configure the 'autoDownload' key to determine whether downloading is\n",
    "attempted automatically without prompting the user ('allow'), whether the user\n",
    "is asked first before attempting a download ('ask'), or whether downloading is\n",
    "prohibited ('deny')."
   ]
  }
 ],
 "metadata": {
  "celltoolbar": "Tags",
  "kernelspec": {
   "display_name": "Python 3",
   "language": "python",
   "name": "python3"
  },
  "language_info": {
   "codemirror_mode": {
    "name": "ipython",
    "version": 3
   },
   "file_extension": ".py",
   "mimetype": "text/x-python",
   "name": "python",
   "nbconvert_exporter": "python",
   "pygments_lexer": "ipython3",
   "version": "3.6.0"
  }
 },
 "nbformat": 4,
 "nbformat_minor": 2
}
