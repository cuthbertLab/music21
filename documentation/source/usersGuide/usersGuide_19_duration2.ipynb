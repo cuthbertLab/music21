{
 "cells": [
  {
   "cell_type": "code",
   "execution_count": 1,
   "metadata": {
    "collapsed": true
   },
   "outputs": [],
   "source": [
    "# ignore this\n",
    "%load_ext music21.ipython21"
   ]
  },
  {
   "cell_type": "markdown",
   "metadata": {},
   "source": [
    "# User's Guide, Chapter 19: Advanced Durations (Complex and Tuplets)\n",
    "\n",
    "When last we encountered the :class:`~music21.duration.Duration` object, it was Chapter 3, and we didn't know about Streams or any of a thousand other cool things that are now under our belts, so it seems a good idea to get back to Duration objects and look in a bit more depth at how they work.\n",
    "\n",
    "We'll recall that one thing that all `Music21Objects` have a `Duration` object stored on their `.duration` attributes:"
   ]
  },
  {
   "cell_type": "code",
   "execution_count": 2,
   "metadata": {},
   "outputs": [
    {
     "data": {
      "text/plain": [
       "<music21.duration.Duration 1.0>"
      ]
     },
     "execution_count": 2,
     "metadata": {},
     "output_type": "execute_result"
    }
   ],
   "source": [
    "n = note.Note('C#4')\n",
    "n.duration"
   ]
  },
  {
   "cell_type": "markdown",
   "metadata": {},
   "source": [
    "...and that durations can be created directly:"
   ]
  },
  {
   "cell_type": "code",
   "execution_count": 3,
   "metadata": {},
   "outputs": [
    {
     "data": {
      "text/plain": [
       "<music21.duration.Duration 4.0>"
      ]
     },
     "execution_count": 3,
     "metadata": {},
     "output_type": "execute_result"
    }
   ],
   "source": [
    "d = duration.Duration(4.0)\n",
    "d"
   ]
  },
  {
   "cell_type": "markdown",
   "metadata": {},
   "source": [
    "...and that all durations have `.type`, `.dots`, and `.quarterLength`."
   ]
  },
  {
   "cell_type": "code",
   "execution_count": 4,
   "metadata": {},
   "outputs": [
    {
     "data": {
      "text/plain": [
       "('quarter', 1, 1.5)"
      ]
     },
     "execution_count": 4,
     "metadata": {},
     "output_type": "execute_result"
    }
   ],
   "source": [
    "d = duration.Duration(1.5)\n",
    "(d.type, d.dots, d.quarterLength)"
   ]
  },
  {
   "cell_type": "markdown",
   "metadata": {},
   "source": [
    "The standard `type` values range from tiny 2048th notes up through the immense duplex-maxima:"
   ]
  },
  {
   "cell_type": "code",
   "execution_count": 5,
   "metadata": {},
   "outputs": [
    {
     "name": "stdout",
     "output_type": "stream",
     "text": [
      "2048th, 1024th, 512th, 256th, 128th, 64th, 32nd, 16th, eighth, quarter, half, whole, breve, longa, maxima, duplex-maxima, "
     ]
    }
   ],
   "source": [
    "startType = '2048th'\n",
    "try:\n",
    "    while True:\n",
    "        print(startType, end=\", \")\n",
    "        startType = duration.nextLargerType(startType)\n",
    "except duration.DurationException:\n",
    "    pass"
   ]
  },
  {
   "cell_type": "markdown",
   "metadata": {},
   "source": [
    "The number of dots is limited only by your own imagination (or the limit of expressibility of your computer):"
   ]
  },
  {
   "cell_type": "code",
   "execution_count": 6,
   "metadata": {},
   "outputs": [
    {
     "name": "stdout",
     "output_type": "stream",
     "text": [
      "0 <music21.duration.Duration 1.0>\n",
      "1 <music21.duration.Duration 1.5>\n",
      "2 <music21.duration.Duration 1.75>\n",
      "3 <music21.duration.Duration 1.875>\n",
      "4 <music21.duration.Duration 1.9375>\n",
      "5 <music21.duration.Duration 1.96875>\n",
      "6 <music21.duration.Duration 1.984375>\n",
      "7 <music21.duration.Duration 1.9921875>\n",
      "8 <music21.duration.Duration 1.99609375>\n",
      "9 <music21.duration.Duration 1.998046875>\n",
      "10 <music21.duration.Duration 1.9990234375>\n",
      "11 <music21.duration.Duration 1.99951171875>\n"
     ]
    }
   ],
   "source": [
    "for dots in range(12):\n",
    "    print(dots, duration.Duration(type='quarter', dots=dots))"
   ]
  },
  {
   "cell_type": "markdown",
   "metadata": {},
   "source": [
    "For the very curious, try setting the number of dots to `float('inf')` and seeing what happens to `type`, `dots`, and `quarterLength`. (A little Easter egg...)\n",
    "\n",
    "A lot of Duration values can be expressed with all these types and dots, but not all of them.  We can get some more by moving on to Tuplets."
   ]
  },
  {
   "cell_type": "markdown",
   "metadata": {},
   "source": [
    "## Tuplets\n",
    "\n",
    "Tuplets, such as triplets, can be set by giving a fraction or close approximation to a fraction as a quarter length:"
   ]
  },
  {
   "cell_type": "code",
   "execution_count": 7,
   "metadata": {},
   "outputs": [
    {
     "data": {
      "text/plain": [
       "<music21.duration.Duration 1/3>"
      ]
     },
     "execution_count": 7,
     "metadata": {},
     "output_type": "execute_result"
    }
   ],
   "source": [
    "d = duration.Duration(0.3333333333333)\n",
    "d"
   ]
  },
  {
   "cell_type": "markdown",
   "metadata": {},
   "source": [
    "The quarterLength of a duration such as this will be expresssed as a `fractions.Fraction` class:"
   ]
  },
  {
   "cell_type": "code",
   "execution_count": 8,
   "metadata": {},
   "outputs": [
    {
     "data": {
      "text/plain": [
       "Fraction(1, 3)"
      ]
     },
     "execution_count": 8,
     "metadata": {},
     "output_type": "execute_result"
    }
   ],
   "source": [
    "d.quarterLength"
   ]
  },
  {
   "cell_type": "markdown",
   "metadata": {},
   "source": [
    "This can be converted to a floating point approximate representation by wrapping it in the `float()` function:"
   ]
  },
  {
   "cell_type": "code",
   "execution_count": 9,
   "metadata": {},
   "outputs": [
    {
     "data": {
      "text/plain": [
       "0.3333333333333333"
      ]
     },
     "execution_count": 9,
     "metadata": {},
     "output_type": "execute_result"
    }
   ],
   "source": [
    "float(d.quarterLength)"
   ]
  },
  {
   "cell_type": "markdown",
   "metadata": {},
   "source": [
    "We can check that this duration represents a triplet by looking at the `.fullName` property of the duration:"
   ]
  },
  {
   "cell_type": "code",
   "execution_count": 10,
   "metadata": {},
   "outputs": [
    {
     "data": {
      "text/plain": [
       "'Eighth Triplet (1/3 QL)'"
      ]
     },
     "execution_count": 10,
     "metadata": {},
     "output_type": "execute_result"
    }
   ],
   "source": [
    "d.fullName"
   ]
  },
  {
   "cell_type": "markdown",
   "metadata": {},
   "source": [
    "But where is the information about the triplet stored?  It's not in the type or dots:"
   ]
  },
  {
   "cell_type": "code",
   "execution_count": 11,
   "metadata": {},
   "outputs": [
    {
     "data": {
      "text/plain": [
       "('eighth', 0)"
      ]
     },
     "execution_count": 11,
     "metadata": {},
     "output_type": "execute_result"
    }
   ],
   "source": [
    "(d.type, d.dots)"
   ]
  },
  {
   "cell_type": "markdown",
   "metadata": {},
   "source": [
    "Instead it's to be found in the `.tuplets` property:"
   ]
  },
  {
   "cell_type": "code",
   "execution_count": 12,
   "metadata": {},
   "outputs": [
    {
     "data": {
      "text/plain": [
       "(<music21.duration.Tuplet 3/2/eighth>,)"
      ]
     },
     "execution_count": 12,
     "metadata": {},
     "output_type": "execute_result"
    }
   ],
   "source": [
    "d.tuplets"
   ]
  },
  {
   "cell_type": "markdown",
   "metadata": {},
   "source": [
    "One thing that we learn from the property is that there's a separate class that defines tuplets, the `duration.Tuplet` class.  Let's look at what it can do.  We can create a simple Tuplet by passing in the number of notes to be played in the place of another note.  For instance, a 5-in-the-place-of-4 Tuplet is created like this:"
   ]
  },
  {
   "cell_type": "code",
   "execution_count": 13,
   "metadata": {},
   "outputs": [
    {
     "data": {
      "text/plain": [
       "<music21.duration.Tuplet 5/4>"
      ]
     },
     "execution_count": 13,
     "metadata": {},
     "output_type": "execute_result"
    }
   ],
   "source": [
    "fiveInFour = duration.Tuplet(5, 4)\n",
    "fiveInFour"
   ]
  },
  {
   "cell_type": "markdown",
   "metadata": {},
   "source": [
    "Each Duration that has a 5:4 tuplet applied to it will be 4/5ths as long as it would be without it.  I know this by querying the `.tupletMultiplier()` method"
   ]
  },
  {
   "cell_type": "code",
   "execution_count": 14,
   "metadata": {},
   "outputs": [
    {
     "data": {
      "text/plain": [
       "Fraction(4, 5)"
      ]
     },
     "execution_count": 14,
     "metadata": {},
     "output_type": "execute_result"
    }
   ],
   "source": [
    "fiveInFour.tupletMultiplier()"
   ]
  },
  {
   "cell_type": "markdown",
   "metadata": {},
   "source": [
    "At this point, the tuplet represents any 5:4 tuplet -- whether 5 quarters in the place of 4 quarters, or 5 16ths in the place of 4 16ths.  If it's important to know that this represents 5 eighths in the place of 4 eighths, we can call `setDurationType()`:"
   ]
  },
  {
   "cell_type": "code",
   "execution_count": 15,
   "metadata": {
    "collapsed": true
   },
   "outputs": [],
   "source": [
    "fiveInFour.setDurationType('eighth')"
   ]
  },
  {
   "cell_type": "markdown",
   "metadata": {},
   "source": [
    "Now we can ask how many quarter notes (i.e., what quarterLength) will be necessary to fulfill the promise of the tuplet:"
   ]
  },
  {
   "cell_type": "code",
   "execution_count": 16,
   "metadata": {},
   "outputs": [
    {
     "data": {
      "text/plain": [
       "2.0"
      ]
     },
     "execution_count": 16,
     "metadata": {},
     "output_type": "execute_result"
    }
   ],
   "source": [
    "fiveInFour.totalTupletLength()"
   ]
  },
  {
   "cell_type": "markdown",
   "metadata": {},
   "source": [
    "This changes if we change the durationType.  Let's say that it's five dotted quarters in the place of four dotted quarters:"
   ]
  },
  {
   "cell_type": "code",
   "execution_count": 17,
   "metadata": {},
   "outputs": [
    {
     "data": {
      "text/plain": [
       "6.0"
      ]
     },
     "execution_count": 17,
     "metadata": {},
     "output_type": "execute_result"
    }
   ],
   "source": [
    "fiveInFour.setDurationType('quarter', dots=1)\n",
    "fiveInFour.totalTupletLength()"
   ]
  },
  {
   "cell_type": "markdown",
   "metadata": {},
   "source": [
    "We can also create tuplets that represent unusual cases, such as 11 sixteenth-notes in the place of one doubly-dotted quarter note:"
   ]
  },
  {
   "cell_type": "code",
   "execution_count": 18,
   "metadata": {},
   "outputs": [
    {
     "data": {
      "text/plain": [
       "1.75"
      ]
     },
     "execution_count": 18,
     "metadata": {},
     "output_type": "execute_result"
    }
   ],
   "source": [
    "oddTuplet = duration.Tuplet(11, 1)\n",
    "oddTuplet.durationActual = '16th'\n",
    "oddTuplet.durationNormal = duration.Duration('quarter', dots=2)\n",
    "oddTuplet.totalTupletLength()"
   ]
  },
  {
   "cell_type": "code",
   "execution_count": 19,
   "metadata": {},
   "outputs": [
    {
     "data": {
      "text/plain": [
       "Fraction(7, 11)"
      ]
     },
     "execution_count": 19,
     "metadata": {},
     "output_type": "execute_result"
    }
   ],
   "source": [
    "oddTuplet.tupletMultiplier()"
   ]
  },
  {
   "cell_type": "markdown",
   "metadata": {},
   "source": [
    "Okay, let's get back to simpler tuplets.  Like our 3:2 triplet.\n",
    "\n",
    "Tuplets have a `.type` which is usually None:"
   ]
  },
  {
   "cell_type": "code",
   "execution_count": 20,
   "metadata": {},
   "outputs": [
    {
     "data": {
      "text/plain": [
       "True"
      ]
     },
     "execution_count": 20,
     "metadata": {},
     "output_type": "execute_result"
    }
   ],
   "source": [
    "trip = duration.Tuplet(3, 2)\n",
    "trip.type is None"
   ]
  },
  {
   "cell_type": "markdown",
   "metadata": {},
   "source": [
    "the `.type` will be \"start\" if `music21` or a user of it has determined that this tuplet begins a tuplet bracket or grouping.  It will be \"stop\" if it ends a grouping, and it'll be startStop if it's an isolated tuplet that both begins and ends a grouping.  None means that no determination has been made about whether this is the beginning, middle, or end of a bracket.  (Eventually we will support `False` to mean do not end a bracket here in any case).\n",
    "\n",
    "Of course a bracket will only be drawn if you want one, which means that `.bracket` needs to be True."
   ]
  },
  {
   "cell_type": "code",
   "execution_count": 21,
   "metadata": {},
   "outputs": [
    {
     "data": {
      "text/plain": [
       "True"
      ]
     },
     "execution_count": 21,
     "metadata": {},
     "output_type": "execute_result"
    }
   ],
   "source": [
    "trip.bracket"
   ]
  },
  {
   "cell_type": "markdown",
   "metadata": {},
   "source": [
    "And we'll need to know what should go in the bracket.  Usually, we just want the number \"3\" to go in the bracket:"
   ]
  },
  {
   "cell_type": "code",
   "execution_count": 22,
   "metadata": {},
   "outputs": [
    {
     "data": {
      "text/plain": [
       "('number', None)"
      ]
     },
     "execution_count": 22,
     "metadata": {},
     "output_type": "execute_result"
    }
   ],
   "source": [
    "(trip.tupletActualShow, trip.tupletNormalShow)"
   ]
  },
  {
   "cell_type": "markdown",
   "metadata": {},
   "source": [
    "If we wanted \"3:2\" then we'd set \"trip.tupletNormalShow\" to \"number\". "
   ]
  },
  {
   "cell_type": "code",
   "execution_count": 23,
   "metadata": {},
   "outputs": [
    {
     "data": {
      "image/png": "[encoded data removed]",
      "text/plain": [
       "<IPython.core.display.Image object>"
      ]
     },
     "metadata": {
      "image/png": {
       "height": 54,
       "width": 215
      }
     },
     "output_type": "display_data"
    }
   ],
   "source": [
    "n = note.Note()\n",
    "n.duration = duration.Duration(2.0/3.0)\n",
    "n.duration.tuplets[0].tupletNormalShow = 'number'\n",
    "s = stream.Stream()\n",
    "s.repeatAppend(n, 3)\n",
    "s.insert(0, meter.TimeSignature('2/4'))\n",
    "s.show()"
   ]
  },
  {
   "cell_type": "markdown",
   "metadata": {},
   "source": [
    "We can also set it to \"type\" or \"both\" to add the note shape to the bracket, but unfortunately, no MusicXML client yet supports this display on input or output."
   ]
  },
  {
   "cell_type": "markdown",
   "metadata": {},
   "source": [
    "Now we're ready to return to the `Duration` class.  Since the `.tuplets` property returns a tuple (appropriately enough), it's not something that can be manipulated directly.  To add a tuplet to an existing duration, use the `.appendTuplet(t)` method:"
   ]
  },
  {
   "cell_type": "code",
   "execution_count": 24,
   "metadata": {},
   "outputs": [
    {
     "data": {
      "image/png": "[encoded data removed]",
      "text/plain": [
       "<IPython.core.display.Image object>"
      ]
     },
     "metadata": {
      "image/png": {
       "height": 54,
       "width": 748
      }
     },
     "output_type": "display_data"
    }
   ],
   "source": [
    "t = duration.Tuplet(5, 4)\n",
    "t.setDurationType('16th')\n",
    "d = duration.Duration('16th')\n",
    "d.appendTuplet(t)\n",
    "n = note.Note('E-4')\n",
    "n.duration = d\n",
    "s = stream.Stream()\n",
    "s.repeatAppend(n, 20)\n",
    "s.show()"
   ]
  },
  {
   "cell_type": "markdown",
   "metadata": {},
   "source": [
    "Once a `Tuplet` is appended to a `Duration`, it becomes \"frozen\" and no further changes to its duration can be set (though its `.type` and display styles can still be changed).  This is to prevent changes to the duration that won't be reflected in the `Duration` object: "
   ]
  },
  {
   "cell_type": "code",
   "execution_count": 25,
   "metadata": {},
   "outputs": [
    {
     "data": {
      "text/plain": [
       "True"
      ]
     },
     "execution_count": 25,
     "metadata": {},
     "output_type": "execute_result"
    }
   ],
   "source": [
    "t.frozen"
   ]
  },
  {
   "cell_type": "markdown",
   "metadata": {},
   "source": [
    "Nested tuplets can be created by adding more than one tuplet to the duration:"
   ]
  },
  {
   "cell_type": "code",
   "execution_count": 26,
   "metadata": {},
   "outputs": [
    {
     "data": {
      "image/png": "[encoded data removed]",
      "text/plain": [
       "<IPython.core.display.Image object>"
      ]
     },
     "metadata": {
      "image/png": {
       "height": 61,
       "width": 748
      }
     },
     "output_type": "display_data"
    }
   ],
   "source": [
    "import copy\n",
    "s = stream.Stream()\n",
    "s.repeatAppend(note.Note(), 4)\n",
    "\n",
    "t32h = duration.Tuplet(3, 2, 'half')\n",
    "t54q = duration.Tuplet(5, 4, 'quarter')\n",
    "n1 = note.Note()\n",
    "n1.duration.type = 'half'\n",
    "n1.duration.appendTuplet(copy.deepcopy(t32h))\n",
    "s.append(n1)\n",
    "for i in range(5):\n",
    "    n = note.Note(61 + i)\n",
    "    n.duration.type = 'quarter'\n",
    "    n.duration.appendTuplet(copy.deepcopy(t32h))\n",
    "    n.duration.appendTuplet(copy.deepcopy(t54q))\n",
    "    s.append(n)\n",
    "s.notes[4].duration.tuplets[0].type = 'start'\n",
    "s.notes[5].duration.tuplets[1].type = 'start'\n",
    "s.notes[-1].duration.tuplets[0].type = 'stop'\n",
    "s.notes[-1].duration.tuplets[1].type = 'stop'\n",
    "s.repeatAppend(note.Note('G4'), 4)\n",
    "s.show()"
   ]
  },
  {
   "cell_type": "markdown",
   "metadata": {},
   "source": [
    "For nested tuplets, it's important to explicitly state where tuplet brackets start and stop. As you can see from the output, MusicXML rendering of Nested tuplets is still hard for our partners at MuseScore which generated the image above (Finale renders a --5-- bracket around the five quarter notes.  However, MIDI rendering is correct:"
   ]
  },
  {
   "cell_type": "code",
   "execution_count": 27,
   "metadata": {
    "tags": [
     "nbval-ignore-output"
    ]
   },
   "outputs": [
    {
     "data": {
      "text/html": [
       "\n",
       "                <div id='midiPlayerDiv1480'></div>\n",
       "                <link rel=\"stylesheet\" href=\"//cuthbertLab.github.io/music21j/css/m21.css\"\n",
       "                    type=\"text/css\" />\n",
       "                <script>\n",
       "                require.config({\n",
       "                    paths: {'music21': '//cuthbertLab.github.io/music21j/src/music21'}\n",
       "                });\n",
       "                require(['music21'], function() {\n",
       "                               mp = new music21.miditools.MidiPlayer();\n",
       "                               mp.addPlayer('#midiPlayerDiv1480');\n",
       "                               mp.base64Load('data:audio/midi;base64,TVRoZAAAAAYAAQABBABNVHJrAAAAiwD/AwAA4ABAAJA8WogAgDwAAJA8WogAgDwAAJA8WogAgDwAAJA8WogAgDwAAJA8WopVgDwAAJA9WoQigD0AAJA+WoQigD4AAZA/WoQigD8AAJBAWoQigEAAAJBBWoQigEEAAJBDWogAgEMAAJBDWogAgEMAAJBDWogAgEMAAJBDWogAgEMAiAD/LwA=');\n",
       "                        });\n",
       "                </script>"
      ],
      "text/plain": [
       "<IPython.core.display.HTML object>"
      ]
     },
     "metadata": {},
     "output_type": "display_data"
    }
   ],
   "source": [
    "s.show('midi')"
   ]
  },
  {
   "cell_type": "markdown",
   "metadata": {},
   "source": [
    "The effect of any set of tuplets on the overall duration of a note can be found through the `.aggregateTupletMultiplier()` method:"
   ]
  },
  {
   "cell_type": "code",
   "execution_count": 28,
   "metadata": {},
   "outputs": [
    {
     "data": {
      "text/plain": [
       "Fraction(10, 21)"
      ]
     },
     "execution_count": 28,
     "metadata": {},
     "output_type": "execute_result"
    }
   ],
   "source": [
    "d = duration.Duration('half')\n",
    "d.appendTuplet(duration.Tuplet(3, 2))\n",
    "d.appendTuplet(duration.Tuplet(7, 5))\n",
    "d.aggregateTupletMultiplier()"
   ]
  },
  {
   "cell_type": "markdown",
   "metadata": {},
   "source": [
    "## Unlinking Durations"
   ]
  },
  {
   "cell_type": "markdown",
   "metadata": {
    "collapsed": true
   },
   "source": [
    "Each `Duration` object has four essential pieces of information, the `type` (whole, 16th, breve, etc.), the number of dots (or `dotGroups`, discussed below), a list of zero or more tuplets, and the overall length of the duration (`.quarterLength`).  Generally speaking, changing one of these pieces of information changes the one or more of the others:"
   ]
  },
  {
   "cell_type": "code",
   "execution_count": 29,
   "metadata": {},
   "outputs": [
    {
     "data": {
      "text/plain": [
       "('half', 1, (), 3.0)"
      ]
     },
     "execution_count": 29,
     "metadata": {},
     "output_type": "execute_result"
    }
   ],
   "source": [
    "d = duration.Duration(3.0)\n",
    "(d.type, d.dots, d.tuplets, d.quarterLength)"
   ]
  },
  {
   "cell_type": "code",
   "execution_count": 30,
   "metadata": {},
   "outputs": [
    {
     "data": {
      "text/plain": [
       "('whole', 0, (<music21.duration.Tuplet 5/3/whole>,), Fraction(12, 5))"
      ]
     },
     "execution_count": 30,
     "metadata": {},
     "output_type": "execute_result"
    }
   ],
   "source": [
    "d.quarterLength *= 4/5\n",
    "(d.type, d.dots, d.tuplets, d.quarterLength)"
   ]
  },
  {
   "cell_type": "code",
   "execution_count": 31,
   "metadata": {},
   "outputs": [
    {
     "data": {
      "text/plain": [
       "('16th', 2, (<music21.duration.Tuplet 5/3/whole>,), Fraction(21, 80))"
      ]
     },
     "execution_count": 31,
     "metadata": {},
     "output_type": "execute_result"
    }
   ],
   "source": [
    "d.type = '16th'\n",
    "d.dots = 2\n",
    "(d.type, d.dots, d.tuplets, d.quarterLength)"
   ]
  },
  {
   "cell_type": "markdown",
   "metadata": {},
   "source": [
    "However, there are times when we might want to separate one piece of information separate from another.  For instance, [in some pieces](http://homes.soic.indiana.edu/donbyrd/InterestingMusicNotation.html), Brahms uses a dotted half note to mean a note that is eleven sixteenth-notes long, rather than twelve.  We can represent this in `music21` by setting up the type and dots and then setting `Duration.linked` to False."
   ]
  },
  {
   "cell_type": "code",
   "execution_count": 32,
   "metadata": {},
   "outputs": [
    {
     "data": {
      "text/plain": [
       "('half', 1, 3.0)"
      ]
     },
     "execution_count": 32,
     "metadata": {},
     "output_type": "execute_result"
    }
   ],
   "source": [
    "d = duration.Duration()\n",
    "d.type = 'half'\n",
    "d.dots = 1\n",
    "(d.type, d.dots, d.quarterLength)"
   ]
  },
  {
   "cell_type": "code",
   "execution_count": 33,
   "metadata": {},
   "outputs": [
    {
     "data": {
      "text/plain": [
       "True"
      ]
     },
     "execution_count": 33,
     "metadata": {},
     "output_type": "execute_result"
    }
   ],
   "source": [
    "d.linked"
   ]
  },
  {
   "cell_type": "code",
   "execution_count": 34,
   "metadata": {},
   "outputs": [
    {
     "data": {
      "text/plain": [
       "('half', 1, 2.75)"
      ]
     },
     "execution_count": 34,
     "metadata": {},
     "output_type": "execute_result"
    }
   ],
   "source": [
    "d.linked = False\n",
    "d.quarterLength = 11/4\n",
    "(d.type, d.dots, d.quarterLength)"
   ]
  },
  {
   "cell_type": "markdown",
   "metadata": {},
   "source": [
    "In theory, the musicXML spec allows us to preserve such note lengths in notation, but in practice no notation software will support this, correcting the error in the difference between .quarterLength (in MusicXML divisions) and type:"
   ]
  },
  {
   "cell_type": "code",
   "execution_count": 35,
   "metadata": {},
   "outputs": [
    {
     "data": {
      "image/png": "[encoded data removed]",
      "text/plain": [
       "<IPython.core.display.Image object>"
      ]
     },
     "metadata": {
      "image/png": {
       "height": 49,
       "width": 183
      }
     },
     "output_type": "display_data"
    }
   ],
   "source": [
    "r = note.Rest(type='16th')\n",
    "n = note.Note()\n",
    "n.duration = d\n",
    "s = stream.Stream([meter.TimeSignature('3/4'), r, n])\n",
    "s.show()"
   ]
  },
  {
   "cell_type": "markdown",
   "metadata": {},
   "source": [
    "(but the output looks good for a single note.)"
   ]
  },
  {
   "cell_type": "markdown",
   "metadata": {},
   "source": [
    "Unlinked durations come in handy if, for instance, we're parsing in notes from MIDI or an audio file and we want to retain the exact quarterLength duration (or set qtr=60 and just store the number of seconds) but have type that represents the closest notateable type."
   ]
  },
  {
   "cell_type": "markdown",
   "metadata": {},
   "source": [
    "## DotGroups -- a small digression from the Middle Ages..."
   ]
  },
  {
   "cell_type": "markdown",
   "metadata": {},
   "source": [
    "There's actually one more thing that durations store, and it's a little bit silly for most uses, but reflects `music21`'s commitment to being able to represent all the music that's been notated over time.  In the Middle Ages, it was common to have notes that were worth 9 or 27 times smaller note values.  In modern transcriptions, a note worth 9 eighth notes is often notated as a dotted-dotted half note, that is to say, a dotted half note which is itself dotted (or 1.5x the length of a dotted half note).  See the [second example from my blog post about dots](http://prolatio.blogspot.com/2013/10/advanced-dotting.html). These dotted-dotted notes are represented by \"dotGroups\" in music21, which is a list of the number of dots at each level of dotting.  For instance:"
   ]
  },
  {
   "cell_type": "code",
   "execution_count": 36,
   "metadata": {},
   "outputs": [
    {
     "data": {
      "image/png": "[encoded data removed]",
      "text/plain": [
       "<IPython.core.display.Image object>"
      ]
     },
     "metadata": {
      "image/png": {
       "height": 49,
       "width": 181
      }
     },
     "output_type": "display_data"
    }
   ],
   "source": [
    "n = note.Note('C5', type='half')\n",
    "n.duration.dotGroups = (1, 1)\n",
    "n.show()"
   ]
  },
  {
   "cell_type": "markdown",
   "metadata": {},
   "source": [
    "Since no current MusicXML readers support dot groups, they are represented by the closest acceptable notation unit, respecting the fact that they are essentially dotted-dotted notes."
   ]
  },
  {
   "cell_type": "markdown",
   "metadata": {},
   "source": [
    "## Durations that take no time at all.\n",
    "\n",
    "Among the duration types, such as 'half', 'whole', etc. there's one strange `type` called \"zero\". \n",
    "Durations with type \"zero\" measure objects that don't have any length at all.  It's\n",
    "used for measuring the conceptual length of grace notes,\n",
    "spaceless objects like `Clefs`, Liz Taylor's marriages,\n",
    "etc.:"
   ]
  },
  {
   "cell_type": "code",
   "execution_count": 37,
   "metadata": {},
   "outputs": [
    {
     "data": {
      "text/plain": [
       "<music21.duration.Duration 0.0>"
      ]
     },
     "execution_count": 37,
     "metadata": {},
     "output_type": "execute_result"
    }
   ],
   "source": [
    "k = key.KeySignature(3)\n",
    "k.duration"
   ]
  },
  {
   "cell_type": "code",
   "execution_count": 38,
   "metadata": {},
   "outputs": [
    {
     "data": {
      "text/plain": [
       "'zero'"
      ]
     },
     "execution_count": 38,
     "metadata": {},
     "output_type": "execute_result"
    }
   ],
   "source": [
    "k.duration.type"
   ]
  },
  {
   "cell_type": "markdown",
   "metadata": {
    "sphinx_links": {
     "any": true
    }
   },
   "source": [
    "We will talk more about zero-duration objects when we get to Grace Notes in :ref:`Chapter 27<usersGuide_27_graceNotes>`."
   ]
  },
  {
   "cell_type": "markdown",
   "metadata": {},
   "source": [
    "## Complex Durations"
   ]
  },
  {
   "cell_type": "markdown",
   "metadata": {},
   "source": [
    "Counting notes isn't as easy as we might think. For instance, listen to this little \"piece\":"
   ]
  },
  {
   "cell_type": "code",
   "execution_count": 39,
   "metadata": {
    "tags": [
     "nbval-ignore-output"
    ]
   },
   "outputs": [
    {
     "data": {
      "text/html": [
       "\n",
       "                <div id='midiPlayerDiv1697'></div>\n",
       "                <link rel=\"stylesheet\" href=\"//cuthbertLab.github.io/music21j/css/m21.css\"\n",
       "                    type=\"text/css\" />\n",
       "                <script>\n",
       "                require.config({\n",
       "                    paths: {'music21': '//cuthbertLab.github.io/music21j/src/music21'}\n",
       "                });\n",
       "                require(['music21'], function() {\n",
       "                               mp = new music21.miditools.MidiPlayer();\n",
       "                               mp.addPlayer('#midiPlayerDiv1697');\n",
       "                               mp.base64Load('data:audio/midi;base64,TVRoZAAAAAYAAQABBABNVHJrAAAAJwD/AwAA4ABAAP9YBAUCGAgAkDxakgCAPAAAkD1algCAPQCIAP8vAA==');\n",
       "                        });\n",
       "                </script>"
      ],
      "text/plain": [
       "<IPython.core.display.HTML object>"
      ]
     },
     "metadata": {},
     "output_type": "display_data"
    }
   ],
   "source": [
    "s = stream.Stream()\n",
    "s.append(meter.TimeSignature('5/4'))\n",
    "s.append(note.Note('C4', quarterLength=2.25))\n",
    "s.append(note.Note('C#4', quarterLength=2.75))\n",
    "s.show('midi')"
   ]
  },
  {
   "cell_type": "markdown",
   "metadata": {},
   "source": [
    "That sounds like it has two notes in it to me! But look at the best representation of it on a page:"
   ]
  },
  {
   "cell_type": "code",
   "execution_count": 40,
   "metadata": {},
   "outputs": [
    {
     "data": {
      "image/png": "[encoded data removed]",
      "text/plain": [
       "<IPython.core.display.Image object>"
      ]
     },
     "metadata": {
      "image/png": {
       "height": 58,
       "width": 289
      }
     },
     "output_type": "display_data"
    }
   ],
   "source": [
    "s.show()"
   ]
  },
  {
   "cell_type": "markdown",
   "metadata": {},
   "source": [
    "Now it looks like it has four notes in it!  Which number is right?  It depends on what is most important to you.  Sometimes you will want to work with the specific graphical symbols on the page.  Sometimes you only care about the number of distinct sounds.  And quite often you'll want to change from one representation to another within the same analysis task.  `Music21` makes moving between these two representations possible and after a while quite simple using the concepts of ties and complex durations."
   ]
  },
  {
   "cell_type": "markdown",
   "metadata": {},
   "source": [
    "Complex `Durations` are those that can't be expressed easily\n",
    "as a single written `Note` on a page.  For instance, a `Note`\n",
    "lasting a half-note plus a sixteenth-note can't be written as\n",
    "a single `Note` graphic, but it's perfectly fine to use as a\n",
    "quarterLength."
   ]
  },
  {
   "cell_type": "code",
   "execution_count": 41,
   "metadata": {
    "collapsed": true
   },
   "outputs": [],
   "source": [
    "oddDuration = duration.Duration()\n",
    "oddDuration.quarterLength = 2.25"
   ]
  },
  {
   "cell_type": "markdown",
   "metadata": {},
   "source": [
    "The `type` for these odd values is called \"complex\":"
   ]
  },
  {
   "cell_type": "code",
   "execution_count": 42,
   "metadata": {},
   "outputs": [
    {
     "data": {
      "text/plain": [
       "'complex'"
      ]
     },
     "execution_count": 42,
     "metadata": {},
     "output_type": "execute_result"
    }
   ],
   "source": [
    "oddDuration.type"
   ]
  },
  {
   "cell_type": "markdown",
   "metadata": {},
   "source": [
    "Complex types have multiple \"DurationTuple\" objects in `.components` that represent the smaller, simple durations that make up the entire Duration:"
   ]
  },
  {
   "cell_type": "code",
   "execution_count": 43,
   "metadata": {},
   "outputs": [
    {
     "data": {
      "text/plain": [
       "(DurationTuple(type='half', dots=0, quarterLength=2.0),\n",
       " DurationTuple(type='16th', dots=0, quarterLength=0.25))"
      ]
     },
     "execution_count": 43,
     "metadata": {},
     "output_type": "execute_result"
    }
   ],
   "source": [
    "oddDuration.components"
   ]
  },
  {
   "cell_type": "markdown",
   "metadata": {},
   "source": [
    "Some durations have multiple components even though they might not need them:"
   ]
  },
  {
   "cell_type": "code",
   "execution_count": 44,
   "metadata": {},
   "outputs": [
    {
     "data": {
      "text/plain": [
       "(DurationTuple(type='quarter', dots=0, quarterLength=1.0),\n",
       " DurationTuple(type='eighth', dots=0, quarterLength=0.5))"
      ]
     },
     "execution_count": 44,
     "metadata": {},
     "output_type": "execute_result"
    }
   ],
   "source": [
    "d = duration.Duration(1.0)\n",
    "d.addDurationTuple(duration.DurationTuple('eighth', 0, 0.5))\n",
    "d.components"
   ]
  },
  {
   "cell_type": "code",
   "execution_count": 45,
   "metadata": {},
   "outputs": [
    {
     "data": {
      "text/plain": [
       "'complex'"
      ]
     },
     "execution_count": 45,
     "metadata": {},
     "output_type": "execute_result"
    }
   ],
   "source": [
    "d.type"
   ]
  },
  {
   "cell_type": "markdown",
   "metadata": {},
   "source": [
    "For these durations, there's a method called `.consolidate()` that will put both of these components together into one component.  In this case, it's a nice dotted quarter note:"
   ]
  },
  {
   "cell_type": "code",
   "execution_count": 46,
   "metadata": {},
   "outputs": [
    {
     "data": {
      "text/plain": [
       "('quarter', 1, 1.5)"
      ]
     },
     "execution_count": 46,
     "metadata": {},
     "output_type": "execute_result"
    }
   ],
   "source": [
    "d.consolidate()\n",
    "(d.type, d.dots, d.quarterLength)"
   ]
  },
  {
   "cell_type": "code",
   "execution_count": 47,
   "metadata": {},
   "outputs": [
    {
     "data": {
      "text/plain": [
       "(DurationTuple(type='quarter', dots=1, quarterLength=1.5),)"
      ]
     },
     "execution_count": 47,
     "metadata": {},
     "output_type": "execute_result"
    }
   ],
   "source": [
    "d.components"
   ]
  },
  {
   "cell_type": "markdown",
   "metadata": {},
   "source": [
    "However, forcing something that really should have multiple components into one creates an \"inexpressible\" type that can't be outputted to most formats:"
   ]
  },
  {
   "cell_type": "code",
   "execution_count": 48,
   "metadata": {},
   "outputs": [
    {
     "data": {
      "text/plain": [
       "'inexpressible'"
      ]
     },
     "execution_count": 48,
     "metadata": {},
     "output_type": "execute_result"
    }
   ],
   "source": [
    "d = duration.Duration(5.0)\n",
    "d.consolidate()\n",
    "d.type"
   ]
  },
  {
   "cell_type": "code",
   "execution_count": 49,
   "metadata": {},
   "outputs": [
    {
     "data": {
      "text/plain": [
       "(DurationTuple(type='inexpressible', dots=0, quarterLength=5.0),)"
      ]
     },
     "execution_count": 49,
     "metadata": {},
     "output_type": "execute_result"
    }
   ],
   "source": [
    "d.components"
   ]
  },
  {
   "cell_type": "markdown",
   "metadata": {},
   "source": [
    "To fix this situation, the easiest thing to do is just to assign the duration its own quarterLength."
   ]
  },
  {
   "cell_type": "code",
   "execution_count": 50,
   "metadata": {},
   "outputs": [
    {
     "data": {
      "text/plain": [
       "(DurationTuple(type='whole', dots=0, quarterLength=4.0),\n",
       " DurationTuple(type='quarter', dots=0, quarterLength=1.0))"
      ]
     },
     "execution_count": 50,
     "metadata": {},
     "output_type": "execute_result"
    }
   ],
   "source": [
    "d.quarterLength = d.quarterLength\n",
    "d.components"
   ]
  },
  {
   "cell_type": "markdown",
   "metadata": {
    "collapsed": true
   },
   "source": [
    "## Splitting and Tied objects:"
   ]
  },
  {
   "cell_type": "markdown",
   "metadata": {},
   "source": [
    "In the last section we ended up with a Duration object with two components, a whole-note's duration and a quarter-note's duration.  We can conceive of either one note having this duration, or two notes with this duration that are tied together.  Let's look at how to move from one view to another, first by attaching the duration to a note."
   ]
  },
  {
   "cell_type": "code",
   "execution_count": 51,
   "metadata": {},
   "outputs": [
    {
     "data": {
      "image/png": "[encoded data removed]",
      "text/plain": [
       "<IPython.core.display.Image object>"
      ]
     },
     "metadata": {
      "image/png": {
       "height": 49,
       "width": 177
      }
     },
     "output_type": "display_data"
    }
   ],
   "source": [
    "n = note.Note('F#4')\n",
    "n.duration = d\n",
    "n.show()"
   ]
  },
  {
   "cell_type": "markdown",
   "metadata": {},
   "source": [
    "Now let's split this Note according to its component durations using the :meth:`~music21.base.Music21Object.splitAtDurations` method found on every `Music21Object`."
   ]
  },
  {
   "cell_type": "code",
   "execution_count": 52,
   "metadata": {},
   "outputs": [
    {
     "data": {
      "text/plain": [
       "(<music21.note.Note F#>, <music21.note.Note F#>)"
      ]
     },
     "execution_count": 52,
     "metadata": {},
     "output_type": "execute_result"
    }
   ],
   "source": [
    "split = n.splitAtDurations()\n",
    "split"
   ]
  },
  {
   "cell_type": "code",
   "execution_count": 53,
   "metadata": {},
   "outputs": [
    {
     "data": {
      "text/plain": [
       "[4.0, 1.0]"
      ]
     },
     "execution_count": 53,
     "metadata": {},
     "output_type": "execute_result"
    }
   ],
   "source": [
    "[subNote.quarterLength for subNote in split]"
   ]
  },
  {
   "cell_type": "markdown",
   "metadata": {},
   "source": [
    "So now instead of one note with the duration of 5.0 quarter notes, we have two notes, one which is a whole note and the other which is a quarter note.  If we put both of them into a stream, we can see how they look:"
   ]
  },
  {
   "cell_type": "code",
   "execution_count": 54,
   "metadata": {},
   "outputs": [
    {
     "data": {
      "image/png": "[encoded data removed]",
      "text/plain": [
       "<IPython.core.display.Image object>"
      ]
     },
     "metadata": {
      "image/png": {
       "height": 49,
       "width": 230
      }
     },
     "output_type": "display_data"
    }
   ],
   "source": [
    "s = stream.Stream()\n",
    "s.append(split)\n",
    "s.show()"
   ]
  },
  {
   "cell_type": "markdown",
   "metadata": {},
   "source": [
    "Notice the one subtle difference between the two representations.  In the second case, since there were two notes (and not explicit time signatures), the Stream was allowed to split the notes into two measures in order to use the more common time signature of 4/4.\n",
    "\n",
    "But how does the Stream know that the two notes should have a tie connecting them?  The answer is that `splitAtDurations` sets the `.tie` attribute on each of the notes:"
   ]
  },
  {
   "cell_type": "code",
   "execution_count": 55,
   "metadata": {},
   "outputs": [
    {
     "data": {
      "text/plain": [
       "<music21.tie.Tie start>"
      ]
     },
     "execution_count": 55,
     "metadata": {},
     "output_type": "execute_result"
    }
   ],
   "source": [
    "split[0].tie"
   ]
  },
  {
   "cell_type": "code",
   "execution_count": 56,
   "metadata": {},
   "outputs": [
    {
     "data": {
      "text/plain": [
       "<music21.tie.Tie stop>"
      ]
     },
     "execution_count": 56,
     "metadata": {},
     "output_type": "execute_result"
    }
   ],
   "source": [
    "split[1].tie"
   ]
  },
  {
   "cell_type": "markdown",
   "metadata": {},
   "source": [
    "We will learn more about Ties in :ref:`Chapter 31, Clefs, Ties, and Beams <usersGuide_31_clefs>`."
   ]
  },
  {
   "cell_type": "markdown",
   "metadata": {},
   "source": [
    "When splitting an object such as a :class:`~music21.note.Rest` that doesn't use ties, music21 is smart enough not to add ties:"
   ]
  },
  {
   "cell_type": "code",
   "execution_count": 57,
   "metadata": {},
   "outputs": [
    {
     "data": {
      "image/png": "[encoded data removed]",
      "text/plain": [
       "<IPython.core.display.Image object>"
      ]
     },
     "metadata": {
      "image/png": {
       "height": 49,
       "width": 174
      }
     },
     "output_type": "display_data"
    }
   ],
   "source": [
    "r = note.Rest(quarterLength=2.25)\n",
    "s = stream.Stream()\n",
    "s.append(r.splitAtDurations())\n",
    "s.show()"
   ]
  },
  {
   "cell_type": "markdown",
   "metadata": {
    "sphinx_links": {
     "any": true
    }
   },
   "source": [
    "## Conclusion\n",
    "\n",
    "In this chapter we learned many of the advanced features of durations, such as how they can be composed of multiple components called `DurationTuples`, how triplets and other tuplets work, how durations can be linked or unlinked, and how splitting a Note or other object works.\n",
    "\n",
    "It's been a while since we've put all our knowledge to work, so in :ref:`Chapter 20, Examples 2 <usersGuide_20_examples2>` we'll consolidate our knowledge in the service of analysis."
   ]
  }
 ],
 "metadata": {
  "anaconda-cloud": {},
  "kernelspec": {
   "display_name": "Python 3",
   "language": "python",
   "name": "python3"
  },
  "language_info": {
   "codemirror_mode": {
    "name": "ipython",
    "version": 3
   },
   "file_extension": ".py",
   "mimetype": "text/x-python",
   "name": "python",
   "nbconvert_exporter": "python",
   "pygments_lexer": "ipython3",
   "version": "3.6.2"
  }
 },
 "nbformat": 4,
 "nbformat_minor": 1
}
