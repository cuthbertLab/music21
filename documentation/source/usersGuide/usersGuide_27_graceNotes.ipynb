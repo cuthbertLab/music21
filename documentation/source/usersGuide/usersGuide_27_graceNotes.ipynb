{
 "cells": [
  {
   "cell_type": "markdown",
   "metadata": {},
   "source": [
    "# User's Guide, Chapter 27: Grace Notes\n",
    "\n",
    "Grace notes present particular problems for almost all computer representations of scores.  In one way of theorizing them, they take up no time whatsoever -- you can take a full measure of 4/4 and add two hundred grace notes and the measure is still not over full.  On the other hand, they need to take up some time, otherwise how would we hear them?\n",
    "\n",
    "So we have something that takes up no time, but takes up time, at the same time.  Let's look more closely at them.  Along the way we'll look at appogiature, which present some issues that are similar and some that are different.\n",
    "\n",
    "## Basic Graces\n",
    "\n",
    "We'll begin by creating a 4/4 measure of four quarter notes:"
   ]
  },
  {
   "cell_type": "code",
   "execution_count": 1,
   "metadata": {},
   "outputs": [
    {
     "data": {
      "image/png": "[encoded data removed]",
      "text/plain": [
       "<IPython.core.display.Image object>"
      ]
     },
     "metadata": {
      "image/png": {
       "height": 49,
       "width": 259
      }
     },
     "output_type": "display_data"
    }
   ],
   "source": [
    "from music21 import *\n",
    "\n",
    "m = stream.Measure()\n",
    "m.append(meter.TimeSignature('4/4'))\n",
    "m.repeatAppend(note.Note('C5'), 4)\n",
    "m.show()"
   ]
  },
  {
   "cell_type": "markdown",
   "metadata": {},
   "source": [
    "Now let's insert a D-grace note just before the third quarter note.  First we create a normal note (usually an eighth note) and then we create a new grace note with the `getGrace` method."
   ]
  },
  {
   "cell_type": "code",
   "execution_count": 2,
   "metadata": {},
   "outputs": [
    {
     "data": {
      "image/png": "[encoded data removed]",
      "text/plain": [
       "<IPython.core.display.Image object>"
      ]
     },
     "metadata": {
      "image/png": {
       "height": 49,
       "width": 293
      }
     },
     "output_type": "display_data"
    }
   ],
   "source": [
    "d = note.Note('D5', type='eighth')\n",
    "dGrace = d.getGrace()\n",
    "m.insert(2.0, dGrace)\n",
    "m.show()"
   ]
  },
  {
   "cell_type": "markdown",
   "metadata": {},
   "source": [
    "If we look at `dGrace` at first it appears to be just a normal Note:"
   ]
  },
  {
   "cell_type": "code",
   "execution_count": 3,
   "metadata": {},
   "outputs": [
    {
     "data": {
      "text/plain": [
       "<music21.note.Note D>"
      ]
     },
     "execution_count": 3,
     "metadata": {},
     "output_type": "execute_result"
    }
   ],
   "source": [
    "dGrace"
   ]
  },
  {
   "cell_type": "markdown",
   "metadata": {},
   "source": [
    "But its `duration` is a subclass called `GraceDuration`.  Importantly, it is an \"unlinked\" duration, meaning that the `type` (e.g. \"eighth\") of the duration does not say how long it lasts."
   ]
  },
  {
   "cell_type": "code",
   "execution_count": 4,
   "metadata": {},
   "outputs": [
    {
     "data": {
      "text/plain": [
       "<music21.duration.GraceDuration unlinked type:eighth quarterLength:0.0>"
      ]
     },
     "execution_count": 4,
     "metadata": {},
     "output_type": "execute_result"
    }
   ],
   "source": [
    "dGrace.duration"
   ]
  },
  {
   "cell_type": "code",
   "execution_count": 5,
   "metadata": {},
   "outputs": [
    {
     "data": {
      "text/plain": [
       "False"
      ]
     },
     "execution_count": 5,
     "metadata": {},
     "output_type": "execute_result"
    }
   ],
   "source": [
    "dGrace.duration.linked"
   ]
  },
  {
   "cell_type": "markdown",
   "metadata": {},
   "source": [
    "There is one `DurationTuple` in the `.components` of the GraceDuration object, and it is an eighth note of length 0."
   ]
  },
  {
   "cell_type": "code",
   "execution_count": 6,
   "metadata": {},
   "outputs": [
    {
     "data": {
      "text/plain": [
       "(DurationTuple(type='eighth', dots=0, quarterLength=0.0),)"
      ]
     },
     "execution_count": 6,
     "metadata": {},
     "output_type": "execute_result"
    }
   ],
   "source": [
    "dGrace.duration.components"
   ]
  },
  {
   "cell_type": "markdown",
   "metadata": {},
   "source": [
    "A GraceDuration has the boolean attribute `.slash` which says whether or not it receives a slash.  By default this is True."
   ]
  },
  {
   "cell_type": "code",
   "execution_count": 7,
   "metadata": {},
   "outputs": [
    {
     "data": {
      "text/plain": [
       "True"
      ]
     },
     "execution_count": 7,
     "metadata": {},
     "output_type": "execute_result"
    }
   ],
   "source": [
    "dGrace.duration.slash"
   ]
  },
  {
   "cell_type": "markdown",
   "metadata": {},
   "source": [
    "Within a `Stream` grace notes sort before elements of the same class that have the same priority and offset.  Internally, this is done by setting `isNotGrace` to 0 in the sort tuple. (normally it is 1)."
   ]
  },
  {
   "cell_type": "code",
   "execution_count": 8,
   "metadata": {},
   "outputs": [
    {
     "data": {
      "text/plain": [
       "SortTuple(atEnd=0, offset=2.0, priority=0, classSortOrder=20, isNotGrace=0, insertIndex=110)"
      ]
     },
     "execution_count": 8,
     "metadata": {},
     "output_type": "execute_result"
    }
   ],
   "source": [
    "#_DOCS_SHOW dGrace.sortTuple()\n",
    "dGrace.sortTuple().modify(insertIndex=110) #_DOCS_HIDE"
   ]
  },
  {
   "cell_type": "markdown",
   "metadata": {},
   "source": [
    "Normally grace notes are slurred to the following note, so let's add a slur there."
   ]
  },
  {
   "cell_type": "code",
   "execution_count": 9,
   "metadata": {},
   "outputs": [
    {
     "data": {
      "image/png": "[encoded data removed]",
      "text/plain": [
       "<IPython.core.display.Image object>"
      ]
     },
     "metadata": {
      "image/png": {
       "height": 49,
       "width": 293
      }
     },
     "output_type": "display_data"
    }
   ],
   "source": [
    "thirdNote = m.notes[-2]\n",
    "sl = spanner.Slur(dGrace, thirdNote)\n",
    "m.insert(0, sl)\n",
    "m.show()"
   ]
  },
  {
   "cell_type": "markdown",
   "metadata": {},
   "source": [
    "## Multiple Grace Notes"
   ]
  },
  {
   "cell_type": "markdown",
   "metadata": {},
   "source": [
    "Multiple grace notes are normally beamed together and generally written as sixteenth or thirty-second notes.  We'll add two graces to the last C in the measure:"
   ]
  },
  {
   "cell_type": "code",
   "execution_count": 10,
   "metadata": {},
   "outputs": [
    {
     "data": {
      "image/png": "[encoded data removed]",
      "text/plain": [
       "<IPython.core.display.Image object>"
      ]
     },
     "metadata": {
      "image/png": {
       "height": 56,
       "width": 331
      }
     },
     "output_type": "display_data"
    }
   ],
   "source": [
    "eGrace = note.Note('E5', type='16th').getGrace()\n",
    "dGrace2 = note.Note('D5', type='16th').getGrace()\n",
    "eGrace.beams.fill(2, 'start')\n",
    "dGrace2.beams.fill(2, 'stop')\n",
    "m.insert(3.0, eGrace)\n",
    "m.insert(3.0, dGrace2)\n",
    "m.show()"
   ]
  },
  {
   "cell_type": "markdown",
   "metadata": {},
   "source": [
    "Notice that the grace notes are ordered according to the principle, \"first inserted = left-most, last inserted = right-most.\"  If you know every note to be inserted in advance, then there's no problem getting the order right. But suppose you need to change it later?  In this case, change the priority of the grace notes:"
   ]
  },
  {
   "cell_type": "code",
   "execution_count": 11,
   "metadata": {},
   "outputs": [
    {
     "data": {
      "image/png": "[encoded data removed]",
      "text/plain": [
       "<IPython.core.display.Image object>"
      ]
     },
     "metadata": {
      "image/png": {
       "height": 55,
       "width": 331
      }
     },
     "output_type": "display_data"
    }
   ],
   "source": [
    "dGrace2.priority = -1\n",
    "m.show()"
   ]
  },
  {
   "cell_type": "markdown",
   "metadata": {},
   "source": [
    "Note that the default priority of all objects is 0, so that by giving a priority higher than 1, the grace notes can be made to follow the main note:"
   ]
  },
  {
   "cell_type": "code",
   "execution_count": 12,
   "metadata": {},
   "outputs": [
    {
     "data": {
      "image/png": "[encoded data removed]",
      "text/plain": [
       "<IPython.core.display.Image object>"
      ]
     },
     "metadata": {
      "image/png": {
       "height": 55,
       "width": 332
      }
     },
     "output_type": "display_data"
    }
   ],
   "source": [
    "dGrace2.priority = 1\n",
    "eGrace.priority = 2\n",
    "m.show()"
   ]
  },
  {
   "cell_type": "markdown",
   "metadata": {},
   "source": [
    "This is useful for cases such as putting a \"Nachschlag\" or \"Nachschlagen\" after a trill:"
   ]
  },
  {
   "cell_type": "code",
   "execution_count": 15,
   "metadata": {},
   "outputs": [
    {
     "data": {
      "image/png": "[encoded data removed]",
      "text/plain": [
       "<IPython.core.display.Image object>"
      ]
     },
     "metadata": {
      "image/png": {
       "height": 66,
       "width": 294
      }
     },
     "output_type": "display_data"
    }
   ],
   "source": [
    "p = stream.Part()\n",
    "m1 = stream.Measure()\n",
    "n2 = note.Note('F#5', type='whole')\n",
    "nach1 = note.Note('E5', type='16th').getGrace()\n",
    "nach2 = note.Note('F#5', type='16th').getGrace()\n",
    "nach1.priority = 1\n",
    "nach2.priority = 2\n",
    "\n",
    "trMark = expressions.Trill()\n",
    "n2.expressions.append(trMark)\n",
    "\n",
    "m1.insert(0, n2)\n",
    "m1.insert(0, nach1)\n",
    "m1.insert(0, nach2)\n",
    "\n",
    "p.append(m1)\n",
    "\n",
    "m2 = stream.Measure()\n",
    "nResolve = note.Note('G5', type='whole')\n",
    "m2.append(nResolve)\n",
    "p.append(m2)\n",
    "\n",
    "# nResolve is necessary because \n",
    "# MuseScore has a bug with spanners that end with grace notes.\n",
    "nachSlur = spanner.Slur([nach1, nach2, nResolve])\n",
    "p.insert(0, nachSlur)\n",
    "\n",
    "# beams are also created automagically on show\n",
    "p.show()"
   ]
  },
  {
   "cell_type": "markdown",
   "metadata": {},
   "source": [
    "## Stealing time\n",
    "\n",
    "`.stealTimePrevious` and `.stealTimeFollowing` are values from 0 to 1 that show what fraction of the previous or following note's durations should be allocated to make room for this grace note.\n",
    "\n",
    "MIDI output does not yet support playing back grace notes."
   ]
  },
  {
   "cell_type": "markdown",
   "metadata": {},
   "source": [
    "## Chordify and Grace Notes\n",
    "\n",
    "By default, music21 includes GraceNotes when creating chords via `chordify`:"
   ]
  },
  {
   "cell_type": "code",
   "execution_count": 16,
   "metadata": {},
   "outputs": [
    {
     "data": {
      "image/png": "[encoded data removed]",
      "text/plain": [
       "<IPython.core.display.Image object>"
      ]
     },
     "metadata": {
      "image/png": {
       "height": 49,
       "width": 298
      }
     },
     "output_type": "display_data"
    }
   ],
   "source": [
    "m.chordify().show()"
   ]
  },
  {
   "cell_type": "markdown",
   "metadata": {},
   "source": [
    "While this behavior may be desireable in some cases, for many uses, it is unlikely to result in chords that are intended.  However, it is easy to create a Stream that removes the grace notes.  First, let's make a copy of the measure, so we do not change the original:"
   ]
  },
  {
   "cell_type": "code",
   "execution_count": 17,
   "metadata": {},
   "outputs": [],
   "source": [
    "import copy\n",
    "mCopy = copy.deepcopy(m)"
   ]
  },
  {
   "cell_type": "markdown",
   "metadata": {},
   "source": [
    "Next, we will keep track of every grace note to remove:"
   ]
  },
  {
   "cell_type": "code",
   "execution_count": 18,
   "metadata": {},
   "outputs": [
    {
     "data": {
      "text/plain": [
       "[<music21.note.Note D>, <music21.note.Note D>, <music21.note.Note E>]"
      ]
     },
     "execution_count": 18,
     "metadata": {},
     "output_type": "execute_result"
    }
   ],
   "source": [
    "graceNotes = []\n",
    "for n in mCopy.recurse().notes:\n",
    "    if n.duration.isGrace:\n",
    "        graceNotes.append(n)\n",
    "\n",
    "graceNotes"
   ]
  },
  {
   "cell_type": "markdown",
   "metadata": {},
   "source": [
    "Next remove them from their activeSite (which might be a `Voice` within a measure, etc.).  This is done in a separate step because removing objects from an iterator during iteration leads to bad consequences:"
   ]
  },
  {
   "cell_type": "code",
   "execution_count": 19,
   "metadata": {},
   "outputs": [],
   "source": [
    "for grace in graceNotes:\n",
    "    grace.activeSite.remove(grace)"
   ]
  },
  {
   "cell_type": "code",
   "execution_count": 20,
   "metadata": {},
   "outputs": [
    {
     "data": {
      "image/png": "[encoded data removed]",
      "text/plain": [
       "<IPython.core.display.Image object>"
      ]
     },
     "metadata": {
      "image/png": {
       "height": 49,
       "width": 259
      }
     },
     "output_type": "display_data"
    }
   ],
   "source": [
    "mCopy.chordify().show()"
   ]
  },
  {
   "cell_type": "markdown",
   "metadata": {},
   "source": [
    "(Alternatively, this could be done in one step if `mCopy.recurse().notes` was replaced with `list(mCopy.recurse().notes)`, but better to be explicit about what we are doing than implicit.) "
   ]
  },
  {
   "cell_type": "markdown",
   "metadata": {},
   "source": [
    "## Appogiature\n",
    "\n",
    "Appogiature are not yet fully supported by music21.  Documentation here is a TODO."
   ]
  },
  {
   "cell_type": "markdown",
   "metadata": {
    "sphinx_links": {
     "any": true
    }
   },
   "source": [
    "That's enough on grace notes for now.  Let's move to finding things with something to say: :ref:`Chapter 28: Lyric Searching <usersGuide_28_lyricSearcher>`"
   ]
  }
 ],
 "metadata": {
  "anaconda-cloud": {},
  "kernelspec": {
   "display_name": "Python 3",
   "language": "python",
   "name": "python3"
  },
  "language_info": {
   "codemirror_mode": {
    "name": "ipython",
    "version": 3
   },
   "file_extension": ".py",
   "mimetype": "text/x-python",
   "name": "python",
   "nbconvert_exporter": "python",
   "pygments_lexer": "ipython3",
   "version": "3.8.5"
  }
 },
 "nbformat": 4,
 "nbformat_minor": 4
}
