{
 "cells": [
  {
   "cell_type": "markdown",
   "metadata": {},
   "source": [
    "\n",
    "# User's Guide, Chapter 31: Clefs, Ties, and Beams\n",
    "\n",
    "Throughout the first thirty chapters, we have repeatedly been using fundamental music notation principles, such as clefs, ties, and beams, but we have never talked about them directly.  This chapter gives a chance to do so and to look at some `Stream` methods that make use of them.\n",
    "\n",
    "Let's first look at clefs.  They all live in the :ref:`moduleClef` module:"
   ]
  },
  {
   "cell_type": "code",
   "execution_count": 1,
   "metadata": {},
   "outputs": [
    {
     "data": {
      "image/png": "[encoded data removed]",
      "text/plain": [
       "<IPython.core.display.Image object>"
      ]
     },
     "metadata": {
      "image/png": {
       "height": 28,
       "width": 159
      }
     },
     "output_type": "display_data"
    }
   ],
   "source": [
    "from music21 import *\n",
    "alto = clef.AltoClef()\n",
    "m = stream.Measure([alto])\n",
    "m.show()"
   ]
  },
  {
   "cell_type": "markdown",
   "metadata": {},
   "source": [
    "Since clefs can be put into Streams, they are Music21Objects, with offsets, etc., but they generally have a Duration of zero."
   ]
  },
  {
   "cell_type": "code",
   "execution_count": 2,
   "metadata": {},
   "outputs": [
    {
     "data": {
      "text/plain": [
       "0.0"
      ]
     },
     "execution_count": 2,
     "metadata": {},
     "output_type": "execute_result"
    }
   ],
   "source": [
    "alto.offset"
   ]
  },
  {
   "cell_type": "code",
   "execution_count": 3,
   "metadata": {},
   "outputs": [
    {
     "data": {
      "text/plain": [
       "<music21.duration.Duration 0.0>"
      ]
     },
     "execution_count": 3,
     "metadata": {},
     "output_type": "execute_result"
    }
   ],
   "source": [
    "alto.duration"
   ]
  },
  {
   "cell_type": "markdown",
   "metadata": {},
   "source": [
    "Multiple clefs can coexist in the same measure, and will all display (so long as there's at least one note between them; a problem of our MusicXML readers):"
   ]
  },
  {
   "cell_type": "code",
   "execution_count": 4,
   "metadata": {},
   "outputs": [
    {
     "data": {
      "image/png": "[encoded data removed]",
      "text/plain": [
       "<IPython.core.display.Image object>"
      ]
     },
     "metadata": {
      "image/png": {
       "height": 46,
       "width": 258
      }
     },
     "output_type": "display_data"
    }
   ],
   "source": [
    "m.append(note.Note('C4'))\n",
    "bass = clef.BassClef()\n",
    "m.append(bass)\n",
    "m.append(note.Note('C4'))\n",
    "m.show()"
   ]
  },
  {
   "cell_type": "markdown",
   "metadata": {},
   "source": [
    "Most of the clefs in common use are `PitchClefs` and they know what line they are on:"
   ]
  },
  {
   "cell_type": "code",
   "execution_count": 5,
   "metadata": {},
   "outputs": [
    {
     "data": {
      "text/plain": [
       "3"
      ]
     },
     "execution_count": 5,
     "metadata": {},
     "output_type": "execute_result"
    }
   ],
   "source": [
    "alto.line"
   ]
  },
  {
   "cell_type": "code",
   "execution_count": 6,
   "metadata": {},
   "outputs": [
    {
     "data": {
      "image/png": "[encoded data removed]",
      "text/plain": [
       "<IPython.core.display.Image object>"
      ]
     },
     "metadata": {
      "image/png": {
       "height": 34,
       "width": 159
      }
     },
     "output_type": "display_data"
    }
   ],
   "source": [
    "tenor = clef.TenorClef()\n",
    "tenor.show()"
   ]
  },
  {
   "cell_type": "code",
   "execution_count": 7,
   "metadata": {},
   "outputs": [
    {
     "data": {
      "text/plain": [
       "4"
      ]
     },
     "execution_count": 7,
     "metadata": {},
     "output_type": "execute_result"
    }
   ],
   "source": [
    "tenor.line"
   ]
  },
  {
   "cell_type": "markdown",
   "metadata": {},
   "source": [
    "In this case, the line refers to the pitch that it's \"sign\" can be found on."
   ]
  },
  {
   "cell_type": "code",
   "execution_count": 8,
   "metadata": {},
   "outputs": [
    {
     "data": {
      "text/plain": [
       "'C'"
      ]
     },
     "execution_count": 8,
     "metadata": {},
     "output_type": "execute_result"
    }
   ],
   "source": [
    "tenor.sign"
   ]
  },
  {
   "cell_type": "code",
   "execution_count": 9,
   "metadata": {},
   "outputs": [
    {
     "data": {
      "text/plain": [
       "'G'"
      ]
     },
     "execution_count": 9,
     "metadata": {},
     "output_type": "execute_result"
    }
   ],
   "source": [
    "treble = clef.TrebleClef()\n",
    "treble.sign"
   ]
  },
  {
   "cell_type": "markdown",
   "metadata": {},
   "source": [
    "Clefs also have an `.octaveChange` value which specifies how many octaves \"off\" from the basic clef they are."
   ]
  },
  {
   "cell_type": "code",
   "execution_count": 10,
   "metadata": {},
   "outputs": [
    {
     "data": {
      "text/plain": [
       "0"
      ]
     },
     "execution_count": 10,
     "metadata": {},
     "output_type": "execute_result"
    }
   ],
   "source": [
    "treble.octaveChange"
   ]
  },
  {
   "cell_type": "code",
   "execution_count": 11,
   "metadata": {},
   "outputs": [
    {
     "data": {
      "text/plain": [
       "-1"
      ]
     },
     "execution_count": 11,
     "metadata": {},
     "output_type": "execute_result"
    }
   ],
   "source": [
    "t8vb = clef.Treble8vbClef()\n",
    "t8vb.octaveChange"
   ]
  },
  {
   "cell_type": "code",
   "execution_count": 12,
   "metadata": {},
   "outputs": [
    {
     "data": {
      "image/png": "[encoded data removed]",
      "text/plain": [
       "<IPython.core.display.Image object>"
      ]
     },
     "metadata": {
      "image/png": {
       "height": 55,
       "width": 160
      }
     },
     "output_type": "display_data"
    }
   ],
   "source": [
    "t8vb.show()"
   ]
  },
  {
   "cell_type": "markdown",
   "metadata": {},
   "source": [
    "There are some clefs that do not support Pitches, such as NoClef:"
   ]
  },
  {
   "cell_type": "code",
   "execution_count": 13,
   "metadata": {},
   "outputs": [],
   "source": [
    "noClef = clef.NoClef()"
   ]
  },
  {
   "cell_type": "markdown",
   "metadata": {},
   "source": [
    "This clef is not supported in MuseScore (which I use to generate these docs), but in some other MusicXML readers, will render a score without a clef.  Percussion clefs also are not pitch clefs:"
   ]
  },
  {
   "cell_type": "code",
   "execution_count": 15,
   "metadata": {},
   "outputs": [
    {
     "data": {
      "image/png": "[encoded data removed]",
      "text/plain": [
       "<IPython.core.display.Image object>"
      ]
     },
     "metadata": {
      "image/png": {
       "height": 28,
       "width": 144
      }
     },
     "output_type": "display_data"
    }
   ],
   "source": [
    "clef.PercussionClef().show()"
   ]
  },
  {
   "cell_type": "markdown",
   "metadata": {},
   "source": [
    "There are a lot of clefs that are pre-defined in `music21` including unusual ones such as `MezzoSopranoClef`, `SubBassClef`, and `JianpuClef`.  The :ref:`moduleClef` module lists them all.  But you can also create your own clef."
   ]
  },
  {
   "cell_type": "code",
   "execution_count": 16,
   "metadata": {},
   "outputs": [
    {
     "data": {
      "image/png": "[encoded data removed]",
      "text/plain": [
       "<IPython.core.display.Image object>"
      ]
     },
     "metadata": {
      "image/png": {
       "height": 28,
       "width": 162
      }
     },
     "output_type": "display_data"
    }
   ],
   "source": [
    "pc = clef.PitchClef()\n",
    "pc.sign = 'F'\n",
    "pc.line = 4\n",
    "pc.octaveChange = -1\n",
    "pc.show()"
   ]
  },
  {
   "cell_type": "markdown",
   "metadata": {},
   "source": [
    "And you can get a clef from a string by using the :func:`~music21.clef.clefFromString` function:"
   ]
  },
  {
   "cell_type": "code",
   "execution_count": 17,
   "metadata": {},
   "outputs": [
    {
     "data": {
      "text/plain": [
       "<music21.clef.TrebleClef>"
      ]
     },
     "execution_count": 17,
     "metadata": {},
     "output_type": "execute_result"
    }
   ],
   "source": [
    "clef.clefFromString('treble')"
   ]
  },
  {
   "cell_type": "markdown",
   "metadata": {},
   "source": [
    "Or from a sign and a number of the line:"
   ]
  },
  {
   "cell_type": "code",
   "execution_count": 18,
   "metadata": {},
   "outputs": [
    {
     "data": {
      "image/png": "[encoded data removed]",
      "text/plain": [
       "<IPython.core.display.Image object>"
      ]
     },
     "metadata": {
      "image/png": {
       "height": 34,
       "width": 159
      }
     },
     "output_type": "display_data"
    }
   ],
   "source": [
    "c = clef.clefFromString('C4')\n",
    "c.show()"
   ]
  },
  {
   "cell_type": "markdown",
   "metadata": {},
   "source": [
    "If you've run `from music21 import *` be very careful not to name your variable `clef` or you will lose access to the `clef` module!"
   ]
  },
  {
   "cell_type": "markdown",
   "metadata": {},
   "source": [
    "## Automatic Clef Generation\n",
    "\n",
    "Look at this quick Stream:"
   ]
  },
  {
   "cell_type": "code",
   "execution_count": 19,
   "metadata": {},
   "outputs": [
    {
     "data": {
      "image/png": "[encoded data removed]",
      "text/plain": [
       "<IPython.core.display.Image object>"
      ]
     },
     "metadata": {
      "image/png": {
       "height": 31,
       "width": 192
      }
     },
     "output_type": "display_data"
    }
   ],
   "source": [
    "n = note.Note('B2')\n",
    "s = stream.Stream([n])\n",
    "s.show()"
   ]
  },
  {
   "cell_type": "markdown",
   "metadata": {},
   "source": [
    "How did `music21` know to make the clef be bass clef?  It turns out that there's a function in `clef` called :func:`~music21.clef.bestClef` which can return the best clef given the contents of the stream:"
   ]
  },
  {
   "cell_type": "code",
   "execution_count": 20,
   "metadata": {},
   "outputs": [
    {
     "data": {
      "text/plain": [
       "<music21.clef.BassClef>"
      ]
     },
     "execution_count": 20,
     "metadata": {},
     "output_type": "execute_result"
    }
   ],
   "source": [
    "clef.bestClef(s)"
   ]
  },
  {
   "cell_type": "code",
   "execution_count": 21,
   "metadata": {},
   "outputs": [
    {
     "data": {
      "text/plain": [
       "<music21.clef.TrebleClef>"
      ]
     },
     "execution_count": 21,
     "metadata": {},
     "output_type": "execute_result"
    }
   ],
   "source": [
    "s.append(note.Note('C6'))\n",
    "clef.bestClef(s)"
   ]
  },
  {
   "cell_type": "code",
   "execution_count": 22,
   "metadata": {},
   "outputs": [
    {
     "data": {
      "image/png": "[encoded data removed]",
      "text/plain": [
       "<IPython.core.display.Image object>"
      ]
     },
     "metadata": {
      "image/png": {
       "height": 83,
       "width": 220
      }
     },
     "output_type": "display_data"
    }
   ],
   "source": [
    "s.show()"
   ]
  },
  {
   "cell_type": "markdown",
   "metadata": {},
   "source": [
    "`bestClef` has two configurable options, `allowTreble8vb` if set to True, gives the very useful `Treble8vb` clef:"
   ]
  },
  {
   "cell_type": "code",
   "execution_count": 23,
   "metadata": {},
   "outputs": [
    {
     "data": {
      "text/plain": [
       "<music21.clef.Treble8vbClef>"
      ]
     },
     "execution_count": 23,
     "metadata": {},
     "output_type": "execute_result"
    }
   ],
   "source": [
    "n = note.Note('B3')\n",
    "s = stream.Stream([n])\n",
    "clef.bestClef(s, allowTreble8vb=True)"
   ]
  },
  {
   "cell_type": "markdown",
   "metadata": {},
   "source": [
    "And it also has a `recurse` parameter, which should be set to True when running on a nested stream structure, such as a part:"
   ]
  },
  {
   "cell_type": "code",
   "execution_count": 24,
   "metadata": {},
   "outputs": [
    {
     "data": {
      "text/plain": [
       "<music21.clef.TrebleClef>"
      ]
     },
     "execution_count": 24,
     "metadata": {},
     "output_type": "execute_result"
    }
   ],
   "source": [
    "bass = corpus.parse('bwv66.6').parts['bass']\n",
    "clef.bestClef(bass)"
   ]
  },
  {
   "cell_type": "code",
   "execution_count": 25,
   "metadata": {},
   "outputs": [
    {
     "data": {
      "text/plain": [
       "<music21.clef.BassClef>"
      ]
     },
     "execution_count": 25,
     "metadata": {},
     "output_type": "execute_result"
    }
   ],
   "source": [
    "clef.bestClef(bass, recurse=True)"
   ]
  },
  {
   "cell_type": "markdown",
   "metadata": {},
   "source": [
    "## Ties\n",
    "\n",
    "That's enough about clefs, let's move to a similarly basic musical element called \"Ties\".  Ties connect two pitches at the same pitch level attached to different notes or chords.  All notes have a `.tie` attribute that specifies where the tie lives.  Let's look at the top voice of an Agnus Dei by Palestrina:"
   ]
  },
  {
   "cell_type": "code",
   "execution_count": 26,
   "metadata": {},
   "outputs": [
    {
     "data": {
      "image/png": "[encoded data removed]",
      "text/plain": [
       "<IPython.core.display.Image object>"
      ]
     },
     "metadata": {
      "image/png": {
       "height": 156,
       "width": 674
      }
     },
     "output_type": "display_data"
    }
   ],
   "source": [
    "agnus = corpus.parse('palestrina/Agnus_01')\n",
    "agnusSop = agnus.parts[0]\n",
    "agnusSop.measures(1, 7).show()"
   ]
  },
  {
   "cell_type": "markdown",
   "metadata": {},
   "source": [
    "The second note of the first measure is tied, so let's find it:"
   ]
  },
  {
   "cell_type": "code",
   "execution_count": 27,
   "metadata": {},
   "outputs": [
    {
     "data": {
      "text/plain": [
       "<music21.note.Note D>"
      ]
     },
     "execution_count": 27,
     "metadata": {},
     "output_type": "execute_result"
    }
   ],
   "source": [
    "n1 = agnusSop.recurse().notes[1]\n",
    "n1"
   ]
  },
  {
   "cell_type": "markdown",
   "metadata": {},
   "source": [
    "Now let's look at the `.tie` attribute:"
   ]
  },
  {
   "cell_type": "code",
   "execution_count": 28,
   "metadata": {},
   "outputs": [
    {
     "data": {
      "text/plain": [
       "<music21.tie.Tie start>"
      ]
     },
     "execution_count": 28,
     "metadata": {},
     "output_type": "execute_result"
    }
   ],
   "source": [
    "n1.tie"
   ]
  },
  {
   "cell_type": "markdown",
   "metadata": {},
   "source": [
    "This tie says \"start\".  I'll bet that if we get the next note, we'll find it has a Tie marked \"stop\":"
   ]
  },
  {
   "cell_type": "code",
   "execution_count": 29,
   "metadata": {},
   "outputs": [
    {
     "data": {
      "text/plain": [
       "<music21.tie.Tie stop>"
      ]
     },
     "execution_count": 29,
     "metadata": {},
     "output_type": "execute_result"
    }
   ],
   "source": [
    "n1.next('Note').tie"
   ]
  },
  {
   "cell_type": "markdown",
   "metadata": {},
   "source": [
    "The second `.tie` does not produce a graphical object. Thus the Tie object really represents a tied-state for a given note rather than the notational \"tie\" itself."
   ]
  },
  {
   "cell_type": "markdown",
   "metadata": {},
   "source": [
    "The previous `Note` though, has a `.tie` of None"
   ]
  },
  {
   "cell_type": "code",
   "execution_count": 30,
   "metadata": {},
   "outputs": [
    {
     "name": "stdout",
     "output_type": "stream",
     "text": [
      "None\n"
     ]
    }
   ],
   "source": [
    "print(n1.previous('Note').tie)"
   ]
  },
  {
   "cell_type": "markdown",
   "metadata": {},
   "source": [
    "We can find the value of 'start' or 'stop' in the `.type` attribute of the :class:`~music21.tie.Tie`."
   ]
  },
  {
   "cell_type": "code",
   "execution_count": 31,
   "metadata": {},
   "outputs": [
    {
     "data": {
      "text/plain": [
       "'start'"
      ]
     },
     "execution_count": 31,
     "metadata": {},
     "output_type": "execute_result"
    }
   ],
   "source": [
    "n1.tie.type"
   ]
  },
  {
   "cell_type": "code",
   "execution_count": 32,
   "metadata": {},
   "outputs": [
    {
     "data": {
      "text/plain": [
       "'stop'"
      ]
     },
     "execution_count": 32,
     "metadata": {},
     "output_type": "execute_result"
    }
   ],
   "source": [
    "n1.next('Note').tie.type"
   ]
  },
  {
   "cell_type": "markdown",
   "metadata": {},
   "source": [
    "There is a third tie type, 'continue' if a the note is tied from before and tied to the next note, we'll demonstrate it by creating some notes and ties manually:"
   ]
  },
  {
   "cell_type": "code",
   "execution_count": 33,
   "metadata": {},
   "outputs": [
    {
     "data": {
      "image/png": "[encoded data removed]",
      "text/plain": [
       "<IPython.core.display.Image object>"
      ]
     },
     "metadata": {
      "image/png": {
       "height": 57,
       "width": 257
      }
     },
     "output_type": "display_data"
    }
   ],
   "source": [
    "c0 = note.Note('C4')\n",
    "c0.tie = tie.Tie('start')\n",
    "c1 = note.Note('C4')\n",
    "c1.tie = tie.Tie('continue')\n",
    "c2 = note.Note('C4')\n",
    "c2.tie = tie.Tie('stop')\n",
    "s = stream.Measure()\n",
    "s.append([c0, c1, c2])\n",
    "s.show()"
   ]
  },
  {
   "cell_type": "markdown",
   "metadata": {},
   "source": [
    "(Note that if you've worked with MusicXML, the our 'continue' value is similar to the notion in MusicXML of attaching two ties, both a 'stop' and a 'start' tie.)"
   ]
  },
  {
   "cell_type": "markdown",
   "metadata": {},
   "source": [
    "Ties also have a `.placement` attribute which can be 'above', 'below', or None, the last meaning to allow renderers to determine the position from context:"
   ]
  },
  {
   "cell_type": "code",
   "execution_count": 34,
   "metadata": {},
   "outputs": [
    {
     "data": {
      "image/png": "[encoded data removed]",
      "text/plain": [
       "<IPython.core.display.Image object>"
      ]
     },
     "metadata": {
      "image/png": {
       "height": 57,
       "width": 261
      }
     },
     "output_type": "display_data"
    }
   ],
   "source": [
    "c0.tie.placement = 'above'\n",
    "s.show()"
   ]
  },
  {
   "cell_type": "markdown",
   "metadata": {},
   "source": [
    "Setting the placement on a 'stop' tie does nothing."
   ]
  },
  {
   "cell_type": "markdown",
   "metadata": {},
   "source": [
    "Ties also have a style attribute that represents how the tie should be displayed.  It can be one of 'normal', 'dotted', 'dashed', or 'hidden'."
   ]
  },
  {
   "cell_type": "code",
   "execution_count": 35,
   "metadata": {},
   "outputs": [
    {
     "data": {
      "image/png": "[encoded data removed]",
      "text/plain": [
       "<IPython.core.display.Image object>"
      ]
     },
     "metadata": {
      "image/png": {
       "height": 50,
       "width": 674
      }
     },
     "output_type": "display_data"
    }
   ],
   "source": [
    "s = stream.Stream()\n",
    "for tie_style in ('normal', 'dotted', 'dashed', 'hidden'):\n",
    "    nStart = note.Note('E4')\n",
    "    tStart = tie.Tie('start')\n",
    "    tStart.style = tie_style\n",
    "    nStart.tie = tStart\n",
    "    nStop = note.Note('E4')\n",
    "    tStop = tie.Tie('stop')\n",
    "    tStop.style = tie_style # optional\n",
    "    nStop.tie = tStop\n",
    "    s.append([nStart, nStop])\n",
    "s.show()"
   ]
  },
  {
   "cell_type": "markdown",
   "metadata": {},
   "source": [
    "It can be hard to tell the difference between 'dotted' and 'dashed' in some notation programs."
   ]
  },
  {
   "cell_type": "markdown",
   "metadata": {},
   "source": [
    "### Ties and chords\n",
    "\n",
    "Chords also have a `.tie` attribute:"
   ]
  },
  {
   "cell_type": "code",
   "execution_count": 36,
   "metadata": {},
   "outputs": [
    {
     "data": {
      "image/png": "[encoded data removed]",
      "text/plain": [
       "<IPython.core.display.Image object>"
      ]
     },
     "metadata": {
      "image/png": {
       "height": 54,
       "width": 228
      }
     },
     "output_type": "display_data"
    }
   ],
   "source": [
    "ch0 = chord.Chord('C4 G4 B4')\n",
    "ch0.tie = tie.Tie('start')\n",
    "ch1 = chord.Chord('C4 G4 B4')\n",
    "ch1.tie = tie.Tie('stop')\n",
    "s = stream.Measure()\n",
    "s.append([ch0, ch1])\n",
    "s.show()"
   ]
  },
  {
   "cell_type": "markdown",
   "metadata": {},
   "source": [
    "This is great and simple if you have two chords that are identical, but what if there are two chords where some notes should be tied and some should not be, such as:"
   ]
  },
  {
   "cell_type": "code",
   "execution_count": 37,
   "metadata": {},
   "outputs": [
    {
     "data": {
      "image/png": "[encoded data removed]",
      "text/plain": [
       "<IPython.core.display.Image object>"
      ]
     },
     "metadata": {
      "image/png": {
       "height": 49,
       "width": 243
      }
     },
     "output_type": "display_data"
    }
   ],
   "source": [
    "ch2 = chord.Chord('D4 G4 A4')\n",
    "ch3 = chord.Chord('D4 F#4 A4')\n",
    "s = stream.Measure()\n",
    "s.append([ch2, ch3])\n",
    "s.show()"
   ]
  },
  {
   "cell_type": "markdown",
   "metadata": {},
   "source": [
    "The D and the A might want to be tied, but the suspended G needs to resolve to the F# without having a tie in it.  The solution obviously relies on assigning a :class:`~music21.tie.Tie` object to a `.tie` attribute somewhere, but this is not the right approach:"
   ]
  },
  {
   "cell_type": "code",
   "execution_count": 38,
   "metadata": {},
   "outputs": [
    {
     "data": {
      "text/plain": [
       "<music21.pitch.Pitch D4>"
      ]
     },
     "execution_count": 38,
     "metadata": {},
     "output_type": "execute_result"
    }
   ],
   "source": [
    "p0 = ch2.pitches[0]\n",
    "p0"
   ]
  },
  {
   "cell_type": "code",
   "execution_count": 39,
   "metadata": {},
   "outputs": [],
   "source": [
    "p0.tie = tie.Tie('start')  # Don't do this."
   ]
  },
  {
   "cell_type": "markdown",
   "metadata": {},
   "source": [
    "Pitch objects generally do not have `.tie` attributes, and  While we can assign an attribute to almost any object, `music21` looks for the `.tie` attribute on Notes or Chords, not Pitches.  So to do this properly, we need to know that internally, Chords store not just pitch objects, but also Note objects, which you can access by iterating over the Chord:"
   ]
  },
  {
   "cell_type": "code",
   "execution_count": 40,
   "metadata": {},
   "outputs": [
    {
     "name": "stdout",
     "output_type": "stream",
     "text": [
      "<music21.note.Note D>\n",
      "<music21.note.Note G>\n",
      "<music21.note.Note A>\n"
     ]
    }
   ],
   "source": [
    "for n in ch2:\n",
    "    print(n)"
   ]
  },
  {
   "cell_type": "markdown",
   "metadata": {},
   "source": [
    "Aha, so this is a trick.  We could say:"
   ]
  },
  {
   "cell_type": "code",
   "execution_count": 41,
   "metadata": {},
   "outputs": [
    {
     "data": {
      "text/plain": [
       "<music21.note.Note D>"
      ]
     },
     "execution_count": 41,
     "metadata": {},
     "output_type": "execute_result"
    }
   ],
   "source": [
    "ch2[0]"
   ]
  },
  {
   "cell_type": "code",
   "execution_count": 42,
   "metadata": {},
   "outputs": [],
   "source": [
    "ch2[0].tie = tie.Tie('start')"
   ]
  },
  {
   "cell_type": "markdown",
   "metadata": {},
   "source": [
    "And that works rather well.  But maybe you don't want to bother remembering which note number in a chord refers to the particular note you want tied?  You can also get Notes out of a chord by treating passing in the pitch name of the Note to the chord:"
   ]
  },
  {
   "cell_type": "code",
   "execution_count": 43,
   "metadata": {},
   "outputs": [
    {
     "data": {
      "text/plain": [
       "<music21.note.Note A>"
      ]
     },
     "execution_count": 43,
     "metadata": {},
     "output_type": "execute_result"
    }
   ],
   "source": [
    "ch2['A4']"
   ]
  },
  {
   "cell_type": "markdown",
   "metadata": {},
   "source": [
    "Note that this only works properly if the chord does not have any repeated pitches.  We are safe here.  We can also retrieve and specify information directly in the chord from the index:"
   ]
  },
  {
   "cell_type": "code",
   "execution_count": 44,
   "metadata": {},
   "outputs": [
    {
     "data": {
      "text/plain": [
       "<music21.tie.Tie start>"
      ]
     },
     "execution_count": 44,
     "metadata": {},
     "output_type": "execute_result"
    }
   ],
   "source": [
    "ch2['D4.tie']"
   ]
  },
  {
   "cell_type": "markdown",
   "metadata": {},
   "source": [
    "Or alternatively (though note that this is a string):"
   ]
  },
  {
   "cell_type": "code",
   "execution_count": 45,
   "metadata": {},
   "outputs": [
    {
     "data": {
      "text/plain": [
       "<music21.tie.Tie start>"
      ]
     },
     "execution_count": 45,
     "metadata": {},
     "output_type": "execute_result"
    }
   ],
   "source": [
    "ch2['0.tie']"
   ]
  },
  {
   "cell_type": "markdown",
   "metadata": {},
   "source": [
    "And we can set the information this way too:"
   ]
  },
  {
   "cell_type": "code",
   "execution_count": 46,
   "metadata": {},
   "outputs": [],
   "source": [
    "ch2['A4.tie'] = tie.Tie('start')"
   ]
  },
  {
   "cell_type": "markdown",
   "metadata": {},
   "source": [
    "Now let's set the stop information on the next chord:"
   ]
  },
  {
   "cell_type": "code",
   "execution_count": 47,
   "metadata": {},
   "outputs": [
    {
     "data": {
      "image/png": "[encoded data removed]",
      "text/plain": [
       "<IPython.core.display.Image object>"
      ]
     },
     "metadata": {
      "image/png": {
       "height": 51,
       "width": 243
      }
     },
     "output_type": "display_data"
    }
   ],
   "source": [
    "ch3['D4.tie'] = tie.Tie('start')\n",
    "ch3['A4.tie'] = tie.Tie('start')\n",
    "\n",
    "s.show()"
   ]
  },
  {
   "cell_type": "markdown",
   "metadata": {},
   "source": [
    "Voila! it works well.  Now what does `ch2.tie` return?"
   ]
  },
  {
   "cell_type": "code",
   "execution_count": 48,
   "metadata": {},
   "outputs": [
    {
     "data": {
      "text/plain": [
       "<music21.tie.Tie start>"
      ]
     },
     "execution_count": 48,
     "metadata": {},
     "output_type": "execute_result"
    }
   ],
   "source": [
    "ch2.tie"
   ]
  },
  {
   "cell_type": "markdown",
   "metadata": {},
   "source": [
    "The chord returns information from the highest note.  So if we delete the tie on D4, we get the same answer:"
   ]
  },
  {
   "cell_type": "code",
   "execution_count": 48,
   "metadata": {},
   "outputs": [
    {
     "data": {
      "text/plain": [
       "<music21.tie.Tie start>"
      ]
     },
     "execution_count": 48,
     "metadata": {},
     "output_type": "execute_result"
    }
   ],
   "source": [
    "ch2['D4.tie'] = None\n",
    "ch2.tie"
   ]
  },
  {
   "cell_type": "markdown",
   "metadata": {},
   "source": [
    "But if we delete it from A4, we get a different answer:"
   ]
  },
  {
   "cell_type": "code",
   "execution_count": 49,
   "metadata": {},
   "outputs": [
    {
     "data": {
      "text/plain": [
       "True"
      ]
     },
     "execution_count": 49,
     "metadata": {},
     "output_type": "execute_result"
    }
   ],
   "source": [
    "ch2['A4'].tie = None\n",
    "ch2.tie is None"
   ]
  },
  {
   "cell_type": "markdown",
   "metadata": {},
   "source": [
    "Here is an example of a case where we might want to set the `.placement` attribute of a tie manually:"
   ]
  },
  {
   "cell_type": "code",
   "execution_count": 50,
   "metadata": {},
   "outputs": [
    {
     "data": {
      "image/png": "[encoded data removed]",
      "text/plain": [
       "<IPython.core.display.Image object>"
      ]
     },
     "metadata": {
      "image/png": {
       "height": 53,
       "width": 262
      }
     },
     "output_type": "display_data"
    }
   ],
   "source": [
    "c1 = chord.Chord('C#4 E4 G4')\n",
    "c2 = chord.Chord('C4 E4 G4')\n",
    "c1[1].tie = tie.Tie('start')\n",
    "c2[1].tie = tie.Tie('stop')\n",
    "c1[2].tie = tie.Tie('start')\n",
    "c2[2].tie = tie.Tie('stop')\n",
    "s = stream.Stream()\n",
    "s.append([c1, c2])\n",
    "s.show()"
   ]
  },
  {
   "cell_type": "markdown",
   "metadata": {},
   "source": [
    "Hmm... the E tie intersects with the accidental and looks too confusing with a tie on the C# to C. However, there's a placement attribute beginning in music21 v.4 which can fix this:"
   ]
  },
  {
   "cell_type": "code",
   "execution_count": 51,
   "metadata": {},
   "outputs": [
    {
     "data": {
      "image/png": "[encoded data removed]",
      "text/plain": [
       "<IPython.core.display.Image object>"
      ]
     },
     "metadata": {
      "image/png": {
       "height": 53,
       "width": 262
      }
     },
     "output_type": "display_data"
    }
   ],
   "source": [
    "c1[1].tie.placement = 'above'\n",
    "s.show()"
   ]
  },
  {
   "cell_type": "markdown",
   "metadata": {},
   "source": [
    "Notice that in some of the examples above, we only set the \"start\" tie on the first note or chord and not the \"stop\" tie on the second note or chord.  In most cases, setting the start tie is good enough for music21.  But some analyses require every tie to have a start, optional continue, and stop.  So if you're writing a program that knows where the tie stops, it is best to set it explicitly."
   ]
  },
  {
   "cell_type": "markdown",
   "metadata": {},
   "source": [
    "### Making and Stripping Ties from a Stream\n",
    "\n",
    "Sometimes ties get in the way of analysis.  For instance, take this simple melody created in TinyNotation:"
   ]
  },
  {
   "cell_type": "code",
   "execution_count": 2,
   "metadata": {},
   "outputs": [
    {
     "data": {
      "image/png": "[encoded data removed]",
      "text/plain": [
       "<IPython.core.display.Image object>"
      ]
     },
     "metadata": {
      "image/png": {
       "height": 53,
       "width": 674
      }
     },
     "output_type": "display_data"
    }
   ],
   "source": [
    "littlePiece = converter.parse('tinyNotation: 2/4 d4. e8~ e4 d4~ d8 f4.')\n",
    "littlePiece.show()"
   ]
  },
  {
   "cell_type": "markdown",
   "metadata": {},
   "source": [
    "Suppose we wanted to know how many D's are in this melody.  This, unfortunately, isn't the right approach:"
   ]
  },
  {
   "cell_type": "code",
   "execution_count": 3,
   "metadata": {},
   "outputs": [
    {
     "data": {
      "text/plain": [
       "3"
      ]
     },
     "execution_count": 3,
     "metadata": {},
     "output_type": "execute_result"
    }
   ],
   "source": [
    "numDs = 0\n",
    "for n in littlePiece.recurse().notes:\n",
    "    if n.pitch.name == 'D':\n",
    "        numDs += 1\n",
    "numDs"
   ]
  },
  {
   "cell_type": "markdown",
   "metadata": {},
   "source": [
    "The first D is found properly, but the second D, being spanned across a barline, is counted twice.  It is possible to get the right number with some code like this:"
   ]
  },
  {
   "cell_type": "code",
   "execution_count": 4,
   "metadata": {},
   "outputs": [
    {
     "data": {
      "text/plain": [
       "2"
      ]
     },
     "execution_count": 4,
     "metadata": {},
     "output_type": "execute_result"
    }
   ],
   "source": [
    "numDs = 0\n",
    "for n in littlePiece.recurse().notes:\n",
    "    if (n.pitch.name == 'D'\n",
    "            and (n.tie is None\n",
    "                 or n.tie.type == 'start')):\n",
    "        numDs += 1\n",
    "numDs"
   ]
  },
  {
   "cell_type": "markdown",
   "metadata": {},
   "source": [
    "But this code will get very tedious if you also want to do something more complex, say based on the total duration of all the D's, so it would be better if the Stream had no tied notes in it.\n",
    "\n",
    "To take a Stream with tied notes and change it into a Stream with tied notes represented by a single note, call :meth:`~music21.stream.Stream.stripTies` on the Stream:"
   ]
  },
  {
   "cell_type": "code",
   "execution_count": 5,
   "metadata": {},
   "outputs": [
    {
     "data": {
      "image/png": "[encoded data removed]",
      "text/plain": [
       "<IPython.core.display.Image object>"
      ]
     },
     "metadata": {
      "image/png": {
       "height": 54,
       "width": 245
      }
     },
     "output_type": "display_data"
    }
   ],
   "source": [
    "c = chord.Chord('C#4 E4 G4')\n",
    "c.tie = tie.Tie('start')\n",
    "c2 = chord.Chord('C#4 E4 G4')\n",
    "c2.tie = tie.Tie('stop')\n",
    "s = stream.Measure()\n",
    "s.append([c, c2])\n",
    "s.show()"
   ]
  },
  {
   "cell_type": "code",
   "execution_count": 6,
   "metadata": {},
   "outputs": [
    {
     "data": {
      "image/png": "[encoded data removed]",
      "text/plain": [
       "<IPython.core.display.Image object>"
      ]
     },
     "metadata": {
      "image/png": {
       "height": 53,
       "width": 202
      }
     },
     "output_type": "display_data"
    }
   ],
   "source": [
    "s2 = s.stripTies()\n",
    "s2.show()"
   ]
  },
  {
   "cell_type": "markdown",
   "metadata": {},
   "source": [
    "So, getting back to our little piece, all of its notes are essentially dotted quarter notes, but some of them are tied across the barline.  To fix this, let's get a score where the ties are stripped, but we'll retain the measures."
   ]
  },
  {
   "cell_type": "code",
   "execution_count": 7,
   "metadata": {},
   "outputs": [],
   "source": [
    "littleStripped = littlePiece.stripTies()"
   ]
  },
  {
   "cell_type": "markdown",
   "metadata": {},
   "source": [
    "Now we'll count the D's again:"
   ]
  },
  {
   "cell_type": "code",
   "execution_count": 8,
   "metadata": {},
   "outputs": [
    {
     "data": {
      "text/plain": [
       "2"
      ]
     },
     "execution_count": 8,
     "metadata": {},
     "output_type": "execute_result"
    }
   ],
   "source": [
    "numDs = 0\n",
    "for n in littleStripped.recurse().notes:\n",
    "    if n.pitch.name == 'D':\n",
    "        numDs += 1\n",
    "numDs"
   ]
  },
  {
   "cell_type": "markdown",
   "metadata": {},
   "source": [
    "That's a lot better.  Let's look at `littleStripped` in a bit more detail, by showing it as a text output with end times of each object added:"
   ]
  },
  {
   "cell_type": "code",
   "execution_count": 9,
   "metadata": {},
   "outputs": [
    {
     "name": "stdout",
     "output_type": "stream",
     "text": [
      "{0.0 - 3.0} <music21.stream.Measure 1 offset=0.0>\n",
      "    {0.0 - 0.0} <music21.clef.TrebleClef>\n",
      "    {0.0 - 0.0} <music21.meter.TimeSignature 2/4>\n",
      "    {0.0 - 1.5} <music21.note.Note D>\n",
      "    {1.5 - 3.0} <music21.note.Note E>\n",
      "{2.0 - 4.5} <music21.stream.Measure 2 offset=2.0>\n",
      "    {1.0 - 2.5} <music21.note.Note D>\n",
      "{4.0 - 6.0} <music21.stream.Measure 3 offset=4.0>\n",
      "    {0.5 - 2.0} <music21.note.Note F>\n",
      "    {2.0 - 2.0} <music21.bar.Barline type=final>\n"
     ]
    }
   ],
   "source": [
    "littleStripped.show('text', addEndTimes=True)"
   ]
  },
  {
   "cell_type": "markdown",
   "metadata": {},
   "source": [
    "One thing to notice is that the note E extends now beyond the end of the first 2/4 measure.  The second D, in measure 2, by contrast, does not begin at the beginning of the measure, but instead halfway through the first measure.  This is why it's sometimes\n",
    "most helpful to follow `stripTies()` with a `.flatten()`:"
   ]
  },
  {
   "cell_type": "code",
   "execution_count": 10,
   "metadata": {},
   "outputs": [
    {
     "name": "stdout",
     "output_type": "stream",
     "text": [
      "{0.0 - 0.0} <music21.clef.TrebleClef>\n",
      "{0.0 - 0.0} <music21.meter.TimeSignature 2/4>\n",
      "{0.0 - 1.5} <music21.note.Note D>\n",
      "{1.5 - 3.0} <music21.note.Note E>\n",
      "{3.0 - 4.5} <music21.note.Note D>\n",
      "{4.5 - 6.0} <music21.note.Note F>\n",
      "{6.0 - 6.0} <music21.bar.Barline type=final>\n"
     ]
    }
   ],
   "source": [
    "stripped2 = littlePiece.stripTies().flatten()\n",
    "stripped2.show('text', addEndTimes=True)"
   ]
  },
  {
   "cell_type": "markdown",
   "metadata": {},
   "source": [
    "In this view, it's easier to see what is going on with the lengths of the various notes and where they should begin.\n",
    "\n",
    "Remember from :ref:`Chapter 17<usersGuide_17_derivations>`, that if we want to go from the strip-tie note to the original, we can use `.derivation`.  For instance, let's put an accent mark on every other note of the original score, not counting tied notes:"
   ]
  },
  {
   "cell_type": "code",
   "execution_count": 11,
   "metadata": {},
   "outputs": [
    {
     "data": {
      "image/png": "[encoded data removed]",
      "text/plain": [
       "<IPython.core.display.Image object>"
      ]
     },
     "metadata": {
      "image/png": {
       "height": 53,
       "width": 674
      }
     },
     "output_type": "display_data"
    }
   ],
   "source": [
    "for i, n in enumerate(stripped2.notes):\n",
    "    if i % 2 == 1:\n",
    "        nOrigin = n.derivation.origin\n",
    "        nOrigin.articulations.append(articulations.Accent())\n",
    "littlePiece.show()"
   ]
  },
  {
   "cell_type": "markdown",
   "metadata": {},
   "source": [
    "To partially undo the effect of `.stripTies`, run `.makeTies`.  For instance, let's take `.littleStripped` and change all the D's to C's and then get a new part:"
   ]
  },
  {
   "cell_type": "code",
   "execution_count": 12,
   "metadata": {},
   "outputs": [
    {
     "data": {
      "image/png": "[encoded data removed]",
      "text/plain": [
       "<IPython.core.display.Image object>"
      ]
     },
     "metadata": {
      "image/png": {
       "height": 57,
       "width": 674
      }
     },
     "output_type": "display_data"
    }
   ],
   "source": [
    "for n in littleStripped.recurse().notes:\n",
    "    if n.pitch.name == 'D':\n",
    "        n.pitch.name = 'C'\n",
    "\n",
    "unstripped = littleStripped.makeTies()\n",
    "unstripped.show()"
   ]
  },
  {
   "cell_type": "markdown",
   "metadata": {},
   "source": [
    "Actually, one thing you can count on is that `music21` will run `.makeTies` before showing a piece (since otherwise it can't be displayed in MusicXML) so if all you are going to do is show a piece, go ahead and skip the `.makeTies` call:"
   ]
  },
  {
   "cell_type": "code",
   "execution_count": 13,
   "metadata": {},
   "outputs": [
    {
     "data": {
      "image/png": "[encoded data removed]",
      "text/plain": [
       "<IPython.core.display.Image object>"
      ]
     },
     "metadata": {
      "image/png": {
       "height": 57,
       "width": 674
      }
     },
     "output_type": "display_data"
    }
   ],
   "source": [
    "littleStripped.show()"
   ]
  },
  {
   "cell_type": "markdown",
   "metadata": {},
   "source": [
    "A couple of final comments about `.stripTies`/`.makeTies` are in order.  `.makeTies` is only the reverse of `.stripTies` for notes that extend over a barline (\"wrong\" notes).  If a piece is in 4/4 and has two half-notes that were tied in a measure (for some reason), `.stripTies` will merge them, but `.makeTies` will leave them alone.  Note also that there may still be ties on chords after running `.stripTies` if there are chords where some pitches are tied and some are not.  The general rule is that after running `.stripTies`, the piece should sound the same as before. "
   ]
  },
  {
   "cell_type": "markdown",
   "metadata": {},
   "source": [
    "## Beams\n",
    "\n",
    "Beams are the little invention of the seventeenth century (replacing the earlier \"ligatures\") that make it easier to read groups of eighth, sixteenth, and smaller notes by grouping them together.  Formerly not used in vocal music (except in melismas), today beams are used in nearly all contexts, so of course `music21` supports them.\n",
    "\n",
    "There are two objects that deal with beams, the :class:`~music21.beam.Beam` object which represents a single horizontal line, and the :class:`~music21.beam.Beams` object (with \"s\" at the end) which deals with collections of `Beam` objects.  Both live in the module called :ref:`moduleBeam`.\n",
    "\n",
    "Let's create a measure with some nice notes in them:"
   ]
  },
  {
   "cell_type": "code",
   "execution_count": 65,
   "metadata": {},
   "outputs": [
    {
     "name": "stdout",
     "output_type": "stream",
     "text": [
      "{0.0} <music21.note.Note C>\n",
      "{1.0} <music21.note.Note D>\n",
      "{1.5} <music21.note.Note D>\n",
      "{2.0} <music21.note.Note E>\n",
      "{2.25} <music21.note.Note E>\n",
      "{2.5} <music21.note.Note E>\n",
      "{2.75} <music21.note.Note E>\n"
     ]
    }
   ],
   "source": [
    "m = stream.Measure()\n",
    "c = note.Note('C4', type='quarter')\n",
    "m.append(c)\n",
    "d1 = note.Note('D4', type='eighth')\n",
    "d2 = note.Note('D4', type='eighth')\n",
    "m.append([d1, d2])\n",
    "e = note.Note('E4', type='16th')\n",
    "m.repeatAppend(e, 4)\n",
    "m.show('text')"
   ]
  },
  {
   "cell_type": "markdown",
   "metadata": {},
   "source": [
    "Every note and chord has a `.beams` attribute which returns a `Beams` object."
   ]
  },
  {
   "cell_type": "code",
   "execution_count": 66,
   "metadata": {},
   "outputs": [
    {
     "data": {
      "text/plain": [
       "<music21.beam.Beams>"
      ]
     },
     "execution_count": 66,
     "metadata": {},
     "output_type": "execute_result"
    }
   ],
   "source": [
    "c.beams"
   ]
  },
  {
   "cell_type": "markdown",
   "metadata": {},
   "source": [
    "That there is nothing after \"`music21.beam.Beams`\" shows that there are no `Beam` objects inside it.  Since `c` is a quarter note, it doesn't make much sense to add a Beam to it, but `d1` and `d2` being eighth notes, should probably be beamed.  So we will create a `Beam` object for `d1` and give it the `.type` of \"start\" since it is the start of a beam, and the number of \"1\" since it is the first beam:"
   ]
  },
  {
   "cell_type": "code",
   "execution_count": 67,
   "metadata": {},
   "outputs": [],
   "source": [
    "beam1 = beam.Beam(type='start', number=1)"
   ]
  },
  {
   "cell_type": "markdown",
   "metadata": {},
   "source": [
    "Now we can add it to the `Beams` object in `d1`:"
   ]
  },
  {
   "cell_type": "code",
   "execution_count": 68,
   "metadata": {},
   "outputs": [
    {
     "data": {
      "text/plain": [
       "<music21.beam.Beams <music21.beam.Beam 1/start>>"
      ]
     },
     "execution_count": 68,
     "metadata": {},
     "output_type": "execute_result"
    }
   ],
   "source": [
    "d1Beams = d1.beams\n",
    "d1Beams.append(beam1)\n",
    "d1.beams"
   ]
  },
  {
   "cell_type": "markdown",
   "metadata": {},
   "source": [
    "Now we can see that there is a start beam on `d1.beams`.  This way of constructing `Beam` objects individually can get tedious for the programmer, so for `d2` we'll make the stop beam in an easier manner, using the same `Beams.append` method, but just giving it the \"stop\" attribute:"
   ]
  },
  {
   "cell_type": "code",
   "execution_count": 69,
   "metadata": {},
   "outputs": [
    {
     "data": {
      "text/plain": [
       "<music21.beam.Beams <music21.beam.Beam 1/stop>>"
      ]
     },
     "execution_count": 69,
     "metadata": {},
     "output_type": "execute_result"
    }
   ],
   "source": [
    "d2.beams.append('stop')\n",
    "d2.beams"
   ]
  },
  {
   "cell_type": "markdown",
   "metadata": {},
   "source": [
    "Now when we show the score we'll see it with some beams:"
   ]
  },
  {
   "cell_type": "code",
   "execution_count": 70,
   "metadata": {},
   "outputs": [
    {
     "data": {
      "image/png": "[encoded data removed]",
      "text/plain": [
       "<IPython.core.display.Image object>"
      ]
     },
     "metadata": {
      "image/png": {
       "height": 50,
       "width": 294
      }
     },
     "output_type": "display_data"
    }
   ],
   "source": [
    "m.show()"
   ]
  },
  {
   "cell_type": "markdown",
   "metadata": {},
   "source": [
    "Now let us add beams to the sixteenth notes, there's an even easier way to add multiple beams rather than calling append repeatedly, we can simply get the notes and call `.beams.fill()` with the number of beams we want (2) and their type, which will be \"start\", twice \"continue\", and once \"stop\":"
   ]
  },
  {
   "cell_type": "code",
   "execution_count": 71,
   "metadata": {},
   "outputs": [
    {
     "data": {
      "image/png": "[encoded data removed]",
      "text/plain": [
       "<IPython.core.display.Image object>"
      ]
     },
     "metadata": {
      "image/png": {
       "height": 50,
       "width": 294
      }
     },
     "output_type": "display_data"
    }
   ],
   "source": [
    "m.notes[3].beams.fill(2, 'start')\n",
    "m.notes[4].beams.fill(2, 'continue')\n",
    "m.notes[5].beams.fill(2, 'continue')\n",
    "m.notes[6].beams.fill(2, 'stop')\n",
    "m.show()"
   ]
  },
  {
   "cell_type": "markdown",
   "metadata": {},
   "source": [
    "Suppose we wanted to put a secondary beam break in the middle of the sixteenth notes?  It involves changing the second beam (beam number 2) on `notes[4]` and `notes[5]`.  We do not want to change beam number 1, because it continues across the four notes:"
   ]
  },
  {
   "cell_type": "code",
   "execution_count": 72,
   "metadata": {},
   "outputs": [],
   "source": [
    "m.notes[4].beams.setByNumber(1, 'stop')\n",
    "m.notes[5].beams.setByNumber(1, 'start')"
   ]
  },
  {
   "cell_type": "markdown",
   "metadata": {},
   "source": [
    "The output is not rendered in MuseScore, but works great in Finale 25:\n",
    "\n",
    "![Secondary Beam Break](images/31-clefs-beam-break.png)"
   ]
  },
  {
   "cell_type": "markdown",
   "metadata": {},
   "source": [
    "There are cases, such as dotted eighths followed by sixteenths, where partial beams are needed, these partial beams need to know their direction.  For instance:"
   ]
  },
  {
   "cell_type": "code",
   "execution_count": 73,
   "metadata": {},
   "outputs": [],
   "source": [
    "m2 = stream.Measure()\n",
    "m2.append(meter.TimeSignature('6/8'))\n",
    "c4 = note.Note('C4')\n",
    "d8 = note.Note('D4', type='eighth')\n",
    "e8 = note.Note('E4', type='eighth')\n",
    "e8.beams.append('start')\n",
    "f16 = note.Note('F4', type='16th')\n",
    "f16.beams.append('continue')"
   ]
  },
  {
   "cell_type": "markdown",
   "metadata": {},
   "source": [
    "Now comes the second, partial beam, which we'll make go right:"
   ]
  },
  {
   "cell_type": "code",
   "execution_count": 74,
   "metadata": {},
   "outputs": [
    {
     "data": {
      "image/png": "[encoded data removed]",
      "text/plain": [
       "<IPython.core.display.Image object>"
      ]
     },
     "metadata": {
      "image/png": {
       "height": 50,
       "width": 283
      }
     },
     "output_type": "display_data"
    }
   ],
   "source": [
    "f16.beams.append('partial', 'right')\n",
    "g8 = note.Note('G4', type='eighth')\n",
    "g8.beams.append('continue')\n",
    "a16 = note.Note('A4', type='16th')\n",
    "a16.beams.append('stop')\n",
    "a16.beams.append('partial', 'left')\n",
    "m2.append([c4, d8, e8, f16, g8, a16])\n",
    "m2.show()"
   ]
  },
  {
   "cell_type": "markdown",
   "metadata": {},
   "source": [
    "This beamming implies that the dotted quarter is divided into three eighth notes.  If we wanted the beams to imply that the dotted quarter was divided into two dotted-eighth notes, we could switch the partial beam on `f16` to point to the left.  Unfortunately, none of the major MusicXML readers properly import direction of partial beams ('backward hook' vs. 'forward hook')"
   ]
  },
  {
   "cell_type": "markdown",
   "metadata": {},
   "source": [
    "## Beams the easy way"
   ]
  },
  {
   "cell_type": "markdown",
   "metadata": {},
   "source": [
    "This section began by explaining what beams were like on the lowest possible level, but most of the time we're going to be too busy solving the world's great musicological/music theoretical/cognition/composition problems to worry about things like beaming!  So let's jump all the way to the other extreme, and look at beams in the easiest possible way.  If all you want is your score to look decently beamed when you show it, forget about setting beaming at all and just show it!"
   ]
  },
  {
   "cell_type": "code",
   "execution_count": 75,
   "metadata": {},
   "outputs": [
    {
     "data": {
      "image/png": "[encoded data removed]",
      "text/plain": [
       "<IPython.core.display.Image object>"
      ]
     },
     "metadata": {
      "image/png": {
       "height": 50,
       "width": 294
      }
     },
     "output_type": "display_data"
    }
   ],
   "source": [
    "m = stream.Measure()\n",
    "ts34 = meter.TimeSignature('3/4')\n",
    "m.append(ts34)\n",
    "c = note.Note('C4', type='quarter')\n",
    "m.append(c)\n",
    "d1 = note.Note('D4', type='eighth')\n",
    "d2 = note.Note('D4', type='eighth')\n",
    "m.append([d1, d2])\n",
    "e = note.Note('E4', type='16th')\n",
    "m.repeatAppend(e, 4)\n",
    "m.show()"
   ]
  },
  {
   "cell_type": "markdown",
   "metadata": {},
   "source": [
    "If the TimeSignature changes, `music21` will rebeam it differently:"
   ]
  },
  {
   "cell_type": "code",
   "execution_count": 76,
   "metadata": {},
   "outputs": [
    {
     "data": {
      "image/png": "[encoded data removed]",
      "text/plain": [
       "<IPython.core.display.Image object>"
      ]
     },
     "metadata": {
      "image/png": {
       "height": 50,
       "width": 308
      }
     },
     "output_type": "display_data"
    }
   ],
   "source": [
    "ts68 = meter.TimeSignature('6/8')\n",
    "m.replace(ts34, ts68)\n",
    "m.show()"
   ]
  },
  {
   "cell_type": "markdown",
   "metadata": {},
   "source": [
    "This is accomplished because before showing the Stream, `music21` runs the powerful method :meth:`~music21.stream.base.Stream.makeNotation` on the stream.  This calls a function in :ref:`moduleStreamMakeNotation` module called :func:`~music21.stream.makeNotation.makeBeams` that does the real work.  That function checks the stream to see if any beams exist on it:"
   ]
  },
  {
   "cell_type": "code",
   "execution_count": 77,
   "metadata": {},
   "outputs": [
    {
     "data": {
      "text/plain": [
       "False"
      ]
     },
     "execution_count": 77,
     "metadata": {},
     "output_type": "execute_result"
    }
   ],
   "source": [
    "m.streamStatus.haveBeamsBeenMade()"
   ]
  },
  {
   "cell_type": "markdown",
   "metadata": {},
   "source": [
    "If there are any beams in the stream, then that will return `True` and no beams will be made:"
   ]
  },
  {
   "cell_type": "code",
   "execution_count": 78,
   "metadata": {},
   "outputs": [
    {
     "data": {
      "text/plain": [
       "True"
      ]
     },
     "execution_count": 78,
     "metadata": {},
     "output_type": "execute_result"
    }
   ],
   "source": [
    "m.notes[-2].beams.fill(2, 'start')\n",
    "m.notes[-1].beams.fill(2, 'stop')\n",
    "\n",
    "m.streamStatus.haveBeamsBeenMade()"
   ]
  },
  {
   "cell_type": "code",
   "execution_count": 79,
   "metadata": {},
   "outputs": [
    {
     "data": {
      "image/png": "[encoded data removed]",
      "text/plain": [
       "<IPython.core.display.Image object>"
      ]
     },
     "metadata": {
      "image/png": {
       "height": 50,
       "width": 308
      }
     },
     "output_type": "display_data"
    }
   ],
   "source": [
    "m.show()"
   ]
  },
  {
   "cell_type": "markdown",
   "metadata": {},
   "source": [
    "In :ref:`Chapter 55<usersGuide_55_advancedMeter>` we will learn how to adjust `TimeSignature` objects to make them give different beaming patterns by default, but for now, you can trust that for most common time signatures, the beaming will be at least acceptable.\n",
    "\n",
    "We've gone through the basics and more advanced topics regarding Clefs, Ties, and Beams, which are fundamental musical objects.  Other musical objects give great spice to music, and we will see them next in :ref:`Articulations <usersGuide_32_articulations>`."
   ]
  }
 ],
 "metadata": {
  "kernelspec": {
   "display_name": "Python 3 (ipykernel)",
   "language": "python",
   "name": "python3"
  },
  "language_info": {
   "codemirror_mode": {
    "name": "ipython",
    "version": 3
   },
   "file_extension": ".py",
   "mimetype": "text/x-python",
   "name": "python",
   "nbconvert_exporter": "python",
   "pygments_lexer": "ipython3",
   "version": "3.11.2"
  }
 },
 "nbformat": 4,
 "nbformat_minor": 2
}
