{
 "cells": [
  {
   "cell_type": "markdown",
   "metadata": {},
   "source": [
    "# User's Guide, Chapter 53: Advanced Corpus and Metadata Searching\n",
    "\n",
    "We saw in :ref:`Chapter 11<usersGuide_11_corpusSearching>` some ways to work with and search through the \"core\" corpus.  Not everything is in the core corpus, of course, so the `converter.parse()` function is a great way of getting files from a local hard drive or the internet.  But the \"core\" corpus also has many great search functions, and these can be helpful for working with your own files and files on the web as well.\n",
    "\n",
    "In this chapter, we'll introduce the other \"Corpora\" in addition to the \"core\" corpus and how they might be used."
   ]
  },
  {
   "cell_type": "markdown",
   "metadata": {},
   "source": [
    "## The Default Local Corpus"
   ]
  },
  {
   "cell_type": "code",
   "execution_count": 1,
   "metadata": {},
   "outputs": [
    {
     "data": {
      "text/plain": [
       "<music21.corpus.corpora.LocalCorpus: 'local'>"
      ]
     },
     "execution_count": 1,
     "metadata": {},
     "output_type": "execute_result"
    }
   ],
   "source": [
    "from music21 import *\n",
    "\n",
    "localCorpus = corpus.corpora.LocalCorpus()\n",
    "localCorpus"
   ]
  },
  {
   "cell_type": "markdown",
   "metadata": {},
   "source": [
    "You can add and remove paths from a *local* corpus with the ``addPath()`` and\n",
    "``removePath()`` methods:"
   ]
  },
  {
   "cell_type": "markdown",
   "metadata": {},
   "source": [
    "## Creating multiple corpus repositories via local corpora\n",
    "\n",
    "In addition to the default local corpus, music21 allows users to create\n",
    "and save as many named local corpora as they like, which will persist from\n",
    "session to session.\n",
    "\n",
    "Let's create a new *local* corpus, give it a directory to find music files in,\n",
    "and then save it:\n"
   ]
  },
  {
   "cell_type": "code",
   "execution_count": 2,
   "metadata": {},
   "outputs": [
    {
     "data": {
      "text/plain": [
       "False"
      ]
     },
     "execution_count": 2,
     "metadata": {},
     "output_type": "execute_result"
    }
   ],
   "source": [
    "from music21 import *\n",
    "\n",
    "aNewLocalCorpus = corpus.corpora.LocalCorpus('newCorpus')\n",
    "aNewLocalCorpus.existsInSettings"
   ]
  },
  {
   "cell_type": "code",
   "execution_count": 3,
   "metadata": {},
   "outputs": [
    {
     "name": "stdout",
     "output_type": "stream",
     "text": [
      "('/Users/josiah/Desktop',)\n"
     ]
    }
   ],
   "source": [
    "aNewLocalCorpus.addPath('~/Desktop')\n",
    "#_DOCS_SHOW aNewLocalCorpus.directoryPaths\n",
    "print(\"('/Users/josiah/Desktop',)\") #_DOCS_HIDE"
   ]
  },
  {
   "cell_type": "code",
   "execution_count": 4,
   "metadata": {
    "tags": [
     "nbval-ignore-output"
    ]
   },
   "outputs": [
    {
     "name": "stderr",
     "output_type": "stream",
     "text": [
      "/Users/cuthbert/git/music21base/music21/corpus/corpora.py: WARNING: newCorpus metadata cache: starting processing of paths: 0\n",
      "/Users/cuthbert/git/music21base/music21/corpus/corpora.py: WARNING: cache: filename: /var/folders/qg/klchy5t14bb2ty9pswk6c2bw0000gn/T/music21/local-newCorpus.p.gz\n",
      "bundles.py: WARNING: MetadataBundle Modification Time: 1660112359.488214\n",
      "bundles.py: WARNING: Skipped 0 sources already in cache.\n",
      "/Users/cuthbert/git/music21base/music21/corpus/corpora.py: WARNING: cache: writing time: 0.025 md items: 0\n",
      "\n",
      "/Users/cuthbert/git/music21base/music21/corpus/corpora.py: WARNING: cache: filename: /var/folders/qg/klchy5t14bb2ty9pswk6c2bw0000gn/T/music21/local-newCorpus.p.gz\n"
     ]
    },
    {
     "data": {
      "text/plain": [
       "True"
      ]
     },
     "execution_count": 4,
     "metadata": {},
     "output_type": "execute_result"
    }
   ],
   "source": [
    "aNewLocalCorpus.save()\n",
    "aNewLocalCorpus.existsInSettings"
   ]
  },
  {
   "cell_type": "markdown",
   "metadata": {},
   "source": [
    "We can see that our new *local* corpus is saved by checking for the names of\n",
    "all saved *local* corpora using the corpus.manager list:"
   ]
  },
  {
   "cell_type": "code",
   "execution_count": 5,
   "metadata": {},
   "outputs": [
    {
     "name": "stdout",
     "output_type": "stream",
     "text": [
      "[None, 'funk', 'newCorpus', 'bach']\n"
     ]
    }
   ],
   "source": [
    "#_DOCS_SHOW corpus.manager.listLocalCorporaNames()\n",
    "print(\"[None, 'funk', 'newCorpus', 'bach']\") #_DOCS_HIDE"
   ]
  },
  {
   "cell_type": "raw",
   "metadata": {},
   "source": [
    "..  note::\n",
    "\n",
    "    When running ``listLocalCorporaNames()``, you will see ``None`` -\n",
    "    indicating the default *local* corpus - along with the names of any\n",
    "    non-default *local* corpora you've manually created yourself. In the above\n",
    "    example, a number of other corpora have already been created.\n",
    "    "
   ]
  },
  {
   "cell_type": "markdown",
   "metadata": {},
   "source": [
    "Finally, we can delete the *local* corpus we previously created like this:"
   ]
  },
  {
   "cell_type": "code",
   "execution_count": 6,
   "metadata": {},
   "outputs": [
    {
     "data": {
      "text/plain": [
       "False"
      ]
     },
     "execution_count": 6,
     "metadata": {},
     "output_type": "execute_result"
    }
   ],
   "source": [
    "aNewLocalCorpus.delete()\n",
    "aNewLocalCorpus.existsInSettings"
   ]
  },
  {
   "cell_type": "markdown",
   "metadata": {
    "collapsed": true
   },
   "source": [
    "## Inspecting metadata bundle search results\n",
    "\n",
    "Let's take a closer look at some search results:"
   ]
  },
  {
   "cell_type": "code",
   "execution_count": 7,
   "metadata": {},
   "outputs": [
    {
     "data": {
      "text/plain": [
       "<music21.metadata.bundles.MetadataBundle {363 entries}>"
      ]
     },
     "execution_count": 7,
     "metadata": {},
     "output_type": "execute_result"
    }
   ],
   "source": [
    "bachBundle = corpus.corpora.CoreCorpus().search('bach', 'composer')\n",
    "bachBundle"
   ]
  },
  {
   "cell_type": "code",
   "execution_count": 8,
   "metadata": {},
   "outputs": [
    {
     "data": {
      "text/plain": [
       "<music21.metadata.bundles.MetadataEntry 'bach_bwv10_7_mxl'>"
      ]
     },
     "execution_count": 8,
     "metadata": {},
     "output_type": "execute_result"
    }
   ],
   "source": [
    "bachBundle[0]"
   ]
  },
  {
   "cell_type": "code",
   "execution_count": 9,
   "metadata": {},
   "outputs": [
    {
     "data": {
      "text/plain": [
       "PosixPath('bach/bwv10.7.mxl')"
      ]
     },
     "execution_count": 9,
     "metadata": {},
     "output_type": "execute_result"
    }
   ],
   "source": [
    "bachBundle[0].sourcePath"
   ]
  },
  {
   "cell_type": "code",
   "execution_count": 10,
   "metadata": {},
   "outputs": [
    {
     "data": {
      "text/plain": [
       "<music21.metadata.RichMetadata object at 0x109522440>"
      ]
     },
     "execution_count": 10,
     "metadata": {},
     "output_type": "execute_result"
    }
   ],
   "source": [
    "bachBundle[0].metadata"
   ]
  },
  {
   "cell_type": "code",
   "execution_count": 11,
   "metadata": {},
   "outputs": [
    {
     "data": {
      "text/plain": [
       "(('ambitus',\n",
       "  AmbitusShort(semitones=34, diatonic='m7', pitchLowest='G2', pitchHighest='F5')),\n",
       " ('composer', 'J.S. Bach'),\n",
       " ('fileFormat', 'musicxml'),\n",
       " ('filePath',\n",
       "  '/Users/gregc/Documents/Code/music21/music21/corpus/bach/bwv10.7.mxl'),\n",
       " ('keySignatureFirst', -2),\n",
       " ('keySignatures', [-2]),\n",
       " ('movementName', 'bwv10.7.mxl'),\n",
       " ('noteCount', 214),\n",
       " ('numberOfParts', 4),\n",
       " ('pitchHighest', 'F5'),\n",
       " ('pitchLowest', 'G2'),\n",
       " ('quarterLength', 88.0),\n",
       " ('software', 'MuseScore 2.1.0'),\n",
       " ('software', 'music21 v.6.0.0a'),\n",
       " ('software', 'music21 v.8.0.0a9'),\n",
       " ('sourcePath', 'bach/bwv10.7.mxl'),\n",
       " ('tempoFirst', None),\n",
       " ('tempos', []),\n",
       " ('timeSignatureFirst', '4/4'),\n",
       " ('timeSignatures', ['4/4']))"
      ]
     },
     "execution_count": 11,
     "metadata": {},
     "output_type": "execute_result"
    }
   ],
   "source": [
    "bachBundle[0].metadata.all()"
   ]
  },
  {
   "cell_type": "code",
   "execution_count": 12,
   "metadata": {},
   "outputs": [
    {
     "data": {
      "text/plain": [
       "214"
      ]
     },
     "execution_count": 12,
     "metadata": {},
     "output_type": "execute_result"
    }
   ],
   "source": [
    "mdpl = bachBundle[0].metadata\n",
    "mdpl.noteCount"
   ]
  },
  {
   "cell_type": "code",
   "execution_count": 13,
   "metadata": {},
   "outputs": [
    {
     "data": {
      "image/png": "[encoded data removed]",
      "text/plain": [
       "<IPython.core.display.Image object>"
      ]
     },
     "metadata": {
      "image/png": {
       "height": 706,
       "width": 748
      }
     },
     "output_type": "display_data"
    }
   ],
   "source": [
    "bachAnalysis0 = bachBundle[0].parse()\n",
    "bachAnalysis0.show()"
   ]
  },
  {
   "cell_type": "markdown",
   "metadata": {},
   "source": [
    "## Manipulating multiple metadata bundles\n",
    "\n",
    "Another useful feature of `music21`'s metadata bundles is that they can be\n",
    "operated on as though they were sets, allowing you to union, intersect and\n",
    "difference multiple metadata bundles, thereby creating more complex search\n",
    "results:"
   ]
  },
  {
   "cell_type": "code",
   "execution_count": 14,
   "metadata": {},
   "outputs": [
    {
     "data": {
      "text/plain": [
       "<music21.metadata.bundles.MetadataBundle {1 entry}>"
      ]
     },
     "execution_count": 14,
     "metadata": {},
     "output_type": "execute_result"
    }
   ],
   "source": [
    "corelliBundle = corpus.search('corelli', field='composer')\n",
    "corelliBundle"
   ]
  },
  {
   "cell_type": "code",
   "execution_count": 15,
   "metadata": {},
   "outputs": [
    {
     "data": {
      "text/plain": [
       "<music21.metadata.bundles.MetadataBundle {364 entries}>"
      ]
     },
     "execution_count": 15,
     "metadata": {},
     "output_type": "execute_result"
    }
   ],
   "source": [
    "bachBundle.union(corelliBundle)"
   ]
  },
  {
   "cell_type": "markdown",
   "metadata": {},
   "source": [
    "Consult the API for :class:`~music21.metadata.bundles.MetadataBundle` for a more\n",
    "in depth look at how this works."
   ]
  },
  {
   "cell_type": "markdown",
   "metadata": {},
   "source": [
    "## Getting a metadata bundle"
   ]
  },
  {
   "cell_type": "markdown",
   "metadata": {},
   "source": [
    "In music21, metadata is information *about* a score, such as its composer,\n",
    "title, initial key signature or ambitus. A metadata *bundle* is a collection of\n",
    "metadata pulled from an arbitrarily large group of different scores. Users can\n",
    "search through metadata bundles to find scores with certain qualities, such as\n",
    "all scores in a given corpus with a time signature of ``6/8``, or all scores\n",
    "composed by Monteverdi.\n",
    "\n",
    "There are a number of different ways to acquire a metadata bundle.  The easiest way\n",
    "to get the metadataBundle for the core corpus is simply to download music21: we\n",
    "include a pre-made metadataBundle (in ``corpus/metadataCache/core.json``) so\n",
    "that this step is unnecessary for the core corpus unless you're contributing to\n",
    "the project.  But you may want to create metadata bundles for your own local corpora.\n",
    "Access the ``metadataBundle`` attribute of any ``Corpus`` instance to get its\n",
    "corresponding metadata bundle:"
   ]
  },
  {
   "cell_type": "code",
   "execution_count": 16,
   "metadata": {},
   "outputs": [
    {
     "data": {
      "text/plain": [
       "<music21.metadata.bundles.MetadataBundle 'core': {15107 entries}>"
      ]
     },
     "execution_count": 16,
     "metadata": {},
     "output_type": "execute_result"
    }
   ],
   "source": [
    "coreCorpus = corpus.corpora.CoreCorpus()\n",
    "coreCorpus.metadataBundle"
   ]
  },
  {
   "cell_type": "markdown",
   "metadata": {},
   "source": [
    "Music21 also provides a handful of convenience methods for getting metadata\n",
    "bundles associated with the *virtual*, *local* or *core* corpora:"
   ]
  },
  {
   "cell_type": "code",
   "execution_count": 17,
   "metadata": {},
   "outputs": [],
   "source": [
    "coreBundle = corpus.corpora.CoreCorpus().metadataBundle\n",
    "localBundle = corpus.corpora.LocalCorpus().metadataBundle\n",
    "otherLocalBundle = corpus.corpora.LocalCorpus('blah').metadataBundle"
   ]
  },
  {
   "cell_type": "markdown",
   "metadata": {},
   "source": [
    "But really advanced users can also make metadata bundles manually, by passing in the name of the\n",
    "corpus you want the bundle to refer to, or, equivalently, an actual ``Corpus`` instance\n",
    "itself:"
   ]
  },
  {
   "cell_type": "code",
   "execution_count": 18,
   "metadata": {},
   "outputs": [],
   "source": [
    "coreBundle = metadata.bundles.MetadataBundle('core')\n",
    "coreBundle = metadata.bundles.MetadataBundle(corpus.corpora.CoreCorpus())"
   ]
  },
  {
   "cell_type": "markdown",
   "metadata": {},
   "source": [
    "However, you'll need to read the bundle's saved data from disk before you can\n",
    "do anything useful with the bundle. Bundles don't read their associated JSON\n",
    "files automatically when they're manually instantiated."
   ]
  },
  {
   "cell_type": "code",
   "execution_count": 19,
   "metadata": {},
   "outputs": [
    {
     "data": {
      "text/plain": [
       "<music21.metadata.bundles.MetadataBundle 'core': {0 entries}>"
      ]
     },
     "execution_count": 19,
     "metadata": {},
     "output_type": "execute_result"
    }
   ],
   "source": [
    "coreBundle"
   ]
  },
  {
   "cell_type": "code",
   "execution_count": 20,
   "metadata": {},
   "outputs": [
    {
     "data": {
      "text/plain": [
       "<music21.metadata.bundles.MetadataBundle 'core': {15107 entries}>"
      ]
     },
     "execution_count": 20,
     "metadata": {},
     "output_type": "execute_result"
    }
   ],
   "source": [
    "coreBundle.read()"
   ]
  },
  {
   "cell_type": "markdown",
   "metadata": {},
   "source": [
    "## Creating persistent metadata bundles\n",
    "\n",
    "Metadata bundles can take a long time to create.  So it'd be nice if they could be written to and read from disk.  Unfortunately we never got around to...nah, just kidding.  Of course you can.  Just call `.write()` on one:"
   ]
  },
  {
   "cell_type": "code",
   "execution_count": 21,
   "metadata": {},
   "outputs": [
    {
     "data": {
      "text/plain": [
       "<music21.metadata.bundles.MetadataBundle 'core': {15107 entries}>"
      ]
     },
     "execution_count": 21,
     "metadata": {},
     "output_type": "execute_result"
    }
   ],
   "source": [
    "coreBundle = metadata.bundles.MetadataBundle('core')\n",
    "coreBundle.read()"
   ]
  },
  {
   "cell_type": "code",
   "execution_count": 22,
   "metadata": {},
   "outputs": [],
   "source": [
    "#_DOCS_SHOW coreBundle.write()"
   ]
  },
  {
   "cell_type": "markdown",
   "metadata": {},
   "source": [
    "They can also be completely rebuilt, as you will want to do for local\n",
    "corpora. To add information to a bundle, use the ``addFromPaths()`` method:"
   ]
  },
  {
   "cell_type": "code",
   "execution_count": 23,
   "metadata": {},
   "outputs": [
    {
     "data": {
      "text/plain": [
       "[]"
      ]
     },
     "execution_count": 23,
     "metadata": {},
     "output_type": "execute_result"
    }
   ],
   "source": [
    "newBundle = metadata.bundles.MetadataBundle()\n",
    "paths = corpus.corpora.CoreCorpus().search('corelli')\n",
    "#_DOCS_SHOW failedPaths = newBundle.addFromPaths(paths)\n",
    "failedPaths = [] #_DOCS_HIDE\n",
    "failedPaths"
   ]
  },
  {
   "cell_type": "markdown",
   "metadata": {},
   "source": [
    "then call ``.write()`` to save to disk"
   ]
  },
  {
   "cell_type": "code",
   "execution_count": 24,
   "metadata": {},
   "outputs": [
    {
     "name": "stdout",
     "output_type": "stream",
     "text": [
      "<music21.metadata.bundles.MetadataBundle {1 entry}>\n"
     ]
    }
   ],
   "source": [
    "#_DOCS_SHOW newBundle\n",
    "print(\"<music21.metadata.bundles.MetadataBundle {1 entry}>\") # did not actually run addFromPaths... #_DOCS_HIDE"
   ]
  },
  {
   "cell_type": "raw",
   "metadata": {},
   "source": [
    "..  note::\n",
    "\n",
    "    Building metadata information can be an incredibly intensive process. For\n",
    "    example, building the *core* metadata bundle can easily take as long as four\n",
    "    hours! And this is even though the building process uses multiple cores. \n",
    "    Please use caution, and be patient, when building metadata bundles\n",
    "    from large corpora. To monitor the corpus-building progress, make sure to\n",
    "    set 'debug' to True in your user settings:\n",
    "\n",
    "    >>> #_DOCS_SHOW environment.UserSettings()['debug'] = True"
   ]
  },
  {
   "cell_type": "markdown",
   "metadata": {},
   "source": [
    "You can delete, rebuild and save a metadata bundle in one go with the\n",
    "``rebuildMetadataCache()`` method:"
   ]
  },
  {
   "cell_type": "code",
   "execution_count": 25,
   "metadata": {},
   "outputs": [],
   "source": [
    "localBundle = corpus.corpora.LocalCorpus().metadataBundle\n",
    "#_DOCS_SHOW localBundle.rebuildMetadataCache()"
   ]
  },
  {
   "cell_type": "markdown",
   "metadata": {},
   "source": [
    "The process of rebuilding will store the file as it goes (for safety) so at the end there is \n",
    "no need to call ``.write()``.\n",
    "\n",
    "To delete a metadata bundle's cached-to-disk JSON file, use the ``delete()``\n",
    "method:"
   ]
  },
  {
   "cell_type": "code",
   "execution_count": 26,
   "metadata": {},
   "outputs": [],
   "source": [
    "#_DOCS_SHOW localBundle.delete()"
   ]
  },
  {
   "cell_type": "markdown",
   "metadata": {},
   "source": [
    "Deleting a metadata bundle's JSON file won't empty the in-memory contents of\n",
    "that bundle. For that, use ``clear()``:"
   ]
  },
  {
   "cell_type": "code",
   "execution_count": 27,
   "metadata": {},
   "outputs": [],
   "source": [
    "localBundle.clear()"
   ]
  },
  {
   "cell_type": "code",
   "execution_count": null,
   "metadata": {},
   "outputs": [],
   "source": []
  }
 ],
 "metadata": {
  "anaconda-cloud": {},
  "celltoolbar": "Tags",
  "kernelspec": {
   "display_name": "Python 3 (ipykernel)",
   "language": "python",
   "name": "python3"
  },
  "language_info": {
   "codemirror_mode": {
    "name": "ipython",
    "version": 3
   },
   "file_extension": ".py",
   "mimetype": "text/x-python",
   "name": "python",
   "nbconvert_exporter": "python",
   "pygments_lexer": "ipython3",
   "version": "3.10.6"
  }
 },
 "nbformat": 4,
 "nbformat_minor": 1
}
