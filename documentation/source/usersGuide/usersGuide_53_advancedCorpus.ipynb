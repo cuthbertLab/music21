{
 "cells": [
  {
   "cell_type": "markdown",
   "metadata": {},
   "source": [
    "# User's Guide, Chapter 53: Advanced Corpus and Metadata Searching"
   ]
  },
  {
   "cell_type": "code",
   "execution_count": 1,
   "metadata": {
    "collapsed": true
   },
   "outputs": [],
   "source": [
    "from music21 import *"
   ]
  },
  {
   "cell_type": "markdown",
   "metadata": {},
   "source": [
    "## Creating multiple corpus repositories via local corpora\n",
    "\n",
    "In addition to the default local corpus, music21 allows users to create\n",
    "and save as many named local corpora as they like, which will persist from\n",
    "session to session.\n",
    "\n",
    "Let's create a new *local* corpus, give it a directory to find music files in,\n",
    "and then save it:\n"
   ]
  },
  {
   "cell_type": "code",
   "execution_count": 2,
   "metadata": {},
   "outputs": [
    {
     "data": {
      "text/plain": [
       "False"
      ]
     },
     "execution_count": 2,
     "metadata": {},
     "output_type": "execute_result"
    }
   ],
   "source": [
    "aNewLocalCorpus = corpus.corpora.LocalCorpus('A new corpus')\n",
    "aNewLocalCorpus.existsInSettings"
   ]
  },
  {
   "cell_type": "code",
   "execution_count": 3,
   "metadata": {},
   "outputs": [
    {
     "name": "stdout",
     "output_type": "stream",
     "text": [
      "('/Users/josiah/Desktop',)\n"
     ]
    }
   ],
   "source": [
    "aNewLocalCorpus.addPath('~/Desktop')\n",
    "#_DOCS_SHOW aNewLocalCorpus.directoryPaths\n",
    "print(\"('/Users/josiah/Desktop',)\") #_DOCS_HIDE"
   ]
  },
  {
   "cell_type": "code",
   "execution_count": 4,
   "metadata": {},
   "outputs": [
    {
     "data": {
      "text/plain": [
       "True"
      ]
     },
     "execution_count": 4,
     "metadata": {},
     "output_type": "execute_result"
    }
   ],
   "source": [
    "aNewLocalCorpus.save()\n",
    "aNewLocalCorpus.existsInSettings"
   ]
  },
  {
   "cell_type": "markdown",
   "metadata": {},
   "source": [
    "We can see that our new *local* corpus is saved by checking for the names of\n",
    "all saved *local* corpora using the corpus.manager list:"
   ]
  },
  {
   "cell_type": "code",
   "execution_count": 5,
   "metadata": {},
   "outputs": [
    {
     "name": "stdout",
     "output_type": "stream",
     "text": [
      "[None, 'trecento', 'A new corpus', 'bach', 'fake']\n"
     ]
    }
   ],
   "source": [
    "#_DOCS_SHOW corpus.manager.listLocalCorporaNames()\n",
    "print(\"[None, 'trecento', 'A new corpus', 'bach', 'fake']\") #_DOCS_HIDE"
   ]
  },
  {
   "cell_type": "raw",
   "metadata": {},
   "source": [
    "..  note::\n",
    "\n",
    "    When running ``listLocalCorporaNames()``, you will see ``None`` -\n",
    "    indicating the default *local* corpus - along with the names of any\n",
    "    non-default *local* corpora you've manually created yourself. In the above\n",
    "    example, a number of other corpora have already been created.\n",
    "    \n",
    "    In Python2, take care to make all of these \"unicode\" entries."
   ]
  },
  {
   "cell_type": "markdown",
   "metadata": {},
   "source": [
    "Finally, we can delete the *local* corpus we previously created like this:"
   ]
  },
  {
   "cell_type": "code",
   "execution_count": 6,
   "metadata": {},
   "outputs": [
    {
     "data": {
      "text/plain": [
       "False"
      ]
     },
     "execution_count": 6,
     "metadata": {},
     "output_type": "execute_result"
    }
   ],
   "source": [
    "aNewLocalCorpus.delete()\n",
    "aNewLocalCorpus.existsInSettings"
   ]
  },
  {
   "cell_type": "markdown",
   "metadata": {
    "collapsed": true
   },
   "source": [
    "## Inspecting metadata bundle search results\n",
    "\n",
    "Let's take a closer look at some search results:"
   ]
  },
  {
   "cell_type": "code",
   "execution_count": 7,
   "metadata": {},
   "outputs": [
    {
     "data": {
      "text/plain": [
       "<music21.metadata.bundles.MetadataBundle {22 entries}>"
      ]
     },
     "execution_count": 7,
     "metadata": {},
     "output_type": "execute_result"
    }
   ],
   "source": [
    "bachBundle = corpus.corpora.CoreCorpus().search('bach', 'composer')\n",
    "bachBundle"
   ]
  },
  {
   "cell_type": "code",
   "execution_count": 8,
   "metadata": {},
   "outputs": [
    {
     "data": {
      "text/plain": [
       "<music21.metadata.bundles.MetadataEntry: bach_choraleAnalyses_riemenschneider001_rntxt>"
      ]
     },
     "execution_count": 8,
     "metadata": {},
     "output_type": "execute_result"
    }
   ],
   "source": [
    "bachBundle[0]"
   ]
  },
  {
   "cell_type": "code",
   "execution_count": 9,
   "metadata": {},
   "outputs": [
    {
     "data": {
      "text/plain": [
       "'bach/choraleAnalyses/riemenschneider001.rntxt'"
      ]
     },
     "execution_count": 9,
     "metadata": {},
     "output_type": "execute_result"
    }
   ],
   "source": [
    "bachBundle[0].sourcePath"
   ]
  },
  {
   "cell_type": "code",
   "execution_count": 10,
   "metadata": {},
   "outputs": [
    {
     "data": {
      "text/plain": [
       "<music21.metadata.RichMetadata at 0x10ee73978>"
      ]
     },
     "execution_count": 10,
     "metadata": {},
     "output_type": "execute_result"
    }
   ],
   "source": [
    "bachBundle[0].metadataPayload"
   ]
  },
  {
   "cell_type": "code",
   "execution_count": 11,
   "metadata": {},
   "outputs": [
    {
     "data": {
      "text/plain": [
       "60"
      ]
     },
     "execution_count": 11,
     "metadata": {},
     "output_type": "execute_result"
    }
   ],
   "source": [
    "mdpl = bachBundle[0].metadataPayload\n",
    "mdpl.noteCount"
   ]
  },
  {
   "cell_type": "code",
   "execution_count": 12,
   "metadata": {},
   "outputs": [
    {
     "data": {
      "image/png": "[encoded data removed]",
      "text/plain": [
       "<IPython.core.display.Image object>"
      ]
     },
     "metadata": {
      "image/png": {
       "height": 437,
       "width": 753
      }
     },
     "output_type": "display_data"
    }
   ],
   "source": [
    "bachAnalysis0 = bachBundle[0].parse()\n",
    "bachAnalysis0.show()"
   ]
  },
  {
   "cell_type": "markdown",
   "metadata": {},
   "source": [
    "## Manipulating multiple metadata bundles\n",
    "\n",
    "Another useful feature of `music21`'s metadata bundles is that they can be\n",
    "operated on as though they were sets, allowing you to union, intersect and\n",
    "difference multiple metadata bundles, thereby creating more complex search\n",
    "results:"
   ]
  },
  {
   "cell_type": "code",
   "execution_count": 13,
   "metadata": {},
   "outputs": [
    {
     "data": {
      "text/plain": [
       "<music21.metadata.bundles.MetadataBundle {1 entry}>"
      ]
     },
     "execution_count": 13,
     "metadata": {},
     "output_type": "execute_result"
    }
   ],
   "source": [
    "corelliBundle = corpus.search('corelli', field='composer')\n",
    "corelliBundle"
   ]
  },
  {
   "cell_type": "code",
   "execution_count": 14,
   "metadata": {},
   "outputs": [
    {
     "data": {
      "text/plain": [
       "<music21.metadata.bundles.MetadataBundle {23 entries}>"
      ]
     },
     "execution_count": 14,
     "metadata": {},
     "output_type": "execute_result"
    }
   ],
   "source": [
    "bachBundle.union(corelliBundle)"
   ]
  },
  {
   "cell_type": "markdown",
   "metadata": {},
   "source": [
    "Consult the API for class:`~music21.metadata.bundles.MetadataBundle` for a more\n",
    "in depth look at how this works."
   ]
  },
  {
   "cell_type": "markdown",
   "metadata": {},
   "source": [
    "## Getting a metadata bundle"
   ]
  },
  {
   "cell_type": "markdown",
   "metadata": {},
   "source": [
    "In music21, metadata is information *about* a score, such as its composer,\n",
    "title, initial key signature or ambitus. A metadata *bundle* is a collection of\n",
    "metadata pulled from an arbitrarily large group of different scores. Users can\n",
    "search through metadata bundles to find scores with certain qualities, such as\n",
    "all scores in a given corpus with a time signature of ``6/8``, or all scores\n",
    "composed by Monteverdi.\n",
    "\n",
    "There are a number of different ways to acquire a metadata bundle.  The easiest way\n",
    "to get the metadataBundle for the core corpus is simply to download music21: we\n",
    "include a pre-made metadataBundle (in ``corpus/metadataCache/core.json``) so\n",
    "that this step is unnecessary for the core corpus unless you're contributing to\n",
    "the project.  But you may want to create metadata bundles for your own local corpora.\n",
    "Access the ``metadataBundle`` attribute of any ``Corpus`` instance to get its\n",
    "corresponding metadata bundle:"
   ]
  },
  {
   "cell_type": "code",
   "execution_count": 15,
   "metadata": {},
   "outputs": [
    {
     "data": {
      "text/plain": [
       "<music21.metadata.bundles.MetadataBundle 'core': {14493 entries}>"
      ]
     },
     "execution_count": 15,
     "metadata": {},
     "output_type": "execute_result"
    }
   ],
   "source": [
    "coreCorpus = corpus.corpora.CoreCorpus()\n",
    "coreCorpus.metadataBundle"
   ]
  },
  {
   "cell_type": "markdown",
   "metadata": {},
   "source": [
    "Music21 also provides a handful of convenience methods for getting metadata\n",
    "bundles associated with the *virtual*, *local* or *core* corpora:"
   ]
  },
  {
   "cell_type": "code",
   "execution_count": 16,
   "metadata": {},
   "outputs": [],
   "source": [
    "coreBundle = corpus.corpora.CoreCorpus().metadataBundle\n",
    "localBundle = corpus.corpora.LocalCorpus().metadataBundle\n",
    "otherLocalBundle = corpus.corpora.LocalCorpus('blah').metadataBundle\n",
    "virtualBundle = corpus.corpora.VirtualCorpus().metadataBundle"
   ]
  },
  {
   "cell_type": "markdown",
   "metadata": {},
   "source": [
    "But really advanced users can also make metadata bundles manually, by passing in the name of the\n",
    "corpus you want the bundle to refer to, or, equivalently, an actual ``Corpus`` instance\n",
    "itself:"
   ]
  },
  {
   "cell_type": "code",
   "execution_count": 17,
   "metadata": {
    "collapsed": true
   },
   "outputs": [],
   "source": [
    "coreBundle = metadata.bundles.MetadataBundle('core')\n",
    "coreBundle = metadata.bundles.MetadataBundle(corpus.corpora.CoreCorpus())"
   ]
  },
  {
   "cell_type": "markdown",
   "metadata": {},
   "source": [
    "However, you'll need to read the bundle's saved data from disk before you can\n",
    "do anything useful with the bundle. Bundles don't read their associated JSON\n",
    "files automatically when they're manually instantiated."
   ]
  },
  {
   "cell_type": "code",
   "execution_count": 18,
   "metadata": {},
   "outputs": [
    {
     "data": {
      "text/plain": [
       "<music21.metadata.bundles.MetadataBundle 'core': {0 entries}>"
      ]
     },
     "execution_count": 18,
     "metadata": {},
     "output_type": "execute_result"
    }
   ],
   "source": [
    "coreBundle"
   ]
  },
  {
   "cell_type": "code",
   "execution_count": 19,
   "metadata": {},
   "outputs": [
    {
     "data": {
      "text/plain": [
       "<music21.metadata.bundles.MetadataBundle 'core': {14493 entries}>"
      ]
     },
     "execution_count": 19,
     "metadata": {},
     "output_type": "execute_result"
    }
   ],
   "source": [
    "coreBundle.read()"
   ]
  },
  {
   "cell_type": "markdown",
   "metadata": {},
   "source": [
    "## Creating persistent metadata bundles\n",
    "\n",
    "Metadata bundles can take a long time to create.  So it'd be nice if they could be written to and read from disk.  Unfortunately we never got around to...nah, just kidding.  Of course you can.  Just call `.write()` on one:"
   ]
  },
  {
   "cell_type": "code",
   "execution_count": 20,
   "metadata": {},
   "outputs": [
    {
     "data": {
      "text/plain": [
       "<music21.metadata.bundles.MetadataBundle 'core': {14493 entries}>"
      ]
     },
     "execution_count": 20,
     "metadata": {},
     "output_type": "execute_result"
    }
   ],
   "source": [
    "coreBundle = metadata.bundles.MetadataBundle('core')\n",
    "coreBundle.read()"
   ]
  },
  {
   "cell_type": "code",
   "execution_count": 21,
   "metadata": {
    "collapsed": true
   },
   "outputs": [],
   "source": [
    "#_DOCS_SHOW coreBundle.write()"
   ]
  },
  {
   "cell_type": "markdown",
   "metadata": {},
   "source": [
    "They can also be completely rebuilt, as you will want to do for local\n",
    "corpora. To add information to a bundle, use the ``addFromPaths()`` method:"
   ]
  },
  {
   "cell_type": "code",
   "execution_count": 22,
   "metadata": {},
   "outputs": [
    {
     "data": {
      "text/plain": [
       "[]"
      ]
     },
     "execution_count": 22,
     "metadata": {},
     "output_type": "execute_result"
    }
   ],
   "source": [
    "newBundle = metadata.bundles.MetadataBundle()\n",
    "paths = corpus.corpora.CoreCorpus().getBachChorales()\n",
    "#_DOCS_SHOW failedPaths = newBundle.addFromPaths(paths)\n",
    "failedPaths = [] #_DOCS_HIDE\n",
    "failedPaths"
   ]
  },
  {
   "cell_type": "markdown",
   "metadata": {},
   "source": [
    "then call ``.write()`` to save to disk"
   ]
  },
  {
   "cell_type": "code",
   "execution_count": 23,
   "metadata": {},
   "outputs": [
    {
     "name": "stdout",
     "output_type": "stream",
     "text": [
      "<music21.metadata.bundles.MetadataBundle {402 entries}>\n"
     ]
    }
   ],
   "source": [
    "#_DOCS_SHOW newBundle\n",
    "print(\"<music21.metadata.bundles.MetadataBundle {402 entries}>\") # did not actually run addFromPaths... #_DOCS_HIDE"
   ]
  },
  {
   "cell_type": "raw",
   "metadata": {},
   "source": [
    "..  note::\n",
    "\n",
    "    Building metadata information can be an incredibly intensive process. For\n",
    "    example, building the *core* metadata bundle can easily take as long as four\n",
    "    hours! And this is even though the building process uses multiple cores. \n",
    "    Please use caution, and be patient, when building metadata bundles\n",
    "    from large corpora. To monitor the corpus-building progress, make sure to\n",
    "    set 'debug' to True in your user settings:\n",
    "\n",
    "    >>> #_DOCS_SHOW environment.UserSettings()['debug'] = True"
   ]
  },
  {
   "cell_type": "markdown",
   "metadata": {},
   "source": [
    "You can delete, rebuild and save a metadata bundle in one go with the\n",
    "``rebuild()`` method:"
   ]
  },
  {
   "cell_type": "code",
   "execution_count": 24,
   "metadata": {},
   "outputs": [],
   "source": [
    "virtualBundle = corpus.corpora.VirtualCorpus().metadataBundle\n",
    "#_DOCS_SHOW virtualBundle.rebuild()"
   ]
  },
  {
   "cell_type": "markdown",
   "metadata": {},
   "source": [
    "The process of rebuilding will store the file as it goes (for safety) so at the end there is \n",
    "no need to call ``.write()``.\n",
    "\n",
    "To delete a metadata bundle's cached-to-disk JSON file, use the ``delete()``\n",
    "method:"
   ]
  },
  {
   "cell_type": "code",
   "execution_count": 25,
   "metadata": {
    "collapsed": true
   },
   "outputs": [],
   "source": [
    "#_DOCS_SHOW virtualBundle.delete()"
   ]
  },
  {
   "cell_type": "markdown",
   "metadata": {},
   "source": [
    "Deleting a metadata bundle's JSON file won't empty the in-memory contents of\n",
    "that bundle. For that, use ``clear()``:"
   ]
  },
  {
   "cell_type": "code",
   "execution_count": 26,
   "metadata": {
    "collapsed": true
   },
   "outputs": [],
   "source": [
    "virtualBundle.clear()"
   ]
  }
 ],
 "metadata": {
  "anaconda-cloud": {},
  "kernelspec": {
   "display_name": "Python 3",
   "language": "python",
   "name": "python3"
  },
  "language_info": {
   "codemirror_mode": {
    "name": "ipython",
    "version": 3
   },
   "file_extension": ".py",
   "mimetype": "text/x-python",
   "name": "python",
   "nbconvert_exporter": "python",
   "pygments_lexer": "ipython3",
   "version": "3.6.0"
  }
 },
 "nbformat": 4,
 "nbformat_minor": 1
}
