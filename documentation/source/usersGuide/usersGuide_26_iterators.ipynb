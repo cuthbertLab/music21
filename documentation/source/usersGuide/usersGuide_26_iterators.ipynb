{
 "cells": [
  {
   "cell_type": "markdown",
   "metadata": {},
   "source": [
    "# User's Guide, Chapter 26: Stream Iteration and Filtering\n",
    "\n",
    "We learned enough about streams in :ref:`Chapter 6 <usersGuide_06_stream2>` to be able to get started, but you've preservered and hopefully are ready to learn more about how to get the most out of getting through a score.  So this chapter will delve deeper into the concept of iteration, that is, going through an object one step at a time, and filtering out elements so only those in classes or areas you want are found.  Let's review and describe the concept of iteration in Python (or most programming languages) for a second.\n",
    "\n",
    "Suppose you had a list like this:"
   ]
  },
  {
   "cell_type": "code",
   "execution_count": 25,
   "metadata": {},
   "outputs": [],
   "source": [
    "letterList = ['a', 'b', 'c']"
   ]
  },
  {
   "cell_type": "markdown",
   "metadata": {},
   "source": [
    "Now you could get your ABCs out of it in this way:"
   ]
  },
  {
   "cell_type": "code",
   "execution_count": 26,
   "metadata": {},
   "outputs": [
    {
     "data": {
      "text/plain": [
       "'abc'"
      ]
     },
     "execution_count": 26,
     "metadata": {},
     "output_type": "execute_result"
    }
   ],
   "source": [
    "alphabet = ''\n",
    "alphabet += letterList[0]\n",
    "alphabet += letterList[1]\n",
    "alphabet += letterList[2]\n",
    "alphabet"
   ]
  },
  {
   "cell_type": "markdown",
   "metadata": {},
   "source": [
    "But it's far easier, especially for a big list, to _iterate_ over it using a `for` loop:"
   ]
  },
  {
   "cell_type": "code",
   "execution_count": 27,
   "metadata": {},
   "outputs": [
    {
     "data": {
      "text/plain": [
       "'abc'"
      ]
     },
     "execution_count": 27,
     "metadata": {},
     "output_type": "execute_result"
    }
   ],
   "source": [
    "alphabet = ''\n",
    "for letter in letterList:\n",
    "    alphabet += letter\n",
    "\n",
    "alphabet"
   ]
  },
  {
   "cell_type": "markdown",
   "metadata": {},
   "source": [
    "We can _iterate_ over a list because lists are _iterable_ (or, conversely, for the tautology department, because we can _iterate_ over a list, we call it _iterable_) and there are some functions and methods that do great things on iterable objects, such as join them:"
   ]
  },
  {
   "cell_type": "code",
   "execution_count": 28,
   "metadata": {},
   "outputs": [
    {
     "data": {
      "text/plain": [
       "'abc'"
      ]
     },
     "execution_count": 28,
     "metadata": {},
     "output_type": "execute_result"
    }
   ],
   "source": [
    "''.join(letterList)"
   ]
  },
  {
   "cell_type": "markdown",
   "metadata": {},
   "source": [
    "Or give the minimum value from a numeric list:"
   ]
  },
  {
   "cell_type": "code",
   "execution_count": 29,
   "metadata": {},
   "outputs": [
    {
     "data": {
      "text/plain": [
       "-3423"
      ]
     },
     "execution_count": 29,
     "metadata": {},
     "output_type": "execute_result"
    }
   ],
   "source": [
    "min([10, 20, 30, -3423, 40])"
   ]
  },
  {
   "cell_type": "markdown",
   "metadata": {},
   "source": [
    "Or give the length of an iterable:"
   ]
  },
  {
   "cell_type": "code",
   "execution_count": 30,
   "metadata": {},
   "outputs": [
    {
     "data": {
      "text/plain": [
       "3"
      ]
     },
     "execution_count": 30,
     "metadata": {},
     "output_type": "execute_result"
    }
   ],
   "source": [
    "len(letterList)"
   ]
  },
  {
   "cell_type": "markdown",
   "metadata": {},
   "source": [
    "In Python, there's a special type of _iterable_ object called a _generator_ which gives out objects as they are needed.  One generator that we have seen already is the `range()` function:"
   ]
  },
  {
   "cell_type": "code",
   "execution_count": 31,
   "metadata": {},
   "outputs": [
    {
     "data": {
      "text/plain": [
       "range(0, 51)"
      ]
     },
     "execution_count": 31,
     "metadata": {},
     "output_type": "execute_result"
    }
   ],
   "source": [
    "zeroToFifty = range(51)\n",
    "zeroToFifty"
   ]
  },
  {
   "cell_type": "markdown",
   "metadata": {},
   "source": [
    "We can find the first number in that range that is divisible by 5:"
   ]
  },
  {
   "cell_type": "code",
   "execution_count": 32,
   "metadata": {},
   "outputs": [
    {
     "name": "stdout",
     "output_type": "stream",
     "text": [
      "0\n",
      "1\n",
      "2\n",
      "3\n",
      "4\n",
      "5\n"
     ]
    }
   ],
   "source": [
    "for n in zeroToFifty:\n",
    "    print(n)\n",
    "    if n != 0 and n % 5 == 0:\n",
    "        break"
   ]
  },
  {
   "cell_type": "markdown",
   "metadata": {},
   "source": [
    "At this point we've stopped going through the `range` object and no more numbers are ever made or stored in memory -- this point doesn't matter to much for a set of numbers up to 50, but for numbers up to millions, or, as we will see, a repertory of scores of hundreds of thousands of notes, saving a few seconds here and there really adds up.\n",
    "\n",
    "Streams, as we have seen, are iterable:"
   ]
  },
  {
   "cell_type": "code",
   "execution_count": 33,
   "metadata": {},
   "outputs": [
    {
     "name": "stdout",
     "output_type": "stream",
     "text": [
      "<music21.note.Note C#> 1.0\n",
      "<music21.note.Rest half> 2.0\n",
      "<music21.note.Note D> 1.5\n",
      "<music21.note.Rest quarter> 1.0\n"
     ]
    }
   ],
   "source": [
    "from music21 import *\n",
    "\n",
    "s = stream.Part(id='restyStream')\n",
    "s.append(note.Note('C#'))\n",
    "s.append(note.Rest(quarterLength=2.0))\n",
    "s.append(note.Note('D', quarterLength=1.5))\n",
    "s.append(note.Rest(quarterLength=1.0))\n",
    "\n",
    "for thing in s:\n",
    "    print(thing, thing.quarterLength)"
   ]
  },
  {
   "cell_type": "markdown",
   "metadata": {},
   "source": [
    "When you iterate over a Stream, it is actually creating a lightweight object called a `StreamIterator` to help make things easier.  We can create one directly by calling `.iter()` on any stream:"
   ]
  },
  {
   "cell_type": "code",
   "execution_count": 34,
   "metadata": {},
   "outputs": [
    {
     "data": {
      "text/plain": [
       "<music21.stream.iterator.StreamIterator for Part:restyStream @:0>"
      ]
     },
     "execution_count": 34,
     "metadata": {},
     "output_type": "execute_result"
    }
   ],
   "source": [
    "sIter = s.iter()\n",
    "sIter"
   ]
  },
  {
   "cell_type": "raw",
   "metadata": {},
   "source": [
    ".. note::\n",
    "\n",
    "  Prior to v.7, a `StreamIterator` could be created by accessing the property `.iter`. Although\n",
    "  `.iter()` is now the recommended form, both usages will be supported until v.9."
   ]
  },
  {
   "cell_type": "markdown",
   "metadata": {},
   "source": [
    "This information tells us that `sIter` is an iterator going over the `Part` object with id `restyStream` and it is currently ready to give out the first object, number 0.  We can get the next thing in the Stream by calling `next()` on the Stream."
   ]
  },
  {
   "cell_type": "code",
   "execution_count": 35,
   "metadata": {},
   "outputs": [
    {
     "data": {
      "text/plain": [
       "<music21.note.Note C#>"
      ]
     },
     "execution_count": 35,
     "metadata": {},
     "output_type": "execute_result"
    }
   ],
   "source": [
    "next(sIter)"
   ]
  },
  {
   "cell_type": "code",
   "execution_count": 36,
   "metadata": {},
   "outputs": [
    {
     "data": {
      "text/plain": [
       "<music21.note.Rest half>"
      ]
     },
     "execution_count": 36,
     "metadata": {},
     "output_type": "execute_result"
    }
   ],
   "source": [
    "next(sIter)"
   ]
  },
  {
   "cell_type": "code",
   "execution_count": 37,
   "metadata": {},
   "outputs": [
    {
     "data": {
      "text/plain": [
       "<music21.stream.iterator.StreamIterator for Part:restyStream @:2>"
      ]
     },
     "execution_count": 37,
     "metadata": {},
     "output_type": "execute_result"
    }
   ],
   "source": [
    "sIter"
   ]
  },
  {
   "cell_type": "markdown",
   "metadata": {},
   "source": [
    "But for the most part, you'll want to use the built in way of going through an iterable, that is, with a `for` loop:"
   ]
  },
  {
   "cell_type": "code",
   "execution_count": 38,
   "metadata": {},
   "outputs": [
    {
     "name": "stdout",
     "output_type": "stream",
     "text": [
      "<music21.note.Note C#> 1.0\n",
      "<music21.note.Rest half> 2.0\n",
      "<music21.note.Note D> 1.5\n",
      "<music21.note.Rest quarter> 1.0\n"
     ]
    }
   ],
   "source": [
    "for el in sIter:\n",
    "    print(el, el.quarterLength)"
   ]
  },
  {
   "cell_type": "markdown",
   "metadata": {},
   "source": [
    "## Filtering elements in iteration"
   ]
  },
  {
   "cell_type": "markdown",
   "metadata": {},
   "source": [
    "So this does exactly what iterating directly on the Stream does -- but it's good to know that a `StreamIterator` is silently being generated so that you can see what else these Iterators do.  Most importantly, a `StreamIterator` can add filters to it.  Let's add a `ClassFilter` from the :ref:`moduleStreamFilters` module:"
   ]
  },
  {
   "cell_type": "code",
   "execution_count": 39,
   "metadata": {},
   "outputs": [
    {
     "name": "stdout",
     "output_type": "stream",
     "text": [
      "<music21.note.Rest half> 2.0\n",
      "<music21.note.Rest quarter> 1.0\n"
     ]
    }
   ],
   "source": [
    "restFilter = stream.filters.ClassFilter('Rest')\n",
    "restIterator = sIter.addFilter(restFilter)\n",
    "for el in restIterator:\n",
    "    print(el, el.quarterLength)"
   ]
  },
  {
   "cell_type": "markdown",
   "metadata": {},
   "source": [
    "Now when we go through sIter, we are only getting those objects that match all of the filters on it.  We can also filter by offset.  Let's create a new iterator and add an :class:`~music21.stream.filters.OffsetFilter` to it."
   ]
  },
  {
   "cell_type": "code",
   "execution_count": 40,
   "metadata": {},
   "outputs": [
    {
     "name": "stdout",
     "output_type": "stream",
     "text": [
      "<music21.note.Rest half> 1.0\n",
      "<music21.note.Note D> 3.0\n"
     ]
    }
   ],
   "source": [
    "sIter2 = s.iter()\n",
    "offsetFilter = stream.filters.OffsetFilter(offsetStart=0.5, offsetEnd=4.0)\n",
    "offsetIterator = sIter2.addFilter(offsetFilter)\n",
    "for el in offsetIterator:\n",
    "    print(el, el.offset)"
   ]
  },
  {
   "cell_type": "raw",
   "metadata": {},
   "source": [
    ".. note::\n",
    "\n",
    "   prior to Music21 v.6, `sIter.addFilter()` would modify `sIter` in place and not return a new iterator.  \n",
    "   Thus in v.5.7, you would have written the last three lines of the code as:\n",
    "   \n",
    "   >>> sIter2.addFilter(offsetFilter)\n",
    "   >>> for el in sIter2:\n",
    "   ...     print(el, el.offset)\n",
    "\n",
    "   The changed behavior in v.6 did not affect most users, but it was one of the \n",
    "   biggest backward incompatible changes -- it was worth breaking code to finally \n",
    "   get this right."
   ]
  },
  {
   "cell_type": "markdown",
   "metadata": {},
   "source": [
    "Multiple filters can be chained together to get something more powerful:"
   ]
  },
  {
   "cell_type": "code",
   "execution_count": 41,
   "metadata": {},
   "outputs": [
    {
     "name": "stdout",
     "output_type": "stream",
     "text": [
      "<music21.note.Rest half> 1.0\n"
     ]
    }
   ],
   "source": [
    "for el in s.iter().addFilter(restFilter).addFilter(offsetFilter):\n",
    "    print(el, el.offset)"
   ]
  },
  {
   "cell_type": "markdown",
   "metadata": {},
   "source": [
    "Other filters that `music21` has in the :ref:`moduleStreamFilters` include:\n",
    "\n",
    "* :class:`~music21.stream.filters.IsFilter` which returns elements that are exactly the same as the objects passed in (useful for getting the context of an object in a stream)\n",
    "\n",
    "* :class:`~music21.stream.filters.IsNotFilter`, even more useful, for getting everything but an object or list of objects\n",
    "\n",
    "* :class:`~music21.stream.filters.IdFilter` for finding items by Id.\n",
    "\n",
    "* :class:`~music21.stream.filters.ClassNotFilter` for finding items other than a list of classes.\n",
    "\n",
    "* and :class:`~music21.stream.filters.GroupFilter` for finding elements which have a particular group name.\n"
   ]
  },
  {
   "cell_type": "markdown",
   "metadata": {},
   "source": [
    "### Filter Shortcuts"
   ]
  },
  {
   "cell_type": "markdown",
   "metadata": {},
   "source": [
    "Filtering elements by offset or by class is so common, that `music21` has some shortcuts for adding filters to it, like this:"
   ]
  },
  {
   "cell_type": "code",
   "execution_count": 42,
   "metadata": {},
   "outputs": [
    {
     "name": "stdout",
     "output_type": "stream",
     "text": [
      "<music21.note.Rest half> 1.0\n"
     ]
    }
   ],
   "source": [
    "sIter4 = s.iter()\n",
    "restIterator = sIter4.getElementsByClass('Rest')\n",
    "restOffsetIterator = restIterator.getElementsByOffset(0.5, 4.0)\n",
    "for el in restOffsetIterator:\n",
    "    print(el, el.offset)"
   ]
  },
  {
   "cell_type": "markdown",
   "metadata": {},
   "source": [
    "Easier still, since each of these methods returns a new filter object, you can chain them right in the for loop:"
   ]
  },
  {
   "cell_type": "code",
   "execution_count": 43,
   "metadata": {},
   "outputs": [
    {
     "name": "stdout",
     "output_type": "stream",
     "text": [
      "<music21.note.Rest half> 1.0\n"
     ]
    }
   ],
   "source": [
    "for el in s.iter().getElementsByClass('Rest').getElementsByOffset(0.5, 4.0):\n",
    "    print(el, el.offset)"
   ]
  },
  {
   "cell_type": "markdown",
   "metadata": {},
   "source": [
    "And you can even skip the `s.iter()` step for getting an iterator for the most common of these filters, and `music21` will recognize what you want to do and create the iterator for you:"
   ]
  },
  {
   "cell_type": "code",
   "execution_count": 44,
   "metadata": {},
   "outputs": [
    {
     "name": "stdout",
     "output_type": "stream",
     "text": [
      "<music21.note.Rest half> 1.0\n"
     ]
    }
   ],
   "source": [
    "for el in s.getElementsByClass('Rest').getElementsByOffset(0.5, 4.0):\n",
    "    print(el, el.offset)"
   ]
  },
  {
   "cell_type": "markdown",
   "metadata": {},
   "source": [
    "The shortcut methods that `music21` exposes on Iterators include:\n",
    "\n",
    "* :meth:`~music21.stream.iterator.StreamIterator.getElementById` which adds an `IdFilter`\n",
    "* :meth:`~music21.stream.iterator.StreamIterator.getElementsByClass` which adds a `ClassFilter`\n",
    "* :meth:`~music21.stream.iterator.StreamIterator.getElementsByGroup` which adds a `GroupFilter`\n",
    "* :meth:`~music21.stream.iterator.StreamIterator.getElementsByOffset` which adds an `OffsetFilter`\n",
    "\n",
    "And there are also properties (that is, written without parentheses) which add certain filters:\n",
    "\n",
    "* :attr:`~music21.stream.iterator.StreamIterator.notes` which filters out everything but `Note` and `Chord` objects\n",
    "* :attr:`~music21.stream.iterator.StreamIterator.notesAndRests` which filters out everything except `GeneralNote` objects\n",
    "* :attr:`~music21.stream.iterator.StreamIterator.parts` which returns all the `Part` objects\n",
    "* :attr:`~music21.stream.iterator.StreamIterator.voices` which returns all the `Voice` objects\n",
    "* :attr:`~music21.stream.iterator.StreamIterator.spanners` which returns all the `Spanner` objects"
   ]
  },
  {
   "cell_type": "markdown",
   "metadata": {},
   "source": [
    "### Custom Filters"
   ]
  },
  {
   "cell_type": "markdown",
   "metadata": {},
   "source": [
    "Creating your own filter is pretty easy too.  The easiest way is to create a function that takes in an element and returns True or False depending on whether the object matches the filter.\n",
    "\n",
    "We will create a filter to see if the element has a `.pitch` attribute and then if that pitch attribute has a sharp on it:"
   ]
  },
  {
   "cell_type": "code",
   "execution_count": 45,
   "metadata": {},
   "outputs": [
    {
     "name": "stdout",
     "output_type": "stream",
     "text": [
      "<music21.note.Note C#>\n"
     ]
    }
   ],
   "source": [
    "def sharpFilter(el):\n",
    "    if (hasattr(el, 'pitch') \n",
    "            and el.pitch.accidental is not None\n",
    "            and el.pitch.accidental.alter > 0):\n",
    "        return True\n",
    "    else:\n",
    "        return False\n",
    "    \n",
    "sharpIterator = s.iter().addFilter(sharpFilter)\n",
    "\n",
    "for el in sharpIterator:\n",
    "    print(el)"
   ]
  },
  {
   "cell_type": "markdown",
   "metadata": {},
   "source": [
    "## Recursive and Offset Iterators\n",
    "\n",
    "`Music21` comes with two other iterators that let you do powerful operations.  The most commonly used is the :class:`~music21.stream.iterators.RecursiveIterator` which burrows down into nested Streams to get whatever you want.  Let's load in a nested stream:"
   ]
  },
  {
   "cell_type": "code",
   "execution_count": 46,
   "metadata": {},
   "outputs": [
    {
     "name": "stdout",
     "output_type": "stream",
     "text": [
      "<music21.metadata.Metadata object at 0x109417fa0>\n",
      "<music21.stream.Part Soprano>\n",
      "<music21.stream.Part Alto>\n",
      "<music21.stream.Part Tenor>\n",
      "<music21.stream.Part Bass>\n",
      "<music21.layout.StaffGroup <music21.stream.Part Soprano><music21.stream.Part Alto><music21.stream.Part Tenor><music21.stream.Part Bass>>\n"
     ]
    }
   ],
   "source": [
    "bach = corpus.parse('bwv66.6')\n",
    "for thing in bach:\n",
    "    print(thing)"
   ]
  },
  {
   "cell_type": "markdown",
   "metadata": {},
   "source": [
    "Right, we remember that often the actual notes of a piece can be hidden inside Parts, Measures, and Voices.  A recursive iterator gets to them, and they're created by calling `recurse()` on a stream."
   ]
  },
  {
   "cell_type": "code",
   "execution_count": 47,
   "metadata": {},
   "outputs": [
    {
     "data": {
      "text/plain": [
       "<music21.stream.iterator.RecursiveIterator for Score:0x109417be0 @:0>"
      ]
     },
     "execution_count": 47,
     "metadata": {},
     "output_type": "execute_result"
    }
   ],
   "source": [
    "recurseIter = bach.recurse()\n",
    "recurseIter"
   ]
  },
  {
   "cell_type": "markdown",
   "metadata": {},
   "source": [
    "Let's add a filter for only E#s to it, and look into it.  Instead of checking to see if each element has a `.name` attribute we'll put a `try...except` clause around it, and if it does not have the `.name` attribute (and thus raises and `AttributeError` we will return False."
   ]
  },
  {
   "cell_type": "code",
   "execution_count": 48,
   "metadata": {},
   "outputs": [
    {
     "name": "stdout",
     "output_type": "stream",
     "text": [
      "<music21.note.Note E#> 9\n",
      "<music21.note.Note E#> 3\n",
      "<music21.note.Note E#> 7\n",
      "<music21.note.Note E#> 7\n",
      "<music21.note.Note E#> 2\n",
      "<music21.note.Note E#> 6\n"
     ]
    }
   ],
   "source": [
    "def eSharpFilter(el):\n",
    "    try:\n",
    "        if el.name == 'E#':\n",
    "            return True\n",
    "        else:\n",
    "            return False\n",
    "    except AttributeError:\n",
    "        return False\n",
    "\n",
    "eSharpIterator = recurseIter.addFilter(eSharpFilter)\n",
    "\n",
    "for el in eSharpIterator:\n",
    "    print(el, el.measureNumber)"
   ]
  },
  {
   "cell_type": "markdown",
   "metadata": {},
   "source": [
    "Note that the measure numbers don't keep increasing.  That's because the recurse iterator finishes one part before returning to the next.  We can use the fancy `.getContextByClass` to figure out what part it is in:"
   ]
  },
  {
   "cell_type": "code",
   "execution_count": 49,
   "metadata": {},
   "outputs": [
    {
     "name": "stdout",
     "output_type": "stream",
     "text": [
      "<music21.note.Note E#> 9 Soprano\n",
      "<music21.note.Note E#> 3 Alto\n",
      "<music21.note.Note E#> 7 Alto\n",
      "<music21.note.Note E#> 7 Tenor\n",
      "<music21.note.Note E#> 2 Bass\n",
      "<music21.note.Note E#> 6 Bass\n"
     ]
    }
   ],
   "source": [
    "for el in eSharpIterator:\n",
    "    pId = el.getContextByClass(stream.Part).id\n",
    "    print(el, el.measureNumber, pId)"
   ]
  },
  {
   "cell_type": "markdown",
   "metadata": {},
   "source": [
    "(as an aside, `.measureNumber` is just a shortcut for `.getContextByClass(stream.Measure).number`, so we are actually looking up two contexts)"
   ]
  },
  {
   "cell_type": "markdown",
   "metadata": {},
   "source": [
    "If you want to recurse into a stream and get elements of a certain class, you can do `s.recurse().getElementsByClass(chord.Chord)` but there's another simpler way of doing it: `s[chord.Chord]` (with square brackets).  As this example shows:"
   ]
  },
  {
   "cell_type": "code",
   "execution_count": 50,
   "metadata": {},
   "outputs": [
    {
     "name": "stdout",
     "output_type": "stream",
     "text": [
      "<music21.chord.Chord G#2 D#3>\n",
      "<music21.chord.Chord G#2 D#3>\n",
      "<music21.chord.Chord G#2 D#3>\n",
      "<music21.chord.Chord G#2 D#3>\n",
      "<music21.chord.Chord G#2 D#3>\n",
      "<music21.chord.Chord G#2 D#3>\n",
      "<music21.chord.Chord G#2 D#3>\n",
      "<music21.chord.Chord G#2 D#3>\n",
      "<music21.chord.Chord G#2 D#3>\n",
      "<music21.chord.Chord G#2 D#3>\n",
      "<music21.chord.Chord G#2 D#3>\n"
     ]
    }
   ],
   "source": [
    "chopin = corpus.parse('chopin/mazurka06-2')\n",
    "for ch in chopin.measures(1, 5)[chord.Chord]:\n",
    "    print(ch)\n",
    "    # note that each of these is a chord in one voice in\n",
    "    # one hand of the piano.  To see how to get chords between\n",
    "    # both hands, see the chordify() chapter."
   ]
  },
  {
   "cell_type": "markdown",
   "metadata": {},
   "source": [
    "(when Chopin likes a chord, he **really** likes a chord!) \n",
    "\n",
    "Another great iterator is the OffsetIterator, which returns lists of elements grouped by offset.  Let's add some more things to our Stream before we see how it works."
   ]
  },
  {
   "cell_type": "code",
   "execution_count": 51,
   "metadata": {},
   "outputs": [
    {
     "name": "stdout",
     "output_type": "stream",
     "text": [
      "<music21.clef.TrebleClef> 0.0\n",
      "<music21.key.KeySignature of 3 sharps> 0.0\n",
      "<music21.note.Note C#> 0.0\n",
      "Trumpet 1.0\n",
      "<music21.note.Rest half> 1.0\n",
      "<music21.note.Note D> 3.0\n",
      "<music21.note.Rest quarter> 4.5\n"
     ]
    }
   ],
   "source": [
    "s.insert(0, clef.TrebleClef())\n",
    "s.insert(0, key.KeySignature(3))\n",
    "s.insert(1, instrument.Trumpet())\n",
    "\n",
    "# normal iterator\n",
    "for el in s:\n",
    "    print(el, el.offset)"
   ]
  },
  {
   "cell_type": "markdown",
   "metadata": {},
   "source": [
    "Unlike with the normal `StreamIterator` or the `RecursiveIterator`, there is no method on `Stream` to create an offset iterator, so we will create one directly:"
   ]
  },
  {
   "cell_type": "code",
   "execution_count": 52,
   "metadata": {},
   "outputs": [
    {
     "name": "stdout",
     "output_type": "stream",
     "text": [
      "0.0 [<music21.clef.TrebleClef>, <music21.key.KeySignature of 3 sharps>, <music21.note.Note C#>]\n",
      "1.0 [<music21.instrument.Trumpet 'Trumpet'>, <music21.note.Rest half>]\n",
      "3.0 [<music21.note.Note D>]\n",
      "4.5 [<music21.note.Rest quarter>]\n"
     ]
    }
   ],
   "source": [
    "oIter = stream.iterator.OffsetIterator(s)\n",
    "for elementGroup in oIter:\n",
    "    print(elementGroup[0].offset, elementGroup)"
   ]
  },
  {
   "cell_type": "markdown",
   "metadata": {},
   "source": [
    "## From Iterator to Stream\n",
    "\n",
    "From either a `StreamIterator` or a `RecursiveIterator` a new `Stream` object can be generated by calling `.stream()` on it.  On a `RecursiveIterator`, this does not put the elements into substreams."
   ]
  },
  {
   "cell_type": "code",
   "execution_count": 53,
   "metadata": {},
   "outputs": [
    {
     "name": "stdout",
     "output_type": "stream",
     "text": [
      "{8.0} <music21.note.Note E#>\n",
      "{10.0} <music21.note.Note E#>\n",
      "{23.0} <music21.note.Note E#>\n",
      "{25.5} <music21.note.Note E#>\n",
      "{27.0} <music21.note.Note E#>\n",
      "{34.5} <music21.note.Note E#>\n"
     ]
    }
   ],
   "source": [
    "onlyESharps = bach.recurse().addFilter(eSharpFilter)\n",
    "esharpStream = onlyESharps.stream()\n",
    "esharpStream.show('text')"
   ]
  },
  {
   "cell_type": "code",
   "execution_count": 54,
   "metadata": {},
   "outputs": [
    {
     "data": {
      "text/plain": [
       "<Derivation of <music21.stream.Score 0x10980fc70> from <music21.stream.Score 0x109417be0> via 'eSharpFilter'>"
      ]
     },
     "execution_count": 54,
     "metadata": {},
     "output_type": "execute_result"
    }
   ],
   "source": [
    "esharpStream.derivation"
   ]
  },
  {
   "cell_type": "markdown",
   "metadata": {},
   "source": [
    "This can be useful if you'd like to do plots on the resulting stream, though this one is a bit too obvious..."
   ]
  },
  {
   "cell_type": "code",
   "execution_count": 55,
   "metadata": {
    "tags": [
     "nbval-ignore-output"
    ]
   },
   "outputs": [
    {
     "data": {
      "text/plain": [
       "<music21.graph.plot.HistogramPitchClass for <music21.stream.Score 0x10980fc70>>"
      ]
     },
     "execution_count": 55,
     "metadata": {},
     "output_type": "execute_result"
    },
    {
     "data": {
      "image/png": "[encoded data removed]",
      "text/plain": [
       "<Figure size 432x432 with 1 Axes>"
      ]
     },
     "metadata": {
      "image/png": {
       "height": 382,
       "width": 363
      }
     },
     "output_type": "display_data"
    }
   ],
   "source": [
    "esharpStream.plot('pitchclass')"
   ]
  },
  {
   "cell_type": "markdown",
   "metadata": {},
   "source": [
    "But maybe this one could tell someone something:"
   ]
  },
  {
   "cell_type": "code",
   "execution_count": 56,
   "metadata": {
    "tags": [
     "nbval-ignore-output"
    ]
   },
   "outputs": [
    {
     "data": {
      "text/plain": [
       "<music21.graph.plot.HorizontalBarPitchSpaceOffset for <music21.stream.Score 0x10980fc70>>"
      ]
     },
     "execution_count": 56,
     "metadata": {},
     "output_type": "execute_result"
    },
    {
     "data": {
      "image/png": "[encoded data removed]",
      "text/plain": [
       "<Figure size 720x432 with 1 Axes>"
      ]
     },
     "metadata": {
      "image/png": {
       "height": 382,
       "width": 587
      }
     },
     "output_type": "display_data"
    }
   ],
   "source": [
    "esharpStream.plot('pianoroll')"
   ]
  },
  {
   "cell_type": "markdown",
   "metadata": {},
   "source": [
    "Perhaps not.  But iterators are not the main point -- what you can do with them is more important, so we will return to working with actual musical objects in :ref:`Chapter 27 <usersGuide_27_graceNotes>` when we talk about Grace Notes."
   ]
  }
 ],
 "metadata": {
  "celltoolbar": "Tags",
  "interpreter": {
   "hash": "aee8b7b246df8f9039afb4144a1f6fd8d2ca17a180786b69acc140d282b71a49"
  },
  "kernelspec": {
   "display_name": "Python 3 (ipykernel)",
   "language": "python",
   "name": "python3"
  },
  "language_info": {
   "codemirror_mode": {
    "name": "ipython",
    "version": 3
   },
   "file_extension": ".py",
   "mimetype": "text/x-python",
   "name": "python",
   "nbconvert_exporter": "python",
   "pygments_lexer": "ipython3",
   "version": "3.10.6"
  }
 },
 "nbformat": 4,
 "nbformat_minor": 2
}
