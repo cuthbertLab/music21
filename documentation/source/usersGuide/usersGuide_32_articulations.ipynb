{
 "cells": [
  {
   "cell_type": "markdown",
   "metadata": {},
   "source": [
    "# User's Guide, Chapter 32: Articulations\n",
    "\n",
    "Articulations are elements attached usually to Notes that specify how the note should be played.  In `music21` we use the term articulation also to refer to indications that are specific to instruments, such as bowing or fingering information.  They all live in the :ref:`moduleArticulations` module and start with the class :class:`~music21.articulations.Articulation`."
   ]
  },
  {
   "cell_type": "code",
   "execution_count": 1,
   "metadata": {},
   "outputs": [
    {
     "data": {
      "text/plain": [
       "<music21.articulations.Articulation>"
      ]
     },
     "execution_count": 1,
     "metadata": {},
     "output_type": "execute_result"
    }
   ],
   "source": [
    "art = articulations.Articulation()\n",
    "art"
   ]
  },
  {
   "cell_type": "markdown",
   "metadata": {},
   "source": [
    "All articulations have a `.placement` attribute which can be 'above', 'below', or None."
   ]
  },
  {
   "cell_type": "code",
   "execution_count": 2,
   "metadata": {},
   "outputs": [
    {
     "name": "stdout",
     "output_type": "stream",
     "text": [
      "None\n"
     ]
    }
   ],
   "source": [
    "print(art.placement)"
   ]
  },
  {
   "cell_type": "code",
   "execution_count": 3,
   "metadata": {},
   "outputs": [
    {
     "data": {
      "text/plain": [
       "'above'"
      ]
     },
     "execution_count": 3,
     "metadata": {},
     "output_type": "execute_result"
    }
   ],
   "source": [
    "art.placement = 'above'\n",
    "art.placement"
   ]
  },
  {
   "cell_type": "markdown",
   "metadata": {},
   "source": [
    "All articulations have additional `.style` information, which we will discuss in more depth later:"
   ]
  },
  {
   "cell_type": "code",
   "execution_count": 4,
   "metadata": {},
   "outputs": [],
   "source": [
    "art.style.absoluteX = 20"
   ]
  },
  {
   "cell_type": "markdown",
   "metadata": {},
   "source": [
    "Now, most of the time you won't want _any_ articulation, you will want _the_ specific articulation such as `Staccato`, `Accent`, etc.  So there are classes for each of them:"
   ]
  },
  {
   "cell_type": "code",
   "execution_count": 5,
   "metadata": {},
   "outputs": [],
   "source": [
    "stac = articulations.Staccato()\n",
    "acc = articulations.Accent()"
   ]
  },
  {
   "cell_type": "markdown",
   "metadata": {},
   "source": [
    "To make an articulation display, attach it to the `.articulations` list on a Note:"
   ]
  },
  {
   "cell_type": "code",
   "execution_count": 6,
   "metadata": {},
   "outputs": [
    {
     "data": {
      "text/plain": [
       "[]"
      ]
     },
     "execution_count": 6,
     "metadata": {},
     "output_type": "execute_result"
    }
   ],
   "source": [
    "n1 = note.Note('A4')\n",
    "n1.articulations"
   ]
  },
  {
   "cell_type": "code",
   "execution_count": 7,
   "metadata": {},
   "outputs": [
    {
     "data": {
      "text/plain": [
       "[<music21.articulations.Staccato>]"
      ]
     },
     "execution_count": 7,
     "metadata": {},
     "output_type": "execute_result"
    }
   ],
   "source": [
    "n1.articulations.append(stac)\n",
    "n1.articulations"
   ]
  },
  {
   "cell_type": "code",
   "execution_count": 8,
   "metadata": {},
   "outputs": [
    {
     "data": {
      "image/png": "[encoded data removed]",
      "text/plain": [
       "<IPython.core.display.Image object>"
      ]
     },
     "metadata": {
      "image/png": {
       "height": 49,
       "width": 131
      }
     },
     "output_type": "display_data"
    }
   ],
   "source": [
    "n1.show()"
   ]
  },
  {
   "cell_type": "markdown",
   "metadata": {},
   "source": [
    "Because `.articulations` is a list, a note may have multiple articulations:"
   ]
  },
  {
   "cell_type": "code",
   "execution_count": 9,
   "metadata": {},
   "outputs": [
    {
     "data": {
      "image/png": "[encoded data removed]",
      "text/plain": [
       "<IPython.core.display.Image object>"
      ]
     },
     "metadata": {
      "image/png": {
       "height": 49,
       "width": 131
      }
     },
     "output_type": "display_data"
    }
   ],
   "source": [
    "n1.articulations.append(acc)\n",
    "n1.show()"
   ]
  },
  {
   "cell_type": "code",
   "execution_count": 10,
   "metadata": {},
   "outputs": [
    {
     "data": {
      "image/png": "[encoded data removed]",
      "text/plain": [
       "<IPython.core.display.Image object>"
      ]
     },
     "metadata": {
      "image/png": {
       "height": 49,
       "width": 162
      }
     },
     "output_type": "display_data"
    }
   ],
   "source": [
    "doit = articulations.Doit()\n",
    "n1.articulations.append(doit)\n",
    "n1.show()"
   ]
  },
  {
   "cell_type": "markdown",
   "metadata": {},
   "source": [
    "Some articulations affect the length of the note:"
   ]
  },
  {
   "cell_type": "code",
   "execution_count": 11,
   "metadata": {},
   "outputs": [
    {
     "data": {
      "text/plain": [
       "0.7"
      ]
     },
     "execution_count": 11,
     "metadata": {},
     "output_type": "execute_result"
    }
   ],
   "source": [
    "stac.lengthShift"
   ]
  },
  {
   "cell_type": "markdown",
   "metadata": {},
   "source": [
    "Others affect the volume:"
   ]
  },
  {
   "cell_type": "code",
   "execution_count": 12,
   "metadata": {},
   "outputs": [
    {
     "data": {
      "text/plain": [
       "0.1"
      ]
     },
     "execution_count": 12,
     "metadata": {},
     "output_type": "execute_result"
    }
   ],
   "source": [
    "acc.volumeShift"
   ]
  },
  {
   "cell_type": "markdown",
   "metadata": {},
   "source": [
    "Many articulations have additional parameters.  :class:`~music21.articulations.StrongAccent` for instance can point up or down:"
   ]
  },
  {
   "cell_type": "code",
   "execution_count": 13,
   "metadata": {},
   "outputs": [
    {
     "data": {
      "text/plain": [
       "'up'"
      ]
     },
     "execution_count": 13,
     "metadata": {},
     "output_type": "execute_result"
    }
   ],
   "source": [
    "sacc = articulations.StrongAccent()\n",
    "sacc.pointDirection"
   ]
  },
  {
   "cell_type": "code",
   "execution_count": 14,
   "metadata": {},
   "outputs": [
    {
     "data": {
      "image/png": "[encoded data removed]",
      "text/plain": [
       "<IPython.core.display.Image object>"
      ]
     },
     "metadata": {
      "image/png": {
       "height": 74,
       "width": 156
      }
     },
     "output_type": "display_data"
    }
   ],
   "source": [
    "sacc.placement = 'above'\n",
    "\n",
    "n2 = note.Note('A4')\n",
    "n2.articulations.append(sacc)\n",
    "\n",
    "sacc2 = articulations.StrongAccent()\n",
    "sacc2.pointDirection = 'down'\n",
    "sacc2.placement = 'above'\n",
    "\n",
    "n3 = note.Note('A4')\n",
    "n3.articulations.append(sacc2)\n",
    "\n",
    "m = stream.Measure()\n",
    "m.append([n2, n3])\n",
    "m.show()"
   ]
  },
  {
   "cell_type": "markdown",
   "metadata": {},
   "source": [
    "Unfortunately, MuseScore does not respect `.placement` if pointDirection is specified.\n",
    "\n",
    "As we saw in :ref:`Chapter 13<usersGuide_13_music21object2>`, when a note is split, its articulations go either on the first note of the split, the last, or all the notes:"
   ]
  },
  {
   "cell_type": "code",
   "execution_count": 15,
   "metadata": {},
   "outputs": [
    {
     "data": {
      "image/png": "[encoded data removed]",
      "text/plain": [
       "<IPython.core.display.Image object>"
      ]
     },
     "metadata": {
      "image/png": {
       "height": 49,
       "width": 186
      }
     },
     "output_type": "display_data"
    }
   ],
   "source": [
    "n12, n22 = n1.splitAtQuarterLength(0.5)\n",
    "m2 = stream.Measure()\n",
    "m2.append([n12, n22])\n",
    "m2.show()"
   ]
  },
  {
   "cell_type": "markdown",
   "metadata": {},
   "source": [
    "This property is determined by the `.tieAttach` value for an articulation:"
   ]
  },
  {
   "cell_type": "code",
   "execution_count": 16,
   "metadata": {},
   "outputs": [
    {
     "data": {
      "text/plain": [
       "('first', 'last')"
      ]
     },
     "execution_count": 16,
     "metadata": {},
     "output_type": "execute_result"
    }
   ],
   "source": [
    "acc.tieAttach, stac.tieAttach"
   ]
  },
  {
   "cell_type": "markdown",
   "metadata": {},
   "source": [
    "Breath marks can have a `.symbol` of 'comma' or 'tick':"
   ]
  },
  {
   "cell_type": "code",
   "execution_count": 17,
   "metadata": {},
   "outputs": [
    {
     "data": {
      "image/png": "[encoded data removed]",
      "text/plain": [
       "<IPython.core.display.Image object>"
      ]
     },
     "metadata": {
      "image/png": {
       "height": 74,
       "width": 186
      }
     },
     "output_type": "display_data"
    }
   ],
   "source": [
    "bm2 = articulations.BreathMark()\n",
    "bm2.symbol = 'comma'\n",
    "n2.articulations.append(bm2)\n",
    "\n",
    "bm3 = articulations.BreathMark()\n",
    "bm3.symbol = 'tick'\n",
    "n3.articulations.append(bm3)\n",
    "\n",
    "m.show()"
   ]
  },
  {
   "cell_type": "markdown",
   "metadata": {},
   "source": [
    "Again, unfortuantely, some MusicXML readers do not respect this value.\n",
    "\n",
    "MusicXML distinguishes articulations from technical indicates, but in `music21` these are all in the `articulations` module and stored in the `.articulations` list.  They do, however, have `TechnicalIndication` in their classes: "
   ]
  },
  {
   "cell_type": "code",
   "execution_count": 18,
   "metadata": {},
   "outputs": [
    {
     "data": {
      "text/plain": [
       "('Fingering',\n",
       " 'TechnicalIndication',\n",
       " 'Articulation',\n",
       " 'Music21Object',\n",
       " 'ProtoM21Object',\n",
       " 'object')"
      ]
     },
     "execution_count": 18,
     "metadata": {},
     "output_type": "execute_result"
    }
   ],
   "source": [
    "f = articulations.Fingering(5)\n",
    "f.classes"
   ]
  },
  {
   "cell_type": "code",
   "execution_count": 19,
   "metadata": {},
   "outputs": [
    {
     "data": {
      "text/plain": [
       "5"
      ]
     },
     "execution_count": 19,
     "metadata": {},
     "output_type": "execute_result"
    }
   ],
   "source": [
    "f.fingerNumber"
   ]
  },
  {
   "cell_type": "code",
   "execution_count": 20,
   "metadata": {},
   "outputs": [
    {
     "data": {
      "image/png": "[encoded data removed]",
      "text/plain": [
       "<IPython.core.display.Image object>"
      ]
     },
     "metadata": {
      "image/png": {
       "height": 64,
       "width": 170
      }
     },
     "output_type": "display_data"
    }
   ],
   "source": [
    "n3.articulations = []\n",
    "n3.articulations.append(f)\n",
    "m.show()"
   ]
  },
  {
   "cell_type": "markdown",
   "metadata": {},
   "source": [
    "`Music21` can represent all the information in MusicXML articulations, and every MusicXML technical indication with the exception of guitar information, arrows, and woodwind/brass fingering."
   ]
  },
  {
   "cell_type": "markdown",
   "metadata": {},
   "source": [
    "This is a short chapter, because once you know a bit about articulations, you'll just want to spend your time in the :ref:`moduleArticulations` module reference to learn more about them.  But there is a related concept called \"expressions\" that we will learn about in :ref:`Chapter 33: Expressions and Ornaments<usersGuide_33_expressions>`"
   ]
  }
 ],
 "metadata": {
  "kernelspec": {
   "display_name": "Python 3",
   "language": "python",
   "name": "python3"
  },
  "language_info": {
   "codemirror_mode": {
    "name": "ipython",
    "version": 3
   },
   "file_extension": ".py",
   "mimetype": "text/x-python",
   "name": "python",
   "nbconvert_exporter": "python",
   "pygments_lexer": "ipython3",
   "version": "3.7.2"
  }
 },
 "nbformat": 4,
 "nbformat_minor": 2
}
